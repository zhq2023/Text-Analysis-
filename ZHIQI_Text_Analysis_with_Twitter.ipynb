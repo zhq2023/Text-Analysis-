{
  "nbformat": 4,
  "nbformat_minor": 0,
  "metadata": {
    "colab": {
      "provenance": []
    },
    "kernelspec": {
      "name": "python3",
      "display_name": "Python 3"
    },
    "language_info": {
      "name": "python"
    }
  },
  "cells": [
    {
      "cell_type": "markdown",
      "source": [
        "# Text Analysis\n",
        "Analyze collections of several hundred tweets scraped from 7 different Twitter accounts."
      ],
      "metadata": {
        "id": "3DMGV-shXMdd"
      }
    },
    {
      "cell_type": "code",
      "source": [
        "import os\n",
        "current_directory = os.getcwd()\n",
        "print(current_directory)"
      ],
      "metadata": {
        "colab": {
          "base_uri": "https://localhost:8080/"
        },
        "id": "-SHXzfnLFvBp",
        "outputId": "4959f051-2dfa-43b2-e391-30fc8d08e6d5"
      },
      "execution_count": null,
      "outputs": [
        {
          "output_type": "stream",
          "name": "stdout",
          "text": [
            "/content\n"
          ]
        },
        {
          "output_type": "stream",
          "name": "stderr",
          "text": [
            "/usr/local/lib/python3.10/dist-packages/ipykernel/ipkernel.py:283: DeprecationWarning: `should_run_async` will not call `transform_cell` automatically in the future. Please pass the result to `transformed_cell` argument and any exception that happen during thetransform in `preprocessing_exc_tuple` in IPython 7.17 and above.\n",
            "  and should_run_async(code)\n"
          ]
        }
      ]
    },
    {
      "cell_type": "code",
      "execution_count": null,
      "metadata": {
        "id": "dLc9UArjMy8n"
      },
      "outputs": [],
      "source": [
        "# Imports\n",
        "import numpy as np\n",
        "import pandas as pd\n",
        "from pandas import DataFrame, Series\n",
        "import matplotlib.pyplot as plt\n",
        "\n",
        "import nltk\n",
        "import gensim"
      ]
    },
    {
      "cell_type": "code",
      "source": [
        "import string\n",
        "string.punctuation"
      ],
      "metadata": {
        "colab": {
          "base_uri": "https://localhost:8080/",
          "height": 36
        },
        "id": "y4gBwsT2540D",
        "outputId": "698de94a-5a6a-4420-d613-283f23bebe0c"
      },
      "execution_count": null,
      "outputs": [
        {
          "output_type": "execute_result",
          "data": {
            "text/plain": [
              "'!\"#$%&\\'()*+,-./:;<=>?@[\\\\]^_`{|}~'"
            ],
            "application/vnd.google.colaboratory.intrinsic+json": {
              "type": "string"
            }
          },
          "metadata": {},
          "execution_count": 9
        }
      ]
    },
    {
      "cell_type": "code",
      "source": [
        "# You'll probably need to download some nltk packages.\n",
        "nltk.download('punkt')\n",
        "nltk.download('stopwords')"
      ],
      "metadata": {
        "id": "ucVK1z-fNGvj",
        "colab": {
          "base_uri": "https://localhost:8080/"
        },
        "outputId": "52f42e89-9c7c-426b-f847-fe43e9102493"
      },
      "execution_count": null,
      "outputs": [
        {
          "output_type": "stream",
          "name": "stderr",
          "text": [
            "[nltk_data] Downloading package punkt to /root/nltk_data...\n",
            "[nltk_data]   Unzipping tokenizers/punkt.zip.\n",
            "[nltk_data] Downloading package stopwords to /root/nltk_data...\n",
            "[nltk_data]   Unzipping corpora/stopwords.zip.\n"
          ]
        },
        {
          "output_type": "execute_result",
          "data": {
            "text/plain": [
              "True"
            ]
          },
          "metadata": {},
          "execution_count": 5
        }
      ]
    },
    {
      "cell_type": "code",
      "source": [
        "# load up my visualization system, and call the object plt\n",
        "import matplotlib.pyplot as plt\n",
        "\n",
        "# tell ipython notebook to print visualizations inline\n",
        "%pylab\n",
        "%matplotlib inline"
      ],
      "metadata": {
        "colab": {
          "base_uri": "https://localhost:8080/"
        },
        "id": "67koxWYq51C7",
        "outputId": "1327a185-b3f7-4271-9624-f21176ea14c7"
      },
      "execution_count": null,
      "outputs": [
        {
          "output_type": "stream",
          "name": "stdout",
          "text": [
            "Using matplotlib backend: <object object at 0x7f76b247f460>\n",
            "Populating the interactive namespace from numpy and matplotlib\n"
          ]
        }
      ]
    },
    {
      "cell_type": "code",
      "source": [
        "from nltk.stem.snowball import SnowballStemmer"
      ],
      "metadata": {
        "colab": {
          "base_uri": "https://localhost:8080/"
        },
        "id": "Qu21czdfHKli",
        "outputId": "b7472690-ce8a-499c-9ed6-08d9c7b9a610"
      },
      "execution_count": null,
      "outputs": [
        {
          "output_type": "stream",
          "name": "stderr",
          "text": [
            "/usr/local/lib/python3.10/dist-packages/ipykernel/ipkernel.py:283: DeprecationWarning: `should_run_async` will not call `transform_cell` automatically in the future. Please pass the result to `transformed_cell` argument and any exception that happen during thetransform in `preprocessing_exc_tuple` in IPython 7.17 and above.\n",
            "  and should_run_async(code)\n"
          ]
        }
      ]
    },
    {
      "cell_type": "code",
      "source": [
        "import nltk\n",
        "nltk.download('snowball_data')"
      ],
      "metadata": {
        "colab": {
          "base_uri": "https://localhost:8080/"
        },
        "id": "caA-trq_HPtH",
        "outputId": "89259a06-1091-430e-aff8-a16803b4fbdc"
      },
      "execution_count": null,
      "outputs": [
        {
          "output_type": "stream",
          "name": "stderr",
          "text": [
            "/usr/local/lib/python3.10/dist-packages/ipykernel/ipkernel.py:283: DeprecationWarning: `should_run_async` will not call `transform_cell` automatically in the future. Please pass the result to `transformed_cell` argument and any exception that happen during thetransform in `preprocessing_exc_tuple` in IPython 7.17 and above.\n",
            "  and should_run_async(code)\n",
            "[nltk_data] Downloading package snowball_data to /root/nltk_data...\n"
          ]
        },
        {
          "output_type": "execute_result",
          "data": {
            "text/plain": [
              "True"
            ]
          },
          "metadata": {},
          "execution_count": 26
        }
      ]
    },
    {
      "cell_type": "code",
      "source": [
        "stemmer = SnowballStemmer(\"english\")\n",
        "word = \"running\"\n",
        "stemmed_word = stemmer.stem(word)\n",
        "print(stemmed_word)"
      ],
      "metadata": {
        "colab": {
          "base_uri": "https://localhost:8080/"
        },
        "id": "pIcpH7O3HQBH",
        "outputId": "fa8f2a3a-82a2-427b-de21-b1949b55417e"
      },
      "execution_count": null,
      "outputs": [
        {
          "output_type": "stream",
          "name": "stdout",
          "text": [
            "run\n"
          ]
        },
        {
          "output_type": "stream",
          "name": "stderr",
          "text": [
            "/usr/local/lib/python3.10/dist-packages/ipykernel/ipkernel.py:283: DeprecationWarning: `should_run_async` will not call `transform_cell` automatically in the future. Please pass the result to `transformed_cell` argument and any exception that happen during thetransform in `preprocessing_exc_tuple` in IPython 7.17 and above.\n",
            "  and should_run_async(code)\n"
          ]
        }
      ]
    },
    {
      "cell_type": "code",
      "source": [
        "from nltk.corpus import stopwords\n",
        "from nltk.tokenize import word_tokenize\n",
        "from gensim.models import LdaModel\n",
        "from gensim.corpora import Dictionary\n",
        "import string\n",
        "import pyLDAvis\n",
        "import pyLDAvis.gensim_models as gensimvis"
      ],
      "metadata": {
        "colab": {
          "base_uri": "https://localhost:8080/"
        },
        "id": "btJu2l7q6D2h",
        "outputId": "f06e661f-aa59-42af-ba9e-fd77b3febb4b"
      },
      "execution_count": null,
      "outputs": [
        {
          "output_type": "stream",
          "name": "stderr",
          "text": [
            "/usr/local/lib/python3.10/dist-packages/ipykernel/ipkernel.py:283: DeprecationWarning: `should_run_async` will not call `transform_cell` automatically in the future. Please pass the result to `transformed_cell` argument and any exception that happen during thetransform in `preprocessing_exc_tuple` in IPython 7.17 and above.\n",
            "  and should_run_async(code)\n"
          ]
        }
      ]
    },
    {
      "cell_type": "code",
      "source": [
        "nltk.download('wordnet')"
      ],
      "metadata": {
        "colab": {
          "base_uri": "https://localhost:8080/"
        },
        "id": "vKit1HjxHf7y",
        "outputId": "2a8eea1c-641e-4c6e-8cce-037b24048f71"
      },
      "execution_count": null,
      "outputs": [
        {
          "output_type": "stream",
          "name": "stderr",
          "text": [
            "/usr/local/lib/python3.10/dist-packages/ipykernel/ipkernel.py:283: DeprecationWarning: `should_run_async` will not call `transform_cell` automatically in the future. Please pass the result to `transformed_cell` argument and any exception that happen during thetransform in `preprocessing_exc_tuple` in IPython 7.17 and above.\n",
            "  and should_run_async(code)\n",
            "[nltk_data] Downloading package wordnet to /root/nltk_data...\n"
          ]
        },
        {
          "output_type": "execute_result",
          "data": {
            "text/plain": [
              "True"
            ]
          },
          "metadata": {},
          "execution_count": 29
        }
      ]
    },
    {
      "cell_type": "code",
      "source": [
        "from nltk.stem import WordNetLemmatizer\n",
        "\n",
        "lemmatizer = WordNetLemmatizer()\n",
        "word = \"running\"\n",
        "lemmatized_word = lemmatizer.lemmatize(word)\n",
        "print(lemmatized_word)"
      ],
      "metadata": {
        "colab": {
          "base_uri": "https://localhost:8080/"
        },
        "id": "HGVVjjFFHgJ6",
        "outputId": "844db74d-3c8f-43f3-b51e-ff42b8580a47"
      },
      "execution_count": null,
      "outputs": [
        {
          "output_type": "stream",
          "name": "stderr",
          "text": [
            "/usr/local/lib/python3.10/dist-packages/ipykernel/ipkernel.py:283: DeprecationWarning: `should_run_async` will not call `transform_cell` automatically in the future. Please pass the result to `transformed_cell` argument and any exception that happen during thetransform in `preprocessing_exc_tuple` in IPython 7.17 and above.\n",
            "  and should_run_async(code)\n"
          ]
        },
        {
          "output_type": "stream",
          "name": "stdout",
          "text": [
            "running\n"
          ]
        }
      ]
    },
    {
      "cell_type": "code",
      "source": [
        "processed_docs[:5]"
      ],
      "metadata": {
        "colab": {
          "base_uri": "https://localhost:8080/"
        },
        "id": "NFewVVYiHgSh",
        "outputId": "cc33daf8-e5fd-4f02-a5e3-3d5bb4254836"
      },
      "execution_count": null,
      "outputs": [
        {
          "output_type": "stream",
          "name": "stderr",
          "text": [
            "/usr/local/lib/python3.10/dist-packages/ipykernel/ipkernel.py:283: DeprecationWarning: `should_run_async` will not call `transform_cell` automatically in the future. Please pass the result to `transformed_cell` argument and any exception that happen during thetransform in `preprocessing_exc_tuple` in IPython 7.17 and above.\n",
            "  and should_run_async(code)\n"
          ]
        },
        {
          "output_type": "execute_result",
          "data": {
            "text/plain": [
              "0                          [heartwarm, reconnect, tax]\n",
              "1                               [pharma, chip, vaccin]\n",
              "2      [talk, american, healthcar, level, smug, shirt]\n",
              "3    [singl, drop, sweat, fall, local, face, tell, ...\n",
              "4                      [canadian, pretti, sure, covid]\n",
              "Name: tweet-text, dtype: object"
            ]
          },
          "metadata": {},
          "execution_count": 33
        }
      ]
    },
    {
      "cell_type": "code",
      "source": [
        "dictionary = gensim.corpora.Dictionary(processed_docs)\n",
        "\n",
        "#dictionary.filter_extremes(no_below=5, no_above=0.8)\n",
        "# 更宽松的过滤条件\n",
        "dictionary.filter_extremes(no_below=3, no_above=0.9)\n",
        "\n",
        "# 或者，完全不进行过滤\n",
        "#dictionary.filter_extremes(no_below=1, no_above=1.0)\n",
        "\n",
        "bow_corpus = [dictionary.doc2bow(doc) for doc in processed_docs]"
      ],
      "metadata": {
        "colab": {
          "base_uri": "https://localhost:8080/"
        },
        "id": "O-lNjiTQHumx",
        "outputId": "13cf0412-988c-48c0-f1bc-a449d8e24c7a"
      },
      "execution_count": null,
      "outputs": [
        {
          "output_type": "stream",
          "name": "stderr",
          "text": [
            "/usr/local/lib/python3.10/dist-packages/ipykernel/ipkernel.py:283: DeprecationWarning: `should_run_async` will not call `transform_cell` automatically in the future. Please pass the result to `transformed_cell` argument and any exception that happen during thetransform in `preprocessing_exc_tuple` in IPython 7.17 and above.\n",
            "  and should_run_async(code)\n"
          ]
        }
      ]
    },
    {
      "cell_type": "code",
      "source": [
        "print('Number of unique tokens: %d' % len(dictionary))\n",
        "print('Number of documents: %d' % len(bow_corpus))"
      ],
      "metadata": {
        "colab": {
          "base_uri": "https://localhost:8080/"
        },
        "id": "Em1YOYMOH_PT",
        "outputId": "72365f04-6f37-4e0f-b762-b6b7dd93d453"
      },
      "execution_count": null,
      "outputs": [
        {
          "output_type": "stream",
          "name": "stdout",
          "text": [
            "Number of unique tokens: 34\n",
            "Number of documents: 122\n"
          ]
        },
        {
          "output_type": "stream",
          "name": "stderr",
          "text": [
            "/usr/local/lib/python3.10/dist-packages/ipykernel/ipkernel.py:283: DeprecationWarning: `should_run_async` will not call `transform_cell` automatically in the future. Please pass the result to `transformed_cell` argument and any exception that happen during thetransform in `preprocessing_exc_tuple` in IPython 7.17 and above.\n",
            "  and should_run_async(code)\n"
          ]
        }
      ]
    },
    {
      "cell_type": "code",
      "source": [
        "lda_model = gensim.models.LdaMulticore(bow_corpus, num_topics=10, id2word=dictionary, passes=2, workers=2)"
      ],
      "metadata": {
        "colab": {
          "base_uri": "https://localhost:8080/"
        },
        "id": "ElUfDO-DH_Ti",
        "outputId": "78544ba2-d681-4222-aae3-daf5bf3999d8"
      },
      "execution_count": null,
      "outputs": [
        {
          "output_type": "stream",
          "name": "stderr",
          "text": [
            "/usr/local/lib/python3.10/dist-packages/ipykernel/ipkernel.py:283: DeprecationWarning: `should_run_async` will not call `transform_cell` automatically in the future. Please pass the result to `transformed_cell` argument and any exception that happen during thetransform in `preprocessing_exc_tuple` in IPython 7.17 and above.\n",
            "  and should_run_async(code)\n",
            "WARNING:gensim.models.ldamulticore:too few updates, training might not converge; consider increasing the number of passes or iterations to improve accuracy\n"
          ]
        }
      ]
    },
    {
      "cell_type": "code",
      "source": [
        "for idx, topic in lda_model.print_topics(3):\n",
        "    print('Topic: {} \\nWords: {}'.format(idx, topic))"
      ],
      "metadata": {
        "colab": {
          "base_uri": "https://localhost:8080/"
        },
        "id": "vzj9nFiuH_Wz",
        "outputId": "40e51887-b166-4ecb-a16c-f6532c9bfd96"
      },
      "execution_count": null,
      "outputs": [
        {
          "output_type": "stream",
          "name": "stdout",
          "text": [
            "Topic: 6 \n",
            "Words: 0.266*\"canadian\" + 0.208*\"team\" + 0.084*\"covid\" + 0.072*\"year\" + 0.044*\"get\" + 0.044*\"time\" + 0.044*\"win\" + 0.044*\"pretti\" + 0.044*\"toronto\" + 0.022*\"climat\"\n",
            "Topic: 0 \n",
            "Words: 0.276*\"report\" + 0.130*\"canada\" + 0.088*\"cdnpoli\" + 0.088*\"toronto\" + 0.046*\"scientist\" + 0.046*\"invent\" + 0.046*\"thing\" + 0.046*\"time\" + 0.046*\"win\" + 0.046*\"climat\"\n",
            "Topic: 3 \n",
            "Words: 0.164*\"tri\" + 0.164*\"studi\" + 0.123*\"covid\" + 0.083*\"local\" + 0.065*\"scientist\" + 0.065*\"win\" + 0.065*\"turn\" + 0.065*\"warn\" + 0.024*\"climat\" + 0.024*\"wonder\"\n"
          ]
        },
        {
          "output_type": "stream",
          "name": "stderr",
          "text": [
            "/usr/local/lib/python3.10/dist-packages/ipykernel/ipkernel.py:283: DeprecationWarning: `should_run_async` will not call `transform_cell` automatically in the future. Please pass the result to `transformed_cell` argument and any exception that happen during thetransform in `preprocessing_exc_tuple` in IPython 7.17 and above.\n",
            "  and should_run_async(code)\n"
          ]
        }
      ]
    },
    {
      "cell_type": "code",
      "source": [
        "for idx in range(1, 4):\n",
        "    topic = lda_model.print_topic(idx)\n",
        "    print('Topic: {} \\nWords: {}'.format(idx, topic))"
      ],
      "metadata": {
        "colab": {
          "base_uri": "https://localhost:8080/"
        },
        "id": "JkvSKR9oHuqZ",
        "outputId": "47367989-4e86-484f-e01a-f47852baf648"
      },
      "execution_count": null,
      "outputs": [
        {
          "output_type": "stream",
          "name": "stdout",
          "text": [
            "Topic: 1 \n",
            "Words: 0.142*\"real\" + 0.142*\"estat\" + 0.142*\"wonder\" + 0.107*\"actual\" + 0.071*\"studi\" + 0.056*\"toronto\" + 0.056*\"invent\" + 0.056*\"time\" + 0.056*\"life\" + 0.036*\"team\"\n",
            "Topic: 2 \n",
            "Words: 0.231*\"canadian\" + 0.157*\"toronto\" + 0.134*\"forget\" + 0.082*\"studi\" + 0.082*\"pretti\" + 0.082*\"snow\" + 0.030*\"actual\" + 0.007*\"local\" + 0.007*\"report\" + 0.007*\"scientist\"\n",
            "Topic: 3 \n",
            "Words: 0.164*\"tri\" + 0.164*\"studi\" + 0.123*\"covid\" + 0.083*\"local\" + 0.065*\"scientist\" + 0.065*\"win\" + 0.065*\"turn\" + 0.065*\"warn\" + 0.024*\"climat\" + 0.024*\"wonder\"\n"
          ]
        },
        {
          "output_type": "stream",
          "name": "stderr",
          "text": [
            "/usr/local/lib/python3.10/dist-packages/ipykernel/ipkernel.py:283: DeprecationWarning: `should_run_async` will not call `transform_cell` automatically in the future. Please pass the result to `transformed_cell` argument and any exception that happen during thetransform in `preprocessing_exc_tuple` in IPython 7.17 and above.\n",
            "  and should_run_async(code)\n"
          ]
        }
      ]
    },
    {
      "cell_type": "code",
      "source": [
        "pyLDAvis.enable_notebook()\n",
        "\n",
        "vis = gensimvis.prepare(lda_model, bow_corpus, dictionary, n_jobs=1)\n",
        "pyLDAvis.display(vis)"
      ],
      "metadata": {
        "colab": {
          "base_uri": "https://localhost:8080/",
          "height": 917
        },
        "id": "zqUmNoRQHutu",
        "outputId": "f3307904-0882-4fea-80ec-aba0614ad024"
      },
      "execution_count": null,
      "outputs": [
        {
          "output_type": "stream",
          "name": "stderr",
          "text": [
            "/usr/local/lib/python3.10/dist-packages/ipykernel/ipkernel.py:283: DeprecationWarning: `should_run_async` will not call `transform_cell` automatically in the future. Please pass the result to `transformed_cell` argument and any exception that happen during thetransform in `preprocessing_exc_tuple` in IPython 7.17 and above.\n",
            "  and should_run_async(code)\n"
          ]
        },
        {
          "output_type": "execute_result",
          "data": {
            "text/plain": [
              "<IPython.core.display.HTML object>"
            ],
            "text/html": [
              "\n",
              "<link rel=\"stylesheet\" type=\"text/css\" href=\"https://cdn.jsdelivr.net/gh/bmabey/pyLDAvis@3.4.0/pyLDAvis/js/ldavis.v1.0.0.css\">\n",
              "\n",
              "\n",
              "<div id=\"ldavis_el2591401464159427042660175149\" style=\"background-color:white;\"></div>\n",
              "<script type=\"text/javascript\">\n",
              "\n",
              "var ldavis_el2591401464159427042660175149_data = {\"mdsDat\": {\"x\": [-0.07383363867449054, -0.14633310880498665, 0.1385214848516095, 0.177830113011447, 0.2291250194074616, -0.10629215376120883, -0.012265442951727224, -0.09237023287914577, -0.08060764896504083, -0.0337743912339179], \"y\": [0.11363490949086448, -0.1951598269478853, -0.09122127511513427, -0.04755307805735389, 0.01319573253585445, 0.09029901554474479, 0.20819562194433514, -0.1325224670247714, 0.017071585472844823, 0.024059782156501307], \"topics\": [1, 2, 3, 4, 5, 6, 7, 8, 9, 10], \"cluster\": [1, 1, 1, 1, 1, 1, 1, 1, 1, 1], \"Freq\": [16.329706339413914, 12.995427896650602, 11.286598948166526, 10.536201258808171, 9.016443245591631, 8.964965821412225, 8.759331356956054, 7.781993843988601, 7.421873004052153, 6.907458284960126]}, \"tinfo\": {\"Term\": [\"canadian\", \"canada\", \"report\", \"local\", \"say\", \"life\", \"scientist\", \"team\", \"chang\", \"studi\", \"toronto\", \"actual\", \"announc\", \"cdnpoli\", \"climat\", \"tri\", \"covid\", \"forget\", \"real\", \"estat\", \"wonder\", \"woman\", \"warn\", \"turn\", \"thing\", \"take\", \"time\", \"snow\", \"win\", \"pretti\", \"leav\", \"woman\", \"local\", \"time\", \"life\", \"get\", \"year\", \"snow\", \"pretti\", \"scientist\", \"say\", \"report\", \"chang\", \"tri\", \"wonder\", \"estat\", \"real\", \"warn\", \"thing\", \"invent\", \"forget\", \"take\", \"announc\", \"covid\", \"win\", \"turn\", \"actual\", \"studi\", \"cdnpoli\", \"climat\", \"toronto\", \"team\", \"canada\", \"canadian\", \"team\", \"canadian\", \"covid\", \"year\", \"get\", \"pretti\", \"win\", \"toronto\", \"time\", \"climat\", \"chang\", \"local\", \"tri\", \"wonder\", \"estat\", \"real\", \"warn\", \"thing\", \"invent\", \"leav\", \"snow\", \"forget\", \"take\", \"announc\", \"say\", \"turn\", \"actual\", \"studi\", \"woman\", \"cdnpoli\", \"report\", \"scientist\", \"life\", \"canada\", \"chang\", \"climat\", \"take\", \"cdnpoli\", \"invent\", \"turn\", \"report\", \"tri\", \"canadian\", \"local\", \"wonder\", \"estat\", \"real\", \"warn\", \"thing\", \"leav\", \"get\", \"year\", \"snow\", \"pretti\", \"forget\", \"announc\", \"covid\", \"win\", \"say\", \"actual\", \"studi\", \"woman\", \"toronto\", \"team\", \"scientist\", \"canada\", \"life\", \"time\", \"report\", \"canada\", \"cdnpoli\", \"toronto\", \"thing\", \"invent\", \"win\", \"climat\", \"scientist\", \"time\", \"leav\", \"year\", \"local\", \"tri\", \"wonder\", \"estat\", \"real\", \"warn\", \"get\", \"snow\", \"pretti\", \"forget\", \"take\", \"announc\", \"covid\", \"say\", \"turn\", \"actual\", \"studi\", \"woman\", \"life\", \"team\", \"canadian\", \"chang\", \"canada\", \"warn\", \"thing\", \"forget\", \"take\", \"announc\", \"woman\", \"report\", \"tri\", \"wonder\", \"estat\", \"real\", \"invent\", \"leav\", \"get\", \"year\", \"snow\", \"pretti\", \"covid\", \"win\", \"say\", \"turn\", \"actual\", \"studi\", \"cdnpoli\", \"climat\", \"chang\", \"toronto\", \"team\", \"scientist\", \"local\", \"life\", \"canadian\", \"time\", \"wonder\", \"real\", \"estat\", \"actual\", \"invent\", \"studi\", \"toronto\", \"life\", \"time\", \"team\", \"scientist\", \"tri\", \"warn\", \"thing\", \"leav\", \"get\", \"year\", \"snow\", \"pretti\", \"forget\", \"take\", \"announc\", \"covid\", \"win\", \"say\", \"turn\", \"woman\", \"cdnpoli\", \"climat\", \"chang\", \"local\", \"report\", \"canada\", \"canadian\", \"announc\", \"scientist\", \"actual\", \"life\", \"turn\", \"tri\", \"wonder\", \"estat\", \"real\", \"warn\", \"thing\", \"invent\", \"leav\", \"get\", \"year\", \"snow\", \"pretti\", \"forget\", \"take\", \"covid\", \"win\", \"say\", \"studi\", \"woman\", \"cdnpoli\", \"climat\", \"chang\", \"toronto\", \"team\", \"canada\", \"local\", \"report\", \"canadian\", \"time\", \"forget\", \"toronto\", \"canadian\", \"snow\", \"pretti\", \"studi\", \"actual\", \"tri\", \"wonder\", \"estat\", \"real\", \"warn\", \"thing\", \"invent\", \"leav\", \"get\", \"year\", \"take\", \"announc\", \"covid\", \"win\", \"say\", \"turn\", \"woman\", \"cdnpoli\", \"climat\", \"chang\", \"team\", \"scientist\", \"life\", \"local\", \"report\", \"canada\", \"time\", \"say\", \"get\", \"snow\", \"win\", \"turn\", \"time\", \"local\", \"estat\", \"real\", \"forget\", \"cdnpoli\", \"team\", \"tri\", \"wonder\", \"warn\", \"thing\", \"invent\", \"leav\", \"year\", \"pretti\", \"take\", \"announc\", \"covid\", \"actual\", \"studi\", \"woman\", \"climat\", \"chang\", \"toronto\", \"scientist\", \"report\", \"life\", \"canada\", \"canadian\", \"tri\", \"studi\", \"covid\", \"warn\", \"win\", \"turn\", \"scientist\", \"wonder\", \"local\", \"climat\", \"chang\", \"estat\", \"real\", \"thing\", \"invent\", \"leav\", \"get\", \"year\", \"snow\", \"pretti\", \"forget\", \"take\", \"announc\", \"say\", \"actual\", \"woman\", \"cdnpoli\", \"toronto\", \"team\", \"life\", \"report\", \"canada\", \"canadian\", \"time\"], \"Freq\": [9.0, 7.0, 7.0, 10.0, 4.0, 7.0, 6.0, 5.0, 5.0, 4.0, 5.0, 4.0, 3.0, 5.0, 5.0, 2.0, 3.0, 3.0, 3.0, 3.0, 3.0, 5.0, 3.0, 4.0, 3.0, 3.0, 7.0, 3.0, 3.0, 3.0, 2.3374041790023523, 3.4269436901381405, 7.17357892495184, 3.427045787206764, 2.8446957365969663, 0.9193923810922383, 0.9194736842598195, 0.9193840044022451, 0.9193768103037804, 0.5907823716794948, 0.3371997876169896, 0.5459054869070328, 0.33721176135621517, 0.08360540843585426, 0.08360409649837738, 0.08359577524236207, 0.08359561509975925, 0.08359948315955024, 0.08359875019917583, 0.0835972904377579, 0.08360111538223274, 0.08360205775985698, 0.08360583958901567, 0.0836027845609005, 0.0836036037519072, 0.08360095523962993, 0.08362160131673085, 0.08362208790387016, 0.08361708036786686, 0.08360053640513027, 0.08361925461166657, 0.08361562060644893, 0.08361228224911339, 0.08360985547274771, 4.388658219493203, 5.598813526668397, 1.7759184355558715, 1.519143815437463, 0.930243852750322, 0.9302264419513483, 0.9302393039830226, 0.9302149131790549, 0.9302418920747619, 0.4583683009813633, 0.4583632816519294, 0.34117817376484094, 0.08458365150000584, 0.08458907276792953, 0.08457848511990497, 0.08457591663492123, 0.0845810732116443, 0.08458271037573699, 0.08457861256381638, 0.08458743560383684, 0.08458326916827162, 0.08458293585342641, 0.08458933745913014, 0.08458561217556594, 0.08458993546517597, 0.08458410245538467, 0.08459322940011695, 0.08460926772619859, 0.08459184712384707, 0.08459578808172288, 0.08461370865634223, 0.08461276753207338, 0.08460087603480135, 0.0845941705243858, 3.8202662605555604, 3.1634488776370073, 1.98028213067736, 2.6369997942748857, 1.0373031956127994, 1.037317431499476, 1.03736095653099, 0.38045543372076385, 0.5463353569351084, 0.38057231784295154, 0.09436230237938187, 0.09432225969096049, 0.0943199693479485, 0.09432237889096855, 0.09432021626225091, 0.0943194670050574, 0.0943164359191382, 0.0943309272344036, 0.0943187092335776, 0.09432105066230732, 0.09432100809087587, 0.09432506089114986, 0.09432144231947666, 0.09432599746264175, 0.09433747472056053, 0.09434163820655629, 0.09435686175044262, 0.09432439677681925, 0.09434156157797968, 0.09434317929237476, 0.09435463100743467, 0.09434257477804818, 0.09433182123446404, 0.09432670414840381, 4.703481814397195, 2.227153703537762, 1.5087773862312523, 1.5087542410501051, 0.7903034013471547, 0.7903088061284665, 0.7902729438148209, 0.7902386711427376, 0.7903428244578998, 0.7902964069242805, 0.2898521903591693, 0.2898255797594163, 0.2899018507615758, 0.07186023961295009, 0.07185952427424705, 0.07185555811854909, 0.07185405590727272, 0.0718615590154468, 0.07186013628624853, 0.07185579656478344, 0.07185913481206428, 0.07185995347746887, 0.07186394347779027, 0.07186547748189788, 0.07185841947336125, 0.07186318839804816, 0.07186232999160452, 0.07187416487303588, 0.07188494264282833, 0.07186263997170916, 0.07187600090904035, 0.07187066766159882, 0.07186712276091486, 0.07186032704323601, 4.281108163515148, 1.7627711796293977, 1.7627647587811852, 0.9233775018114821, 0.9233550832567069, 0.9233262438537194, 0.9233481182688156, 0.9233992673986425, 0.08396323510846211, 0.08396409212845654, 0.08395557634248005, 0.0839549437801032, 0.08395737200342078, 0.08396604422955499, 0.08395470571899363, 0.08396924105016917, 0.08395680745850381, 0.0839579637553217, 0.08396342555734976, 0.08396107895498403, 0.08396409893020254, 0.08396401730925068, 0.08397915799581912, 0.08397807651820709, 0.08397834858804659, 0.0839592288800754, 0.08396152787021921, 0.0839780697164611, 0.0839734581326815, 0.0839907141622521, 0.08401981203158712, 0.08397703585107098, 0.08397145841936114, 0.08396774466605189, 2.0611871749343607, 2.061300575457807, 2.0612691955419677, 1.5477584059493523, 0.8107799821792696, 1.0343839566807276, 0.8107970247197684, 0.8107429214165975, 0.8107543372135666, 0.5210450532822861, 0.29742003259589467, 0.07372373080757555, 0.07372627366282458, 0.07372078217755273, 0.07372274342229268, 0.07371765771179462, 0.07372750451297172, 0.0737238119625303, 0.07372037640277895, 0.07372477229616159, 0.07372519835967406, 0.07372524570006433, 0.07372283810307323, 0.07372555679405757, 0.07373062897872984, 0.07372553650531888, 0.07372473171868421, 0.07375001148709082, 0.07372728133684614, 0.07372774797783599, 0.07379028463338866, 0.07375266931185909, 0.07373985359192048, 0.07373113619719707, 2.1463449214326813, 3.2599187733709765, 1.8362717661102197, 2.8583346241508263, 1.1243361943926706, 0.10223586358541642, 0.10223230859538705, 0.10222399599788347, 0.10222318323993995, 0.10222922936610512, 0.10222868752747612, 0.10222934830629198, 0.10222807961096551, 0.10222415458479928, 0.10224218723868425, 0.10222983067482756, 0.1022245840910296, 0.10223388124896882, 0.10223193855925017, 0.10223255969133709, 0.10223279096392264, 0.1022373833766929, 0.10226031240160344, 0.10223129760379879, 0.10223880405114702, 0.10223532835457556, 0.10222759063464178, 0.1022465417710808, 0.10223963002466685, 0.10225041393494178, 0.10232152034331707, 0.10227341564552206, 0.10223791860753376, 0.10222827784461028, 1.6900817462987527, 1.975486916851289, 2.916381334998346, 1.03484065702094, 1.0348435687952846, 1.0349107274616154, 0.37951195621023215, 0.0940976159167161, 0.09409235593725522, 0.09408999599111317, 0.09408576335139074, 0.09409791531286846, 0.09409517378339498, 0.09408903909752822, 0.09409672946928463, 0.09408764191548391, 0.0941082415448681, 0.09409682339748929, 0.09409914812055459, 0.09409903658081156, 0.09409141078469585, 0.0940994122936302, 0.09409648290774741, 0.09409404664493907, 0.09410742554359014, 0.09409491548083217, 0.09410001695644768, 0.0941009444974687, 0.09412005301660392, 0.09411978884352831, 0.09415393174592171, 0.09413833966394838, 0.09411454060509303, 0.09410568200129116, 3.0598891985652616, 0.8865811586752678, 0.8865770379231648, 0.8865787399729465, 0.886553477970924, 0.8865749775471133, 1.131183897357604, 0.3251741248971154, 0.32515322999650637, 0.32514742959001364, 0.3252185349591815, 0.3251158072967018, 0.0806118154959414, 0.08061443015794152, 0.08061653532477672, 0.08061052776090923, 0.08061089728487499, 0.08062005700014732, 0.08061919477756056, 0.08061296325977443, 0.08061764949552196, 0.08061961469115801, 0.0806175431174106, 0.08062553267345805, 0.08063856679152284, 0.08061473249573169, 0.08061610421348335, 0.08062479362552655, 0.08063223449447332, 0.08063886353046504, 0.08064357216160443, 0.08063368459609652, 0.08062881359836611, 0.08061880845705091, 1.8399790271615528, 1.8398943205874843, 1.3816582673666744, 0.7237453913619574, 0.7237564799193895, 0.7237483927759991, 0.7237793240151522, 0.265463900067459, 0.9234017044832454, 0.26547525958588114, 0.26545604219875235, 0.06580813407893897, 0.06580646662669352, 0.06580835293204619, 0.06580695123000235, 0.06581097916933276, 0.06580487733627208, 0.06581804499822284, 0.06580704502419116, 0.06580632593541032, 0.065811666993384, 0.06581265704315474, 0.0658094263544292, 0.06581514258915812, 0.06581968639652695, 0.06581055188469487, 0.0658155542414312, 0.06582463143459236, 0.06582144243217294, 0.06582737752000907, 0.0658336460982943, 0.06581920179321812, 0.06581506963812238, 0.06581104690958023], \"Total\": [9.0, 7.0, 7.0, 10.0, 4.0, 7.0, 6.0, 5.0, 5.0, 4.0, 5.0, 4.0, 3.0, 5.0, 5.0, 2.0, 3.0, 3.0, 3.0, 3.0, 3.0, 5.0, 3.0, 4.0, 3.0, 3.0, 7.0, 3.0, 3.0, 3.0, 3.3066079048719934, 5.01754605262718, 10.594102417916272, 7.285352856536424, 7.0891398671534, 3.3221830019905583, 3.323258420813579, 3.4172769694330354, 3.4569492199690997, 6.099960355368247, 4.06772625093445, 7.711402876771431, 5.387799349870365, 2.8951160213452383, 3.0219692577407953, 3.0668731010212755, 3.0668697194423427, 3.1715510189355394, 3.232033361146883, 3.2332614948442284, 3.514742011042767, 3.560176819485934, 3.7183065902902364, 3.8419947523262667, 3.8627879064023882, 4.263788921048006, 4.328397139132047, 4.5105391204645, 5.059098727826215, 5.195764504017932, 5.735895389406472, 5.8307840227196035, 7.1873637181279975, 9.623381588154777, 5.8307840227196035, 9.623381588154777, 3.8419947523262667, 3.323258420813579, 3.3221830019905583, 3.4569492199690997, 3.8627879064023882, 5.735895389406472, 7.285352856536424, 5.195764504017932, 5.387799349870365, 10.594102417916272, 2.8951160213452383, 3.0219692577407953, 3.0668731010212755, 3.0668697194423427, 3.1715510189355394, 3.232033361146883, 3.2332614948442284, 3.3066079048719934, 3.4172769694330354, 3.514742011042767, 3.560176819485934, 3.7183065902902364, 4.06772625093445, 4.263788921048006, 4.328397139132047, 4.5105391204645, 5.01754605262718, 5.059098727826215, 7.711402876771431, 6.099960355368247, 7.0891398671534, 7.1873637181279975, 5.387799349870365, 5.195764504017932, 3.560176819485934, 5.059098727826215, 3.2332614948442284, 4.263788921048006, 7.711402876771431, 2.8951160213452383, 9.623381588154777, 10.594102417916272, 3.0219692577407953, 3.0668731010212755, 3.0668697194423427, 3.1715510189355394, 3.232033361146883, 3.3066079048719934, 3.3221830019905583, 3.323258420813579, 3.4172769694330354, 3.4569492199690997, 3.514742011042767, 3.7183065902902364, 3.8419947523262667, 3.8627879064023882, 4.06772625093445, 4.328397139132047, 4.5105391204645, 5.01754605262718, 5.735895389406472, 5.8307840227196035, 6.099960355368247, 7.1873637181279975, 7.0891398671534, 7.285352856536424, 7.711402876771431, 7.1873637181279975, 5.059098727826215, 5.735895389406472, 3.232033361146883, 3.2332614948442284, 3.8627879064023882, 5.195764504017932, 6.099960355368247, 7.285352856536424, 3.3066079048719934, 3.323258420813579, 10.594102417916272, 2.8951160213452383, 3.0219692577407953, 3.0668731010212755, 3.0668697194423427, 3.1715510189355394, 3.3221830019905583, 3.4172769694330354, 3.4569492199690997, 3.514742011042767, 3.560176819485934, 3.7183065902902364, 3.8419947523262667, 4.06772625093445, 4.263788921048006, 4.328397139132047, 4.5105391204645, 5.01754605262718, 7.0891398671534, 5.8307840227196035, 9.623381588154777, 5.387799349870365, 7.1873637181279975, 3.1715510189355394, 3.232033361146883, 3.514742011042767, 3.560176819485934, 3.7183065902902364, 5.01754605262718, 7.711402876771431, 2.8951160213452383, 3.0219692577407953, 3.0668731010212755, 3.0668697194423427, 3.2332614948442284, 3.3066079048719934, 3.3221830019905583, 3.323258420813579, 3.4172769694330354, 3.4569492199690997, 3.8419947523262667, 3.8627879064023882, 4.06772625093445, 4.263788921048006, 4.328397139132047, 4.5105391204645, 5.059098727826215, 5.195764504017932, 5.387799349870365, 5.735895389406472, 5.8307840227196035, 6.099960355368247, 10.594102417916272, 7.0891398671534, 9.623381588154777, 7.285352856536424, 3.0219692577407953, 3.0668697194423427, 3.0668731010212755, 4.328397139132047, 3.2332614948442284, 4.5105391204645, 5.735895389406472, 7.0891398671534, 7.285352856536424, 5.8307840227196035, 6.099960355368247, 2.8951160213452383, 3.1715510189355394, 3.232033361146883, 3.3066079048719934, 3.3221830019905583, 3.323258420813579, 3.4172769694330354, 3.4569492199690997, 3.514742011042767, 3.560176819485934, 3.7183065902902364, 3.8419947523262667, 3.8627879064023882, 4.06772625093445, 4.263788921048006, 5.01754605262718, 5.059098727826215, 5.195764504017932, 5.387799349870365, 10.594102417916272, 7.711402876771431, 7.1873637181279975, 9.623381588154777, 3.7183065902902364, 6.099960355368247, 4.328397139132047, 7.0891398671534, 4.263788921048006, 2.8951160213452383, 3.0219692577407953, 3.0668731010212755, 3.0668697194423427, 3.1715510189355394, 3.232033361146883, 3.2332614948442284, 3.3066079048719934, 3.3221830019905583, 3.323258420813579, 3.4172769694330354, 3.4569492199690997, 3.514742011042767, 3.560176819485934, 3.8419947523262667, 3.8627879064023882, 4.06772625093445, 4.5105391204645, 5.01754605262718, 5.059098727826215, 5.195764504017932, 5.387799349870365, 5.735895389406472, 5.8307840227196035, 7.1873637181279975, 10.594102417916272, 7.711402876771431, 9.623381588154777, 7.285352856536424, 3.514742011042767, 5.735895389406472, 9.623381588154777, 3.4172769694330354, 3.4569492199690997, 4.5105391204645, 4.328397139132047, 2.8951160213452383, 3.0219692577407953, 3.0668731010212755, 3.0668697194423427, 3.1715510189355394, 3.232033361146883, 3.2332614948442284, 3.3066079048719934, 3.3221830019905583, 3.323258420813579, 3.560176819485934, 3.7183065902902364, 3.8419947523262667, 3.8627879064023882, 4.06772625093445, 4.263788921048006, 5.01754605262718, 5.059098727826215, 5.195764504017932, 5.387799349870365, 5.8307840227196035, 6.099960355368247, 7.0891398671534, 10.594102417916272, 7.711402876771431, 7.1873637181279975, 7.285352856536424, 4.06772625093445, 3.3221830019905583, 3.4172769694330354, 3.8627879064023882, 4.263788921048006, 7.285352856536424, 10.594102417916272, 3.0668731010212755, 3.0668697194423427, 3.514742011042767, 5.059098727826215, 5.8307840227196035, 2.8951160213452383, 3.0219692577407953, 3.1715510189355394, 3.232033361146883, 3.2332614948442284, 3.3066079048719934, 3.323258420813579, 3.4569492199690997, 3.560176819485934, 3.7183065902902364, 3.8419947523262667, 4.328397139132047, 4.5105391204645, 5.01754605262718, 5.195764504017932, 5.387799349870365, 5.735895389406472, 6.099960355368247, 7.711402876771431, 7.0891398671534, 7.1873637181279975, 9.623381588154777, 2.8951160213452383, 4.5105391204645, 3.8419947523262667, 3.1715510189355394, 3.8627879064023882, 4.263788921048006, 6.099960355368247, 3.0219692577407953, 10.594102417916272, 5.195764504017932, 5.387799349870365, 3.0668731010212755, 3.0668697194423427, 3.232033361146883, 3.2332614948442284, 3.3066079048719934, 3.3221830019905583, 3.323258420813579, 3.4172769694330354, 3.4569492199690997, 3.514742011042767, 3.560176819485934, 3.7183065902902364, 4.06772625093445, 4.328397139132047, 5.01754605262718, 5.059098727826215, 5.735895389406472, 5.8307840227196035, 7.0891398671534, 7.711402876771431, 7.1873637181279975, 9.623381588154777, 7.285352856536424], \"Category\": [\"Default\", \"Default\", \"Default\", \"Default\", \"Default\", \"Default\", \"Default\", \"Default\", \"Default\", \"Default\", \"Default\", \"Default\", \"Default\", \"Default\", \"Default\", \"Default\", \"Default\", \"Default\", \"Default\", \"Default\", \"Default\", \"Default\", \"Default\", \"Default\", \"Default\", \"Default\", \"Default\", \"Default\", \"Default\", \"Default\", \"Topic1\", \"Topic1\", \"Topic1\", \"Topic1\", \"Topic1\", \"Topic1\", \"Topic1\", \"Topic1\", \"Topic1\", \"Topic1\", \"Topic1\", \"Topic1\", \"Topic1\", \"Topic1\", \"Topic1\", \"Topic1\", \"Topic1\", \"Topic1\", \"Topic1\", \"Topic1\", \"Topic1\", \"Topic1\", \"Topic1\", \"Topic1\", \"Topic1\", \"Topic1\", \"Topic1\", \"Topic1\", \"Topic1\", \"Topic1\", \"Topic1\", \"Topic1\", \"Topic1\", \"Topic1\", \"Topic2\", \"Topic2\", \"Topic2\", \"Topic2\", \"Topic2\", \"Topic2\", \"Topic2\", \"Topic2\", \"Topic2\", \"Topic2\", \"Topic2\", \"Topic2\", \"Topic2\", \"Topic2\", \"Topic2\", \"Topic2\", \"Topic2\", \"Topic2\", \"Topic2\", \"Topic2\", \"Topic2\", \"Topic2\", \"Topic2\", \"Topic2\", \"Topic2\", \"Topic2\", \"Topic2\", \"Topic2\", \"Topic2\", \"Topic2\", \"Topic2\", \"Topic2\", \"Topic2\", \"Topic2\", \"Topic3\", \"Topic3\", \"Topic3\", \"Topic3\", \"Topic3\", \"Topic3\", \"Topic3\", \"Topic3\", \"Topic3\", \"Topic3\", \"Topic3\", \"Topic3\", \"Topic3\", \"Topic3\", \"Topic3\", \"Topic3\", \"Topic3\", \"Topic3\", \"Topic3\", \"Topic3\", \"Topic3\", \"Topic3\", \"Topic3\", \"Topic3\", \"Topic3\", \"Topic3\", \"Topic3\", \"Topic3\", \"Topic3\", \"Topic3\", \"Topic3\", \"Topic3\", \"Topic3\", \"Topic3\", \"Topic4\", \"Topic4\", \"Topic4\", \"Topic4\", \"Topic4\", \"Topic4\", \"Topic4\", \"Topic4\", \"Topic4\", \"Topic4\", \"Topic4\", \"Topic4\", \"Topic4\", \"Topic4\", \"Topic4\", \"Topic4\", \"Topic4\", \"Topic4\", \"Topic4\", \"Topic4\", \"Topic4\", \"Topic4\", \"Topic4\", \"Topic4\", \"Topic4\", \"Topic4\", \"Topic4\", \"Topic4\", \"Topic4\", \"Topic4\", \"Topic4\", \"Topic4\", \"Topic4\", \"Topic4\", \"Topic5\", \"Topic5\", \"Topic5\", \"Topic5\", \"Topic5\", \"Topic5\", \"Topic5\", \"Topic5\", \"Topic5\", \"Topic5\", \"Topic5\", \"Topic5\", \"Topic5\", \"Topic5\", \"Topic5\", \"Topic5\", \"Topic5\", \"Topic5\", \"Topic5\", \"Topic5\", \"Topic5\", \"Topic5\", \"Topic5\", \"Topic5\", \"Topic5\", \"Topic5\", \"Topic5\", \"Topic5\", \"Topic5\", \"Topic5\", \"Topic5\", \"Topic5\", \"Topic5\", \"Topic5\", \"Topic6\", \"Topic6\", \"Topic6\", \"Topic6\", \"Topic6\", \"Topic6\", \"Topic6\", \"Topic6\", \"Topic6\", \"Topic6\", \"Topic6\", \"Topic6\", \"Topic6\", \"Topic6\", \"Topic6\", \"Topic6\", \"Topic6\", \"Topic6\", \"Topic6\", \"Topic6\", \"Topic6\", \"Topic6\", \"Topic6\", \"Topic6\", \"Topic6\", \"Topic6\", \"Topic6\", \"Topic6\", \"Topic6\", \"Topic6\", \"Topic6\", \"Topic6\", \"Topic6\", \"Topic6\", \"Topic7\", \"Topic7\", \"Topic7\", \"Topic7\", \"Topic7\", \"Topic7\", \"Topic7\", \"Topic7\", \"Topic7\", \"Topic7\", \"Topic7\", \"Topic7\", \"Topic7\", \"Topic7\", \"Topic7\", \"Topic7\", \"Topic7\", \"Topic7\", \"Topic7\", \"Topic7\", \"Topic7\", \"Topic7\", \"Topic7\", \"Topic7\", \"Topic7\", \"Topic7\", \"Topic7\", \"Topic7\", \"Topic7\", \"Topic7\", \"Topic7\", \"Topic7\", \"Topic7\", \"Topic7\", \"Topic8\", \"Topic8\", \"Topic8\", \"Topic8\", \"Topic8\", \"Topic8\", \"Topic8\", \"Topic8\", \"Topic8\", \"Topic8\", \"Topic8\", \"Topic8\", \"Topic8\", \"Topic8\", \"Topic8\", \"Topic8\", \"Topic8\", \"Topic8\", \"Topic8\", \"Topic8\", \"Topic8\", \"Topic8\", \"Topic8\", \"Topic8\", \"Topic8\", \"Topic8\", \"Topic8\", \"Topic8\", \"Topic8\", \"Topic8\", \"Topic8\", \"Topic8\", \"Topic8\", \"Topic8\", \"Topic9\", \"Topic9\", \"Topic9\", \"Topic9\", \"Topic9\", \"Topic9\", \"Topic9\", \"Topic9\", \"Topic9\", \"Topic9\", \"Topic9\", \"Topic9\", \"Topic9\", \"Topic9\", \"Topic9\", \"Topic9\", \"Topic9\", \"Topic9\", \"Topic9\", \"Topic9\", \"Topic9\", \"Topic9\", \"Topic9\", \"Topic9\", \"Topic9\", \"Topic9\", \"Topic9\", \"Topic9\", \"Topic9\", \"Topic9\", \"Topic9\", \"Topic9\", \"Topic9\", \"Topic9\", \"Topic10\", \"Topic10\", \"Topic10\", \"Topic10\", \"Topic10\", \"Topic10\", \"Topic10\", \"Topic10\", \"Topic10\", \"Topic10\", \"Topic10\", \"Topic10\", \"Topic10\", \"Topic10\", \"Topic10\", \"Topic10\", \"Topic10\", \"Topic10\", \"Topic10\", \"Topic10\", \"Topic10\", \"Topic10\", \"Topic10\", \"Topic10\", \"Topic10\", \"Topic10\", \"Topic10\", \"Topic10\", \"Topic10\", \"Topic10\", \"Topic10\", \"Topic10\", \"Topic10\", \"Topic10\"], \"logprob\": [30.0, 29.0, 28.0, 27.0, 26.0, 25.0, 24.0, 23.0, 22.0, 21.0, 20.0, 19.0, 18.0, 17.0, 16.0, 15.0, 14.0, 13.0, 12.0, 11.0, 10.0, 9.0, 8.0, 7.0, 6.0, 5.0, 4.0, 3.0, 2.0, 1.0, -2.4264, -2.0437, -1.305, -2.0437, -2.23, -3.3595, -3.3594, -3.3595, -3.3595, -3.8017, -4.3625, -3.8807, -4.3625, -5.7571, -5.7571, -5.7572, -5.7572, -5.7571, -5.7571, -5.7572, -5.7571, -5.7571, -5.7571, -5.7571, -5.7571, -5.7571, -5.7569, -5.7569, -5.7569, -5.7571, -5.7569, -5.7569, -5.757, -5.757, -1.568, -1.3245, -2.4727, -2.6289, -3.1193, -3.1194, -3.1193, -3.1194, -3.1193, -3.8271, -3.8271, -4.1224, -5.517, -5.517, -5.5171, -5.5171, -5.5171, -5.517, -5.5171, -5.517, -5.517, -5.517, -5.517, -5.517, -5.517, -5.517, -5.5169, -5.5167, -5.5169, -5.5169, -5.5167, -5.5167, -5.5168, -5.5169, -1.5657, -1.7544, -2.2228, -1.9364, -2.8694, -2.8694, -2.8694, -3.8724, -3.5106, -3.8721, -5.2667, -5.2671, -5.2671, -5.2671, -5.2671, -5.2671, -5.2671, -5.267, -5.2671, -5.2671, -5.2671, -5.2671, -5.2671, -5.267, -5.2669, -5.2669, -5.2667, -5.2671, -5.2669, -5.2669, -5.2667, -5.2669, -5.267, -5.267, -1.2889, -2.0365, -2.4259, -2.426, -3.0726, -3.0726, -3.0726, -3.0727, -3.0725, -3.0726, -4.0756, -4.0757, -4.0755, -5.4703, -5.4703, -5.4703, -5.4704, -5.4703, -5.4703, -5.4703, -5.4703, -5.4703, -5.4702, -5.4702, -5.4703, -5.4702, -5.4702, -5.4701, -5.4699, -5.4702, -5.4701, -5.4701, -5.4702, -5.4703, -1.2273, -2.1146, -2.1146, -2.7612, -2.7612, -2.7612, -2.7612, -2.7612, -5.1589, -5.1588, -5.1589, -5.159, -5.1589, -5.1588, -5.159, -5.1588, -5.1589, -5.1589, -5.1589, -5.1589, -5.1588, -5.1588, -5.1587, -5.1587, -5.1587, -5.1589, -5.1589, -5.1587, -5.1587, -5.1585, -5.1582, -5.1587, -5.1588, -5.1588, -1.9525, -1.9524, -1.9524, -2.2389, -2.8855, -2.6419, -2.8855, -2.8856, -2.8855, -3.3277, -3.8884, -5.2832, -5.2831, -5.2832, -5.2832, -5.2833, -5.2831, -5.2832, -5.2832, -5.2832, -5.2832, -5.2832, -5.2832, -5.2832, -5.2831, -5.2832, -5.2832, -5.2828, -5.2831, -5.2831, -5.2823, -5.2828, -5.283, -5.2831, -1.8888, -1.4708, -2.0448, -1.6023, -2.5354, -4.933, -4.9331, -4.9331, -4.9331, -4.9331, -4.9331, -4.9331, -4.9331, -4.9331, -4.933, -4.9331, -4.9331, -4.933, -4.9331, -4.9331, -4.933, -4.933, -4.9328, -4.9331, -4.933, -4.933, -4.9331, -4.9329, -4.933, -4.9329, -4.9322, -4.9327, -4.933, -4.9331, -2.0095, -1.8534, -1.4639, -2.5, -2.5, -2.4999, -3.5031, -4.8977, -4.8977, -4.8977, -4.8978, -4.8977, -4.8977, -4.8978, -4.8977, -4.8978, -4.8975, -4.8977, -4.8976, -4.8976, -4.8977, -4.8976, -4.8977, -4.8977, -4.8976, -4.8977, -4.8976, -4.8976, -4.8974, -4.8974, -4.8971, -4.8972, -4.8975, -4.8976, -1.3685, -2.6072, -2.6072, -2.6072, -2.6073, -2.6072, -2.3636, -3.6103, -3.6103, -3.6103, -3.6101, -3.6104, -5.005, -5.0049, -5.0049, -5.005, -5.005, -5.0049, -5.0049, -5.005, -5.0049, -5.0049, -5.0049, -5.0048, -5.0046, -5.0049, -5.0049, -5.0048, -5.0047, -5.0046, -5.0046, -5.0047, -5.0048, -5.0049, -1.8053, -1.8053, -2.0917, -2.7383, -2.7383, -2.7383, -2.7383, -3.7413, -2.4947, -3.7413, -3.7413, -5.136, -5.1361, -5.136, -5.1361, -5.136, -5.1361, -5.1359, -5.1361, -5.1361, -5.136, -5.136, -5.136, -5.1359, -5.1359, -5.136, -5.1359, -5.1358, -5.1358, -5.1357, -5.1357, -5.1359, -5.1359, -5.136], \"loglift\": [30.0, 29.0, 28.0, 27.0, 26.0, 25.0, 24.0, 23.0, 22.0, 21.0, 20.0, 19.0, 18.0, 17.0, 16.0, 15.0, 14.0, 13.0, 12.0, 11.0, 10.0, 9.0, 8.0, 7.0, 6.0, 5.0, 4.0, 3.0, 2.0, 1.0, 1.4653, 1.4309, 1.4223, 1.058, 0.8991, 0.5275, 0.5273, 0.4993, 0.4877, -0.5224, -0.678, -0.8358, -0.959, -1.7325, -1.7754, -1.7902, -1.7902, -1.8238, -1.8427, -1.8431, -1.9265, -1.9393, -1.9827, -2.0155, -2.0209, -2.1197, -2.1345, -2.1757, -2.2905, -2.3174, -2.416, -2.4325, -2.6417, -2.9336, 1.7564, 1.4989, 1.2689, 1.2578, 0.7676, 0.7279, 0.6169, 0.2215, -0.0176, -0.3874, -0.4237, -1.3951, -1.4925, -1.5353, -1.5502, -1.5502, -1.5837, -1.6026, -1.603, -1.6253, -1.6583, -1.6864, -1.6992, -1.7427, -1.8325, -1.8796, -1.8945, -1.9356, -2.0423, -2.0505, -2.4718, -2.2374, -2.3878, -2.4016, 1.8377, 1.6854, 1.595, 1.53, 1.0447, 0.768, 0.1755, 0.1521, -0.6872, -1.1448, -1.285, -1.3001, -1.3002, -1.3337, -1.3526, -1.3754, -1.3802, -1.3803, -1.4084, -1.4199, -1.4365, -1.4927, -1.5255, -1.5308, -1.5824, -1.6445, -1.6855, -1.7924, -1.926, -1.9424, -1.9874, -2.1516, -2.1379, -2.1653, 1.756, 1.0788, 1.0405, 0.9149, 0.8419, 0.8415, 0.6636, 0.3671, 0.2068, 0.0291, -0.184, -0.1891, -1.3482, -1.4457, -1.4886, -1.5034, -1.5034, -1.5369, -1.5833, -1.6116, -1.6231, -1.6396, -1.6524, -1.6959, -1.7287, -1.7857, -1.8328, -1.8477, -1.8888, -1.9956, -2.341, -2.1457, -2.6468, -2.0668, 1.888, 1.8188, 1.7999, 1.0694, 1.0566, 1.0131, 0.7134, 0.2837, -1.1343, -1.1772, -1.192, -1.192, -1.2448, -1.2671, -1.272, -1.2721, -1.3002, -1.3117, -1.4172, -1.4227, -1.4743, -1.5214, -1.5363, -1.5775, -1.6923, -1.7191, -1.7554, -1.8178, -1.8343, -1.8792, -2.4309, -2.0297, -2.3354, -2.0571, 2.0292, 2.0145, 2.0145, 1.3835, 1.0286, 0.9392, 0.4554, 0.2435, 0.2162, -0.0032, -0.609, -1.2586, -1.3498, -1.3687, -1.3915, -1.3963, -1.3965, -1.4244, -1.436, -1.4525, -1.4654, -1.5088, -1.5416, -1.5469, -1.5986, -1.6457, -1.8085, -1.8164, -1.8434, -1.8797, -2.555, -2.2379, -2.1677, -2.4597, 1.8855, 1.8085, 1.5776, 1.5267, 1.1021, -0.9084, -0.9514, -0.9662, -0.9662, -0.9997, -1.0186, -1.019, -1.0414, -1.0462, -1.0463, -1.0743, -1.0859, -1.1024, -1.1153, -1.1914, -1.1968, -1.2485, -1.3516, -1.4584, -1.4666, -1.4933, -1.5296, -1.5921, -1.6085, -1.8176, -2.2049, -1.8878, -2.1096, -1.8314, 1.8212, 1.4874, 1.3595, 1.3588, 1.3472, 1.0813, 0.1193, -0.8731, -0.916, -0.9308, -0.9308, -0.9643, -0.9832, -0.9836, -1.006, -1.0108, -1.0109, -1.0799, -1.1233, -1.156, -1.1615, -1.2131, -1.2602, -1.423, -1.4311, -1.4579, -1.4942, -1.5732, -1.6181, -1.7684, -2.1698, -1.8523, -1.7822, -1.7958, 2.316, 1.2797, 1.2515, 1.129, 1.0302, 0.4945, 0.3637, 0.3567, 0.3566, 0.2203, -0.1437, -0.286, -0.9804, -1.0232, -1.0715, -1.0905, -1.0909, -1.1132, -1.1182, -1.1577, -1.1871, -1.2305, -1.2633, -1.3824, -1.4235, -1.5303, -1.5652, -1.6013, -1.6639, -1.7253, -1.9597, -1.8757, -1.8895, -2.1815, 2.2193, 1.7759, 1.6499, 1.195, 0.9979, 0.8991, 0.541, 0.2404, 0.2326, -0.3015, -0.3379, -1.1691, -1.1691, -1.2216, -1.222, -1.2443, -1.2491, -1.2492, -1.2773, -1.2889, -1.3054, -1.3182, -1.3617, -1.4514, -1.5135, -1.6613, -1.6695, -1.7949, -1.8114, -2.0067, -2.0908, -2.0206, -2.3125, -2.0343]}, \"token.table\": {\"Topic\": [6, 7, 5, 7, 4, 5, 2, 3, 8, 3, 4, 3, 3, 4, 2, 10, 6, 5, 8, 1, 2, 9, 3, 4, 6, 1, 1, 6, 7, 1, 9, 10, 1, 2, 8, 6, 1, 3, 4, 5, 9, 1, 4, 7, 10, 1, 8, 9, 6, 8, 10, 3, 5, 2, 6, 4, 5, 1, 2, 4, 6, 9, 2, 4, 6, 8, 10, 3, 7, 9, 10, 5, 10, 2, 4, 9, 10, 1, 5, 6, 1, 2], \"Freq\": [0.46206480960780105, 0.46206480960780105, 0.26893963037134705, 0.5378792607426941, 0.2782661457573925, 0.556532291514785, 0.6234814597173698, 0.10391357661956162, 0.3117407298586849, 0.5929909972895577, 0.39532733152637184, 0.742418145192479, 0.5773933744841732, 0.19246445816139104, 0.5205629182051932, 0.2602814591025966, 0.6521300145526059, 0.28451590382968567, 0.5690318076593713, 0.3010068979947306, 0.3010068979947306, 0.3010068979947306, 0.3092852222421861, 0.3092852222421861, 0.3092852222421861, 0.6048494582781276, 0.4231825096158854, 0.14106083653862844, 0.4231825096158854, 0.6607449809208861, 0.09439214013155516, 0.09439214013155516, 0.28927240071201815, 0.28927240071201815, 0.28927240071201815, 0.6521307336014474, 0.1296780904823734, 0.1296780904823734, 0.6483904524118669, 0.1296780904823734, 0.7375127564965395, 0.16393549166593416, 0.16393549166593416, 0.49180647499780245, 0.16393549166593416, 0.2926306556199076, 0.2926306556199076, 0.2926306556199076, 0.22170298788962037, 0.22170298788962037, 0.44340597577924074, 0.561769850602192, 0.280884925301096, 0.6860140908004879, 0.17150352270012198, 0.30940274689650826, 0.6188054937930165, 0.4117851336889466, 0.13726171122964886, 0.13726171122964886, 0.13726171122964886, 0.13726171122964886, 0.17434069698113447, 0.34868139396226894, 0.17434069698113447, 0.34868139396226894, 0.6908186011387151, 0.23453318598009018, 0.23453318598009018, 0.23453318598009018, 0.23453318598009018, 0.6306062831905052, 0.3153031415952526, 0.2588803797232945, 0.2588803797232945, 0.2588803797232945, 0.2588803797232945, 0.5979018365818893, 0.19930061219396308, 0.6618201012061874, 0.30090949103957626, 0.6018189820791525], \"Term\": [\"actual\", \"actual\", \"announc\", \"announc\", \"canada\", \"canada\", \"canadian\", \"canadian\", \"canadian\", \"cdnpoli\", \"cdnpoli\", \"chang\", \"climat\", \"climat\", \"covid\", \"covid\", \"estat\", \"forget\", \"forget\", \"get\", \"get\", \"get\", \"invent\", \"invent\", \"invent\", \"leav\", \"life\", \"life\", \"life\", \"local\", \"local\", \"local\", \"pretti\", \"pretti\", \"pretti\", \"real\", \"report\", \"report\", \"report\", \"report\", \"say\", \"scientist\", \"scientist\", \"scientist\", \"scientist\", \"snow\", \"snow\", \"snow\", \"studi\", \"studi\", \"studi\", \"take\", \"take\", \"team\", \"team\", \"thing\", \"thing\", \"time\", \"time\", \"time\", \"time\", \"time\", \"toronto\", \"toronto\", \"toronto\", \"toronto\", \"tri\", \"turn\", \"turn\", \"turn\", \"turn\", \"warn\", \"warn\", \"win\", \"win\", \"win\", \"win\", \"woman\", \"woman\", \"wonder\", \"year\", \"year\"]}, \"R\": 30, \"lambda.step\": 0.01, \"plot.opts\": {\"xlab\": \"PC1\", \"ylab\": \"PC2\"}, \"topic.order\": [5, 7, 9, 1, 6, 2, 8, 3, 10, 4]};\n",
              "\n",
              "function LDAvis_load_lib(url, callback){\n",
              "  var s = document.createElement('script');\n",
              "  s.src = url;\n",
              "  s.async = true;\n",
              "  s.onreadystatechange = s.onload = callback;\n",
              "  s.onerror = function(){console.warn(\"failed to load library \" + url);};\n",
              "  document.getElementsByTagName(\"head\")[0].appendChild(s);\n",
              "}\n",
              "\n",
              "if(typeof(LDAvis) !== \"undefined\"){\n",
              "   // already loaded: just create the visualization\n",
              "   !function(LDAvis){\n",
              "       new LDAvis(\"#\" + \"ldavis_el2591401464159427042660175149\", ldavis_el2591401464159427042660175149_data);\n",
              "   }(LDAvis);\n",
              "}else if(typeof define === \"function\" && define.amd){\n",
              "   // require.js is available: use it to load d3/LDAvis\n",
              "   require.config({paths: {d3: \"https://d3js.org/d3.v5\"}});\n",
              "   require([\"d3\"], function(d3){\n",
              "      window.d3 = d3;\n",
              "      LDAvis_load_lib(\"https://cdn.jsdelivr.net/gh/bmabey/pyLDAvis@3.4.0/pyLDAvis/js/ldavis.v3.0.0.js\", function(){\n",
              "        new LDAvis(\"#\" + \"ldavis_el2591401464159427042660175149\", ldavis_el2591401464159427042660175149_data);\n",
              "      });\n",
              "    });\n",
              "}else{\n",
              "    // require.js not available: dynamically load d3 & LDAvis\n",
              "    LDAvis_load_lib(\"https://d3js.org/d3.v5.js\", function(){\n",
              "         LDAvis_load_lib(\"https://cdn.jsdelivr.net/gh/bmabey/pyLDAvis@3.4.0/pyLDAvis/js/ldavis.v3.0.0.js\", function(){\n",
              "                 new LDAvis(\"#\" + \"ldavis_el2591401464159427042660175149\", ldavis_el2591401464159427042660175149_data);\n",
              "            })\n",
              "         });\n",
              "}\n",
              "</script>"
            ]
          },
          "metadata": {},
          "execution_count": 42
        }
      ]
    },
    {
      "cell_type": "code",
      "source": [],
      "metadata": {
        "id": "WuVJ2U07JQIv"
      },
      "execution_count": null,
      "outputs": []
    },
    {
      "cell_type": "code",
      "source": [
        "#pyLDAvis.save_html(vis, 'lda.html')"
      ],
      "metadata": {
        "id": "JOOLU8tENctR"
      },
      "execution_count": null,
      "outputs": []
    },
    {
      "cell_type": "code",
      "source": [],
      "metadata": {
        "id": "zLpKa7RUNcyr"
      },
      "execution_count": null,
      "outputs": []
    },
    {
      "cell_type": "code",
      "source": [
        "pyLDAvis.save_html(vis, 'lda_TheBeaverton.html')"
      ],
      "metadata": {
        "colab": {
          "base_uri": "https://localhost:8080/"
        },
        "id": "-PQdjFszNc2r",
        "outputId": "10f79f08-5683-4f8e-9491-529f6d0e6fdb"
      },
      "execution_count": null,
      "outputs": [
        {
          "output_type": "stream",
          "name": "stderr",
          "text": [
            "/usr/local/lib/python3.10/dist-packages/ipykernel/ipkernel.py:283: DeprecationWarning: `should_run_async` will not call `transform_cell` automatically in the future. Please pass the result to `transformed_cell` argument and any exception that happen during thetransform in `preprocessing_exc_tuple` in IPython 7.17 and above.\n",
            "  and should_run_async(code)\n"
          ]
        }
      ]
    },
    {
      "cell_type": "code",
      "source": [],
      "metadata": {
        "id": "6-hK2SmGNc6V"
      },
      "execution_count": null,
      "outputs": []
    },
    {
      "cell_type": "code",
      "source": [],
      "metadata": {
        "id": "DrJuXiXmJQM8"
      },
      "execution_count": null,
      "outputs": []
    },
    {
      "cell_type": "code",
      "source": [],
      "metadata": {
        "id": "igwnj7mSHQFH"
      },
      "execution_count": null,
      "outputs": []
    },
    {
      "cell_type": "code",
      "source": [
        "beaverton_data = pd.read_excel('https://drive.google.com/uc?export=download&id=173t6vMYcbSED81IOmg0MbhHsrSFSiF21')"
      ],
      "metadata": {
        "colab": {
          "base_uri": "https://localhost:8080/"
        },
        "id": "xDg0a_fQ6D8t",
        "outputId": "30ae7df2-ab84-4511-b5e8-cac369888e25"
      },
      "execution_count": null,
      "outputs": [
        {
          "output_type": "stream",
          "name": "stderr",
          "text": [
            "/usr/local/lib/python3.10/dist-packages/ipykernel/ipkernel.py:283: DeprecationWarning: `should_run_async` will not call `transform_cell` automatically in the future. Please pass the result to `transformed_cell` argument and any exception that happen during thetransform in `preprocessing_exc_tuple` in IPython 7.17 and above.\n",
            "  and should_run_async(code)\n"
          ]
        }
      ]
    },
    {
      "cell_type": "code",
      "source": [
        "beaverton_data.head()"
      ],
      "metadata": {
        "colab": {
          "base_uri": "https://localhost:8080/",
          "height": 262
        },
        "id": "YqflMwJmGsLm",
        "outputId": "d09ebcc2-0d84-4e6a-d0cf-3e447bdd6e39"
      },
      "execution_count": null,
      "outputs": [
        {
          "output_type": "stream",
          "name": "stderr",
          "text": [
            "/usr/local/lib/python3.10/dist-packages/ipykernel/ipkernel.py:283: DeprecationWarning: `should_run_async` will not call `transform_cell` automatically in the future. Please pass the result to `transformed_cell` argument and any exception that happen during thetransform in `preprocessing_exc_tuple` in IPython 7.17 and above.\n",
            "  and should_run_async(code)\n"
          ]
        },
        {
          "output_type": "execute_result",
          "data": {
            "text/plain": [
              "   tweet-id                                         tweet-text   tweet-author  \\\n",
              "0         1  Heartwarming: This man reconnected with his mo...  The Beaverton   \n",
              "1         2  OP-ED: Big Pharma put all of the chips in the ...  The Beaverton   \n",
              "2         3  Make every day a 'talking to Americans about t...  The Beaverton   \n",
              "3         4  Single drop of sweat falls down local dad’s fa...  The Beaverton   \n",
              "4         5  100% of Canadians pretty sure they’ve had COVI...  The Beaverton   \n",
              "\n",
              "  tweet-timestamp-date  \n",
              "0           2022-03-05  \n",
              "1           2022-03-04  \n",
              "2           2022-03-04  \n",
              "3           2022-03-04  \n",
              "4           2022-03-03  "
            ],
            "text/html": [
              "\n",
              "  <div id=\"df-e2457b1a-e28d-44cd-a3cd-e28cf03cbf42\">\n",
              "    <div class=\"colab-df-container\">\n",
              "      <div>\n",
              "<style scoped>\n",
              "    .dataframe tbody tr th:only-of-type {\n",
              "        vertical-align: middle;\n",
              "    }\n",
              "\n",
              "    .dataframe tbody tr th {\n",
              "        vertical-align: top;\n",
              "    }\n",
              "\n",
              "    .dataframe thead th {\n",
              "        text-align: right;\n",
              "    }\n",
              "</style>\n",
              "<table border=\"1\" class=\"dataframe\">\n",
              "  <thead>\n",
              "    <tr style=\"text-align: right;\">\n",
              "      <th></th>\n",
              "      <th>tweet-id</th>\n",
              "      <th>tweet-text</th>\n",
              "      <th>tweet-author</th>\n",
              "      <th>tweet-timestamp-date</th>\n",
              "    </tr>\n",
              "  </thead>\n",
              "  <tbody>\n",
              "    <tr>\n",
              "      <th>0</th>\n",
              "      <td>1</td>\n",
              "      <td>Heartwarming: This man reconnected with his mo...</td>\n",
              "      <td>The Beaverton</td>\n",
              "      <td>2022-03-05</td>\n",
              "    </tr>\n",
              "    <tr>\n",
              "      <th>1</th>\n",
              "      <td>2</td>\n",
              "      <td>OP-ED: Big Pharma put all of the chips in the ...</td>\n",
              "      <td>The Beaverton</td>\n",
              "      <td>2022-03-04</td>\n",
              "    </tr>\n",
              "    <tr>\n",
              "      <th>2</th>\n",
              "      <td>3</td>\n",
              "      <td>Make every day a 'talking to Americans about t...</td>\n",
              "      <td>The Beaverton</td>\n",
              "      <td>2022-03-04</td>\n",
              "    </tr>\n",
              "    <tr>\n",
              "      <th>3</th>\n",
              "      <td>4</td>\n",
              "      <td>Single drop of sweat falls down local dad’s fa...</td>\n",
              "      <td>The Beaverton</td>\n",
              "      <td>2022-03-04</td>\n",
              "    </tr>\n",
              "    <tr>\n",
              "      <th>4</th>\n",
              "      <td>5</td>\n",
              "      <td>100% of Canadians pretty sure they’ve had COVI...</td>\n",
              "      <td>The Beaverton</td>\n",
              "      <td>2022-03-03</td>\n",
              "    </tr>\n",
              "  </tbody>\n",
              "</table>\n",
              "</div>\n",
              "      <button class=\"colab-df-convert\" onclick=\"convertToInteractive('df-e2457b1a-e28d-44cd-a3cd-e28cf03cbf42')\"\n",
              "              title=\"Convert this dataframe to an interactive table.\"\n",
              "              style=\"display:none;\">\n",
              "        \n",
              "  <svg xmlns=\"http://www.w3.org/2000/svg\" height=\"24px\"viewBox=\"0 0 24 24\"\n",
              "       width=\"24px\">\n",
              "    <path d=\"M0 0h24v24H0V0z\" fill=\"none\"/>\n",
              "    <path d=\"M18.56 5.44l.94 2.06.94-2.06 2.06-.94-2.06-.94-.94-2.06-.94 2.06-2.06.94zm-11 1L8.5 8.5l.94-2.06 2.06-.94-2.06-.94L8.5 2.5l-.94 2.06-2.06.94zm10 10l.94 2.06.94-2.06 2.06-.94-2.06-.94-.94-2.06-.94 2.06-2.06.94z\"/><path d=\"M17.41 7.96l-1.37-1.37c-.4-.4-.92-.59-1.43-.59-.52 0-1.04.2-1.43.59L10.3 9.45l-7.72 7.72c-.78.78-.78 2.05 0 2.83L4 21.41c.39.39.9.59 1.41.59.51 0 1.02-.2 1.41-.59l7.78-7.78 2.81-2.81c.8-.78.8-2.07 0-2.86zM5.41 20L4 18.59l7.72-7.72 1.47 1.35L5.41 20z\"/>\n",
              "  </svg>\n",
              "      </button>\n",
              "      \n",
              "  <style>\n",
              "    .colab-df-container {\n",
              "      display:flex;\n",
              "      flex-wrap:wrap;\n",
              "      gap: 12px;\n",
              "    }\n",
              "\n",
              "    .colab-df-convert {\n",
              "      background-color: #E8F0FE;\n",
              "      border: none;\n",
              "      border-radius: 50%;\n",
              "      cursor: pointer;\n",
              "      display: none;\n",
              "      fill: #1967D2;\n",
              "      height: 32px;\n",
              "      padding: 0 0 0 0;\n",
              "      width: 32px;\n",
              "    }\n",
              "\n",
              "    .colab-df-convert:hover {\n",
              "      background-color: #E2EBFA;\n",
              "      box-shadow: 0px 1px 2px rgba(60, 64, 67, 0.3), 0px 1px 3px 1px rgba(60, 64, 67, 0.15);\n",
              "      fill: #174EA6;\n",
              "    }\n",
              "\n",
              "    [theme=dark] .colab-df-convert {\n",
              "      background-color: #3B4455;\n",
              "      fill: #D2E3FC;\n",
              "    }\n",
              "\n",
              "    [theme=dark] .colab-df-convert:hover {\n",
              "      background-color: #434B5C;\n",
              "      box-shadow: 0px 1px 3px 1px rgba(0, 0, 0, 0.15);\n",
              "      filter: drop-shadow(0px 1px 2px rgba(0, 0, 0, 0.3));\n",
              "      fill: #FFFFFF;\n",
              "    }\n",
              "  </style>\n",
              "\n",
              "      <script>\n",
              "        const buttonEl =\n",
              "          document.querySelector('#df-e2457b1a-e28d-44cd-a3cd-e28cf03cbf42 button.colab-df-convert');\n",
              "        buttonEl.style.display =\n",
              "          google.colab.kernel.accessAllowed ? 'block' : 'none';\n",
              "\n",
              "        async function convertToInteractive(key) {\n",
              "          const element = document.querySelector('#df-e2457b1a-e28d-44cd-a3cd-e28cf03cbf42');\n",
              "          const dataTable =\n",
              "            await google.colab.kernel.invokeFunction('convertToInteractive',\n",
              "                                                     [key], {});\n",
              "          if (!dataTable) return;\n",
              "\n",
              "          const docLinkHtml = 'Like what you see? Visit the ' +\n",
              "            '<a target=\"_blank\" href=https://colab.research.google.com/notebooks/data_table.ipynb>data table notebook</a>'\n",
              "            + ' to learn more about interactive tables.';\n",
              "          element.innerHTML = '';\n",
              "          dataTable['output_type'] = 'display_data';\n",
              "          await google.colab.output.renderOutput(dataTable, element);\n",
              "          const docLink = document.createElement('div');\n",
              "          docLink.innerHTML = docLinkHtml;\n",
              "          element.appendChild(docLink);\n",
              "        }\n",
              "      </script>\n",
              "    </div>\n",
              "  </div>\n",
              "  "
            ]
          },
          "metadata": {},
          "execution_count": 24
        }
      ]
    },
    {
      "cell_type": "code",
      "source": [
        "def lemmatize_stemming(text):\n",
        "    stemmer = SnowballStemmer(\"english\")\n",
        "    return stemmer.stem(WordNetLemmatizer().lemmatize(text, pos='v'))\n",
        "\n",
        "def preprocess(text):\n",
        "    result = []\n",
        "    for token in gensim.utils.simple_preprocess(text):\n",
        "        if token not in gensim.parsing.preprocessing.STOPWORDS and len(token) > 3:\n",
        "            result.append(lemmatize_stemming(token))\n",
        "    return result\n",
        "\n",
        "processed_docs = beaverton_data['tweet-text'].map(preprocess)"
      ],
      "metadata": {
        "colab": {
          "base_uri": "https://localhost:8080/"
        },
        "id": "kDk6nasrGsPe",
        "outputId": "5cd98ec4-9b88-4642-ffcc-277213f241bb"
      },
      "execution_count": null,
      "outputs": [
        {
          "output_type": "stream",
          "name": "stderr",
          "text": [
            "/usr/local/lib/python3.10/dist-packages/ipykernel/ipkernel.py:283: DeprecationWarning: `should_run_async` will not call `transform_cell` automatically in the future. Please pass the result to `transformed_cell` argument and any exception that happen during thetransform in `preprocessing_exc_tuple` in IPython 7.17 and above.\n",
            "  and should_run_async(code)\n"
          ]
        }
      ]
    },
    {
      "cell_type": "code",
      "source": [
        "dictionary = gensim.corpora.Dictionary(processed_docs)\n",
        "\n",
        "#dictionary.filter_extremes(no_below=5, no_above=0.8)\n",
        "# 更宽松的过滤条件\n",
        "dictionary.filter_extremes(no_below=3, no_above=0.9)\n",
        "\n",
        "# 或者，完全不进行过滤\n",
        "#dictionary.filter_extremes(no_below=1, no_above=1.0)\n",
        "\n",
        "bow_corpus = [dictionary.doc2bow(doc) for doc in processed_docs]"
      ],
      "metadata": {
        "id": "u_IXkJksHMIE"
      },
      "execution_count": null,
      "outputs": []
    },
    {
      "cell_type": "code",
      "source": [],
      "metadata": {
        "id": "yl70kqkQHMMJ"
      },
      "execution_count": null,
      "outputs": []
    },
    {
      "cell_type": "code",
      "source": [],
      "metadata": {
        "id": "wQirgxYiGsT4"
      },
      "execution_count": null,
      "outputs": []
    },
    {
      "cell_type": "code",
      "source": [],
      "metadata": {
        "id": "phhoYiLYGsXk"
      },
      "execution_count": null,
      "outputs": []
    },
    {
      "cell_type": "code",
      "source": [],
      "metadata": {
        "id": "2zBvRk6455HD"
      },
      "execution_count": null,
      "outputs": []
    },
    {
      "cell_type": "code",
      "source": [],
      "metadata": {
        "id": "A_VifhnE55OJ"
      },
      "execution_count": null,
      "outputs": []
    },
    {
      "cell_type": "markdown",
      "source": [
        "The URLs below point to XLSX files containing tweets from 2022 from the following Twitter accounts:\n",
        "- [@TheBeaverton](https://twitter.com/TheBeaverton)\n",
        "- [@BillNye](https://twitter.com/BillNye) (Bill Nye)\n",
        "- [@GeorgeTakei](https://twitter.com/GeorgeTakei) (George Takei)\n",
        "- [@MeCookieMonster](https://twitter.com/MeCookieMonster) (Cookie Monster)\n",
        "- [@neiltyson](https://twitter.com/neiltyson) (Neil deGrasse Tyson)\n",
        "- [@StephenKing](https://twitter.com/StephenKing) (Stephen King)\n",
        "- [@22_Minutes](https://twitter.com/22_Minutes) (This Hour Has 22 Minutes)\n",
        "\n",
        "*If you want local copies of these data files, you can download each by Ctrl+clicking (Windows) or Command+clicking (Mac) the links below.*"
      ],
      "metadata": {
        "id": "6nl9y0mqNlfL"
      }
    },
    {
      "cell_type": "code",
      "source": [
        "beaverton_url = 'https://drive.google.com/uc?export=download&id=173t6vMYcbSED81IOmg0MbhHsrSFSiF21'\n",
        "billnye_url = 'https://drive.google.com/uc?export=download&id=1w1Xm-TQfcPfGICM_8_LQiWSqzf8WUk8N'\n",
        "georgetakei_url = 'https://drive.google.com/uc?export=download&id=1_Ck9S2aW9cBQQrqoTiNLRmvRu4WvPn8y'\n",
        "cookiemonster_url = 'https://drive.google.com/uc?export=download&id=10Av-HVklZA4Su3TcvSpxU6nS8At9mJ05'\n",
        "neiltyson_url = 'https://drive.google.com/uc?export=download&id=1GSKxxldXe--HE4gSYAEn2ip2vS4bXKMM'\n",
        "stephenking_url = 'https://drive.google.com/uc?export=download&id=1Oq2pUCv0d7x4tDKX1E-3hgdSAuXcZtVU'\n",
        "twentytwo_minutes_url = 'https://drive.google.com/uc?export=download&id=1B2zwAJYdw_9skXAFbn7QIs6uyIikje5W'"
      ],
      "metadata": {
        "id": "WZRlfsHpNR6f"
      },
      "execution_count": null,
      "outputs": []
    },
    {
      "cell_type": "markdown",
      "source": [
        "## Datathon Questions\n",
        "Attempt the first 2 questions and submit your answers for full credit.\n",
        "\n",
        "\n",
        "Q1. What does each of the accounts usually tweet about?\n",
        "\n",
        "Q2. Pick any pair of accounts and compare them. In what ways is their Twitter behaviour and content similar/different?\n",
        "\n",
        "Q3. Try building an LDA topic model using tweets from all of the files together. What’s the best set of topics you can find that seem to capture the different things discussed by these accounts? How did you process the text? What parameters did you use?\n",
        "\n"
      ],
      "metadata": {
        "id": "Q1CuS314ZNPG"
      }
    },
    {
      "cell_type": "code",
      "source": [],
      "metadata": {
        "id": "VzTEbXd25kBV"
      },
      "execution_count": null,
      "outputs": []
    },
    {
      "cell_type": "code",
      "source": [
        "from nltk.corpus import stopwords"
      ],
      "metadata": {
        "id": "K3KgsOD15mdH"
      },
      "execution_count": null,
      "outputs": []
    },
    {
      "cell_type": "code",
      "source": [],
      "metadata": {
        "id": "oqEbEfhfFuog"
      },
      "execution_count": null,
      "outputs": []
    },
    {
      "cell_type": "code",
      "source": [],
      "metadata": {
        "id": "nOgeKkYMFu1-"
      },
      "execution_count": null,
      "outputs": []
    },
    {
      "cell_type": "code",
      "source": [],
      "metadata": {
        "id": "7JNiQKuqFu6h"
      },
      "execution_count": null,
      "outputs": []
    },
    {
      "cell_type": "code",
      "source": [
        "pyLDAvis.save_html(vis, '/content/lda_TheBeaverton.html')"
      ],
      "metadata": {
        "colab": {
          "base_uri": "https://localhost:8080/"
        },
        "id": "HUs3V6nhFu-B",
        "outputId": "23e16f42-d91f-4dd9-d250-be703900507e"
      },
      "execution_count": null,
      "outputs": [
        {
          "output_type": "stream",
          "name": "stderr",
          "text": [
            "/usr/local/lib/python3.10/dist-packages/ipykernel/ipkernel.py:283: DeprecationWarning: `should_run_async` will not call `transform_cell` automatically in the future. Please pass the result to `transformed_cell` argument and any exception that happen during thetransform in `preprocessing_exc_tuple` in IPython 7.17 and above.\n",
            "  and should_run_async(code)\n"
          ]
        }
      ]
    },
    {
      "cell_type": "code",
      "source": [],
      "metadata": {
        "id": "9cXShWW-YcsW"
      },
      "execution_count": null,
      "outputs": []
    },
    {
      "cell_type": "markdown",
      "source": [
        "beaverton_data"
      ],
      "metadata": {
        "id": "QS7WGbr0Z_sE"
      }
    },
    {
      "cell_type": "markdown",
      "source": [],
      "metadata": {
        "id": "jlGz48SXnSvH"
      }
    },
    {
      "cell_type": "code",
      "source": [
        "beaverton_data = pd.read_excel('https://drive.google.com/uc?export=download&id=173t6vMYcbSED81IOmg0MbhHsrSFSiF21')"
      ],
      "metadata": {
        "id": "lp71KuYCFvH8",
        "colab": {
          "base_uri": "https://localhost:8080/"
        },
        "outputId": "151d3f51-2150-47ec-c69d-e74d802ff3e9"
      },
      "execution_count": null,
      "outputs": [
        {
          "output_type": "stream",
          "name": "stderr",
          "text": [
            "/usr/local/lib/python3.10/dist-packages/ipykernel/ipkernel.py:283: DeprecationWarning: `should_run_async` will not call `transform_cell` automatically in the future. Please pass the result to `transformed_cell` argument and any exception that happen during thetransform in `preprocessing_exc_tuple` in IPython 7.17 and above.\n",
            "  and should_run_async(code)\n"
          ]
        }
      ]
    },
    {
      "cell_type": "code",
      "source": [
        "beaverton_data.head()"
      ],
      "metadata": {
        "id": "XfuJYGHHFvLp",
        "colab": {
          "base_uri": "https://localhost:8080/",
          "height": 262
        },
        "outputId": "251fa25c-5638-4a55-ab6a-d3029338bddc"
      },
      "execution_count": null,
      "outputs": [
        {
          "output_type": "stream",
          "name": "stderr",
          "text": [
            "/usr/local/lib/python3.10/dist-packages/ipykernel/ipkernel.py:283: DeprecationWarning: `should_run_async` will not call `transform_cell` automatically in the future. Please pass the result to `transformed_cell` argument and any exception that happen during thetransform in `preprocessing_exc_tuple` in IPython 7.17 and above.\n",
            "  and should_run_async(code)\n"
          ]
        },
        {
          "output_type": "execute_result",
          "data": {
            "text/plain": [
              "   tweet-id                                         tweet-text   tweet-author  \\\n",
              "0         1  Heartwarming: This man reconnected with his mo...  The Beaverton   \n",
              "1         2  OP-ED: Big Pharma put all of the chips in the ...  The Beaverton   \n",
              "2         3  Make every day a 'talking to Americans about t...  The Beaverton   \n",
              "3         4  Single drop of sweat falls down local dad’s fa...  The Beaverton   \n",
              "4         5  100% of Canadians pretty sure they’ve had COVI...  The Beaverton   \n",
              "\n",
              "  tweet-timestamp-date  \n",
              "0           2022-03-05  \n",
              "1           2022-03-04  \n",
              "2           2022-03-04  \n",
              "3           2022-03-04  \n",
              "4           2022-03-03  "
            ],
            "text/html": [
              "\n",
              "  <div id=\"df-17b46ba6-bb44-4800-ab35-7a786cb5f400\">\n",
              "    <div class=\"colab-df-container\">\n",
              "      <div>\n",
              "<style scoped>\n",
              "    .dataframe tbody tr th:only-of-type {\n",
              "        vertical-align: middle;\n",
              "    }\n",
              "\n",
              "    .dataframe tbody tr th {\n",
              "        vertical-align: top;\n",
              "    }\n",
              "\n",
              "    .dataframe thead th {\n",
              "        text-align: right;\n",
              "    }\n",
              "</style>\n",
              "<table border=\"1\" class=\"dataframe\">\n",
              "  <thead>\n",
              "    <tr style=\"text-align: right;\">\n",
              "      <th></th>\n",
              "      <th>tweet-id</th>\n",
              "      <th>tweet-text</th>\n",
              "      <th>tweet-author</th>\n",
              "      <th>tweet-timestamp-date</th>\n",
              "    </tr>\n",
              "  </thead>\n",
              "  <tbody>\n",
              "    <tr>\n",
              "      <th>0</th>\n",
              "      <td>1</td>\n",
              "      <td>Heartwarming: This man reconnected with his mo...</td>\n",
              "      <td>The Beaverton</td>\n",
              "      <td>2022-03-05</td>\n",
              "    </tr>\n",
              "    <tr>\n",
              "      <th>1</th>\n",
              "      <td>2</td>\n",
              "      <td>OP-ED: Big Pharma put all of the chips in the ...</td>\n",
              "      <td>The Beaverton</td>\n",
              "      <td>2022-03-04</td>\n",
              "    </tr>\n",
              "    <tr>\n",
              "      <th>2</th>\n",
              "      <td>3</td>\n",
              "      <td>Make every day a 'talking to Americans about t...</td>\n",
              "      <td>The Beaverton</td>\n",
              "      <td>2022-03-04</td>\n",
              "    </tr>\n",
              "    <tr>\n",
              "      <th>3</th>\n",
              "      <td>4</td>\n",
              "      <td>Single drop of sweat falls down local dad’s fa...</td>\n",
              "      <td>The Beaverton</td>\n",
              "      <td>2022-03-04</td>\n",
              "    </tr>\n",
              "    <tr>\n",
              "      <th>4</th>\n",
              "      <td>5</td>\n",
              "      <td>100% of Canadians pretty sure they’ve had COVI...</td>\n",
              "      <td>The Beaverton</td>\n",
              "      <td>2022-03-03</td>\n",
              "    </tr>\n",
              "  </tbody>\n",
              "</table>\n",
              "</div>\n",
              "      <button class=\"colab-df-convert\" onclick=\"convertToInteractive('df-17b46ba6-bb44-4800-ab35-7a786cb5f400')\"\n",
              "              title=\"Convert this dataframe to an interactive table.\"\n",
              "              style=\"display:none;\">\n",
              "        \n",
              "  <svg xmlns=\"http://www.w3.org/2000/svg\" height=\"24px\"viewBox=\"0 0 24 24\"\n",
              "       width=\"24px\">\n",
              "    <path d=\"M0 0h24v24H0V0z\" fill=\"none\"/>\n",
              "    <path d=\"M18.56 5.44l.94 2.06.94-2.06 2.06-.94-2.06-.94-.94-2.06-.94 2.06-2.06.94zm-11 1L8.5 8.5l.94-2.06 2.06-.94-2.06-.94L8.5 2.5l-.94 2.06-2.06.94zm10 10l.94 2.06.94-2.06 2.06-.94-2.06-.94-.94-2.06-.94 2.06-2.06.94z\"/><path d=\"M17.41 7.96l-1.37-1.37c-.4-.4-.92-.59-1.43-.59-.52 0-1.04.2-1.43.59L10.3 9.45l-7.72 7.72c-.78.78-.78 2.05 0 2.83L4 21.41c.39.39.9.59 1.41.59.51 0 1.02-.2 1.41-.59l7.78-7.78 2.81-2.81c.8-.78.8-2.07 0-2.86zM5.41 20L4 18.59l7.72-7.72 1.47 1.35L5.41 20z\"/>\n",
              "  </svg>\n",
              "      </button>\n",
              "      \n",
              "  <style>\n",
              "    .colab-df-container {\n",
              "      display:flex;\n",
              "      flex-wrap:wrap;\n",
              "      gap: 12px;\n",
              "    }\n",
              "\n",
              "    .colab-df-convert {\n",
              "      background-color: #E8F0FE;\n",
              "      border: none;\n",
              "      border-radius: 50%;\n",
              "      cursor: pointer;\n",
              "      display: none;\n",
              "      fill: #1967D2;\n",
              "      height: 32px;\n",
              "      padding: 0 0 0 0;\n",
              "      width: 32px;\n",
              "    }\n",
              "\n",
              "    .colab-df-convert:hover {\n",
              "      background-color: #E2EBFA;\n",
              "      box-shadow: 0px 1px 2px rgba(60, 64, 67, 0.3), 0px 1px 3px 1px rgba(60, 64, 67, 0.15);\n",
              "      fill: #174EA6;\n",
              "    }\n",
              "\n",
              "    [theme=dark] .colab-df-convert {\n",
              "      background-color: #3B4455;\n",
              "      fill: #D2E3FC;\n",
              "    }\n",
              "\n",
              "    [theme=dark] .colab-df-convert:hover {\n",
              "      background-color: #434B5C;\n",
              "      box-shadow: 0px 1px 3px 1px rgba(0, 0, 0, 0.15);\n",
              "      filter: drop-shadow(0px 1px 2px rgba(0, 0, 0, 0.3));\n",
              "      fill: #FFFFFF;\n",
              "    }\n",
              "  </style>\n",
              "\n",
              "      <script>\n",
              "        const buttonEl =\n",
              "          document.querySelector('#df-17b46ba6-bb44-4800-ab35-7a786cb5f400 button.colab-df-convert');\n",
              "        buttonEl.style.display =\n",
              "          google.colab.kernel.accessAllowed ? 'block' : 'none';\n",
              "\n",
              "        async function convertToInteractive(key) {\n",
              "          const element = document.querySelector('#df-17b46ba6-bb44-4800-ab35-7a786cb5f400');\n",
              "          const dataTable =\n",
              "            await google.colab.kernel.invokeFunction('convertToInteractive',\n",
              "                                                     [key], {});\n",
              "          if (!dataTable) return;\n",
              "\n",
              "          const docLinkHtml = 'Like what you see? Visit the ' +\n",
              "            '<a target=\"_blank\" href=https://colab.research.google.com/notebooks/data_table.ipynb>data table notebook</a>'\n",
              "            + ' to learn more about interactive tables.';\n",
              "          element.innerHTML = '';\n",
              "          dataTable['output_type'] = 'display_data';\n",
              "          await google.colab.output.renderOutput(dataTable, element);\n",
              "          const docLink = document.createElement('div');\n",
              "          docLink.innerHTML = docLinkHtml;\n",
              "          element.appendChild(docLink);\n",
              "        }\n",
              "      </script>\n",
              "    </div>\n",
              "  </div>\n",
              "  "
            ]
          },
          "metadata": {},
          "execution_count": 250
        }
      ]
    },
    {
      "cell_type": "code",
      "source": [
        "def lemmatize_stemming(text):\n",
        "    stemmer = SnowballStemmer(\"english\")\n",
        "    return stemmer.stem(WordNetLemmatizer().lemmatize(text, pos='v'))\n",
        "\n",
        "def preprocess(text):\n",
        "    result = []\n",
        "    for token in gensim.utils.simple_preprocess(text):\n",
        "        if token not in gensim.parsing.preprocessing.STOPWORDS and len(token) > 3:\n",
        "            result.append(lemmatize_stemming(token))\n",
        "    return result\n",
        "\n",
        "processed_docs8 = beaverton_data['tweet-text'].map(preprocess)"
      ],
      "metadata": {
        "colab": {
          "base_uri": "https://localhost:8080/"
        },
        "id": "tZwVfXErZ8Qz",
        "outputId": "b7bfbb76-26de-4aac-feb1-8564289920d6"
      },
      "execution_count": null,
      "outputs": [
        {
          "output_type": "stream",
          "name": "stderr",
          "text": [
            "/usr/local/lib/python3.10/dist-packages/ipykernel/ipkernel.py:283: DeprecationWarning: `should_run_async` will not call `transform_cell` automatically in the future. Please pass the result to `transformed_cell` argument and any exception that happen during thetransform in `preprocessing_exc_tuple` in IPython 7.17 and above.\n",
            "  and should_run_async(code)\n"
          ]
        }
      ]
    },
    {
      "cell_type": "code",
      "source": [
        "print(processed_docs8[:5])"
      ],
      "metadata": {
        "colab": {
          "base_uri": "https://localhost:8080/"
        },
        "id": "eojtiEIoZ8Uj",
        "outputId": "d4d4ca7f-c344-4b58-fc40-ce6fc7062ba2"
      },
      "execution_count": null,
      "outputs": [
        {
          "output_type": "stream",
          "name": "stdout",
          "text": [
            "0                          [heartwarm, reconnect, tax]\n",
            "1                               [pharma, chip, vaccin]\n",
            "2      [talk, american, healthcar, level, smug, shirt]\n",
            "3    [singl, drop, sweat, fall, local, face, tell, ...\n",
            "4                      [canadian, pretti, sure, covid]\n",
            "Name: tweet-text, dtype: object\n"
          ]
        },
        {
          "output_type": "stream",
          "name": "stderr",
          "text": [
            "/usr/local/lib/python3.10/dist-packages/ipykernel/ipkernel.py:283: DeprecationWarning: `should_run_async` will not call `transform_cell` automatically in the future. Please pass the result to `transformed_cell` argument and any exception that happen during thetransform in `preprocessing_exc_tuple` in IPython 7.17 and above.\n",
            "  and should_run_async(code)\n"
          ]
        }
      ]
    },
    {
      "cell_type": "code",
      "source": [],
      "metadata": {
        "id": "sL-RiOvR7lKs"
      },
      "execution_count": null,
      "outputs": []
    },
    {
      "cell_type": "code",
      "source": [
        "dictionary = gensim.corpora.Dictionary(processed_docs8)\n",
        "\n",
        "dictionary.filter_extremes(no_below=3, no_above=0.9)\n",
        "\n",
        "#dictionary.filter_extremes(no_below=1, no_above=1.0)\n",
        "\n",
        "bow_corpus = [dictionary.doc2bow(doc) for doc in processed_docs8]"
      ],
      "metadata": {
        "colab": {
          "base_uri": "https://localhost:8080/"
        },
        "id": "Nir8ijZOZ8Yh",
        "outputId": "21a87eb8-e14c-4937-882d-e9b95fc056ae"
      },
      "execution_count": null,
      "outputs": [
        {
          "output_type": "stream",
          "name": "stderr",
          "text": [
            "/usr/local/lib/python3.10/dist-packages/ipykernel/ipkernel.py:283: DeprecationWarning: `should_run_async` will not call `transform_cell` automatically in the future. Please pass the result to `transformed_cell` argument and any exception that happen during thetransform in `preprocessing_exc_tuple` in IPython 7.17 and above.\n",
            "  and should_run_async(code)\n"
          ]
        }
      ]
    },
    {
      "cell_type": "code",
      "source": [
        "print('Number of unique tokens: %d' % len(dictionary))\n",
        "print('Number of documents: %d' % len(bow_corpus))"
      ],
      "metadata": {
        "colab": {
          "base_uri": "https://localhost:8080/"
        },
        "id": "48eFsn7CZ8cn",
        "outputId": "5248176b-3206-478d-c40a-63b9b15655fb"
      },
      "execution_count": null,
      "outputs": [
        {
          "output_type": "stream",
          "name": "stdout",
          "text": [
            "Number of unique tokens: 34\n",
            "Number of documents: 122\n"
          ]
        },
        {
          "output_type": "stream",
          "name": "stderr",
          "text": [
            "/usr/local/lib/python3.10/dist-packages/ipykernel/ipkernel.py:283: DeprecationWarning: `should_run_async` will not call `transform_cell` automatically in the future. Please pass the result to `transformed_cell` argument and any exception that happen during thetransform in `preprocessing_exc_tuple` in IPython 7.17 and above.\n",
            "  and should_run_async(code)\n"
          ]
        }
      ]
    },
    {
      "cell_type": "code",
      "source": [
        "lda_model8 = gensim.models.LdaMulticore(bow_corpus, num_topics=10, id2word=dictionary, passes=2, workers=2)"
      ],
      "metadata": {
        "colab": {
          "base_uri": "https://localhost:8080/"
        },
        "id": "H9-5g2dNZ8hG",
        "outputId": "31d80362-5812-4280-9bd1-2518d95fd843"
      },
      "execution_count": null,
      "outputs": [
        {
          "output_type": "stream",
          "name": "stderr",
          "text": [
            "/usr/local/lib/python3.10/dist-packages/ipykernel/ipkernel.py:283: DeprecationWarning: `should_run_async` will not call `transform_cell` automatically in the future. Please pass the result to `transformed_cell` argument and any exception that happen during thetransform in `preprocessing_exc_tuple` in IPython 7.17 and above.\n",
            "  and should_run_async(code)\n",
            "WARNING:gensim.models.ldamulticore:too few updates, training might not converge; consider increasing the number of passes or iterations to improve accuracy\n"
          ]
        }
      ]
    },
    {
      "cell_type": "code",
      "source": [
        "for idx, topic in lda_model8.print_topics(-1):\n",
        "    print('Topic: {} \\nWords: {}'.format(idx, topic))"
      ],
      "metadata": {
        "colab": {
          "base_uri": "https://localhost:8080/"
        },
        "id": "Fjy5G_b0Z8kz",
        "outputId": "3309e9aa-a756-4b96-e57f-3fa95107490a"
      },
      "execution_count": null,
      "outputs": [
        {
          "output_type": "stream",
          "name": "stdout",
          "text": [
            "Topic: 0 \n",
            "Words: 0.318*\"canadian\" + 0.190*\"team\" + 0.099*\"take\" + 0.052*\"toronto\" + 0.052*\"studi\" + 0.052*\"tri\" + 0.052*\"announc\" + 0.019*\"local\" + 0.019*\"time\" + 0.019*\"get\"\n",
            "Topic: 1 \n",
            "Words: 0.116*\"time\" + 0.116*\"canadian\" + 0.116*\"forget\" + 0.099*\"estat\" + 0.099*\"real\" + 0.099*\"leav\" + 0.061*\"toronto\" + 0.061*\"get\" + 0.061*\"covid\" + 0.022*\"scientist\"\n",
            "Topic: 2 \n",
            "Words: 0.147*\"actual\" + 0.108*\"time\" + 0.108*\"year\" + 0.070*\"invent\" + 0.070*\"scientist\" + 0.054*\"say\" + 0.043*\"local\" + 0.043*\"thing\" + 0.043*\"announc\" + 0.043*\"real\"\n",
            "Topic: 3 \n",
            "Words: 0.363*\"canada\" + 0.227*\"cdnpoli\" + 0.107*\"covid\" + 0.010*\"toronto\" + 0.010*\"local\" + 0.010*\"report\" + 0.010*\"studi\" + 0.010*\"life\" + 0.010*\"actual\" + 0.010*\"scientist\"\n",
            "Topic: 4 \n",
            "Words: 0.144*\"chang\" + 0.110*\"pretti\" + 0.110*\"say\" + 0.100*\"climat\" + 0.083*\"covid\" + 0.071*\"snow\" + 0.067*\"canada\" + 0.043*\"tri\" + 0.043*\"team\" + 0.043*\"win\"\n",
            "Topic: 5 \n",
            "Words: 0.187*\"scientist\" + 0.140*\"toronto\" + 0.138*\"wonder\" + 0.112*\"win\" + 0.097*\"report\" + 0.058*\"life\" + 0.058*\"time\" + 0.030*\"team\" + 0.028*\"climat\" + 0.025*\"canadian\"\n",
            "Topic: 6 \n",
            "Words: 0.281*\"local\" + 0.259*\"report\" + 0.066*\"warn\" + 0.066*\"get\" + 0.066*\"climat\" + 0.045*\"woman\" + 0.040*\"life\" + 0.040*\"canada\" + 0.040*\"chang\" + 0.010*\"toronto\"\n",
            "Topic: 7 \n",
            "Words: 0.346*\"studi\" + 0.118*\"cdnpoli\" + 0.093*\"leav\" + 0.052*\"local\" + 0.046*\"chang\" + 0.045*\"climat\" + 0.034*\"canada\" + 0.034*\"report\" + 0.020*\"wonder\" + 0.008*\"life\"\n",
            "Topic: 8 \n",
            "Words: 0.222*\"life\" + 0.141*\"woman\" + 0.110*\"thing\" + 0.094*\"time\" + 0.058*\"turn\" + 0.058*\"take\" + 0.058*\"forget\" + 0.058*\"toronto\" + 0.030*\"canada\" + 0.030*\"cdnpoli\"\n",
            "Topic: 9 \n",
            "Words: 0.148*\"local\" + 0.115*\"turn\" + 0.060*\"tri\" + 0.060*\"announc\" + 0.060*\"snow\" + 0.060*\"invent\" + 0.060*\"win\" + 0.060*\"warn\" + 0.060*\"canada\" + 0.039*\"team\"\n"
          ]
        },
        {
          "output_type": "stream",
          "name": "stderr",
          "text": [
            "/usr/local/lib/python3.10/dist-packages/ipykernel/ipkernel.py:283: DeprecationWarning: `should_run_async` will not call `transform_cell` automatically in the future. Please pass the result to `transformed_cell` argument and any exception that happen during thetransform in `preprocessing_exc_tuple` in IPython 7.17 and above.\n",
            "  and should_run_async(code)\n"
          ]
        }
      ]
    },
    {
      "cell_type": "code",
      "source": [
        "pyLDAvis.enable_notebook()\n",
        "\n",
        "vis = gensimvis.prepare(lda_model8, bow_corpus, dictionary, n_jobs=1)\n",
        "pyLDAvis.display(vis)"
      ],
      "metadata": {
        "colab": {
          "base_uri": "https://localhost:8080/",
          "height": 917
        },
        "id": "MluABrI4Z8o1",
        "outputId": "6f8b2204-35ab-49ae-d1f9-4561c9b727fe"
      },
      "execution_count": null,
      "outputs": [
        {
          "output_type": "stream",
          "name": "stderr",
          "text": [
            "/usr/local/lib/python3.10/dist-packages/ipykernel/ipkernel.py:283: DeprecationWarning: `should_run_async` will not call `transform_cell` automatically in the future. Please pass the result to `transformed_cell` argument and any exception that happen during thetransform in `preprocessing_exc_tuple` in IPython 7.17 and above.\n",
            "  and should_run_async(code)\n"
          ]
        },
        {
          "output_type": "execute_result",
          "data": {
            "text/plain": [
              "<IPython.core.display.HTML object>"
            ],
            "text/html": [
              "\n",
              "<link rel=\"stylesheet\" type=\"text/css\" href=\"https://cdn.jsdelivr.net/gh/bmabey/pyLDAvis@3.4.0/pyLDAvis/js/ldavis.v1.0.0.css\">\n",
              "\n",
              "\n",
              "<div id=\"ldavis_el2591401462751665606750036309\" style=\"background-color:white;\"></div>\n",
              "<script type=\"text/javascript\">\n",
              "\n",
              "var ldavis_el2591401462751665606750036309_data = {\"mdsDat\": {\"x\": [-0.1932253652033328, -0.13331363387858164, 0.16697311936598233, 0.12947962789473766, 0.1071565796068492, 0.10645315445214434, 0.05402017636493109, -0.09324801625479706, -0.04140277146257629, -0.1028928708853569], \"y\": [-0.11735429015619311, 0.1377854225646649, 0.05335893468511972, -0.12775276178623013, 0.2011470049812279, -0.12990484406866218, -0.025129788536375472, 0.01617030501652555, -0.03889121963470384, 0.030571236934626874], \"topics\": [1, 2, 3, 4, 5, 6, 7, 8, 9, 10], \"cluster\": [1, 1, 1, 1, 1, 1, 1, 1, 1, 1], \"Freq\": [13.832486572066028, 13.061579476142116, 11.197492459446146, 10.692480861717106, 10.539000226663424, 9.742080305986065, 9.63728855033932, 8.487684900054365, 7.892107993347196, 4.917798654238237]}, \"tinfo\": {\"Term\": [\"canada\", \"canadian\", \"studi\", \"local\", \"report\", \"cdnpoli\", \"life\", \"scientist\", \"team\", \"chang\", \"actual\", \"leav\", \"covid\", \"time\", \"wonder\", \"woman\", \"toronto\", \"forget\", \"turn\", \"win\", \"say\", \"thing\", \"take\", \"climat\", \"pretti\", \"year\", \"real\", \"estat\", \"invent\", \"snow\", \"report\", \"local\", \"warn\", \"get\", \"climat\", \"woman\", \"chang\", \"life\", \"canada\", \"toronto\", \"year\", \"invent\", \"announc\", \"snow\", \"thing\", \"tri\", \"take\", \"pretti\", \"wonder\", \"real\", \"estat\", \"leav\", \"actual\", \"forget\", \"turn\", \"say\", \"win\", \"studi\", \"covid\", \"scientist\", \"time\", \"canadian\", \"cdnpoli\", \"team\", \"pretti\", \"chang\", \"say\", \"snow\", \"climat\", \"covid\", \"tri\", \"win\", \"team\", \"canada\", \"wonder\", \"warn\", \"canadian\", \"life\", \"year\", \"invent\", \"announc\", \"thing\", \"take\", \"estat\", \"real\", \"leav\", \"get\", \"actual\", \"forget\", \"turn\", \"studi\", \"woman\", \"scientist\", \"cdnpoli\", \"local\", \"report\", \"toronto\", \"time\", \"forget\", \"real\", \"estat\", \"leav\", \"get\", \"time\", \"covid\", \"canadian\", \"toronto\", \"actual\", \"scientist\", \"year\", \"invent\", \"announc\", \"snow\", \"thing\", \"tri\", \"warn\", \"take\", \"pretti\", \"wonder\", \"turn\", \"say\", \"win\", \"studi\", \"woman\", \"climat\", \"chang\", \"team\", \"cdnpoli\", \"local\", \"report\", \"canada\", \"life\", \"actual\", \"year\", \"invent\", \"time\", \"announc\", \"say\", \"thing\", \"scientist\", \"real\", \"estat\", \"turn\", \"woman\", \"cdnpoli\", \"snow\", \"local\", \"toronto\", \"tri\", \"warn\", \"take\", \"pretti\", \"wonder\", \"leav\", \"get\", \"forget\", \"win\", \"studi\", \"covid\", \"climat\", \"chang\", \"team\", \"report\", \"canada\", \"canadian\", \"life\", \"canadian\", \"team\", \"take\", \"announc\", \"tri\", \"studi\", \"toronto\", \"invent\", \"get\", \"time\", \"local\", \"year\", \"snow\", \"thing\", \"warn\", \"pretti\", \"wonder\", \"real\", \"estat\", \"leav\", \"actual\", \"forget\", \"turn\", \"say\", \"win\", \"woman\", \"covid\", \"climat\", \"chang\", \"scientist\", \"report\", \"canada\", \"life\", \"cdnpoli\", \"thing\", \"life\", \"woman\", \"take\", \"forget\", \"turn\", \"time\", \"toronto\", \"year\", \"cdnpoli\", \"canada\", \"invent\", \"announc\", \"snow\", \"tri\", \"warn\", \"pretti\", \"wonder\", \"real\", \"estat\", \"leav\", \"get\", \"actual\", \"say\", \"win\", \"studi\", \"covid\", \"climat\", \"chang\", \"scientist\", \"local\", \"report\", \"canadian\", \"team\", \"wonder\", \"scientist\", \"win\", \"toronto\", \"report\", \"life\", \"time\", \"climat\", \"team\", \"canadian\", \"year\", \"invent\", \"announc\", \"snow\", \"thing\", \"tri\", \"warn\", \"take\", \"pretti\", \"estat\", \"real\", \"leav\", \"get\", \"actual\", \"forget\", \"turn\", \"say\", \"studi\", \"woman\", \"covid\", \"local\", \"canada\", \"cdnpoli\", \"chang\", \"canada\", \"cdnpoli\", \"covid\", \"year\", \"invent\", \"announc\", \"snow\", \"thing\", \"tri\", \"warn\", \"take\", \"pretti\", \"wonder\", \"estat\", \"real\", \"leav\", \"get\", \"actual\", \"forget\", \"turn\", \"say\", \"win\", \"studi\", \"woman\", \"climat\", \"chang\", \"scientist\", \"team\", \"toronto\", \"life\", \"local\", \"report\", \"canadian\", \"time\", \"turn\", \"invent\", \"announc\", \"snow\", \"tri\", \"warn\", \"win\", \"local\", \"team\", \"pretti\", \"scientist\", \"canada\", \"estat\", \"real\", \"leav\", \"woman\", \"life\", \"time\", \"year\", \"thing\", \"take\", \"wonder\", \"get\", \"actual\", \"forget\", \"say\", \"studi\", \"covid\", \"climat\", \"chang\", \"report\", \"toronto\", \"canadian\", \"cdnpoli\", \"studi\", \"leav\", \"cdnpoli\", \"chang\", \"climat\", \"wonder\", \"local\", \"report\", \"canada\", \"year\", \"invent\", \"announc\", \"snow\", \"thing\", \"tri\", \"warn\", \"take\", \"pretti\", \"estat\", \"real\", \"get\", \"actual\", \"forget\", \"turn\", \"say\", \"win\", \"woman\", \"covid\", \"scientist\", \"team\", \"life\", \"canadian\", \"time\", \"toronto\"], \"Freq\": [9.0, 9.0, 4.0, 10.0, 8.0, 5.0, 6.0, 5.0, 5.0, 4.0, 3.0, 3.0, 4.0, 7.0, 3.0, 4.0, 5.0, 3.0, 3.0, 4.0, 3.0, 3.0, 3.0, 4.0, 3.0, 2.0, 3.0, 3.0, 2.0, 3.0, 5.800414196006702, 6.292160185174895, 1.4743465825248572, 1.4743437442509004, 1.4743265476498681, 0.9979616659253355, 0.9027119467311454, 0.9027473416769594, 0.9027201276384326, 0.21677901695419638, 0.08208895068411252, 0.08207663236644348, 0.08208817328922362, 0.08207907933424813, 0.08208552805963523, 0.08208545501582017, 0.08208363935527428, 0.08207753497930106, 0.0820829558738619, 0.08207845846182009, 0.08207839063542038, 0.0820897698183243, 0.08209284287597236, 0.08209101678059576, 0.08208578371298796, 0.08209591071620506, 0.08208059238470304, 0.08210160813378006, 0.08208357674628994, 0.0820961246302349, 0.08210299596626629, 0.08210254205112982, 0.0820991507311447, 0.08208948807789478, 2.3352103047857944, 3.052688199743664, 2.3350966373414397, 1.5001501388738971, 2.1254088952602115, 1.753554758419864, 0.9185451989568405, 0.9185069682283301, 0.9185255712219971, 1.4253697303401784, 0.39468399079497973, 0.33684101679814554, 0.9184604607441629, 0.5561233316893246, 0.08352246565772972, 0.08351255325750254, 0.08352544134845398, 0.08352159856904186, 0.08352247551101026, 0.0835177952027519, 0.08351550924166572, 0.08352045558849876, 0.08351193250082828, 0.08352595371904226, 0.08352386482356695, 0.08352363819811444, 0.08354644854257359, 0.0835224853642908, 0.08354155146214327, 0.08353238791123743, 0.08357873774291599, 0.08356342574495076, 0.08353549169460876, 0.08352941222051317, 2.10485524699927, 1.8007842230110886, 1.8007842230110886, 1.8007332703040388, 1.1026114447392572, 2.1050362169587915, 1.102595766983242, 2.1049374200652813, 1.1026512473181065, 0.40440987886370816, 0.40444468077900075, 0.10026207103814581, 0.10025080265100982, 0.1002626623328231, 0.1002538435950645, 0.10025437576027407, 0.10026090534292484, 0.10026043230718301, 0.10025535562002504, 0.1002481164837615, 0.10025666491538192, 0.10025726465712603, 0.10025993393024071, 0.10025728999832649, 0.10028388981173822, 0.10025389427746542, 0.10025455314867726, 0.10026095602532575, 0.10026776436118154, 0.10027777413536157, 0.10030744868109526, 0.10029559744634878, 0.10027665912254151, 0.10027553566265464, 2.549505965663434, 1.8780054163543716, 1.2065015115474726, 1.87809020720355, 0.738717623856374, 0.942497910875624, 0.7387191725476832, 1.2064715701821616, 0.738715623463433, 0.7387123970232055, 0.7386982006862045, 0.7387153008194103, 0.7387012335400184, 0.2709410279201896, 0.7387411768700347, 0.27092992896580703, 0.06717037585806902, 0.0671708961215557, 0.06717243271371404, 0.06716774630928361, 0.06717129136048357, 0.06716891992691637, 0.06716244284815968, 0.06717149704604806, 0.0671683673990274, 0.06718539897037826, 0.06717232382135636, 0.06717199311123305, 0.06717085175800257, 0.06717541717092447, 0.06721140407861181, 0.06718718964470452, 0.06717972850167844, 0.06717609069032196, 5.432998299680364, 3.2434063629681047, 1.6931101498845536, 0.8868168905474505, 0.8868231235976909, 0.8869004643027152, 0.8869492474612297, 0.32528807265386883, 0.32528854967301984, 0.32531116038077984, 0.32532871468553864, 0.08064915084962813, 0.08064218637002274, 0.08064322786183588, 0.08064749718323781, 0.08063893468947639, 0.08064512003780172, 0.08063911754681763, 0.08063794884989754, 0.08064830016547542, 0.08064808550685745, 0.08064589916908178, 0.08064248053183255, 0.08065550315465635, 0.08065697396370543, 0.08064520749131275, 0.0806453346964197, 0.08064762438834476, 0.08064788674887784, 0.08066622813523588, 0.08067824106752328, 0.08066472552491007, 0.08066466192235659, 0.08065904899701251, 1.7385805726977481, 3.5025699052781554, 2.2192609113731008, 0.9107094834503392, 0.9106821446284223, 0.9107150688010535, 1.4873464413612902, 0.9106445170025583, 0.3339755462130403, 0.4764336789410236, 0.4764651038879366, 0.0828051025730154, 0.08281719191765335, 0.08280907846082643, 0.082812723637082, 0.08281263544733387, 0.08281090839809989, 0.08280843908515256, 0.08280527160336595, 0.08280412513664041, 0.08281473730299738, 0.08280226580278424, 0.08281974207120311, 0.08281913944125764, 0.08281280447768444, 0.08283416109502054, 0.08281388480209889, 0.0828154207735453, 0.08280887268474747, 0.08282537151679137, 0.08284877854577122, 0.0828424803279264, 0.08282368856243143, 0.08282152791360252, 2.1468110028350584, 2.92659544611726, 1.7408230261974205, 2.182038503992664, 1.515590053633911, 0.9118048098755767, 0.9117898044020047, 0.4313923887966036, 0.4727986263404069, 0.3827445562356405, 0.08291936000643081, 0.08290885472091179, 0.08291599395300846, 0.08291083218642126, 0.08291270060052394, 0.08291361663234083, 0.08292886201900755, 0.08291661918107394, 0.08290639742921252, 0.08290649194043173, 0.08290593941330408, 0.08291552139691244, 0.08290441996370305, 0.08292562682727331, 0.08291919279427376, 0.0829120535621771, 0.08291729529979594, 0.08293364574071795, 0.08291060681351392, 0.08291579039038248, 0.08294867302457111, 0.08293175551633389, 0.08292199178038091, 0.08291575403991355, 4.989142533784195, 3.117890559612108, 1.4775168084154295, 0.13436403631378524, 0.13434527591699869, 0.13435879876956291, 0.1343502701523207, 0.13435796639700925, 0.13435874754663654, 0.1343623715686779, 0.1343577871167669, 0.13434613390101555, 0.13435664740665496, 0.134347004690764, 0.13434463563041893, 0.13435874754663654, 0.13433978225814447, 0.13438090146229573, 0.13436135991588188, 0.1343578127282301, 0.1343633448042791, 0.1343504622382946, 0.1344058598331742, 0.1343582865402991, 0.13435901646700002, 0.13435311302473477, 0.1343799794496209, 0.13437845556756112, 0.13450895877824487, 0.1343834754143463, 0.1344388858149575, 0.13442259692436878, 0.13437743110903352, 0.1343713996094523, 1.4665435676310108, 0.7681745732391133, 0.7681933389222607, 0.7681823367070144, 0.7681953869536702, 0.7681618563929196, 0.7681641901961536, 1.8904124355206648, 0.4936748277659695, 0.28172212823868803, 0.46748984125160953, 0.76810384471253, 0.28173191592367985, 0.28173158252321784, 0.28172562894353914, 0.28176013589135707, 0.2817779013731184, 0.28176573225625506, 0.06985029023060314, 0.06984968296547592, 0.06985237993707039, 0.06984942696154973, 0.06984241364468818, 0.06985436843268308, 0.06985521384099747, 0.06985619618164444, 0.06987113371305839, 0.06984931384353583, 0.06985369567817938, 0.06984787307725358, 0.06988140959158388, 0.06986348931675089, 0.06986347740959153, 0.06986324521998406, 2.7557510920922628, 0.739384913347954, 0.9432939633259494, 0.36580530959959767, 0.36146081269688457, 0.15963960475157085, 0.4182338638919888, 0.2711666011378078, 0.27122468248849235, 0.0672396474424898, 0.0672265220069557, 0.06723363007210079, 0.06722900018415659, 0.06723228710780928, 0.0672333481237965, 0.067234691088088, 0.06723700603206009, 0.06722946762476634, 0.06722817659832037, 0.06722718977925533, 0.06722464482482447, 0.06723773316189749, 0.06723693925483012, 0.06723283616503344, 0.06723667214591028, 0.06722983118968504, 0.06723130770843647, 0.06723667956560249, 0.0672422888529195, 0.06724225917415062, 0.06725056180974287, 0.06724207368184518, 0.06723984777417968, 0.0672382673797372], \"Total\": [9.0, 9.0, 4.0, 10.0, 8.0, 5.0, 6.0, 5.0, 5.0, 4.0, 3.0, 3.0, 4.0, 7.0, 3.0, 4.0, 5.0, 3.0, 3.0, 4.0, 3.0, 3.0, 3.0, 4.0, 3.0, 2.0, 3.0, 3.0, 2.0, 3.0, 8.206066005959734, 10.148998899952433, 3.194766841451006, 3.4900316405063103, 4.927690947970547, 4.786619802204521, 4.9392107634332625, 6.604773615392557, 9.164086352660254, 5.925138668863903, 2.912876934790337, 2.933089900933292, 3.0269297450089114, 3.169547793784161, 3.1781571125670367, 3.190398881664871, 3.2912173288018876, 3.314357672839399, 3.3183051440224953, 3.4347475506743876, 3.4347484690122, 3.4353602643412935, 3.6374010985843666, 3.683342375252968, 3.7469687066737705, 3.9777985438910526, 4.0420505062733305, 4.34581370223542, 4.866384237684221, 5.535753082376977, 7.356583218133083, 9.342729678041158, 5.77567303419422, 5.662380300561795, 3.314357672839399, 4.9392107634332625, 3.9777985438910526, 3.169547793784161, 4.927690947970547, 4.866384237684221, 3.190398881664871, 4.0420505062733305, 5.662380300561795, 9.164086352660254, 3.3183051440224953, 3.194766841451006, 9.342729678041158, 6.604773615392557, 2.912876934790337, 2.933089900933292, 3.0269297450089114, 3.1781571125670367, 3.2912173288018876, 3.4347484690122, 3.4347475506743876, 3.4353602643412935, 3.4900316405063103, 3.6374010985843666, 3.683342375252968, 3.7469687066737705, 4.34581370223542, 4.786619802204521, 5.535753082376977, 5.77567303419422, 10.148998899952433, 8.206066005959734, 5.925138668863903, 7.356583218133083, 3.683342375252968, 3.4347475506743876, 3.4347484690122, 3.4353602643412935, 3.4900316405063103, 7.356583218133083, 4.866384237684221, 9.342729678041158, 5.925138668863903, 3.6374010985843666, 5.535753082376977, 2.912876934790337, 2.933089900933292, 3.0269297450089114, 3.169547793784161, 3.1781571125670367, 3.190398881664871, 3.194766841451006, 3.2912173288018876, 3.314357672839399, 3.3183051440224953, 3.7469687066737705, 3.9777985438910526, 4.0420505062733305, 4.34581370223542, 4.786619802204521, 4.927690947970547, 4.9392107634332625, 5.662380300561795, 5.77567303419422, 10.148998899952433, 8.206066005959734, 9.164086352660254, 6.604773615392557, 3.6374010985843666, 2.912876934790337, 2.933089900933292, 7.356583218133083, 3.0269297450089114, 3.9777985438910526, 3.1781571125670367, 5.535753082376977, 3.4347475506743876, 3.4347484690122, 3.7469687066737705, 4.786619802204521, 5.77567303419422, 3.169547793784161, 10.148998899952433, 5.925138668863903, 3.190398881664871, 3.194766841451006, 3.2912173288018876, 3.314357672839399, 3.3183051440224953, 3.4353602643412935, 3.4900316405063103, 3.683342375252968, 4.0420505062733305, 4.34581370223542, 4.866384237684221, 4.927690947970547, 4.9392107634332625, 5.662380300561795, 8.206066005959734, 9.164086352660254, 9.342729678041158, 6.604773615392557, 9.342729678041158, 5.662380300561795, 3.2912173288018876, 3.0269297450089114, 3.190398881664871, 4.34581370223542, 5.925138668863903, 2.933089900933292, 3.4900316405063103, 7.356583218133083, 10.148998899952433, 2.912876934790337, 3.169547793784161, 3.1781571125670367, 3.194766841451006, 3.314357672839399, 3.3183051440224953, 3.4347475506743876, 3.4347484690122, 3.4353602643412935, 3.6374010985843666, 3.683342375252968, 3.7469687066737705, 3.9777985438910526, 4.0420505062733305, 4.786619802204521, 4.866384237684221, 4.927690947970547, 4.9392107634332625, 5.535753082376977, 8.206066005959734, 9.164086352660254, 6.604773615392557, 5.77567303419422, 3.1781571125670367, 6.604773615392557, 4.786619802204521, 3.2912173288018876, 3.683342375252968, 3.7469687066737705, 7.356583218133083, 5.925138668863903, 2.912876934790337, 5.77567303419422, 9.164086352660254, 2.933089900933292, 3.0269297450089114, 3.169547793784161, 3.190398881664871, 3.194766841451006, 3.314357672839399, 3.3183051440224953, 3.4347475506743876, 3.4347484690122, 3.4353602643412935, 3.4900316405063103, 3.6374010985843666, 3.9777985438910526, 4.0420505062733305, 4.34581370223542, 4.866384237684221, 4.927690947970547, 4.9392107634332625, 5.535753082376977, 10.148998899952433, 8.206066005959734, 9.342729678041158, 5.662380300561795, 3.3183051440224953, 5.535753082376977, 4.0420505062733305, 5.925138668863903, 8.206066005959734, 6.604773615392557, 7.356583218133083, 4.927690947970547, 5.662380300561795, 9.342729678041158, 2.912876934790337, 2.933089900933292, 3.0269297450089114, 3.169547793784161, 3.1781571125670367, 3.190398881664871, 3.194766841451006, 3.2912173288018876, 3.314357672839399, 3.4347484690122, 3.4347475506743876, 3.4353602643412935, 3.4900316405063103, 3.6374010985843666, 3.683342375252968, 3.7469687066737705, 3.9777985438910526, 4.34581370223542, 4.786619802204521, 4.866384237684221, 10.148998899952433, 9.164086352660254, 5.77567303419422, 4.9392107634332625, 9.164086352660254, 5.77567303419422, 4.866384237684221, 2.912876934790337, 2.933089900933292, 3.0269297450089114, 3.169547793784161, 3.1781571125670367, 3.190398881664871, 3.194766841451006, 3.2912173288018876, 3.314357672839399, 3.3183051440224953, 3.4347484690122, 3.4347475506743876, 3.4353602643412935, 3.4900316405063103, 3.6374010985843666, 3.683342375252968, 3.7469687066737705, 3.9777985438910526, 4.0420505062733305, 4.34581370223542, 4.786619802204521, 4.927690947970547, 4.9392107634332625, 5.535753082376977, 5.662380300561795, 5.925138668863903, 6.604773615392557, 10.148998899952433, 8.206066005959734, 9.342729678041158, 7.356583218133083, 3.7469687066737705, 2.933089900933292, 3.0269297450089114, 3.169547793784161, 3.190398881664871, 3.194766841451006, 4.0420505062733305, 10.148998899952433, 5.662380300561795, 3.314357672839399, 5.535753082376977, 9.164086352660254, 3.4347484690122, 3.4347475506743876, 3.4353602643412935, 4.786619802204521, 6.604773615392557, 7.356583218133083, 2.912876934790337, 3.1781571125670367, 3.2912173288018876, 3.3183051440224953, 3.4900316405063103, 3.6374010985843666, 3.683342375252968, 3.9777985438910526, 4.34581370223542, 4.866384237684221, 4.927690947970547, 4.9392107634332625, 8.206066005959734, 5.925138668863903, 9.342729678041158, 5.77567303419422, 4.34581370223542, 3.4353602643412935, 5.77567303419422, 4.9392107634332625, 4.927690947970547, 3.3183051440224953, 10.148998899952433, 8.206066005959734, 9.164086352660254, 2.912876934790337, 2.933089900933292, 3.0269297450089114, 3.169547793784161, 3.1781571125670367, 3.190398881664871, 3.194766841451006, 3.2912173288018876, 3.314357672839399, 3.4347484690122, 3.4347475506743876, 3.4900316405063103, 3.6374010985843666, 3.683342375252968, 3.7469687066737705, 3.9777985438910526, 4.0420505062733305, 4.786619802204521, 4.866384237684221, 5.535753082376977, 5.662380300561795, 6.604773615392557, 9.342729678041158, 7.356583218133083, 5.925138668863903], \"Category\": [\"Default\", \"Default\", \"Default\", \"Default\", \"Default\", \"Default\", \"Default\", \"Default\", \"Default\", \"Default\", \"Default\", \"Default\", \"Default\", \"Default\", \"Default\", \"Default\", \"Default\", \"Default\", \"Default\", \"Default\", \"Default\", \"Default\", \"Default\", \"Default\", \"Default\", \"Default\", \"Default\", \"Default\", \"Default\", \"Default\", \"Topic1\", \"Topic1\", \"Topic1\", \"Topic1\", \"Topic1\", \"Topic1\", \"Topic1\", \"Topic1\", \"Topic1\", \"Topic1\", \"Topic1\", \"Topic1\", \"Topic1\", \"Topic1\", \"Topic1\", \"Topic1\", \"Topic1\", \"Topic1\", \"Topic1\", \"Topic1\", \"Topic1\", \"Topic1\", \"Topic1\", \"Topic1\", \"Topic1\", \"Topic1\", \"Topic1\", \"Topic1\", \"Topic1\", \"Topic1\", \"Topic1\", \"Topic1\", \"Topic1\", \"Topic1\", \"Topic2\", \"Topic2\", \"Topic2\", \"Topic2\", \"Topic2\", \"Topic2\", \"Topic2\", \"Topic2\", \"Topic2\", \"Topic2\", \"Topic2\", \"Topic2\", \"Topic2\", \"Topic2\", \"Topic2\", \"Topic2\", \"Topic2\", \"Topic2\", \"Topic2\", \"Topic2\", \"Topic2\", \"Topic2\", \"Topic2\", \"Topic2\", \"Topic2\", \"Topic2\", \"Topic2\", \"Topic2\", \"Topic2\", \"Topic2\", \"Topic2\", \"Topic2\", \"Topic2\", \"Topic2\", \"Topic3\", \"Topic3\", \"Topic3\", \"Topic3\", \"Topic3\", \"Topic3\", \"Topic3\", \"Topic3\", \"Topic3\", \"Topic3\", \"Topic3\", \"Topic3\", \"Topic3\", \"Topic3\", \"Topic3\", \"Topic3\", \"Topic3\", \"Topic3\", \"Topic3\", \"Topic3\", \"Topic3\", \"Topic3\", \"Topic3\", \"Topic3\", \"Topic3\", \"Topic3\", \"Topic3\", \"Topic3\", \"Topic3\", \"Topic3\", \"Topic3\", \"Topic3\", \"Topic3\", \"Topic3\", \"Topic4\", \"Topic4\", \"Topic4\", \"Topic4\", \"Topic4\", \"Topic4\", \"Topic4\", \"Topic4\", \"Topic4\", \"Topic4\", \"Topic4\", \"Topic4\", \"Topic4\", \"Topic4\", \"Topic4\", \"Topic4\", \"Topic4\", \"Topic4\", \"Topic4\", \"Topic4\", \"Topic4\", \"Topic4\", \"Topic4\", \"Topic4\", \"Topic4\", \"Topic4\", \"Topic4\", \"Topic4\", \"Topic4\", \"Topic4\", \"Topic4\", \"Topic4\", \"Topic4\", \"Topic4\", \"Topic5\", \"Topic5\", \"Topic5\", \"Topic5\", \"Topic5\", \"Topic5\", \"Topic5\", \"Topic5\", \"Topic5\", \"Topic5\", \"Topic5\", \"Topic5\", \"Topic5\", \"Topic5\", \"Topic5\", \"Topic5\", \"Topic5\", \"Topic5\", \"Topic5\", \"Topic5\", \"Topic5\", \"Topic5\", \"Topic5\", \"Topic5\", \"Topic5\", \"Topic5\", \"Topic5\", \"Topic5\", \"Topic5\", \"Topic5\", \"Topic5\", \"Topic5\", \"Topic5\", \"Topic5\", \"Topic6\", \"Topic6\", \"Topic6\", \"Topic6\", \"Topic6\", \"Topic6\", \"Topic6\", \"Topic6\", \"Topic6\", \"Topic6\", \"Topic6\", \"Topic6\", \"Topic6\", \"Topic6\", \"Topic6\", \"Topic6\", \"Topic6\", \"Topic6\", \"Topic6\", \"Topic6\", \"Topic6\", \"Topic6\", \"Topic6\", \"Topic6\", \"Topic6\", \"Topic6\", \"Topic6\", \"Topic6\", \"Topic6\", \"Topic6\", \"Topic6\", \"Topic6\", \"Topic6\", \"Topic6\", \"Topic7\", \"Topic7\", \"Topic7\", \"Topic7\", \"Topic7\", \"Topic7\", \"Topic7\", \"Topic7\", \"Topic7\", \"Topic7\", \"Topic7\", \"Topic7\", \"Topic7\", \"Topic7\", \"Topic7\", \"Topic7\", \"Topic7\", \"Topic7\", \"Topic7\", \"Topic7\", \"Topic7\", \"Topic7\", \"Topic7\", \"Topic7\", \"Topic7\", \"Topic7\", \"Topic7\", \"Topic7\", \"Topic7\", \"Topic7\", \"Topic7\", \"Topic7\", \"Topic7\", \"Topic7\", \"Topic8\", \"Topic8\", \"Topic8\", \"Topic8\", \"Topic8\", \"Topic8\", \"Topic8\", \"Topic8\", \"Topic8\", \"Topic8\", \"Topic8\", \"Topic8\", \"Topic8\", \"Topic8\", \"Topic8\", \"Topic8\", \"Topic8\", \"Topic8\", \"Topic8\", \"Topic8\", \"Topic8\", \"Topic8\", \"Topic8\", \"Topic8\", \"Topic8\", \"Topic8\", \"Topic8\", \"Topic8\", \"Topic8\", \"Topic8\", \"Topic8\", \"Topic8\", \"Topic8\", \"Topic8\", \"Topic9\", \"Topic9\", \"Topic9\", \"Topic9\", \"Topic9\", \"Topic9\", \"Topic9\", \"Topic9\", \"Topic9\", \"Topic9\", \"Topic9\", \"Topic9\", \"Topic9\", \"Topic9\", \"Topic9\", \"Topic9\", \"Topic9\", \"Topic9\", \"Topic9\", \"Topic9\", \"Topic9\", \"Topic9\", \"Topic9\", \"Topic9\", \"Topic9\", \"Topic9\", \"Topic9\", \"Topic9\", \"Topic9\", \"Topic9\", \"Topic9\", \"Topic9\", \"Topic9\", \"Topic9\", \"Topic10\", \"Topic10\", \"Topic10\", \"Topic10\", \"Topic10\", \"Topic10\", \"Topic10\", \"Topic10\", \"Topic10\", \"Topic10\", \"Topic10\", \"Topic10\", \"Topic10\", \"Topic10\", \"Topic10\", \"Topic10\", \"Topic10\", \"Topic10\", \"Topic10\", \"Topic10\", \"Topic10\", \"Topic10\", \"Topic10\", \"Topic10\", \"Topic10\", \"Topic10\", \"Topic10\", \"Topic10\", \"Topic10\", \"Topic10\", \"Topic10\", \"Topic10\", \"Topic10\", \"Topic10\"], \"logprob\": [30.0, 29.0, 28.0, 27.0, 26.0, 25.0, 24.0, 23.0, 22.0, 21.0, 20.0, 19.0, 18.0, 17.0, 16.0, 15.0, 14.0, 13.0, 12.0, 11.0, 10.0, 9.0, 8.0, 7.0, 6.0, 5.0, 4.0, 3.0, 2.0, 1.0, -1.3515, -1.2701, -2.7212, -2.7212, -2.7212, -3.1115, -3.2118, -3.2118, -3.2118, -4.6383, -5.6094, -5.6095, -5.6094, -5.6095, -5.6094, -5.6094, -5.6095, -5.6095, -5.6095, -5.6095, -5.6095, -5.6094, -5.6094, -5.6094, -5.6094, -5.6093, -5.6095, -5.6092, -5.6095, -5.6093, -5.6092, -5.6092, -5.6093, -5.6094, -2.204, -1.9361, -2.204, -2.6465, -2.2981, -2.4905, -3.1371, -3.1371, -3.1371, -2.6977, -3.9818, -4.1402, -3.1372, -3.6389, -5.5347, -5.5349, -5.5347, -5.5348, -5.5347, -5.5348, -5.5348, -5.5348, -5.5349, -5.5347, -5.5347, -5.5347, -5.5345, -5.5347, -5.5345, -5.5346, -5.5341, -5.5343, -5.5346, -5.5347, -2.1539, -2.3099, -2.3099, -2.3099, -2.8004, -2.1538, -2.8004, -2.1538, -2.8004, -3.8034, -3.8034, -5.1981, -5.1982, -5.1981, -5.1982, -5.1982, -5.1981, -5.1981, -5.1982, -5.1982, -5.1981, -5.1981, -5.1981, -5.1981, -5.1979, -5.1982, -5.1982, -5.1981, -5.198, -5.1979, -5.1976, -5.1977, -5.1979, -5.1979, -1.9161, -2.2218, -2.6642, -2.2217, -3.1548, -2.9112, -3.1548, -2.6643, -3.1548, -3.1548, -3.1548, -3.1548, -3.1548, -4.1578, -3.1548, -4.1579, -5.5525, -5.5525, -5.5525, -5.5525, -5.5525, -5.5525, -5.5526, -5.5525, -5.5525, -5.5523, -5.5525, -5.5525, -5.5525, -5.5524, -5.5519, -5.5522, -5.5524, -5.5524, -1.145, -1.6609, -2.3109, -2.9576, -2.9576, -2.9575, -2.9575, -3.9606, -3.9606, -3.9605, -3.9604, -5.3552, -5.3552, -5.3552, -5.3552, -5.3553, -5.3552, -5.3553, -5.3553, -5.3552, -5.3552, -5.3552, -5.3552, -5.3551, -5.3551, -5.3552, -5.3552, -5.3552, -5.3552, -5.3549, -5.3548, -5.355, -5.355, -5.355, -2.2058, -1.5054, -1.9617, -2.8524, -2.8524, -2.8524, -2.3619, -2.8525, -3.8556, -3.5003, -3.5002, -5.2501, -5.25, -5.2501, -5.2501, -5.2501, -5.2501, -5.2501, -5.2501, -5.2502, -5.25, -5.2502, -5.25, -5.25, -5.2501, -5.2498, -5.25, -5.25, -5.2501, -5.2499, -5.2496, -5.2497, -5.2499, -5.2499, -1.9841, -1.6742, -2.1937, -1.9678, -2.3323, -2.8404, -2.8404, -3.5888, -3.4972, -3.7085, -5.238, -5.2381, -5.238, -5.2381, -5.238, -5.238, -5.2378, -5.238, -5.2381, -5.2381, -5.2381, -5.238, -5.2381, -5.2379, -5.238, -5.238, -5.238, -5.2378, -5.2381, -5.238, -5.2376, -5.2378, -5.2379, -5.238, -1.0138, -1.4839, -2.2307, -4.6282, -4.6284, -4.6283, -4.6283, -4.6283, -4.6283, -4.6283, -4.6283, -4.6284, -4.6283, -4.6284, -4.6284, -4.6283, -4.6284, -4.6281, -4.6283, -4.6283, -4.6283, -4.6283, -4.6279, -4.6283, -4.6283, -4.6283, -4.6281, -4.6281, -4.6272, -4.6281, -4.6277, -4.6278, -4.6281, -4.6282, -2.1654, -2.812, -2.812, -2.812, -2.812, -2.812, -2.812, -1.9115, -3.2542, -3.8151, -3.3087, -2.8121, -3.8151, -3.8151, -3.8151, -3.815, -3.8149, -3.815, -5.2097, -5.2097, -5.2097, -5.2097, -5.2098, -5.2096, -5.2096, -5.2096, -5.2094, -5.2097, -5.2096, -5.2097, -5.2092, -5.2095, -5.2095, -5.2095, -1.0616, -2.3772, -2.1337, -3.0809, -3.0929, -3.9101, -2.947, -3.3803, -3.3801, -4.7748, -4.775, -4.7749, -4.7749, -4.7749, -4.7749, -4.7749, -4.7748, -4.7749, -4.7749, -4.775, -4.775, -4.7748, -4.7748, -4.7749, -4.7748, -4.7749, -4.7749, -4.7748, -4.7747, -4.7747, -4.7746, -4.7747, -4.7748, -4.7748], \"loglift\": [30.0, 29.0, 28.0, 27.0, 26.0, 25.0, 24.0, 23.0, 22.0, 21.0, 20.0, 19.0, 18.0, 17.0, 16.0, 15.0, 14.0, 13.0, 12.0, 11.0, 10.0, 9.0, 8.0, 7.0, 6.0, 5.0, 4.0, 3.0, 2.0, 1.0, 1.6312, 1.5001, 1.2049, 1.1165, 0.7715, 0.4103, 0.2786, -0.012, -0.3395, -1.3299, -1.5909, -1.598, -1.6294, -1.6755, -1.6781, -1.682, -1.7131, -1.7202, -1.7213, -1.7559, -1.7559, -1.7559, -1.813, -1.8256, -1.8428, -1.9024, -1.9187, -1.9909, -2.1042, -2.2329, -2.5172, -2.7562, -2.2753, -2.2556, 1.6853, 1.5543, 1.5028, 1.2875, 1.1946, 1.0148, 0.7904, 0.5537, 0.2167, 0.1746, -0.0936, -0.2142, -0.2842, -0.4391, -1.5163, -1.5233, -1.5547, -1.6035, -1.6384, -1.6811, -1.6812, -1.6813, -1.6972, -1.7384, -1.7509, -1.7681, -1.9161, -2.013, -2.1581, -2.2007, -2.7638, -2.5515, -2.2262, -2.4427, 1.6299, 1.5438, 1.5438, 1.5436, 1.0373, 0.9382, 0.7048, 0.6992, 0.508, -0.0071, -0.427, -1.1796, -1.1867, -1.218, -1.2642, -1.2669, -1.2706, -1.272, -1.3018, -1.3089, -1.31, -1.4315, -1.4912, -1.5073, -1.5795, -1.6764, -1.7054, -1.7077, -1.8443, -1.864, -2.4274, -2.215, -2.3256, -1.9981, 1.8803, 1.7967, 1.3473, 0.8703, 0.8252, 0.7957, 0.7765, 0.7121, 0.6988, 0.6988, 0.6118, 0.367, 0.1791, -0.2238, -0.3846, -0.8495, -1.625, -1.6264, -1.6561, -1.6632, -1.6643, -1.699, -1.7149, -1.7687, -1.8617, -1.9339, -2.0472, -2.0597, -2.0621, -2.1987, -2.5692, -2.6799, -2.6994, -2.3526, 1.708, 1.6929, 1.5854, 1.0224, 0.9698, 0.6609, 0.3509, 0.051, -0.1229, -0.8685, -1.1902, -1.3367, -1.4212, -1.4239, -1.4291, -1.466, -1.4671, -1.5016, -1.5016, -1.5017, -1.5588, -1.5714, -1.5886, -1.6482, -1.6642, -1.8334, -1.85, -1.8624, -1.8648, -1.9786, -2.3721, -2.4827, -2.1552, -2.0211, 1.7255, 1.6944, 1.5601, 1.0439, 0.9313, 0.9142, 0.7301, 0.4559, 0.1629, -0.1664, -0.6279, -1.2386, -1.27, -1.3161, -1.3226, -1.324, -1.3607, -1.362, -1.3965, -1.3965, -1.3966, -1.4125, -1.4536, -1.5431, -1.5592, -1.6314, -1.7448, -1.7573, -1.7597, -1.8735, -2.4794, -2.267, -2.3969, -1.8962, 1.9041, 1.7021, 1.4971, 1.3406, 0.6505, 0.3594, 0.2516, -0.0961, -0.1434, -0.8555, -1.2195, -1.2265, -1.2579, -1.304, -1.3067, -1.3106, -1.3118, -1.3416, -1.3488, -1.3845, -1.3845, -1.3845, -1.4004, -1.4416, -1.4542, -1.4714, -1.5311, -1.6194, -1.7163, -1.7328, -2.4674, -2.3655, -1.904, -1.7476, 1.8585, 1.8501, 1.2746, -0.6098, -0.6168, -0.6482, -0.6943, -0.697, -0.7008, -0.7022, -0.732, -0.739, -0.7402, -0.7747, -0.7747, -0.7748, -0.7907, -0.8318, -0.8445, -0.8616, -0.9214, -0.9375, -1.0096, -1.1065, -1.1356, -1.1379, -1.2518, -1.2744, -1.3188, -1.4283, -1.8575, -1.6451, -1.7751, -1.5362, 1.6013, 1.1995, 1.168, 1.122, 1.1154, 1.114, 0.8788, 0.8587, 0.0996, 0.0742, 0.0677, 0.0602, 0.0386, 0.0386, 0.0384, -0.2932, -0.6151, -0.723, -1.1912, -1.2784, -1.3133, -1.3216, -1.3721, -1.4133, -1.4258, -1.5027, -1.591, -1.7045, -1.7169, -1.7193, -2.2265, -1.9011, -2.3565, -1.8756, 2.5568, 1.4763, 1.2003, 0.4094, 0.3998, -0.022, -0.1768, -0.3976, -0.5078, -0.7563, -0.7634, -0.7948, -0.8409, -0.8436, -0.8474, -0.8488, -0.8785, -0.8856, -0.9213, -0.9213, -0.9373, -0.9785, -0.991, -1.0082, -1.068, -1.0841, -1.2531, -1.2696, -1.3984, -1.421, -1.5748, -1.9217, -1.6828, -1.4664]}, \"token.table\": {\"Topic\": [4, 4, 5, 9, 1, 2, 8, 9, 2, 3, 5, 4, 8, 10, 1, 2, 1, 2, 2, 3, 8, 3, 4, 3, 6, 1, 3, 4, 9, 3, 10, 1, 2, 6, 7, 1, 4, 9, 2, 3, 4, 1, 7, 2, 4, 4, 7, 2, 9, 5, 10, 5, 6, 2, 5, 4, 6, 3, 4, 6, 7, 3, 5, 6, 7, 2, 5, 9, 4, 6, 9, 1, 9, 2, 7, 9, 1, 4, 6, 7, 4], \"Freq\": [0.8247646928922864, 0.3303677601533021, 0.3303677601533021, 0.3303677601533021, 0.10912162560643143, 0.10912162560643143, 0.5456081280321572, 0.10912162560643143, 0.10703509942606676, 0.21407019885213352, 0.5351754971303337, 0.1731399949546335, 0.5194199848639005, 0.1731399949546335, 0.20246149595464855, 0.6073844878639456, 0.20293480466989244, 0.4058696093397849, 0.41098275481669433, 0.20549137740834716, 0.20549137740834716, 0.5822842685697973, 0.29114213428489866, 0.542985092408805, 0.2714925462044025, 0.2865303535915585, 0.2865303535915585, 0.3409373847292597, 0.3409373847292597, 0.5821805709170611, 0.29109028545853055, 0.15140564358927913, 0.15140564358927913, 0.6056225743571165, 0.15140564358927913, 0.591191314448573, 0.09853188574142882, 0.19706377148285764, 0.6034351742992804, 0.5822844242533384, 0.2911422121266692, 0.7311664317155678, 0.24372214390518926, 0.5027906712549638, 0.2513953356274819, 0.18064389526033803, 0.541931685781014, 0.6310048404766839, 0.31550242023834196, 0.2301065044471684, 0.6903195133415052, 0.6076778894233844, 0.3038389447116922, 0.17660417473209716, 0.5298125241962914, 0.3146477548406308, 0.6292955096812616, 0.2718653402941522, 0.2718653402941522, 0.1359326701470761, 0.1359326701470761, 0.16877242135359877, 0.16877242135359877, 0.16877242135359877, 0.33754484270719753, 0.3134404308335772, 0.3134404308335772, 0.3134404308335772, 0.2668823996898848, 0.2668823996898848, 0.2668823996898848, 0.31301188776136724, 0.31301188776136724, 0.2473991847573362, 0.4947983695146724, 0.2473991847573362, 0.20891569444045688, 0.20891569444045688, 0.41783138888091376, 0.6027173250183895, 0.6866064185934981], \"Term\": [\"actual\", \"announc\", \"announc\", \"announc\", \"canada\", \"canada\", \"canada\", \"canada\", \"canadian\", \"canadian\", \"canadian\", \"cdnpoli\", \"cdnpoli\", \"cdnpoli\", \"chang\", \"chang\", \"climat\", \"climat\", \"covid\", \"covid\", \"covid\", \"estat\", \"estat\", \"forget\", \"forget\", \"get\", \"get\", \"invent\", \"invent\", \"leav\", \"leav\", \"life\", \"life\", \"life\", \"life\", \"local\", \"local\", \"local\", \"pretti\", \"real\", \"real\", \"report\", \"report\", \"say\", \"say\", \"scientist\", \"scientist\", \"snow\", \"snow\", \"studi\", \"studi\", \"take\", \"take\", \"team\", \"team\", \"thing\", \"thing\", \"time\", \"time\", \"time\", \"time\", \"toronto\", \"toronto\", \"toronto\", \"toronto\", \"tri\", \"tri\", \"tri\", \"turn\", \"turn\", \"turn\", \"warn\", \"warn\", \"win\", \"win\", \"win\", \"woman\", \"woman\", \"woman\", \"wonder\", \"year\"]}, \"R\": 30, \"lambda.step\": 0.01, \"plot.opts\": {\"xlab\": \"PC1\", \"ylab\": \"PC2\"}, \"topic.order\": [7, 5, 2, 3, 1, 9, 6, 4, 10, 8]};\n",
              "\n",
              "function LDAvis_load_lib(url, callback){\n",
              "  var s = document.createElement('script');\n",
              "  s.src = url;\n",
              "  s.async = true;\n",
              "  s.onreadystatechange = s.onload = callback;\n",
              "  s.onerror = function(){console.warn(\"failed to load library \" + url);};\n",
              "  document.getElementsByTagName(\"head\")[0].appendChild(s);\n",
              "}\n",
              "\n",
              "if(typeof(LDAvis) !== \"undefined\"){\n",
              "   // already loaded: just create the visualization\n",
              "   !function(LDAvis){\n",
              "       new LDAvis(\"#\" + \"ldavis_el2591401462751665606750036309\", ldavis_el2591401462751665606750036309_data);\n",
              "   }(LDAvis);\n",
              "}else if(typeof define === \"function\" && define.amd){\n",
              "   // require.js is available: use it to load d3/LDAvis\n",
              "   require.config({paths: {d3: \"https://d3js.org/d3.v5\"}});\n",
              "   require([\"d3\"], function(d3){\n",
              "      window.d3 = d3;\n",
              "      LDAvis_load_lib(\"https://cdn.jsdelivr.net/gh/bmabey/pyLDAvis@3.4.0/pyLDAvis/js/ldavis.v3.0.0.js\", function(){\n",
              "        new LDAvis(\"#\" + \"ldavis_el2591401462751665606750036309\", ldavis_el2591401462751665606750036309_data);\n",
              "      });\n",
              "    });\n",
              "}else{\n",
              "    // require.js not available: dynamically load d3 & LDAvis\n",
              "    LDAvis_load_lib(\"https://d3js.org/d3.v5.js\", function(){\n",
              "         LDAvis_load_lib(\"https://cdn.jsdelivr.net/gh/bmabey/pyLDAvis@3.4.0/pyLDAvis/js/ldavis.v3.0.0.js\", function(){\n",
              "                 new LDAvis(\"#\" + \"ldavis_el2591401462751665606750036309\", ldavis_el2591401462751665606750036309_data);\n",
              "            })\n",
              "         });\n",
              "}\n",
              "</script>"
            ]
          },
          "metadata": {},
          "execution_count": 258
        }
      ]
    },
    {
      "cell_type": "code",
      "source": [
        "pyLDAvis.save_html(vis, '8TheBeaverton.html')"
      ],
      "metadata": {
        "id": "UoSU4yNxFvPZ",
        "colab": {
          "base_uri": "https://localhost:8080/"
        },
        "outputId": "59a26317-fae7-45a5-fc7e-adc27411e93d"
      },
      "execution_count": null,
      "outputs": [
        {
          "output_type": "stream",
          "name": "stderr",
          "text": [
            "/usr/local/lib/python3.10/dist-packages/ipykernel/ipkernel.py:283: DeprecationWarning: `should_run_async` will not call `transform_cell` automatically in the future. Please pass the result to `transformed_cell` argument and any exception that happen during thetransform in `preprocessing_exc_tuple` in IPython 7.17 and above.\n",
            "  and should_run_async(code)\n"
          ]
        }
      ]
    },
    {
      "cell_type": "code",
      "source": [],
      "metadata": {
        "id": "3egHMefKFvS8"
      },
      "execution_count": null,
      "outputs": []
    },
    {
      "cell_type": "markdown",
      "source": [
        "@BillNye"
      ],
      "metadata": {
        "id": "gwUKE-PBeIWg"
      }
    },
    {
      "cell_type": "code",
      "source": [
        "BillNye_data = pd.read_excel('https://drive.google.com/uc?export=download&id=1w1Xm-TQfcPfGICM_8_LQiWSqzf8WUk8N')"
      ],
      "metadata": {
        "colab": {
          "base_uri": "https://localhost:8080/"
        },
        "id": "BYhR4gtGeHzI",
        "outputId": "e0c75017-ab16-4458-d732-557ad0774afc"
      },
      "execution_count": null,
      "outputs": [
        {
          "output_type": "stream",
          "name": "stderr",
          "text": [
            "/usr/local/lib/python3.10/dist-packages/ipykernel/ipkernel.py:283: DeprecationWarning: `should_run_async` will not call `transform_cell` automatically in the future. Please pass the result to `transformed_cell` argument and any exception that happen during thetransform in `preprocessing_exc_tuple` in IPython 7.17 and above.\n",
            "  and should_run_async(code)\n"
          ]
        }
      ]
    },
    {
      "cell_type": "code",
      "source": [
        "BillNye_data.head()"
      ],
      "metadata": {
        "colab": {
          "base_uri": "https://localhost:8080/",
          "height": 262
        },
        "id": "T515lKHXeH3K",
        "outputId": "950cb984-87ce-47c5-cf78-1c5c59b044b0"
      },
      "execution_count": null,
      "outputs": [
        {
          "output_type": "stream",
          "name": "stderr",
          "text": [
            "/usr/local/lib/python3.10/dist-packages/ipykernel/ipkernel.py:283: DeprecationWarning: `should_run_async` will not call `transform_cell` automatically in the future. Please pass the result to `transformed_cell` argument and any exception that happen during thetransform in `preprocessing_exc_tuple` in IPython 7.17 and above.\n",
            "  and should_run_async(code)\n"
          ]
        },
        {
          "output_type": "execute_result",
          "data": {
            "text/plain": [
              "   tweet-id                                         tweet-text tweet-author  \\\n",
              "0         1  Happy Twosday, people(s). That’s right, it’s 2...     Bill Nye   \n",
              "1         2  Dr. King would be 93 years old this week. The ...     Bill Nye   \n",
              "2         3  Happy Isaac Newton’s Birthday James Webb Space...     Bill Nye   \n",
              "3         4  Please, consider the following… my new VR Spac...     Bill Nye   \n",
              "4         5  Winter tornadoes… warm winter in the south & c...     Bill Nye   \n",
              "\n",
              "  tweet-timestamp-date  \n",
              "0           2022-02-22  \n",
              "1           2022-01-17  \n",
              "2           2021-12-25  \n",
              "3           2021-12-14  \n",
              "4           2021-12-12  "
            ],
            "text/html": [
              "\n",
              "  <div id=\"df-cb066d50-ba25-4f60-b350-dd2058d9fbec\">\n",
              "    <div class=\"colab-df-container\">\n",
              "      <div>\n",
              "<style scoped>\n",
              "    .dataframe tbody tr th:only-of-type {\n",
              "        vertical-align: middle;\n",
              "    }\n",
              "\n",
              "    .dataframe tbody tr th {\n",
              "        vertical-align: top;\n",
              "    }\n",
              "\n",
              "    .dataframe thead th {\n",
              "        text-align: right;\n",
              "    }\n",
              "</style>\n",
              "<table border=\"1\" class=\"dataframe\">\n",
              "  <thead>\n",
              "    <tr style=\"text-align: right;\">\n",
              "      <th></th>\n",
              "      <th>tweet-id</th>\n",
              "      <th>tweet-text</th>\n",
              "      <th>tweet-author</th>\n",
              "      <th>tweet-timestamp-date</th>\n",
              "    </tr>\n",
              "  </thead>\n",
              "  <tbody>\n",
              "    <tr>\n",
              "      <th>0</th>\n",
              "      <td>1</td>\n",
              "      <td>Happy Twosday, people(s). That’s right, it’s 2...</td>\n",
              "      <td>Bill Nye</td>\n",
              "      <td>2022-02-22</td>\n",
              "    </tr>\n",
              "    <tr>\n",
              "      <th>1</th>\n",
              "      <td>2</td>\n",
              "      <td>Dr. King would be 93 years old this week. The ...</td>\n",
              "      <td>Bill Nye</td>\n",
              "      <td>2022-01-17</td>\n",
              "    </tr>\n",
              "    <tr>\n",
              "      <th>2</th>\n",
              "      <td>3</td>\n",
              "      <td>Happy Isaac Newton’s Birthday James Webb Space...</td>\n",
              "      <td>Bill Nye</td>\n",
              "      <td>2021-12-25</td>\n",
              "    </tr>\n",
              "    <tr>\n",
              "      <th>3</th>\n",
              "      <td>4</td>\n",
              "      <td>Please, consider the following… my new VR Spac...</td>\n",
              "      <td>Bill Nye</td>\n",
              "      <td>2021-12-14</td>\n",
              "    </tr>\n",
              "    <tr>\n",
              "      <th>4</th>\n",
              "      <td>5</td>\n",
              "      <td>Winter tornadoes… warm winter in the south &amp; c...</td>\n",
              "      <td>Bill Nye</td>\n",
              "      <td>2021-12-12</td>\n",
              "    </tr>\n",
              "  </tbody>\n",
              "</table>\n",
              "</div>\n",
              "      <button class=\"colab-df-convert\" onclick=\"convertToInteractive('df-cb066d50-ba25-4f60-b350-dd2058d9fbec')\"\n",
              "              title=\"Convert this dataframe to an interactive table.\"\n",
              "              style=\"display:none;\">\n",
              "        \n",
              "  <svg xmlns=\"http://www.w3.org/2000/svg\" height=\"24px\"viewBox=\"0 0 24 24\"\n",
              "       width=\"24px\">\n",
              "    <path d=\"M0 0h24v24H0V0z\" fill=\"none\"/>\n",
              "    <path d=\"M18.56 5.44l.94 2.06.94-2.06 2.06-.94-2.06-.94-.94-2.06-.94 2.06-2.06.94zm-11 1L8.5 8.5l.94-2.06 2.06-.94-2.06-.94L8.5 2.5l-.94 2.06-2.06.94zm10 10l.94 2.06.94-2.06 2.06-.94-2.06-.94-.94-2.06-.94 2.06-2.06.94z\"/><path d=\"M17.41 7.96l-1.37-1.37c-.4-.4-.92-.59-1.43-.59-.52 0-1.04.2-1.43.59L10.3 9.45l-7.72 7.72c-.78.78-.78 2.05 0 2.83L4 21.41c.39.39.9.59 1.41.59.51 0 1.02-.2 1.41-.59l7.78-7.78 2.81-2.81c.8-.78.8-2.07 0-2.86zM5.41 20L4 18.59l7.72-7.72 1.47 1.35L5.41 20z\"/>\n",
              "  </svg>\n",
              "      </button>\n",
              "      \n",
              "  <style>\n",
              "    .colab-df-container {\n",
              "      display:flex;\n",
              "      flex-wrap:wrap;\n",
              "      gap: 12px;\n",
              "    }\n",
              "\n",
              "    .colab-df-convert {\n",
              "      background-color: #E8F0FE;\n",
              "      border: none;\n",
              "      border-radius: 50%;\n",
              "      cursor: pointer;\n",
              "      display: none;\n",
              "      fill: #1967D2;\n",
              "      height: 32px;\n",
              "      padding: 0 0 0 0;\n",
              "      width: 32px;\n",
              "    }\n",
              "\n",
              "    .colab-df-convert:hover {\n",
              "      background-color: #E2EBFA;\n",
              "      box-shadow: 0px 1px 2px rgba(60, 64, 67, 0.3), 0px 1px 3px 1px rgba(60, 64, 67, 0.15);\n",
              "      fill: #174EA6;\n",
              "    }\n",
              "\n",
              "    [theme=dark] .colab-df-convert {\n",
              "      background-color: #3B4455;\n",
              "      fill: #D2E3FC;\n",
              "    }\n",
              "\n",
              "    [theme=dark] .colab-df-convert:hover {\n",
              "      background-color: #434B5C;\n",
              "      box-shadow: 0px 1px 3px 1px rgba(0, 0, 0, 0.15);\n",
              "      filter: drop-shadow(0px 1px 2px rgba(0, 0, 0, 0.3));\n",
              "      fill: #FFFFFF;\n",
              "    }\n",
              "  </style>\n",
              "\n",
              "      <script>\n",
              "        const buttonEl =\n",
              "          document.querySelector('#df-cb066d50-ba25-4f60-b350-dd2058d9fbec button.colab-df-convert');\n",
              "        buttonEl.style.display =\n",
              "          google.colab.kernel.accessAllowed ? 'block' : 'none';\n",
              "\n",
              "        async function convertToInteractive(key) {\n",
              "          const element = document.querySelector('#df-cb066d50-ba25-4f60-b350-dd2058d9fbec');\n",
              "          const dataTable =\n",
              "            await google.colab.kernel.invokeFunction('convertToInteractive',\n",
              "                                                     [key], {});\n",
              "          if (!dataTable) return;\n",
              "\n",
              "          const docLinkHtml = 'Like what you see? Visit the ' +\n",
              "            '<a target=\"_blank\" href=https://colab.research.google.com/notebooks/data_table.ipynb>data table notebook</a>'\n",
              "            + ' to learn more about interactive tables.';\n",
              "          element.innerHTML = '';\n",
              "          dataTable['output_type'] = 'display_data';\n",
              "          await google.colab.output.renderOutput(dataTable, element);\n",
              "          const docLink = document.createElement('div');\n",
              "          docLink.innerHTML = docLinkHtml;\n",
              "          element.appendChild(docLink);\n",
              "        }\n",
              "      </script>\n",
              "    </div>\n",
              "  </div>\n",
              "  "
            ]
          },
          "metadata": {},
          "execution_count": 139
        }
      ]
    },
    {
      "cell_type": "code",
      "source": [
        "def lemmatize_stemming(text):\n",
        "    stemmer = SnowballStemmer(\"english\")\n",
        "    return stemmer.stem(WordNetLemmatizer().lemmatize(text, pos='v'))\n",
        "\n",
        "def preprocess(text):\n",
        "    result = []\n",
        "    for token in gensim.utils.simple_preprocess(text):\n",
        "        if token not in gensim.parsing.preprocessing.STOPWORDS and len(token) > 3:\n",
        "            result.append(lemmatize_stemming(token))\n",
        "    return result\n",
        "\n",
        "processed_docs2 = BillNye_data['tweet-text'].map(preprocess)"
      ],
      "metadata": {
        "colab": {
          "base_uri": "https://localhost:8080/"
        },
        "id": "C7MrDYIseICd",
        "outputId": "93bac682-b7ae-40e9-9317-a61971774cf6"
      },
      "execution_count": null,
      "outputs": [
        {
          "output_type": "stream",
          "name": "stderr",
          "text": [
            "/usr/local/lib/python3.10/dist-packages/ipykernel/ipkernel.py:283: DeprecationWarning: `should_run_async` will not call `transform_cell` automatically in the future. Please pass the result to `transformed_cell` argument and any exception that happen during thetransform in `preprocessing_exc_tuple` in IPython 7.17 and above.\n",
            "  and should_run_async(code)\n"
          ]
        }
      ]
    },
    {
      "cell_type": "code",
      "source": [
        "dictionary = gensim.corpora.Dictionary(processed_docs2)\n",
        "\n",
        "dictionary.filter_extremes(no_below=3, no_above=0.9)\n",
        "\n",
        "#dictionary.filter_extremes(no_below=1, no_above=1.0)\n",
        "\n",
        "bow_corpus = [dictionary.doc2bow(doc) for doc in processed_docs2]"
      ],
      "metadata": {
        "colab": {
          "base_uri": "https://localhost:8080/"
        },
        "id": "i1KeffIx85BN",
        "outputId": "e5b654bb-c3f0-4697-d2ff-668ed00e8d00"
      },
      "execution_count": null,
      "outputs": [
        {
          "output_type": "stream",
          "name": "stderr",
          "text": [
            "/usr/local/lib/python3.10/dist-packages/ipykernel/ipkernel.py:283: DeprecationWarning: `should_run_async` will not call `transform_cell` automatically in the future. Please pass the result to `transformed_cell` argument and any exception that happen during thetransform in `preprocessing_exc_tuple` in IPython 7.17 and above.\n",
            "  and should_run_async(code)\n"
          ]
        }
      ]
    },
    {
      "cell_type": "code",
      "source": [
        "print('Number of unique tokens: %d' % len(dictionary))\n",
        "print('Number of documents: %d' % len(bow_corpus))"
      ],
      "metadata": {
        "colab": {
          "base_uri": "https://localhost:8080/"
        },
        "id": "uhe5xyTCeH7L",
        "outputId": "54348ad3-bde6-4dda-f8b6-fdb43e396d4f"
      },
      "execution_count": null,
      "outputs": [
        {
          "output_type": "stream",
          "name": "stdout",
          "text": [
            "Number of unique tokens: 34\n",
            "Number of documents: 122\n"
          ]
        },
        {
          "output_type": "stream",
          "name": "stderr",
          "text": [
            "/usr/local/lib/python3.10/dist-packages/ipykernel/ipkernel.py:283: DeprecationWarning: `should_run_async` will not call `transform_cell` automatically in the future. Please pass the result to `transformed_cell` argument and any exception that happen during thetransform in `preprocessing_exc_tuple` in IPython 7.17 and above.\n",
            "  and should_run_async(code)\n"
          ]
        }
      ]
    },
    {
      "cell_type": "code",
      "source": [
        "lda_model2 = gensim.models.LdaMulticore(bow_corpus, num_topics=10, id2word=dictionary, passes=2, workers=2)"
      ],
      "metadata": {
        "colab": {
          "base_uri": "https://localhost:8080/"
        },
        "id": "uIXuH6VeeH-X",
        "outputId": "960a803b-4b67-41f7-fbdc-8e73e1879dd7"
      },
      "execution_count": null,
      "outputs": [
        {
          "output_type": "stream",
          "name": "stderr",
          "text": [
            "/usr/local/lib/python3.10/dist-packages/ipykernel/ipkernel.py:283: DeprecationWarning: `should_run_async` will not call `transform_cell` automatically in the future. Please pass the result to `transformed_cell` argument and any exception that happen during thetransform in `preprocessing_exc_tuple` in IPython 7.17 and above.\n",
            "  and should_run_async(code)\n",
            "WARNING:gensim.models.ldamulticore:too few updates, training might not converge; consider increasing the number of passes or iterations to improve accuracy\n"
          ]
        }
      ]
    },
    {
      "cell_type": "code",
      "source": [
        "for idx, topic in lda_model2.print_topics(-1):\n",
        "    print('Topic: {} \\nWords: {}'.format(idx, topic))"
      ],
      "metadata": {
        "colab": {
          "base_uri": "https://localhost:8080/"
        },
        "id": "KaPql11jngJi",
        "outputId": "a0603806-cc64-49f1-db12-d2ac13d09118"
      },
      "execution_count": null,
      "outputs": [
        {
          "output_type": "stream",
          "name": "stdout",
          "text": [
            "Topic: 0 \n",
            "Words: 0.088*\"thank\" + 0.067*\"live\" + 0.049*\"today\" + 0.049*\"infami\" + 0.042*\"thing\" + 0.037*\"servic\" + 0.028*\"https\" + 0.026*\"veteran\" + 0.017*\"orbit\" + 0.017*\"join\"\n",
            "Topic: 1 \n",
            "Words: 0.077*\"scienc\" + 0.049*\"climat\" + 0.049*\"chang\" + 0.043*\"peopl\" + 0.043*\"time\" + 0.038*\"littl\" + 0.030*\"readi\" + 0.029*\"send\" + 0.026*\"today\" + 0.024*\"hope\"\n",
            "Topic: 2 \n",
            "Words: 0.038*\"scienc\" + 0.038*\"planetari\" + 0.038*\"exploreplanet\" + 0.032*\"space\" + 0.028*\"help\" + 0.026*\"go\" + 0.023*\"world\" + 0.021*\"work\" + 0.021*\"year\" + 0.020*\"chang\"\n",
            "Topic: 3 \n",
            "Words: 0.087*\"chang\" + 0.063*\"climat\" + 0.059*\"world\" + 0.039*\"vote\" + 0.028*\"voteforsci\" + 0.024*\"today\" + 0.024*\"go\" + 0.024*\"sciencerul\" + 0.024*\"remind\" + 0.024*\"earthday\"\n",
            "Topic: 4 \n",
            "Words: 0.055*\"space\" + 0.054*\"explor\" + 0.039*\"exploreplanet\" + 0.035*\"world\" + 0.032*\"spacecraft\" + 0.030*\"mar\" + 0.028*\"game\" + 0.025*\"celebr\" + 0.024*\"chang\" + 0.022*\"asteroid\"\n",
            "Topic: 5 \n",
            "Words: 0.065*\"today\" + 0.049*\"spacex\" + 0.034*\"nasa\" + 0.034*\"nation\" + 0.034*\"earth\" + 0.034*\"year\" + 0.034*\"moon\" + 0.029*\"congratul\" + 0.023*\"space\" + 0.023*\"exploreplanet\"\n",
            "Topic: 6 \n",
            "Words: 0.044*\"today\" + 0.036*\"look\" + 0.033*\"scienc\" + 0.030*\"work\" + 0.030*\"best\" + 0.027*\"women\" + 0.021*\"earth\" + 0.020*\"space\" + 0.019*\"go\" + 0.019*\"world\"\n",
            "Topic: 7 \n",
            "Words: 0.039*\"chang\" + 0.031*\"clean\" + 0.031*\"access\" + 0.031*\"electr\" + 0.031*\"water\" + 0.029*\"renew\" + 0.026*\"world\" + 0.026*\"climat\" + 0.026*\"work\" + 0.026*\"thing\"\n",
            "Topic: 8 \n",
            "Words: 0.089*\"happi\" + 0.040*\"chang\" + 0.034*\"year\" + 0.032*\"climat\" + 0.030*\"good\" + 0.028*\"ultim\" + 0.028*\"play\" + 0.025*\"mar\" + 0.018*\"littl\" + 0.018*\"scienc\"\n",
            "Topic: 9 \n",
            "Words: 0.067*\"year\" + 0.064*\"peopl\" + 0.036*\"chang\" + 0.035*\"happi\" + 0.034*\"world\" + 0.026*\"question\" + 0.025*\"great\" + 0.023*\"climat\" + 0.021*\"space\" + 0.020*\"astronaut\"\n"
          ]
        },
        {
          "output_type": "stream",
          "name": "stderr",
          "text": [
            "/usr/local/lib/python3.10/dist-packages/ipykernel/ipkernel.py:283: DeprecationWarning: `should_run_async` will not call `transform_cell` automatically in the future. Please pass the result to `transformed_cell` argument and any exception that happen during thetransform in `preprocessing_exc_tuple` in IPython 7.17 and above.\n",
            "  and should_run_async(code)\n"
          ]
        }
      ]
    },
    {
      "cell_type": "code",
      "source": [
        "pyLDAvis.enable_notebook()\n",
        "\n",
        "vis = gensimvis.prepare(lda_model2, bow_corpus, dictionary, n_jobs=1)\n",
        "pyLDAvis.display(vis)"
      ],
      "metadata": {
        "colab": {
          "base_uri": "https://localhost:8080/",
          "height": 917
        },
        "id": "BLwNTWeUngNn",
        "outputId": "0e5acffa-ba4d-4ac5-eca9-629446f239e4"
      },
      "execution_count": null,
      "outputs": [
        {
          "output_type": "stream",
          "name": "stderr",
          "text": [
            "/usr/local/lib/python3.10/dist-packages/ipykernel/ipkernel.py:283: DeprecationWarning: `should_run_async` will not call `transform_cell` automatically in the future. Please pass the result to `transformed_cell` argument and any exception that happen during thetransform in `preprocessing_exc_tuple` in IPython 7.17 and above.\n",
            "  and should_run_async(code)\n"
          ]
        },
        {
          "output_type": "execute_result",
          "data": {
            "text/plain": [
              "<IPython.core.display.HTML object>"
            ],
            "text/html": [
              "\n",
              "<link rel=\"stylesheet\" type=\"text/css\" href=\"https://cdn.jsdelivr.net/gh/bmabey/pyLDAvis@3.4.0/pyLDAvis/js/ldavis.v1.0.0.css\">\n",
              "\n",
              "\n",
              "<div id=\"ldavis_el2591401462765429282405728147\" style=\"background-color:white;\"></div>\n",
              "<script type=\"text/javascript\">\n",
              "\n",
              "var ldavis_el2591401462765429282405728147_data = {\"mdsDat\": {\"x\": [-0.0946085702280353, -0.06326533056798714, -0.0631917688073885, -0.03217260148655984, 0.0020621561848834895, -0.036619181365532744, 0.02071540999967622, -0.06975793032166921, 0.13844962188250878, 0.19838819471010416], \"y\": [-0.010322205418629087, 0.02255083554184385, 0.01427513271568646, -0.13433637451448466, 0.13784697645747984, 0.01303390761554382, -0.12604880863912332, 0.07958945491812842, -0.07857538406453506, 0.08198646538808917], \"topics\": [1, 2, 3, 4, 5, 6, 7, 8, 9, 10], \"cluster\": [1, 1, 1, 1, 1, 1, 1, 1, 1, 1], \"Freq\": [17.563757294724418, 12.68899379553983, 10.757795387985542, 10.29268962093105, 10.052587902933126, 9.32581743295509, 8.5251291610492, 7.542888140486446, 7.225243674299678, 6.025097589095617]}, \"tinfo\": {\"Term\": [\"happi\", \"thank\", \"peopl\", \"chang\", \"year\", \"climat\", \"scienc\", \"live\", \"today\", \"explor\", \"exploreplanet\", \"spacex\", \"thing\", \"infami\", \"space\", \"world\", \"planetari\", \"servic\", \"vote\", \"question\", \"moon\", \"littl\", \"time\", \"spacecraft\", \"renew\", \"safe\", \"nation\", \"water\", \"great\", \"access\", \"women\", \"gulf\", \"state\", \"best\", \"king\", \"birthday\", \"remain\", \"telescop\", \"week\", \"univers\", \"turn\", \"school\", \"honor\", \"look\", \"fight\", \"friend\", \"winter\", \"life\", \"half\", \"cool\", \"futur\", \"work\", \"right\", \"go\", \"astronaut\", \"voteforsci\", \"water\", \"today\", \"congratul\", \"northern\", \"earth\", \"scienc\", \"time\", \"nasa\", \"space\", \"world\", \"think\", \"chang\", \"take\", \"planetari\", \"fli\", \"help\", \"rocket\", \"earthl\", \"check\", \"greet\", \"societi\", \"anniversari\", \"http\", \"tomorrow\", \"exploreplanet\", \"address\", \"moon\", \"need\", \"amaz\", \"sciencerul\", \"asteroid\", \"go\", \"plan\", \"public\", \"think\", \"lightsail\", \"solstic\", \"probabl\", \"chtbl\", \"telescop\", \"remain\", \"pictur\", \"carri\", \"game\", \"miss\", \"space\", \"scienc\", \"earth\", \"work\", \"https\", \"right\", \"year\", \"world\", \"chang\", \"climat\", \"nasa\", \"mar\", \"explor\", \"ultim\", \"play\", \"happi\", \"administr\", \"northern\", \"good\", \"hard\", \"huge\", \"need\", \"team\", \"safe\", \"earthl\", \"check\", \"public\", \"fire\", \"talk\", \"humankind\", \"littl\", \"rule\", \"visit\", \"fall\", \"birthday\", \"drive\", \"bring\", \"mar\", \"earthday\", \"wonder\", \"watch\", \"friend\", \"star\", \"year\", \"climat\", \"chang\", \"https\", \"thank\", \"nasa\", \"work\", \"explor\", \"scienc\", \"today\", \"earth\", \"voteforsci\", \"celebr\", \"space\", \"vote\", \"peopl\", \"exploreplanet\", \"readi\", \"send\", \"hope\", \"record\", \"littl\", \"mind\", \"leav\", \"star\", \"time\", \"scienc\", \"basebal\", \"peopl\", \"public\", \"rule\", \"pretti\", \"probabl\", \"begin\", \"import\", \"chtbl\", \"sure\", \"opportun\", \"learn\", \"support\", \"die\", \"like\", \"question\", \"wonder\", \"climat\", \"tomorrow\", \"link\", \"vote\", \"chang\", \"right\", \"today\", \"look\", \"http\", \"https\", \"honor\", \"join\", \"voteforsci\", \"explor\", \"persever\", \"spacecraft\", \"freedom\", \"game\", \"servic\", \"futur\", \"celebr\", \"exploreplanet\", \"safe\", \"space\", \"asteroid\", \"humankind\", \"pretti\", \"fall\", \"visit\", \"drive\", \"carri\", \"pictur\", \"histori\", \"record\", \"sure\", \"learn\", \"opportun\", \"grate\", \"moment\", \"mar\", \"surpris\", \"scientist\", \"orbit\", \"world\", \"join\", \"https\", \"thank\", \"peopl\", \"chang\", \"scienc\", \"day\", \"amaz\", \"live\", \"best\", \"take\", \"bring\", \"life\", \"human\", \"young\", \"peopl\", \"hard\", \"experi\", \"great\", \"year\", \"question\", \"astronaut\", \"societi\", \"greet\", \"fire\", \"humankind\", \"basebal\", \"solstic\", \"student\", \"support\", \"turn\", \"univers\", \"moment\", \"know\", \"answer\", \"save\", \"tomorrow\", \"watch\", \"ahead\", \"link\", \"winter\", \"podcast\", \"cool\", \"right\", \"happi\", \"join\", \"world\", \"chang\", \"climat\", \"space\", \"earth\", \"mar\", \"today\", \"look\", \"futur\", \"time\", \"nasa\", \"planetari\", \"earthday\", \"sciencerul\", \"vote\", \"remind\", \"voteforsci\", \"talk\", \"chtbl\", \"want\", \"past\", \"internet\", \"mind\", \"save\", \"scientist\", \"miss\", \"month\", \"climat\", \"consid\", \"link\", \"planet\", \"young\", \"chang\", \"pandem\", \"electr\", \"access\", \"podcast\", \"cool\", \"world\", \"experi\", \"human\", \"clean\", \"go\", \"today\", \"live\", \"https\", \"day\", \"look\", \"take\", \"earth\", \"like\", \"astronaut\", \"spacex\", \"plan\", \"nation\", \"west\", \"ahead\", \"moon\", \"congratul\", \"renew\", \"fire\", \"lightsail\", \"talk\", \"pretti\", \"import\", \"begin\", \"histori\", \"great\", \"celebr\", \"wonder\", \"basebal\", \"nasa\", \"leav\", \"consid\", \"pandem\", \"earth\", \"internet\", \"today\", \"amaz\", \"team\", \"human\", \"miss\", \"year\", \"exploreplanet\", \"space\", \"world\", \"join\", \"take\", \"bring\", \"look\", \"access\", \"electr\", \"grate\", \"problem\", \"clean\", \"half\", \"memori\", \"renew\", \"water\", \"come\", \"internet\", \"safe\", \"thing\", \"sure\", \"student\", \"die\", \"veteran\", \"school\", \"watch\", \"question\", \"planet\", \"freedom\", \"podcast\", \"know\", \"answer\", \"remind\", \"miss\", \"honor\", \"spacecraft\", \"http\", \"help\", \"live\", \"work\", \"chang\", \"climat\", \"world\", \"scienc\", \"mar\", \"nasa\", \"infami\", \"thank\", \"veteran\", \"servic\", \"thing\", \"lightsail\", \"probabl\", \"drive\", \"carri\", \"pictur\", \"support\", \"die\", \"moment\", \"surpris\", \"live\", \"address\", \"consid\", \"problem\", \"month\", \"memori\", \"answer\", \"orbit\", \"day\", \"fight\", \"spacecraft\", \"https\", \"question\", \"join\", \"vote\", \"today\", \"year\", \"think\"], \"Freq\": [17.0, 10.0, 14.0, 30.0, 18.0, 21.0, 23.0, 14.0, 25.0, 9.0, 12.0, 5.0, 6.0, 3.0, 18.0, 22.0, 6.0, 5.0, 8.0, 7.0, 6.0, 7.0, 10.0, 6.0, 5.0, 5.0, 5.0, 6.0, 6.0, 4.0, 4.624951918133729, 2.531585233102489, 2.811218872264842, 5.110029141070212, 2.5316408200570755, 1.904390535151375, 1.904382801314215, 1.9043799011252802, 2.811212749643757, 1.9043755508418776, 1.904361694383633, 1.9043658835454278, 3.158929935270183, 6.159154442669062, 2.8112340176959467, 1.9043521882087906, 1.9043699115856152, 1.9043797400036726, 1.9043689448559702, 1.9043413930610882, 2.531656771096218, 5.252104241102072, 3.086107157843183, 3.224857352382727, 1.9043629833564928, 2.183976965682731, 1.9043576663434454, 7.693201645974768, 2.0598084377433032, 0.9975221593184449, 3.718130509249385, 5.696914596379251, 2.8112369178848815, 2.811217583291982, 3.438442088740483, 3.2248534854641475, 2.2468018251213064, 2.8111905148619223, 1.9044034248799748, 4.772086325188522, 2.4251454344995746, 3.5302208354350815, 2.1839420059805614, 1.6428292434076361, 1.6428256349198649, 1.6428364603831784, 1.6428292434076361, 1.6428214444179372, 2.425162196507286, 1.6427872219855268, 4.772068166346835, 1.642819581972636, 2.4251354238560805, 1.6428546192248656, 1.6428261005311902, 1.6428351799520338, 2.4251307677428273, 3.2074572022839223, 0.8605093856265109, 0.8605191052629267, 2.425125413212586, 0.8605217825280473, 0.8605186396516015, 0.8605182904431075, 0.8605175338247039, 0.8605192216657581, 0.8605166026020532, 0.8605189888600955, 0.8605192798671738, 1.6428527567795643, 1.4262164950207876, 3.989807150196946, 4.772111468200089, 2.4251468313335502, 2.6663672546659374, 1.8840100897773715, 1.6428354127576965, 2.5658098751554235, 2.919087579316528, 2.529347619464626, 1.797547929112347, 1.6428407672879375, 1.6428406508851063, 1.6428267989481782, 2.946509089341427, 2.946490338824734, 9.43355468979648, 1.631890034483633, 1.631867632550531, 3.1860968756817907, 1.3731598456513272, 1.63192487096991, 1.631927239456229, 1.6318881594319634, 1.6729937329349927, 0.8547951009605308, 0.8547830611550752, 0.8547992458115892, 0.8547744753921683, 0.8547982589422896, 0.8547927324742116, 1.8714726891036386, 0.8547904626748225, 0.8547969760122001, 0.8547891797447329, 0.8547585867964442, 0.8547957917690405, 1.6319145088422637, 2.6484682448882673, 0.8547898705532426, 0.8546518075382238, 0.8547981602553596, 0.8547570078055649, 0.8547735872097987, 3.588387829714308, 3.4256712405996796, 4.202810287180475, 1.6318231247451176, 1.5476053763921123, 1.631841283140231, 1.6318638824471925, 1.3339235012887358, 1.8714180165444387, 1.7602718616730948, 1.3731045809705476, 1.0943591037507734, 1.0944183159087515, 1.3339522191853552, 1.0943521956656759, 1.1544453318675343, 1.0943638407234115, 3.025429193712577, 2.9102515721660396, 2.40622295473881, 1.81003146761506, 3.864323640252957, 1.544258614911024, 1.8100267466015851, 1.8099793476262962, 4.395808161326394, 7.829604454103638, 1.1072840625933316, 4.395912401303921, 0.9481032907504928, 0.9481049903153438, 0.9481057456774998, 0.9480866727830608, 0.9481838312403761, 0.9481000804613298, 0.9480990418383654, 0.9480971534329753, 0.9480976255343228, 0.9480904495938408, 0.9480997972005213, 0.9481047070545353, 1.8100949180361638, 1.8951619156392407, 0.9480983808964788, 4.991930532812869, 0.9481024409680673, 0.9481073508220813, 1.81005412847974, 4.991924867596699, 1.54877010980799, 2.672107223360855, 1.8099576309643113, 1.0332037131289724, 0.9481207585003503, 0.9481151877044498, 0.9481130160382513, 0.9481108443720527, 5.303545207947864, 1.869834650882917, 3.2049022382869032, 1.856974156294807, 2.7412731917893742, 1.8569651189612038, 2.1295135790725865, 2.468649113172332, 3.846679815655162, 1.8101819782989022, 5.487446462745478, 2.203039665349788, 0.972705183767124, 0.972694947603553, 0.9727109012638934, 0.9727023250187393, 0.9726992818349749, 0.9726988207465258, 0.9726972530457987, 0.9727077658624391, 0.9726660834666366, 0.972682590433116, 0.9727091491277866, 0.9727049993317444, 0.9727221518220525, 0.972704630460985, 2.979449536806341, 0.9726639624597706, 0.9726989129642156, 1.2282999749096668, 3.4547162713248536, 1.7026080143247218, 1.8570307779563617, 1.8569162435855946, 1.8569653033965834, 2.3987883111950556, 1.5841053319289597, 0.9727307280672065, 0.9727206763390152, 0.9727189242029084, 0.9727161576722135, 0.9727135755768984, 0.9727134833592085, 0.9727119156584815, 0.9727117312231018, 1.8520480149719942, 5.921616212432375, 1.263742263782199, 1.2465366610543356, 2.302911528256918, 6.167321075588626, 2.3712757299348426, 1.8520550301245615, 0.9701136425157304, 0.9700722360054563, 0.9701300682388143, 0.9701039752932904, 0.9700516183009603, 0.9701129581106019, 0.9701118459522681, 0.9701127014586787, 0.9701111615471396, 0.9701115893003449, 0.9701094505343184, 1.395450469969877, 1.3954883689038677, 0.970081475474691, 0.9701177489465014, 0.9701172356426551, 0.9700915704503363, 0.9701129581106019, 0.9701084239266256, 0.9701127014586787, 0.970076000233663, 1.852024231893779, 3.2342543046483927, 1.667371899326431, 3.1211543039487926, 3.331061699061545, 2.105129909907038, 1.897544188091431, 1.263732511009118, 1.2105618465319152, 1.1622078542477963, 0.9701315225997124, 0.970125534054838, 0.9701211709721439, 0.9701148402247053, 0.9701132147625251, 1.9925045362623002, 1.992509854236662, 3.305116999144881, 1.99250938500363, 2.3561701463046862, 1.0437067431152451, 1.0436914930417076, 1.043698922564713, 1.0436928225352982, 1.0436841417242075, 1.0437080726088355, 1.0436922750967608, 1.0436638864983296, 1.7152854148684447, 1.1245515278287188, 5.327902707067061, 1.0436119580427972, 1.0436930571518142, 1.0437018943739151, 1.0436713160213351, 7.284149606952932, 1.043701112318862, 1.0436860186563353, 1.0436831250526384, 1.0436956379334896, 1.0435969425857758, 4.955419895532884, 0.7462970717964253, 1.0436836724911756, 1.0436880519994736, 1.9925314389561302, 1.9925467672351729, 1.522074490878254, 1.0437306739998728, 1.0437276239851654, 1.0437197252291281, 1.0437097931299526, 1.0437061956767077, 1.043697436660112, 1.0436949340839417, 3.6287762933074057, 1.699685437387853, 2.5091096906820787, 1.4500363616982905, 1.6996965085703293, 2.5089057041449534, 2.1207226453502424, 1.4950819586190587, 0.8902836032381418, 0.8902397336775796, 0.8902602845600511, 0.8903036697563801, 0.8902835340432513, 0.8902344056710129, 0.8903010403505419, 1.699697062129453, 1.6995658686171091, 0.8903136338206087, 0.7408110842617658, 2.509131279487907, 0.8903021474687896, 0.89030802903448, 0.890310035686304, 2.509095851703983, 0.685763365922591, 4.803308908489516, 0.8903114195841134, 0.8903160556417754, 0.8902647822279321, 0.8903191002169564, 2.5090175230879637, 1.6997013522126625, 1.699705919075434, 1.6996844686593862, 0.8903207608943278, 0.8903195153862992, 0.8903090669578373, 0.8902991720884991, 2.2201240498001504, 2.220122591618804, 1.5866834448733533, 1.8597277694048155, 2.2201326663262875, 1.8597370487406555, 1.8597416884085756, 2.083573320436226, 2.2201154332740134, 1.8597695264160958, 1.1979519171187896, 1.8597550771645734, 1.8597733707123723, 0.9741630363169737, 0.9741560105341233, 0.9741433508687987, 0.9741433508687987, 0.9741562093770342, 0.9741690678852697, 1.772248156392172, 0.974155016319569, 0.9741491173132135, 0.9741306249225038, 0.9741519673949358, 0.9741379158292353, 0.9741465986363427, 0.9741241293874158, 0.9741186943478523, 0.9741450078930558, 0.8866809709084293, 0.9741578664012913, 1.8597659472437003, 1.859776287075065, 2.745452438473958, 1.8598012087198925, 1.8598139346661875, 1.322957429392467, 0.9741710563143783, 0.9741585292109942, 2.8889256192268027, 5.21121860030266, 1.5416043908179302, 2.186188270461049, 2.4701612137373696, 1.0251277822174403, 1.0250999254331619, 1.0250915241807605, 1.025102136289057, 1.0250995938047778, 1.0250997043475725, 1.0250947299218085, 1.0250903082100182, 1.0250070694855673, 3.9580484388717943, 1.025101694117878, 1.025117170109144, 1.0251043471449521, 1.0251074423432054, 1.0250910820095815, 1.025115733052812, 1.0251386154113264, 1.0249471552908098, 1.0251041260593627, 1.0250927401515029, 1.6696849105042282, 1.0250969407777035, 1.0251281138458246, 1.025102136289057, 2.889092759932473, 1.0251110902554323, 1.025107110714821], \"Total\": [17.0, 10.0, 14.0, 30.0, 18.0, 21.0, 23.0, 14.0, 25.0, 9.0, 12.0, 5.0, 6.0, 3.0, 18.0, 22.0, 6.0, 5.0, 8.0, 7.0, 6.0, 7.0, 10.0, 6.0, 5.0, 5.0, 5.0, 6.0, 6.0, 4.0, 6.350120077004456, 3.5805903574877935, 4.449495788258281, 8.730929626388699, 4.433444284290574, 3.4578124594683444, 3.463025475992248, 3.463024705492005, 5.25181758228337, 3.562649690776871, 3.562647095340596, 3.5663193259799644, 6.165140242305836, 13.136638889746514, 6.158495521726676, 4.240103638490551, 4.3449444432180275, 4.347300421540419, 4.451921713505737, 4.51140882907099, 6.231105762546776, 14.584525511810538, 8.6535194423087, 10.273973377777914, 6.1756863526029635, 7.100266059831354, 6.2411114400313705, 25.239227061740394, 6.814911191444438, 3.3280570757982573, 12.689355683232995, 23.790956833072176, 10.440504134939589, 11.786327543147499, 18.717043513951282, 22.737731420297752, 9.31050136328958, 30.468936542008624, 7.744463649689816, 6.442843261188157, 4.120791808668175, 6.523016082561337, 4.1720933293516165, 3.208729275414008, 3.2087272290321067, 3.3135504354353613, 3.3135635844841147, 3.3384799791628166, 5.865955736294653, 4.175469807555564, 12.35184479411064, 4.270385771551586, 6.526363500019188, 4.8677511673157605, 4.902379742158628, 5.191179903539323, 7.679080431427021, 10.273973377777914, 3.2680788194446206, 3.2883253600573794, 9.31050136328958, 3.3906037516147887, 3.438077696332225, 3.4431421889719216, 3.4600399942262, 3.463024705492005, 3.463025475992248, 3.465508239276191, 3.4655106855385336, 6.670958201790079, 6.033587446385382, 18.717043513951282, 23.790956833072176, 12.689355683232995, 14.584525511810538, 10.28966396472309, 8.6535194423087, 18.506807955990617, 22.737731420297752, 30.468936542008624, 21.674964498197788, 11.786327543147499, 10.950427994071076, 9.331520648529894, 3.977029271631734, 3.9770275600750478, 17.205495403226347, 3.328056009216651, 3.3280570757982573, 6.651033314145949, 3.3380411700805674, 4.212321567226396, 4.8677511673157605, 5.009487294622005, 5.95530639327104, 3.208729275414008, 3.2087272290321067, 3.2883253600573794, 3.3354083471063887, 3.4022923142601047, 3.4103114729085835, 7.470785229530836, 3.412861963916365, 3.435225770442967, 3.4352284152990453, 3.4578124594683444, 3.4602974573213823, 6.676050310635869, 10.950427994071076, 3.541739535827636, 4.097684466681412, 4.1939280577466675, 4.240103638490551, 4.2522164807934795, 18.506807955990617, 21.674964498197788, 30.468936542008624, 10.28966396472309, 10.62214274264582, 11.786327543147499, 14.584525511810538, 9.331520648529894, 23.790956833072176, 25.239227061740394, 12.689355683232995, 7.100266059831354, 7.651420856807013, 18.717043513951282, 8.811550250954664, 14.664811912473125, 12.35184479411064, 5.060806788226702, 5.114142866532872, 4.347483693107881, 3.4751370476611654, 7.470785229530836, 3.5469431451572815, 4.182532629992757, 4.2522164807934795, 10.440504134939589, 23.790956833072176, 3.4299122633232866, 14.664811912473125, 3.2883253600573794, 3.412861963916365, 3.4225856001630293, 3.4431421889719216, 3.4451515964714017, 3.4451403967809515, 3.4600399942262, 3.4988053108608854, 3.5200508578589567, 3.520048712540953, 3.542774536297335, 3.546440014417448, 6.939826135482615, 7.894305958109576, 4.097684466681412, 21.674964498197788, 4.175469807555564, 4.341968848229725, 8.811550250954664, 30.468936542008624, 8.6535194423087, 25.239227061740394, 13.136638889746514, 5.865955736294653, 10.28966396472309, 6.165140242305836, 8.664096333215982, 7.100266059831354, 9.331520648529894, 3.5314242443549775, 6.225747776564091, 4.4280151902322915, 6.670958201790079, 5.346890012337569, 6.231105762546776, 7.651420856807013, 12.35184479411064, 5.95530639327104, 18.717043513951282, 7.679080431427021, 3.4103114729085835, 3.4225856001630293, 3.4352284152990453, 3.435225770442967, 3.4602974573213823, 3.4655106855385336, 3.465508239276191, 3.4675105359412086, 3.4751370476611654, 3.4988053108608854, 3.520048712540953, 3.5200508578589567, 3.5213313243633606, 3.5651318621037866, 10.950427994071076, 3.590018624590307, 3.6069362688403777, 5.254048096449903, 22.737731420297752, 8.664096333215982, 10.28966396472309, 10.62214274264582, 14.664811912473125, 30.468936542008624, 23.790956833072176, 5.420751484434578, 4.902379742158628, 14.135030399931058, 8.730929626388699, 7.744463649689816, 6.676050310635869, 4.347300421540419, 5.068873894124982, 4.361989137793051, 14.664811912473125, 3.3380411700805674, 3.5836180448081243, 6.896572929434096, 18.506807955990617, 7.894305958109576, 6.1756863526029635, 3.3135635844841147, 3.3135504354353613, 3.3354083471063887, 3.4103114729085835, 3.4299122633232866, 3.438077696332225, 3.5413756731390102, 3.542774536297335, 3.562647095340596, 3.562649690776871, 3.5651318621037866, 5.151313417416492, 5.17639923183372, 3.60458540006287, 4.175469807555564, 4.1939280577466675, 4.274536698334202, 4.341968848229725, 4.3449444432180275, 4.44525744858956, 4.51140882907099, 8.6535194423087, 17.205495403226347, 8.664096333215982, 22.737731420297752, 30.468936542008624, 21.674964498197788, 18.717043513951282, 12.689355683232995, 10.950427994071076, 25.239227061740394, 13.136638889746514, 6.231105762546776, 10.440504134939589, 11.786327543147499, 6.442843261188157, 3.541739535827636, 5.191179903539323, 8.811550250954664, 5.396425178262415, 7.100266059831354, 3.4022923142601047, 3.4600399942262, 3.504964210729598, 3.504967383189017, 3.5300556506394964, 3.5469431451572815, 3.60458540006287, 3.6069362688403777, 6.033587446385382, 4.41243715114577, 21.674964498197788, 4.339387641929106, 4.341968848229725, 4.345626845074382, 4.361989137793051, 30.468936542008624, 4.416312119115178, 4.427417123477459, 4.42741841337626, 4.44525744858956, 4.51140882907099, 22.737731420297752, 3.5836180448081243, 5.068873894124982, 5.204508466717388, 10.273973377777914, 25.239227061740394, 14.135030399931058, 10.28966396472309, 5.420751484434578, 13.136638889746514, 7.744463649689816, 12.689355683232995, 6.939826135482615, 6.1756863526029635, 5.84202152827246, 3.2680788194446206, 5.083910011348885, 3.3842218914608773, 4.274536698334202, 6.526363500019188, 6.814911191444438, 5.225055433701541, 3.3354083471063887, 3.3906037516147887, 3.4022923142601047, 3.4225856001630293, 3.4451403967809515, 3.4451515964714017, 3.4675105359412086, 6.896572929434096, 7.651420856807013, 4.097684466681412, 3.4299122633232866, 11.786327543147499, 4.182532629992757, 4.339387641929106, 4.416312119115178, 12.689355683232995, 3.5300556506394964, 25.239227061740394, 4.902379742158628, 5.009487294622005, 5.068873894124982, 6.033587446385382, 18.506807955990617, 12.35184479411064, 18.717043513951282, 22.737731420297752, 8.664096333215982, 7.744463649689816, 6.676050310635869, 13.136638889746514, 4.42741841337626, 4.427417123477459, 3.5213313243633606, 4.352426014827564, 5.204508466717388, 4.451921713505737, 4.454400133379796, 5.225055433701541, 6.2411114400313705, 5.246038030822382, 3.5300556506394964, 5.95530639327104, 6.323475139302577, 3.4988053108608854, 3.5413756731390102, 3.546440014417448, 3.54742627052224, 3.5663193259799644, 4.1939280577466675, 7.894305958109576, 4.345626845074382, 4.4280151902322915, 4.44525744858956, 5.151313417416492, 5.17639923183372, 5.396425178262415, 6.033587446385382, 6.165140242305836, 6.225747776564091, 5.865955736294653, 6.523016082561337, 14.135030399931058, 14.584525511810538, 30.468936542008624, 21.674964498197788, 22.737731420297752, 23.790956833072176, 10.950427994071076, 11.786327543147499, 3.662780897247221, 10.62214274264582, 3.54742627052224, 5.346890012337569, 6.323475139302577, 3.3906037516147887, 3.4431421889719216, 3.4602974573213823, 3.4655106855385336, 3.465508239276191, 3.542774536297335, 3.546440014417448, 3.5651318621037866, 3.590018624590307, 14.135030399931058, 4.270385771551586, 4.339387641929106, 4.352426014827564, 4.41243715114577, 4.454400133379796, 5.17639923183372, 5.254048096449903, 5.420751484434578, 6.158495521726676, 6.225747776564091, 10.28966396472309, 7.894305958109576, 8.664096333215982, 8.811550250954664, 25.239227061740394, 18.506807955990617, 9.31050136328958], \"Category\": [\"Default\", \"Default\", \"Default\", \"Default\", \"Default\", \"Default\", \"Default\", \"Default\", \"Default\", \"Default\", \"Default\", \"Default\", \"Default\", \"Default\", \"Default\", \"Default\", \"Default\", \"Default\", \"Default\", \"Default\", \"Default\", \"Default\", \"Default\", \"Default\", \"Default\", \"Default\", \"Default\", \"Default\", \"Default\", \"Default\", \"Topic1\", \"Topic1\", \"Topic1\", \"Topic1\", \"Topic1\", \"Topic1\", \"Topic1\", \"Topic1\", \"Topic1\", \"Topic1\", \"Topic1\", \"Topic1\", \"Topic1\", \"Topic1\", \"Topic1\", \"Topic1\", \"Topic1\", \"Topic1\", \"Topic1\", \"Topic1\", \"Topic1\", \"Topic1\", \"Topic1\", \"Topic1\", \"Topic1\", \"Topic1\", \"Topic1\", \"Topic1\", \"Topic1\", \"Topic1\", \"Topic1\", \"Topic1\", \"Topic1\", \"Topic1\", \"Topic1\", \"Topic1\", \"Topic1\", \"Topic1\", \"Topic1\", \"Topic2\", \"Topic2\", \"Topic2\", \"Topic2\", \"Topic2\", \"Topic2\", \"Topic2\", \"Topic2\", \"Topic2\", \"Topic2\", \"Topic2\", \"Topic2\", \"Topic2\", \"Topic2\", \"Topic2\", \"Topic2\", \"Topic2\", \"Topic2\", \"Topic2\", \"Topic2\", \"Topic2\", \"Topic2\", \"Topic2\", \"Topic2\", \"Topic2\", \"Topic2\", \"Topic2\", \"Topic2\", \"Topic2\", \"Topic2\", \"Topic2\", \"Topic2\", \"Topic2\", \"Topic2\", \"Topic2\", \"Topic2\", \"Topic2\", \"Topic2\", \"Topic2\", \"Topic2\", \"Topic2\", \"Topic2\", \"Topic2\", \"Topic2\", \"Topic2\", \"Topic3\", \"Topic3\", \"Topic3\", \"Topic3\", \"Topic3\", \"Topic3\", \"Topic3\", \"Topic3\", \"Topic3\", \"Topic3\", \"Topic3\", \"Topic3\", \"Topic3\", \"Topic3\", \"Topic3\", \"Topic3\", \"Topic3\", \"Topic3\", \"Topic3\", \"Topic3\", \"Topic3\", \"Topic3\", \"Topic3\", \"Topic3\", \"Topic3\", \"Topic3\", \"Topic3\", \"Topic3\", \"Topic3\", \"Topic3\", \"Topic3\", \"Topic3\", \"Topic3\", \"Topic3\", \"Topic3\", \"Topic3\", \"Topic3\", \"Topic3\", \"Topic3\", \"Topic3\", \"Topic3\", \"Topic3\", \"Topic3\", \"Topic3\", \"Topic3\", \"Topic3\", \"Topic3\", \"Topic4\", \"Topic4\", \"Topic4\", \"Topic4\", \"Topic4\", \"Topic4\", \"Topic4\", \"Topic4\", \"Topic4\", \"Topic4\", \"Topic4\", \"Topic4\", \"Topic4\", \"Topic4\", \"Topic4\", \"Topic4\", \"Topic4\", \"Topic4\", \"Topic4\", \"Topic4\", \"Topic4\", \"Topic4\", \"Topic4\", \"Topic4\", \"Topic4\", \"Topic4\", \"Topic4\", \"Topic4\", \"Topic4\", \"Topic4\", \"Topic4\", \"Topic4\", \"Topic4\", \"Topic4\", \"Topic4\", \"Topic4\", \"Topic4\", \"Topic4\", \"Topic4\", \"Topic4\", \"Topic5\", \"Topic5\", \"Topic5\", \"Topic5\", \"Topic5\", \"Topic5\", \"Topic5\", \"Topic5\", \"Topic5\", \"Topic5\", \"Topic5\", \"Topic5\", \"Topic5\", \"Topic5\", \"Topic5\", \"Topic5\", \"Topic5\", \"Topic5\", \"Topic5\", \"Topic5\", \"Topic5\", \"Topic5\", \"Topic5\", \"Topic5\", \"Topic5\", \"Topic5\", \"Topic5\", \"Topic5\", \"Topic5\", \"Topic5\", \"Topic5\", \"Topic5\", \"Topic5\", \"Topic5\", \"Topic5\", \"Topic5\", \"Topic5\", \"Topic5\", \"Topic5\", \"Topic5\", \"Topic5\", \"Topic5\", \"Topic5\", \"Topic5\", \"Topic5\", \"Topic6\", \"Topic6\", \"Topic6\", \"Topic6\", \"Topic6\", \"Topic6\", \"Topic6\", \"Topic6\", \"Topic6\", \"Topic6\", \"Topic6\", \"Topic6\", \"Topic6\", \"Topic6\", \"Topic6\", \"Topic6\", \"Topic6\", \"Topic6\", \"Topic6\", \"Topic6\", \"Topic6\", \"Topic6\", \"Topic6\", \"Topic6\", \"Topic6\", \"Topic6\", \"Topic6\", \"Topic6\", \"Topic6\", \"Topic6\", \"Topic6\", \"Topic6\", \"Topic6\", \"Topic6\", \"Topic6\", \"Topic6\", \"Topic6\", \"Topic6\", \"Topic6\", \"Topic6\", \"Topic6\", \"Topic6\", \"Topic6\", \"Topic6\", \"Topic7\", \"Topic7\", \"Topic7\", \"Topic7\", \"Topic7\", \"Topic7\", \"Topic7\", \"Topic7\", \"Topic7\", \"Topic7\", \"Topic7\", \"Topic7\", \"Topic7\", \"Topic7\", \"Topic7\", \"Topic7\", \"Topic7\", \"Topic7\", \"Topic7\", \"Topic7\", \"Topic7\", \"Topic7\", \"Topic7\", \"Topic7\", \"Topic7\", \"Topic7\", \"Topic7\", \"Topic7\", \"Topic7\", \"Topic7\", \"Topic7\", \"Topic7\", \"Topic7\", \"Topic7\", \"Topic7\", \"Topic7\", \"Topic7\", \"Topic7\", \"Topic7\", \"Topic7\", \"Topic8\", \"Topic8\", \"Topic8\", \"Topic8\", \"Topic8\", \"Topic8\", \"Topic8\", \"Topic8\", \"Topic8\", \"Topic8\", \"Topic8\", \"Topic8\", \"Topic8\", \"Topic8\", \"Topic8\", \"Topic8\", \"Topic8\", \"Topic8\", \"Topic8\", \"Topic8\", \"Topic8\", \"Topic8\", \"Topic8\", \"Topic8\", \"Topic8\", \"Topic8\", \"Topic8\", \"Topic8\", \"Topic8\", \"Topic8\", \"Topic8\", \"Topic8\", \"Topic8\", \"Topic8\", \"Topic8\", \"Topic8\", \"Topic8\", \"Topic8\", \"Topic9\", \"Topic9\", \"Topic9\", \"Topic9\", \"Topic9\", \"Topic9\", \"Topic9\", \"Topic9\", \"Topic9\", \"Topic9\", \"Topic9\", \"Topic9\", \"Topic9\", \"Topic9\", \"Topic9\", \"Topic9\", \"Topic9\", \"Topic9\", \"Topic9\", \"Topic9\", \"Topic9\", \"Topic9\", \"Topic9\", \"Topic9\", \"Topic9\", \"Topic9\", \"Topic9\", \"Topic9\", \"Topic9\", \"Topic9\", \"Topic9\", \"Topic9\", \"Topic9\", \"Topic9\", \"Topic9\", \"Topic9\", \"Topic9\", \"Topic9\", \"Topic9\", \"Topic10\", \"Topic10\", \"Topic10\", \"Topic10\", \"Topic10\", \"Topic10\", \"Topic10\", \"Topic10\", \"Topic10\", \"Topic10\", \"Topic10\", \"Topic10\", \"Topic10\", \"Topic10\", \"Topic10\", \"Topic10\", \"Topic10\", \"Topic10\", \"Topic10\", \"Topic10\", \"Topic10\", \"Topic10\", \"Topic10\", \"Topic10\", \"Topic10\", \"Topic10\", \"Topic10\", \"Topic10\", \"Topic10\", \"Topic10\", \"Topic10\", \"Topic10\"], \"logprob\": [30.0, 29.0, 28.0, 27.0, 26.0, 25.0, 24.0, 23.0, 22.0, 21.0, 20.0, 19.0, 18.0, 17.0, 16.0, 15.0, 14.0, 13.0, 12.0, 11.0, 10.0, 9.0, 8.0, 7.0, 6.0, 5.0, 4.0, 3.0, 2.0, 1.0, -3.6218, -4.2245, -4.1197, -3.5221, -4.2244, -4.5091, -4.5092, -4.5092, -4.1197, -4.5092, -4.5092, -4.5092, -4.0031, -3.3354, -4.1197, -4.5092, -4.5092, -4.5092, -4.5092, -4.5092, -4.2244, -3.4947, -4.0264, -3.9824, -4.5092, -4.3722, -4.5092, -3.113, -4.4307, -5.1558, -3.8401, -3.4134, -4.1197, -4.1197, -3.9183, -3.9824, -4.3438, -4.1197, -4.5091, -3.2654, -3.9423, -3.5668, -4.0471, -4.3318, -4.3318, -4.3318, -4.3318, -4.3318, -3.9423, -4.3318, -3.2654, -4.3318, -3.9423, -4.3318, -4.3318, -4.3318, -3.9423, -3.6627, -4.9784, -4.9784, -3.9423, -4.9784, -4.9784, -4.9784, -4.9784, -4.9784, -4.9784, -4.9784, -4.9784, -4.3318, -4.4732, -3.4445, -3.2654, -3.9423, -3.8475, -4.1948, -4.3318, -3.8859, -3.7569, -3.9002, -4.2418, -4.3318, -4.3318, -4.3318, -3.5825, -3.5825, -2.4188, -4.1734, -4.1734, -3.5043, -4.346, -4.1733, -4.1733, -4.1734, -4.1485, -4.82, -4.82, -4.82, -4.82, -4.82, -4.82, -4.0364, -4.82, -4.82, -4.82, -4.82, -4.82, -4.1733, -3.6891, -4.82, -4.8202, -4.82, -4.82, -4.82, -3.3854, -3.4318, -3.2273, -4.1734, -4.2264, -4.1734, -4.1734, -4.375, -4.0364, -4.0976, -4.346, -4.5729, -4.5729, -4.375, -4.5729, -4.5195, -4.5729, -3.5119, -3.5507, -3.7408, -4.0256, -3.2671, -4.1844, -4.0256, -4.0256, -3.1383, -2.561, -4.517, -3.1382, -4.6722, -4.6722, -4.6722, -4.6722, -4.6721, -4.6722, -4.6722, -4.6722, -4.6722, -4.6722, -4.6722, -4.6722, -4.0255, -3.9796, -4.6722, -3.0111, -4.6722, -4.6722, -4.0255, -3.0111, -4.1814, -3.636, -4.0256, -4.5862, -4.6722, -4.6722, -4.6722, -4.6722, -2.9269, -3.9695, -3.4306, -3.9764, -3.5869, -3.9764, -3.8394, -3.6916, -3.2481, -4.0019, -2.8928, -3.8055, -4.623, -4.623, -4.623, -4.623, -4.623, -4.623, -4.623, -4.623, -4.623, -4.623, -4.623, -4.623, -4.623, -4.623, -3.5036, -4.623, -4.623, -4.3897, -3.3556, -4.0631, -3.9763, -3.9764, -3.9764, -3.7203, -4.1353, -4.6229, -4.623, -4.623, -4.623, -4.623, -4.623, -4.623, -4.623, -3.904, -2.7416, -4.2862, -4.2999, -3.6861, -2.701, -3.6568, -3.904, -4.5506, -4.5506, -4.5506, -4.5506, -4.5507, -4.5506, -4.5506, -4.5506, -4.5506, -4.5506, -4.5506, -4.187, -4.187, -4.5506, -4.5506, -4.5506, -4.5506, -4.5506, -4.5506, -4.5506, -4.5506, -3.904, -3.3465, -4.009, -3.3821, -3.317, -3.7759, -3.8797, -4.2862, -4.3292, -4.3699, -4.5506, -4.5506, -4.5506, -4.5506, -4.5506, -3.7411, -3.7411, -3.235, -3.7411, -3.5735, -4.3877, -4.3877, -4.3877, -4.3877, -4.3877, -4.3877, -4.3877, -4.3878, -3.8909, -4.3131, -2.7575, -4.3878, -4.3877, -4.3877, -4.3877, -2.4448, -4.3877, -4.3877, -4.3877, -4.3877, -4.3878, -2.83, -4.7231, -4.3877, -4.3877, -3.7411, -3.7411, -4.0104, -4.3877, -4.3877, -4.3877, -4.3877, -4.3877, -4.3877, -4.3877, -3.0192, -3.7776, -3.3881, -3.9365, -3.7776, -3.3882, -3.5563, -3.9059, -4.4243, -4.4243, -4.4243, -4.4243, -4.4243, -4.4243, -4.4243, -3.7776, -3.7777, -4.4243, -4.6081, -3.3881, -4.4243, -4.4243, -4.4243, -3.3882, -4.6853, -2.7388, -4.4243, -4.4243, -4.4243, -4.4243, -3.3882, -3.7776, -3.7776, -3.7776, -4.4243, -4.4243, -4.4243, -4.4243, -3.4675, -3.4675, -3.8034, -3.6446, -3.4675, -3.6446, -3.6446, -3.531, -3.4675, -3.6446, -4.0844, -3.6446, -3.6446, -4.2912, -4.2912, -4.2912, -4.2912, -4.2912, -4.2912, -3.6928, -4.2912, -4.2912, -4.2913, -4.2912, -4.2913, -4.2912, -4.2913, -4.2913, -4.2912, -4.3853, -4.2912, -3.6446, -3.6446, -3.2551, -3.6446, -3.6446, -3.9852, -4.2912, -4.2912, -3.0225, -2.4326, -3.6506, -3.3012, -3.1791, -4.0586, -4.0586, -4.0586, -4.0586, -4.0586, -4.0586, -4.0586, -4.0586, -4.0587, -2.7077, -4.0586, -4.0586, -4.0586, -4.0586, -4.0586, -4.0586, -4.0586, -4.0588, -4.0586, -4.0586, -3.5708, -4.0586, -4.0586, -4.0586, -3.0225, -4.0586, -4.0586], \"loglift\": [30.0, 29.0, 28.0, 27.0, 26.0, 25.0, 24.0, 23.0, 22.0, 21.0, 20.0, 19.0, 18.0, 17.0, 16.0, 15.0, 14.0, 13.0, 12.0, 11.0, 10.0, 9.0, 8.0, 7.0, 6.0, 5.0, 4.0, 3.0, 2.0, 1.0, 1.4223, 1.3927, 1.2802, 1.2037, 1.179, 1.1429, 1.1413, 1.1413, 1.1144, 1.113, 1.113, 1.1119, 1.0707, 0.9819, 0.9551, 0.9389, 0.9145, 0.9139, 0.8901, 0.8769, 0.8387, 0.718, 0.7083, 0.5806, 0.5629, 0.5603, 0.5523, 0.5513, 0.5428, 0.5345, 0.5118, 0.31, 0.4273, 0.306, 0.0449, -0.2138, 0.3177, -0.6438, 0.3365, 1.7642, 1.5343, 1.4505, 1.4171, 1.395, 1.395, 1.3628, 1.3628, 1.3553, 1.1812, 1.1316, 1.1134, 1.1091, 1.0745, 0.9782, 0.9711, 0.9139, 0.9118, 0.9003, 0.73, 0.7238, 0.7192, 0.6932, 0.6793, 0.6778, 0.6729, 0.6721, 0.6721, 0.6714, 0.6714, 0.6631, 0.6221, 0.5187, 0.4579, 0.4096, 0.3652, 0.3667, 0.4029, 0.0886, 0.0117, -0.4243, -0.4253, 0.0939, 0.1675, 0.3275, 1.9296, 1.9296, 1.6286, 1.5169, 1.5169, 1.4936, 1.3413, 1.2813, 1.1367, 1.1079, 0.9599, 0.9068, 0.9068, 0.8823, 0.868, 0.8482, 0.8458, 0.8453, 0.8451, 0.8386, 0.8386, 0.832, 0.8313, 0.8208, 0.8101, 0.808, 0.6621, 0.639, 0.628, 0.6252, 0.5891, 0.3847, 0.2486, 0.3881, 0.3033, 0.2523, 0.0393, 0.2843, -0.3131, -0.4334, 0.0059, 0.3596, 0.2849, -0.4117, 0.1436, -0.3123, -0.1941, 1.7593, 1.71, 1.6822, 1.6214, 1.6145, 1.4422, 1.4362, 1.4196, 1.4087, 1.1623, 1.1431, 1.069, 1.0301, 0.9929, 0.9901, 0.984, 0.9836, 0.9835, 0.9792, 0.968, 0.962, 0.962, 0.9555, 0.9545, 0.9298, 0.8469, 0.81, 0.8054, 0.7912, 0.7521, 0.691, 0.4649, 0.5532, 0.0282, 0.2916, 0.5372, -0.1107, 0.4015, 0.0613, 0.2603, 1.7323, 1.6615, 1.6333, 1.4283, 1.408, 1.2398, 1.2237, 1.1661, 1.1307, 1.1065, 1.0704, 1.0487, 1.0429, 1.0393, 1.0356, 1.0356, 1.0283, 1.0268, 1.0268, 1.0262, 1.024, 1.0172, 1.0112, 1.0112, 1.0108, 0.9985, 0.9957, 0.9915, 0.9868, 0.844, 0.4131, 0.6703, 0.5852, 0.5533, 0.2308, -0.2444, -0.4119, 0.5795, 0.68, -0.379, 0.1028, 0.2227, 0.3711, 0.8001, 0.6466, 1.5157, 1.4655, 1.4011, 1.3164, 1.2755, 1.2735, 1.1697, 1.1681, 1.144, 1.144, 1.1375, 1.1152, 1.1094, 1.1071, 1.0775, 1.0771, 1.0715, 1.0715, 1.0708, 1.0663, 1.0615, 1.0598, 0.9128, 0.9084, 0.8893, 0.8737, 0.873, 0.8502, 0.8354, 0.8307, 0.701, 0.7244, 0.3866, 0.159, 0.0406, 0.0835, 0.0657, 0.1701, -0.7057, -0.2333, 0.5125, -0.0036, -0.1249, 0.4791, 1.8869, 1.5046, 1.4816, 1.4658, 1.3591, 1.2805, 1.2636, 1.2507, 1.2507, 1.2436, 1.2388, 1.2227, 1.222, 1.2044, 1.0951, 1.059, 1.0371, 1.0366, 1.0358, 1.032, 1.0311, 1.0196, 1.0171, 1.0171, 1.0131, 0.9982, 0.9386, 0.8931, 0.8818, 0.8554, 0.8219, -0.0768, 0.2336, 0.1738, 0.8147, -0.0705, 0.458, -0.0358, 0.5676, 0.6843, 2.1084, 1.9308, 1.8784, 1.737, 1.6623, 1.6286, 1.4172, 1.3333, 1.2638, 1.2473, 1.2439, 1.238, 1.2314, 1.2313, 1.2249, 1.184, 1.08, 1.058, 1.052, 1.0376, 1.0375, 1.0006, 0.9831, 0.9637, 0.946, 0.9255, 0.8787, 0.8571, 0.8452, 0.671, 0.5863, 0.6012, 0.1856, -0.009, 0.3092, 0.4214, 0.5699, -0.107, 1.9373, 1.9373, 1.8304, 1.7773, 1.7756, 1.7547, 1.7541, 1.7082, 1.594, 1.5906, 1.5469, 1.4638, 1.4038, 1.349, 1.3369, 1.3354, 1.3352, 1.3299, 1.1678, 1.1337, 1.1322, 1.1134, 1.1095, 0.9621, 0.9573, 0.9157, 0.804, 0.7825, 0.7727, 0.7382, 0.7261, 0.5994, 0.5681, 0.2208, 0.1719, 0.124, -0.2618, 0.208, 0.1345, 2.5719, 2.0971, 1.9758, 1.9149, 1.8693, 1.613, 1.5976, 1.5927, 1.5912, 1.5912, 1.5691, 1.5681, 1.5628, 1.5558, 1.5363, 1.3823, 1.3663, 1.3633, 1.3496, 1.3401, 1.1899, 1.1751, 1.1436, 1.0162, 1.0053, 0.9907, 0.7679, 0.6749, 0.658, 0.6418, -0.0841, 0.6029]}, \"token.table\": {\"Topic\": [7, 8, 9, 1, 2, 10, 1, 3, 1, 6, 8, 2, 3, 5, 8, 1, 2, 2, 6, 9, 10, 1, 2, 5, 6, 1, 2, 6, 7, 4, 6, 8, 1, 4, 8, 1, 2, 3, 5, 1, 3, 1, 2, 3, 4, 5, 8, 2, 5, 10, 1, 3, 4, 5, 8, 1, 2, 3, 4, 5, 6, 7, 9, 2, 3, 2, 4, 7, 3, 7, 8, 9, 1, 2, 3, 4, 6, 7, 9, 3, 6, 7, 9, 1, 3, 5, 6, 8, 2, 7, 8, 10, 1, 6, 7, 1, 5, 6, 7, 10, 4, 9, 10, 3, 5, 10, 1, 2, 3, 6, 7, 8, 3, 7, 2, 3, 7, 8, 9, 1, 6, 7, 2, 3, 5, 6, 2, 3, 5, 8, 1, 3, 5, 1, 3, 4, 10, 3, 6, 8, 1, 2, 1, 5, 9, 1, 2, 3, 1, 5, 6, 2, 3, 5, 8, 1, 2, 3, 4, 7, 1, 3, 4, 5, 9, 1, 6, 8, 2, 6, 1, 1, 9, 1, 3, 4, 5, 6, 3, 6, 2, 3, 4, 9, 1, 5, 8, 1, 2, 4, 9, 4, 6, 1, 2, 4, 9, 1, 2, 3, 4, 5, 7, 10, 1, 3, 5, 2, 3, 5, 7, 8, 3, 5, 6, 1, 4, 8, 10, 7, 8, 9, 1, 2, 4, 5, 6, 8, 10, 1, 5, 1, 2, 6, 9, 1, 4, 5, 2, 4, 8, 1, 2, 5, 2, 8, 10, 1, 3, 4, 7, 8, 2, 4, 6, 7, 2, 3, 4, 1, 2, 4, 5, 7, 8, 9, 10, 1, 2, 4, 6, 7, 8, 1, 2, 3, 5, 6, 9, 5, 9, 10, 4, 7, 2, 5, 7, 8, 9, 5, 6, 10, 3, 6, 7, 10, 2, 5, 8, 1, 2, 3, 5, 6, 8, 9, 1, 6, 8, 2, 3, 6, 1, 3, 1, 4, 5, 1, 3, 5, 6, 10, 1, 5, 7, 8, 1, 2, 7, 3, 4, 5, 6, 8, 5, 6, 2, 5, 10, 2, 8, 2, 4, 7, 9, 2, 6, 3, 4, 6, 7, 9, 4, 5, 8, 2, 4, 10, 2, 9, 10, 2, 3, 4, 4, 6, 9, 10, 3, 4, 8, 4, 5, 1, 2, 4, 5, 7, 9, 7, 8, 9, 1, 2, 4, 6, 1, 2, 1, 3, 4, 3, 5, 9, 1, 6, 7, 1, 9, 1, 2, 3, 4, 5, 9, 2, 4, 7, 1, 5, 7, 2, 4, 9, 5, 10, 2, 6, 1, 2, 6, 1, 2, 3, 5, 6, 7, 8, 5, 9, 10, 5, 6, 8, 3, 4, 5, 1, 4, 1, 6, 9, 4, 6, 10, 4, 5, 9, 1, 5, 10, 1, 2, 3, 4, 5, 7, 8, 3, 7, 8, 1, 3, 4, 8, 1, 2, 3, 5, 9, 10, 6, 7, 9, 10, 1, 2, 3, 4, 8, 9, 10, 1, 3, 4, 5, 6, 1, 2, 3, 4, 6, 7, 8, 9, 10, 2, 4, 6, 1, 6, 3, 1, 6, 9, 10, 1, 3, 5, 2, 3, 4, 7, 10, 1, 3, 4, 7, 1, 2, 7, 2, 3, 6, 9, 1, 7, 8, 9, 1, 3, 6, 1, 8, 1, 2, 6, 1, 7, 2, 3, 4, 8, 1, 2, 3, 5, 7, 8, 9, 1, 2, 3, 4, 5, 6, 7, 8, 9, 1, 2, 3, 6, 8, 10, 2, 6, 7], \"Freq\": [0.22586525750057135, 0.22586525750057135, 0.4517305150011427, 0.23417088139010533, 0.46834176278021067, 0.23417088139010533, 0.3004757123169262, 0.6009514246338524, 0.23394348220000136, 0.23394348220000136, 0.4678869644000027, 0.4079651322807064, 0.2039825661403532, 0.2039825661403532, 0.2039825661403532, 0.299537515947832, 0.599075031895664, 0.19318448118341014, 0.19318448118341014, 0.19318448118341014, 0.19318448118341014, 0.2604478515181193, 0.2604478515181193, 0.2604478515181193, 0.13022392575905964, 0.32385064360611976, 0.16192532180305988, 0.32385064360611976, 0.16192532180305988, 0.29155264718960683, 0.29155264718960683, 0.29155264718960683, 0.290262989014539, 0.290262989014539, 0.290262989014539, 0.5726767038515357, 0.11453534077030714, 0.11453534077030714, 0.11453534077030714, 0.5784003682800974, 0.2892001841400487, 0.14978916477110157, 0.14978916477110157, 0.29957832954220315, 0.14978916477110157, 0.14978916477110157, 0.14978916477110157, 0.28855775980520515, 0.28855775980520515, 0.28855775980520515, 0.13069467994436088, 0.13069467994436088, 0.13069467994436088, 0.26138935988872175, 0.26138935988872175, 0.09846093564387426, 0.09846093564387426, 0.13128124752516568, 0.1641015594064571, 0.06564062376258284, 0.09846093564387426, 0.22974218316903994, 0.09846093564387426, 0.6233000991496831, 0.31165004957484155, 0.2890140003204324, 0.2890140003204324, 0.2890140003204324, 0.1921411035057312, 0.1921411035057312, 0.1921411035057312, 0.3842822070114624, 0.09227235413309648, 0.09227235413309648, 0.13840853119964472, 0.2306808853327412, 0.09227235413309648, 0.2306808853327412, 0.09227235413309648, 0.19062004395024132, 0.19062004395024132, 0.19062004395024132, 0.38124008790048264, 0.29347411049330124, 0.14673705524665062, 0.14673705524665062, 0.14673705524665062, 0.29347411049330124, 0.23044726180660893, 0.23044726180660893, 0.23044726180660893, 0.23044726180660893, 0.44332049605263757, 0.22166024802631878, 0.22166024802631878, 0.18447626733515657, 0.18447626733515657, 0.18447626733515657, 0.18447626733515657, 0.18447626733515657, 0.28197290689668236, 0.28197290689668236, 0.28197290689668236, 0.28899249626189666, 0.28899249626189666, 0.28899249626189666, 0.3152248309412098, 0.1576124154706049, 0.07880620773530245, 0.07880620773530245, 0.07880620773530245, 0.2364186232059073, 0.2823471319345112, 0.5646942638690224, 0.6232997016371687, 0.3116498508185844, 0.22586532330492562, 0.22586532330492562, 0.45173064660985124, 0.2790475958923079, 0.2790475958923079, 0.2790475958923079, 0.21432734013347374, 0.10716367006673687, 0.5358183503336843, 0.10716367006673687, 0.4047978324973772, 0.08095956649947544, 0.3238382659979018, 0.1619191329989509, 0.2911014579253087, 0.2911014579253087, 0.2911014579253087, 0.48713196094991734, 0.1623773203166391, 0.1623773203166391, 0.1623773203166391, 0.2998133649415201, 0.2998133649415201, 0.2998133649415201, 0.24267180833947455, 0.4853436166789491, 0.2258348169640178, 0.4516696339280356, 0.2258348169640178, 0.4716865837534073, 0.23584329187670364, 0.23584329187670364, 0.4814554774582803, 0.3209703183055202, 0.1604851591527601, 0.2998070051560692, 0.1499035025780346, 0.44971050773410376, 0.1499035025780346, 0.291999977972383, 0.291999977972383, 0.09733332599079433, 0.09733332599079433, 0.19466665198158867, 0.3007051544526533, 0.4510577316789799, 0.15035257722632664, 0.2839835016606383, 0.5679670033212766, 0.289999108320038, 0.289999108320038, 0.289999108320038, 0.6035821814003032, 0.3017910907001516, 0.8378506616168329, 0.4492441980578019, 0.4492441980578019, 0.11624193044885898, 0.5230886870198654, 0.05812096522442949, 0.05812096522442949, 0.17436289567328847, 0.2995768922693856, 0.2995768922693856, 0.613213266588997, 0.15330331664724925, 0.15330331664724925, 0.15330331664724925, 0.28839133713794574, 0.28839133713794574, 0.28839133713794574, 0.48660693546169265, 0.16220231182056422, 0.16220231182056422, 0.16220231182056422, 0.46003622812217204, 0.23001811406108602, 0.17047520386365372, 0.34095040772730745, 0.17047520386365372, 0.17047520386365372, 0.09718490355257306, 0.19436980710514612, 0.19436980710514612, 0.09718490355257306, 0.19436980710514612, 0.09718490355257306, 0.19436980710514612, 0.23739877975613582, 0.47479755951227165, 0.23739877975613582, 0.19728247750630334, 0.19728247750630334, 0.19728247750630334, 0.19728247750630334, 0.19728247750630334, 0.2932283481857805, 0.2932283481857805, 0.2932283481857805, 0.2902639326206774, 0.2902639326206774, 0.2902639326206774, 0.8190498105564171, 0.28328165302970293, 0.28328165302970293, 0.28328165302970293, 0.11541884595237586, 0.11541884595237586, 0.11541884595237586, 0.23083769190475173, 0.23083769190475173, 0.11541884595237586, 0.11541884595237586, 0.6766747945001075, 0.22555826483336916, 0.19412524903241554, 0.19412524903241554, 0.19412524903241554, 0.19412524903241554, 0.28408697767087104, 0.28408697767087104, 0.28408697767087104, 0.23908958721063983, 0.47817917442127966, 0.23908958721063983, 0.46005562212590806, 0.23002781106295403, 0.23002781106295403, 0.29493272386186264, 0.29493272386186264, 0.29493272386186264, 0.2881916579688079, 0.14409582898440396, 0.2881916579688079, 0.14409582898440396, 0.14409582898440396, 0.23031026590799067, 0.23031026590799067, 0.23031026590799067, 0.23031026590799067, 0.133854738059817, 0.267709476119634, 0.535418952239268, 0.1414924441909764, 0.1414924441909764, 0.0707462220954882, 0.0707462220954882, 0.1414924441909764, 0.0707462220954882, 0.1414924441909764, 0.2829848883819528, 0.45673783456764994, 0.1522459448558833, 0.1522459448558833, 0.07612297242794165, 0.07612297242794165, 0.07612297242794165, 0.09132063153526357, 0.18264126307052714, 0.2739618946057907, 0.2739618946057907, 0.09132063153526357, 0.09132063153526357, 0.22449711971457884, 0.44899423942915767, 0.22449711971457884, 0.5638658185797659, 0.28193290928988296, 0.16573887573289134, 0.16573887573289134, 0.3314777514657827, 0.16573887573289134, 0.16573887573289134, 0.28049453391322793, 0.28049453391322793, 0.28049453391322793, 0.22663212318850404, 0.22663212318850404, 0.22663212318850404, 0.22663212318850404, 0.3064493726091291, 0.15322468630456454, 0.4596740589136937, 0.25453221022558314, 0.16968814015038877, 0.16968814015038877, 0.08484407007519439, 0.08484407007519439, 0.25453221022558314, 0.08484407007519439, 0.19669899698611615, 0.19669899698611615, 0.5900969909583484, 0.4108673453624513, 0.4108673453624513, 0.20543367268122564, 0.30047561601993955, 0.6009512320398791, 0.2840868045322056, 0.2840868045322056, 0.2840868045322056, 0.1903294339227096, 0.1903294339227096, 0.1903294339227096, 0.1903294339227096, 0.1903294339227096, 0.22643327125175047, 0.22643327125175047, 0.22643327125175047, 0.22643327125175047, 0.28530935973793387, 0.28530935973793387, 0.28530935973793387, 0.06819044158005547, 0.27276176632022187, 0.13638088316011093, 0.40914264948033274, 0.06819044158005547, 0.5663437360144489, 0.28317186800722444, 0.2885579634948035, 0.2885579634948035, 0.2885579634948035, 0.30599017197814726, 0.6119803439562945, 0.23011639877304824, 0.23011639877304824, 0.23011639877304824, 0.23011639877304824, 0.7760548871520933, 0.15521097743041865, 0.7543322128608505, 0.22495884919270334, 0.22495884919270334, 0.22495884919270334, 0.22495884919270334, 0.29217676833338124, 0.29217676833338124, 0.29217676833338124, 0.2904323856281367, 0.2904323856281367, 0.2904323856281367, 0.22975692098918268, 0.45951384197836537, 0.22975692098918268, 0.3041061605845933, 0.3041061605845933, 0.3041061605845933, 0.2533471606766725, 0.2533471606766725, 0.2533471606766725, 0.12667358033833626, 0.1975969527875215, 0.5927908583625645, 0.1975969527875215, 0.5755168710097459, 0.28775843550487296, 0.5775296814491229, 0.28876484072456143, 0.1853078597342821, 0.1853078597342821, 0.3706157194685642, 0.1853078597342821, 0.191385529338122, 0.191385529338122, 0.382771058676244, 0.3466797549829761, 0.2311198366553174, 0.2311198366553174, 0.2311198366553174, 0.23968783079821698, 0.47937566159643397, 0.29300921354946013, 0.29300921354946013, 0.29300921354946013, 0.33583494583247975, 0.33583494583247975, 0.33583494583247975, 0.27742441612912216, 0.27742441612912216, 0.27742441612912216, 0.5608022774153668, 0.2804011387076834, 0.25219666624165815, 0.21016388853471513, 0.08406555541388605, 0.3362622216555442, 0.08406555541388605, 0.042032777706943025, 0.3852688670327932, 0.1926344335163966, 0.3852688670327932, 0.27724360106908624, 0.27724360106908624, 0.27724360106908624, 0.19553618780265888, 0.5866085634079766, 0.19553618780265888, 0.3740492127919486, 0.3740492127919486, 0.6035797862353011, 0.30178989311765053, 0.29086020978141647, 0.29086020978141647, 0.29086020978141647, 0.16028172386113568, 0.2137089651481809, 0.05342724128704523, 0.2671362064352261, 0.10685448257409046, 0.05342724128704523, 0.10685448257409046, 0.4818698263513111, 0.16062327545043703, 0.16062327545043703, 0.17117362460246002, 0.17117362460246002, 0.6846944984098401, 0.2351714698714954, 0.4703429397429908, 0.2351714698714954, 0.6742336981005045, 0.2247445660335015, 0.282376142013089, 0.282376142013089, 0.282376142013089, 0.28226464590239814, 0.28226464590239814, 0.28226464590239814, 0.28581184465904125, 0.28581184465904125, 0.28581184465904125, 0.2785500869411562, 0.2785500869411562, 0.2785500869411562, 0.2582490008949948, 0.1291245004474974, 0.1291245004474974, 0.1291245004474974, 0.1291245004474974, 0.1291245004474974, 0.1291245004474974, 0.2939194835813129, 0.2939194835813129, 0.2939194835813129, 0.19962122692147796, 0.3992424538429559, 0.19962122692147796, 0.19962122692147796, 0.5775298099456823, 0.28876490497284113, 0.1882859276566104, 0.1882859276566104, 0.0941429638283052, 0.47071481914152596, 0.15814089214720803, 0.15814089214720803, 0.31628178429441606, 0.31628178429441606, 0.2148112031738494, 0.2148112031738494, 0.1074056015869247, 0.1074056015869247, 0.1074056015869247, 0.1074056015869247, 0.1074056015869247, 0.2873424464207981, 0.09578081547359937, 0.3831232618943975, 0.09578081547359937, 0.09578081547359937, 0.3169669174270011, 0.03962086467837514, 0.07924172935675028, 0.11886259403512543, 0.03962086467837514, 0.07924172935675028, 0.19810432339187573, 0.03962086467837514, 0.11886259403512543, 0.47898801624214243, 0.23949400812107122, 0.23949400812107122, 0.5613803294229445, 0.28069016471147223, 0.7543318882259901, 0.56137992045013, 0.280689960225065, 0.28189451273719734, 0.5637890254743947, 0.2911016820507409, 0.2911016820507409, 0.2911016820507409, 0.11348740817674594, 0.11348740817674594, 0.22697481635349187, 0.3404622245302378, 0.11348740817674594, 0.2816795854052129, 0.14083979270260644, 0.14083979270260644, 0.2816795854052129, 0.2853096179809033, 0.2853096179809033, 0.2853096179809033, 0.23843995086012146, 0.23843995086012146, 0.23843995086012146, 0.23843995086012146, 0.3204557424133973, 0.16022787120669865, 0.16022787120669865, 0.3204557424133973, 0.5712308078102875, 0.1904102692700958, 0.1904102692700958, 0.2954888987992235, 0.2954888987992235, 0.46030508010793475, 0.23015254005396737, 0.23015254005396737, 0.787386685506371, 0.1574773371012742, 0.2440402642348568, 0.2440402642348568, 0.2440402642348568, 0.2440402642348568, 0.3428291167889558, 0.20569747007337347, 0.1371316467155823, 0.06856582335779116, 0.06856582335779116, 0.06856582335779116, 0.1371316467155823, 0.1319392838514193, 0.1319392838514193, 0.04397976128380643, 0.04397976128380643, 0.1319392838514193, 0.1319392838514193, 0.21989880641903214, 0.08795952256761286, 0.08795952256761286, 0.10806833921635871, 0.16210250882453806, 0.21613667843271742, 0.3242050176490761, 0.16210250882453806, 0.054034169608179354, 0.22925320728926668, 0.45850641457853336, 0.22925320728926668], \"Term\": [\"access\", \"access\", \"access\", \"address\", \"address\", \"address\", \"administr\", \"administr\", \"ahead\", \"ahead\", \"ahead\", \"amaz\", \"amaz\", \"amaz\", \"amaz\", \"anniversari\", \"anniversari\", \"answer\", \"answer\", \"answer\", \"answer\", \"asteroid\", \"asteroid\", \"asteroid\", \"asteroid\", \"astronaut\", \"astronaut\", \"astronaut\", \"astronaut\", \"basebal\", \"basebal\", \"basebal\", \"begin\", \"begin\", \"begin\", \"best\", \"best\", \"best\", \"best\", \"birthday\", \"birthday\", \"bring\", \"bring\", \"bring\", \"bring\", \"bring\", \"bring\", \"carri\", \"carri\", \"carri\", \"celebr\", \"celebr\", \"celebr\", \"celebr\", \"celebr\", \"chang\", \"chang\", \"chang\", \"chang\", \"chang\", \"chang\", \"chang\", \"chang\", \"check\", \"check\", \"chtbl\", \"chtbl\", \"chtbl\", \"clean\", \"clean\", \"clean\", \"clean\", \"climat\", \"climat\", \"climat\", \"climat\", \"climat\", \"climat\", \"climat\", \"come\", \"come\", \"come\", \"come\", \"congratul\", \"congratul\", \"congratul\", \"congratul\", \"congratul\", \"consid\", \"consid\", \"consid\", \"consid\", \"cool\", \"cool\", \"cool\", \"day\", \"day\", \"day\", \"day\", \"day\", \"die\", \"die\", \"die\", \"drive\", \"drive\", \"drive\", \"earth\", \"earth\", \"earth\", \"earth\", \"earth\", \"earth\", \"earthday\", \"earthday\", \"earthl\", \"earthl\", \"electr\", \"electr\", \"electr\", \"experi\", \"experi\", \"experi\", \"explor\", \"explor\", \"explor\", \"explor\", \"exploreplanet\", \"exploreplanet\", \"exploreplanet\", \"exploreplanet\", \"fall\", \"fall\", \"fall\", \"fight\", \"fight\", \"fight\", \"fight\", \"fire\", \"fire\", \"fire\", \"fli\", \"fli\", \"freedom\", \"freedom\", \"freedom\", \"friend\", \"friend\", \"friend\", \"futur\", \"futur\", \"futur\", \"game\", \"game\", \"game\", \"game\", \"go\", \"go\", \"go\", \"go\", \"go\", \"good\", \"good\", \"good\", \"grate\", \"grate\", \"great\", \"great\", \"great\", \"greet\", \"greet\", \"gulf\", \"half\", \"half\", \"happi\", \"happi\", \"happi\", \"happi\", \"happi\", \"hard\", \"hard\", \"help\", \"help\", \"help\", \"help\", \"histori\", \"histori\", \"histori\", \"honor\", \"honor\", \"honor\", \"honor\", \"hope\", \"hope\", \"http\", \"http\", \"http\", \"http\", \"https\", \"https\", \"https\", \"https\", \"https\", \"https\", \"https\", \"huge\", \"huge\", \"huge\", \"human\", \"human\", \"human\", \"human\", \"human\", \"humankind\", \"humankind\", \"humankind\", \"import\", \"import\", \"import\", \"infami\", \"internet\", \"internet\", \"internet\", \"join\", \"join\", \"join\", \"join\", \"join\", \"join\", \"join\", \"king\", \"king\", \"know\", \"know\", \"know\", \"know\", \"learn\", \"learn\", \"learn\", \"leav\", \"leav\", \"leav\", \"life\", \"life\", \"life\", \"lightsail\", \"lightsail\", \"lightsail\", \"like\", \"like\", \"like\", \"like\", \"like\", \"link\", \"link\", \"link\", \"link\", \"littl\", \"littl\", \"littl\", \"live\", \"live\", \"live\", \"live\", \"live\", \"live\", \"live\", \"live\", \"look\", \"look\", \"look\", \"look\", \"look\", \"look\", \"mar\", \"mar\", \"mar\", \"mar\", \"mar\", \"mar\", \"memori\", \"memori\", \"memori\", \"mind\", \"mind\", \"miss\", \"miss\", \"miss\", \"miss\", \"miss\", \"moment\", \"moment\", \"moment\", \"month\", \"month\", \"month\", \"month\", \"moon\", \"moon\", \"moon\", \"nasa\", \"nasa\", \"nasa\", \"nasa\", \"nasa\", \"nasa\", \"nasa\", \"nation\", \"nation\", \"nation\", \"need\", \"need\", \"need\", \"northern\", \"northern\", \"opportun\", \"opportun\", \"opportun\", \"orbit\", \"orbit\", \"orbit\", \"orbit\", \"orbit\", \"pandem\", \"pandem\", \"pandem\", \"pandem\", \"past\", \"past\", \"past\", \"peopl\", \"peopl\", \"peopl\", \"peopl\", \"peopl\", \"persever\", \"persever\", \"pictur\", \"pictur\", \"pictur\", \"plan\", \"plan\", \"planet\", \"planet\", \"planet\", \"planet\", \"planetari\", \"planetari\", \"play\", \"podcast\", \"podcast\", \"podcast\", \"podcast\", \"pretti\", \"pretti\", \"pretti\", \"probabl\", \"probabl\", \"probabl\", \"problem\", \"problem\", \"problem\", \"public\", \"public\", \"public\", \"question\", \"question\", \"question\", \"question\", \"readi\", \"readi\", \"readi\", \"record\", \"record\", \"remain\", \"remain\", \"remind\", \"remind\", \"remind\", \"remind\", \"renew\", \"renew\", \"renew\", \"right\", \"right\", \"right\", \"right\", \"rocket\", \"rocket\", \"rule\", \"rule\", \"rule\", \"safe\", \"safe\", \"safe\", \"save\", \"save\", \"save\", \"school\", \"school\", \"scienc\", \"scienc\", \"scienc\", \"scienc\", \"scienc\", \"scienc\", \"sciencerul\", \"sciencerul\", \"sciencerul\", \"scientist\", \"scientist\", \"scientist\", \"send\", \"send\", \"send\", \"servic\", \"servic\", \"societi\", \"societi\", \"solstic\", \"solstic\", \"solstic\", \"space\", \"space\", \"space\", \"space\", \"space\", \"space\", \"space\", \"spacecraft\", \"spacecraft\", \"spacecraft\", \"spacex\", \"spacex\", \"spacex\", \"star\", \"star\", \"star\", \"state\", \"state\", \"student\", \"student\", \"student\", \"support\", \"support\", \"support\", \"sure\", \"sure\", \"sure\", \"surpris\", \"surpris\", \"surpris\", \"take\", \"take\", \"take\", \"take\", \"take\", \"take\", \"take\", \"talk\", \"talk\", \"talk\", \"team\", \"team\", \"team\", \"team\", \"telescop\", \"telescop\", \"thank\", \"thank\", \"thank\", \"thank\", \"thing\", \"thing\", \"thing\", \"thing\", \"think\", \"think\", \"think\", \"think\", \"think\", \"think\", \"think\", \"time\", \"time\", \"time\", \"time\", \"time\", \"today\", \"today\", \"today\", \"today\", \"today\", \"today\", \"today\", \"today\", \"today\", \"tomorrow\", \"tomorrow\", \"tomorrow\", \"turn\", \"turn\", \"ultim\", \"univers\", \"univers\", \"veteran\", \"veteran\", \"visit\", \"visit\", \"visit\", \"vote\", \"vote\", \"vote\", \"vote\", \"vote\", \"voteforsci\", \"voteforsci\", \"voteforsci\", \"voteforsci\", \"want\", \"want\", \"want\", \"watch\", \"watch\", \"watch\", \"watch\", \"water\", \"water\", \"water\", \"water\", \"week\", \"week\", \"week\", \"west\", \"west\", \"winter\", \"winter\", \"winter\", \"women\", \"women\", \"wonder\", \"wonder\", \"wonder\", \"wonder\", \"work\", \"work\", \"work\", \"work\", \"work\", \"work\", \"work\", \"world\", \"world\", \"world\", \"world\", \"world\", \"world\", \"world\", \"world\", \"world\", \"year\", \"year\", \"year\", \"year\", \"year\", \"year\", \"young\", \"young\", \"young\"]}, \"R\": 30, \"lambda.step\": 0.01, \"plot.opts\": {\"xlab\": \"PC1\", \"ylab\": \"PC2\"}, \"topic.order\": [7, 3, 9, 2, 5, 10, 4, 6, 8, 1]};\n",
              "\n",
              "function LDAvis_load_lib(url, callback){\n",
              "  var s = document.createElement('script');\n",
              "  s.src = url;\n",
              "  s.async = true;\n",
              "  s.onreadystatechange = s.onload = callback;\n",
              "  s.onerror = function(){console.warn(\"failed to load library \" + url);};\n",
              "  document.getElementsByTagName(\"head\")[0].appendChild(s);\n",
              "}\n",
              "\n",
              "if(typeof(LDAvis) !== \"undefined\"){\n",
              "   // already loaded: just create the visualization\n",
              "   !function(LDAvis){\n",
              "       new LDAvis(\"#\" + \"ldavis_el2591401462765429282405728147\", ldavis_el2591401462765429282405728147_data);\n",
              "   }(LDAvis);\n",
              "}else if(typeof define === \"function\" && define.amd){\n",
              "   // require.js is available: use it to load d3/LDAvis\n",
              "   require.config({paths: {d3: \"https://d3js.org/d3.v5\"}});\n",
              "   require([\"d3\"], function(d3){\n",
              "      window.d3 = d3;\n",
              "      LDAvis_load_lib(\"https://cdn.jsdelivr.net/gh/bmabey/pyLDAvis@3.4.0/pyLDAvis/js/ldavis.v3.0.0.js\", function(){\n",
              "        new LDAvis(\"#\" + \"ldavis_el2591401462765429282405728147\", ldavis_el2591401462765429282405728147_data);\n",
              "      });\n",
              "    });\n",
              "}else{\n",
              "    // require.js not available: dynamically load d3 & LDAvis\n",
              "    LDAvis_load_lib(\"https://d3js.org/d3.v5.js\", function(){\n",
              "         LDAvis_load_lib(\"https://cdn.jsdelivr.net/gh/bmabey/pyLDAvis@3.4.0/pyLDAvis/js/ldavis.v3.0.0.js\", function(){\n",
              "                 new LDAvis(\"#\" + \"ldavis_el2591401462765429282405728147\", ldavis_el2591401462765429282405728147_data);\n",
              "            })\n",
              "         });\n",
              "}\n",
              "</script>"
            ]
          },
          "metadata": {},
          "execution_count": 144
        }
      ]
    },
    {
      "cell_type": "code",
      "source": [
        "pyLDAvis.save_html(vis, 'lda_BillNye.html')"
      ],
      "metadata": {
        "colab": {
          "base_uri": "https://localhost:8080/"
        },
        "id": "VKeZBsxungRp",
        "outputId": "a6e6b847-68f9-45f2-8569-c2502a0b501e"
      },
      "execution_count": null,
      "outputs": [
        {
          "output_type": "stream",
          "name": "stderr",
          "text": [
            "/usr/local/lib/python3.10/dist-packages/ipykernel/ipkernel.py:283: DeprecationWarning: `should_run_async` will not call `transform_cell` automatically in the future. Please pass the result to `transformed_cell` argument and any exception that happen during thetransform in `preprocessing_exc_tuple` in IPython 7.17 and above.\n",
            "  and should_run_async(code)\n"
          ]
        }
      ]
    },
    {
      "cell_type": "code",
      "source": [],
      "metadata": {
        "id": "b8sUuuZQngVM"
      },
      "execution_count": null,
      "outputs": []
    },
    {
      "cell_type": "markdown",
      "source": [
        "@GeorgeTakei"
      ],
      "metadata": {
        "id": "IjF5lJw6rwHO"
      }
    },
    {
      "cell_type": "code",
      "source": [
        "GeorgeTakei = pd.read_excel('https://drive.google.com/uc?export=download&id=1_Ck9S2aW9cBQQrqoTiNLRmvRu4WvPn8y')"
      ],
      "metadata": {
        "colab": {
          "base_uri": "https://localhost:8080/"
        },
        "id": "b-Mn6jG0rkUG",
        "outputId": "2b8ff617-1526-450a-ac7f-08f494c9b8e5"
      },
      "execution_count": null,
      "outputs": [
        {
          "output_type": "stream",
          "name": "stderr",
          "text": [
            "/usr/local/lib/python3.10/dist-packages/ipykernel/ipkernel.py:283: DeprecationWarning: `should_run_async` will not call `transform_cell` automatically in the future. Please pass the result to `transformed_cell` argument and any exception that happen during thetransform in `preprocessing_exc_tuple` in IPython 7.17 and above.\n",
            "  and should_run_async(code)\n"
          ]
        }
      ]
    },
    {
      "cell_type": "code",
      "source": [
        "GeorgeTakei.head()"
      ],
      "metadata": {
        "colab": {
          "base_uri": "https://localhost:8080/",
          "height": 262
        },
        "id": "4PxGkxVwrkbN",
        "outputId": "b6a2261d-65a1-4cd8-e8ad-398b316d47de"
      },
      "execution_count": null,
      "outputs": [
        {
          "output_type": "stream",
          "name": "stderr",
          "text": [
            "/usr/local/lib/python3.10/dist-packages/ipykernel/ipkernel.py:283: DeprecationWarning: `should_run_async` will not call `transform_cell` automatically in the future. Please pass the result to `transformed_cell` argument and any exception that happen during thetransform in `preprocessing_exc_tuple` in IPython 7.17 and above.\n",
            "  and should_run_async(code)\n"
          ]
        },
        {
          "output_type": "execute_result",
          "data": {
            "text/plain": [
              "   tweet-id                                         tweet-text tweet-author  \\\n",
              "0         1  He is still sorely missed. 💕 What is your favo...  georgetakei   \n",
              "1         2  It’s terrifying but true. The GOP has become t...  georgetakei   \n",
              "2         3                                This is not normal.  georgetakei   \n",
              "3         4                             Very well put, indeed.  georgetakei   \n",
              "4         5  With the former guy, mockery is the best polic...  georgetakei   \n",
              "\n",
              "  tweet-timestamp-date  \n",
              "0           2022-03-12  \n",
              "1           2022-03-12  \n",
              "2           2022-03-12  \n",
              "3           2022-03-12  \n",
              "4           2022-03-12  "
            ],
            "text/html": [
              "\n",
              "  <div id=\"df-995dc3f8-d2a7-4568-8f73-639d92a7fcc6\">\n",
              "    <div class=\"colab-df-container\">\n",
              "      <div>\n",
              "<style scoped>\n",
              "    .dataframe tbody tr th:only-of-type {\n",
              "        vertical-align: middle;\n",
              "    }\n",
              "\n",
              "    .dataframe tbody tr th {\n",
              "        vertical-align: top;\n",
              "    }\n",
              "\n",
              "    .dataframe thead th {\n",
              "        text-align: right;\n",
              "    }\n",
              "</style>\n",
              "<table border=\"1\" class=\"dataframe\">\n",
              "  <thead>\n",
              "    <tr style=\"text-align: right;\">\n",
              "      <th></th>\n",
              "      <th>tweet-id</th>\n",
              "      <th>tweet-text</th>\n",
              "      <th>tweet-author</th>\n",
              "      <th>tweet-timestamp-date</th>\n",
              "    </tr>\n",
              "  </thead>\n",
              "  <tbody>\n",
              "    <tr>\n",
              "      <th>0</th>\n",
              "      <td>1</td>\n",
              "      <td>He is still sorely missed. 💕 What is your favo...</td>\n",
              "      <td>georgetakei</td>\n",
              "      <td>2022-03-12</td>\n",
              "    </tr>\n",
              "    <tr>\n",
              "      <th>1</th>\n",
              "      <td>2</td>\n",
              "      <td>It’s terrifying but true. The GOP has become t...</td>\n",
              "      <td>georgetakei</td>\n",
              "      <td>2022-03-12</td>\n",
              "    </tr>\n",
              "    <tr>\n",
              "      <th>2</th>\n",
              "      <td>3</td>\n",
              "      <td>This is not normal.</td>\n",
              "      <td>georgetakei</td>\n",
              "      <td>2022-03-12</td>\n",
              "    </tr>\n",
              "    <tr>\n",
              "      <th>3</th>\n",
              "      <td>4</td>\n",
              "      <td>Very well put, indeed.</td>\n",
              "      <td>georgetakei</td>\n",
              "      <td>2022-03-12</td>\n",
              "    </tr>\n",
              "    <tr>\n",
              "      <th>4</th>\n",
              "      <td>5</td>\n",
              "      <td>With the former guy, mockery is the best polic...</td>\n",
              "      <td>georgetakei</td>\n",
              "      <td>2022-03-12</td>\n",
              "    </tr>\n",
              "  </tbody>\n",
              "</table>\n",
              "</div>\n",
              "      <button class=\"colab-df-convert\" onclick=\"convertToInteractive('df-995dc3f8-d2a7-4568-8f73-639d92a7fcc6')\"\n",
              "              title=\"Convert this dataframe to an interactive table.\"\n",
              "              style=\"display:none;\">\n",
              "        \n",
              "  <svg xmlns=\"http://www.w3.org/2000/svg\" height=\"24px\"viewBox=\"0 0 24 24\"\n",
              "       width=\"24px\">\n",
              "    <path d=\"M0 0h24v24H0V0z\" fill=\"none\"/>\n",
              "    <path d=\"M18.56 5.44l.94 2.06.94-2.06 2.06-.94-2.06-.94-.94-2.06-.94 2.06-2.06.94zm-11 1L8.5 8.5l.94-2.06 2.06-.94-2.06-.94L8.5 2.5l-.94 2.06-2.06.94zm10 10l.94 2.06.94-2.06 2.06-.94-2.06-.94-.94-2.06-.94 2.06-2.06.94z\"/><path d=\"M17.41 7.96l-1.37-1.37c-.4-.4-.92-.59-1.43-.59-.52 0-1.04.2-1.43.59L10.3 9.45l-7.72 7.72c-.78.78-.78 2.05 0 2.83L4 21.41c.39.39.9.59 1.41.59.51 0 1.02-.2 1.41-.59l7.78-7.78 2.81-2.81c.8-.78.8-2.07 0-2.86zM5.41 20L4 18.59l7.72-7.72 1.47 1.35L5.41 20z\"/>\n",
              "  </svg>\n",
              "      </button>\n",
              "      \n",
              "  <style>\n",
              "    .colab-df-container {\n",
              "      display:flex;\n",
              "      flex-wrap:wrap;\n",
              "      gap: 12px;\n",
              "    }\n",
              "\n",
              "    .colab-df-convert {\n",
              "      background-color: #E8F0FE;\n",
              "      border: none;\n",
              "      border-radius: 50%;\n",
              "      cursor: pointer;\n",
              "      display: none;\n",
              "      fill: #1967D2;\n",
              "      height: 32px;\n",
              "      padding: 0 0 0 0;\n",
              "      width: 32px;\n",
              "    }\n",
              "\n",
              "    .colab-df-convert:hover {\n",
              "      background-color: #E2EBFA;\n",
              "      box-shadow: 0px 1px 2px rgba(60, 64, 67, 0.3), 0px 1px 3px 1px rgba(60, 64, 67, 0.15);\n",
              "      fill: #174EA6;\n",
              "    }\n",
              "\n",
              "    [theme=dark] .colab-df-convert {\n",
              "      background-color: #3B4455;\n",
              "      fill: #D2E3FC;\n",
              "    }\n",
              "\n",
              "    [theme=dark] .colab-df-convert:hover {\n",
              "      background-color: #434B5C;\n",
              "      box-shadow: 0px 1px 3px 1px rgba(0, 0, 0, 0.15);\n",
              "      filter: drop-shadow(0px 1px 2px rgba(0, 0, 0, 0.3));\n",
              "      fill: #FFFFFF;\n",
              "    }\n",
              "  </style>\n",
              "\n",
              "      <script>\n",
              "        const buttonEl =\n",
              "          document.querySelector('#df-995dc3f8-d2a7-4568-8f73-639d92a7fcc6 button.colab-df-convert');\n",
              "        buttonEl.style.display =\n",
              "          google.colab.kernel.accessAllowed ? 'block' : 'none';\n",
              "\n",
              "        async function convertToInteractive(key) {\n",
              "          const element = document.querySelector('#df-995dc3f8-d2a7-4568-8f73-639d92a7fcc6');\n",
              "          const dataTable =\n",
              "            await google.colab.kernel.invokeFunction('convertToInteractive',\n",
              "                                                     [key], {});\n",
              "          if (!dataTable) return;\n",
              "\n",
              "          const docLinkHtml = 'Like what you see? Visit the ' +\n",
              "            '<a target=\"_blank\" href=https://colab.research.google.com/notebooks/data_table.ipynb>data table notebook</a>'\n",
              "            + ' to learn more about interactive tables.';\n",
              "          element.innerHTML = '';\n",
              "          dataTable['output_type'] = 'display_data';\n",
              "          await google.colab.output.renderOutput(dataTable, element);\n",
              "          const docLink = document.createElement('div');\n",
              "          docLink.innerHTML = docLinkHtml;\n",
              "          element.appendChild(docLink);\n",
              "        }\n",
              "      </script>\n",
              "    </div>\n",
              "  </div>\n",
              "  "
            ]
          },
          "metadata": {},
          "execution_count": 185
        }
      ]
    },
    {
      "cell_type": "code",
      "source": [
        "def lemmatize_stemming(text):\n",
        "    stemmer = SnowballStemmer(\"english\")\n",
        "    return stemmer.stem(WordNetLemmatizer().lemmatize(text, pos='v'))\n",
        "\n",
        "def preprocess(text):\n",
        "    result = []\n",
        "    for token in gensim.utils.simple_preprocess(text):\n",
        "        if token not in gensim.parsing.preprocessing.STOPWORDS and len(token) > 3:\n",
        "            result.append(lemmatize_stemming(token))\n",
        "    return result\n",
        "\n",
        "processed_docs3 = GeorgeTakei['tweet-text'].map(preprocess)"
      ],
      "metadata": {
        "colab": {
          "base_uri": "https://localhost:8080/"
        },
        "id": "lsd7s0EUrkfZ",
        "outputId": "b56588f6-db8b-4692-bd0d-b74c77a13c1f"
      },
      "execution_count": null,
      "outputs": [
        {
          "output_type": "stream",
          "name": "stderr",
          "text": [
            "/usr/local/lib/python3.10/dist-packages/ipykernel/ipkernel.py:283: DeprecationWarning: `should_run_async` will not call `transform_cell` automatically in the future. Please pass the result to `transformed_cell` argument and any exception that happen during thetransform in `preprocessing_exc_tuple` in IPython 7.17 and above.\n",
            "  and should_run_async(code)\n"
          ]
        }
      ]
    },
    {
      "cell_type": "code",
      "source": [
        "dictionary = gensim.corpora.Dictionary(processed_docs3)\n",
        "\n",
        "dictionary.filter_extremes(no_below=3, no_above=0.9)\n",
        "\n",
        "#dictionary.filter_extremes(no_below=1, no_above=1.0)\n",
        "\n",
        "bow_corpus = [dictionary.doc2bow(doc) for doc in processed_docs3]"
      ],
      "metadata": {
        "colab": {
          "base_uri": "https://localhost:8080/"
        },
        "id": "oQ-hcUdr-uiw",
        "outputId": "c1be97aa-179a-4034-c8b3-e98be9919c3b"
      },
      "execution_count": null,
      "outputs": [
        {
          "output_type": "stream",
          "name": "stderr",
          "text": [
            "/usr/local/lib/python3.10/dist-packages/ipykernel/ipkernel.py:283: DeprecationWarning: `should_run_async` will not call `transform_cell` automatically in the future. Please pass the result to `transformed_cell` argument and any exception that happen during thetransform in `preprocessing_exc_tuple` in IPython 7.17 and above.\n",
            "  and should_run_async(code)\n"
          ]
        }
      ]
    },
    {
      "cell_type": "code",
      "source": [
        "lda_model3 = gensim.models.LdaMulticore(bow_corpus, num_topics=10, id2word=dictionary, passes=2, workers=2)"
      ],
      "metadata": {
        "colab": {
          "base_uri": "https://localhost:8080/"
        },
        "id": "pLvzbE-Rrkj6",
        "outputId": "b5515a13-a00f-41a8-d19c-c008c694d89b"
      },
      "execution_count": null,
      "outputs": [
        {
          "output_type": "stream",
          "name": "stderr",
          "text": [
            "/usr/local/lib/python3.10/dist-packages/ipykernel/ipkernel.py:283: DeprecationWarning: `should_run_async` will not call `transform_cell` automatically in the future. Please pass the result to `transformed_cell` argument and any exception that happen during thetransform in `preprocessing_exc_tuple` in IPython 7.17 and above.\n",
            "  and should_run_async(code)\n",
            "WARNING:gensim.models.ldamulticore:too few updates, training might not converge; consider increasing the number of passes or iterations to improve accuracy\n"
          ]
        }
      ]
    },
    {
      "cell_type": "code",
      "source": [
        "for idx, topic in lda_model3.print_topics(-1):\n",
        "    print('Topic: {} \\nWords: {}'.format(idx, topic))"
      ],
      "metadata": {
        "colab": {
          "base_uri": "https://localhost:8080/"
        },
        "id": "-stEs3Kerzej",
        "outputId": "a259fc19-c0a3-4d0f-f780-85c4b4bc8643"
      },
      "execution_count": null,
      "outputs": [
        {
          "output_type": "stream",
          "name": "stdout",
          "text": [
            "Topic: 0 \n",
            "Words: 0.211*\"world\" + 0.191*\"putin\" + 0.143*\"peopl\" + 0.143*\"ukrain\" + 0.075*\"come\" + 0.027*\"friend\" + 0.027*\"student\" + 0.027*\"hope\" + 0.027*\"young\" + 0.027*\"time\"\n",
            "Topic: 1 \n",
            "Words: 0.271*\"hope\" + 0.163*\"friend\" + 0.163*\"today\" + 0.085*\"time\" + 0.085*\"putin\" + 0.085*\"face\" + 0.008*\"folk\" + 0.008*\"fascin\" + 0.008*\"best\" + 0.008*\"good\"\n",
            "Topic: 2 \n",
            "Words: 0.198*\"step\" + 0.198*\"learn\" + 0.134*\"kid\" + 0.070*\"young\" + 0.070*\"florida\" + 0.070*\"today\" + 0.070*\"ukrain\" + 0.025*\"best\" + 0.025*\"stand\" + 0.025*\"fascin\"\n",
            "Topic: 3 \n",
            "Words: 0.255*\"best\" + 0.235*\"time\" + 0.121*\"stand\" + 0.074*\"folk\" + 0.074*\"love\" + 0.074*\"ukrain\" + 0.027*\"good\" + 0.027*\"hope\" + 0.007*\"fascin\" + 0.007*\"friend\"\n",
            "Topic: 4 \n",
            "Words: 0.280*\"friend\" + 0.250*\"good\" + 0.250*\"fascin\" + 0.010*\"young\" + 0.010*\"folk\" + 0.010*\"best\" + 0.010*\"hope\" + 0.010*\"time\" + 0.010*\"step\" + 0.010*\"right\"\n",
            "Topic: 5 \n",
            "Words: 0.310*\"florida\" + 0.110*\"student\" + 0.110*\"peopl\" + 0.110*\"kid\" + 0.070*\"folk\" + 0.040*\"time\" + 0.040*\"putin\" + 0.040*\"love\" + 0.010*\"best\" + 0.010*\"fascin\"\n",
            "Topic: 6 \n",
            "Words: 0.250*\"love\" + 0.153*\"think\" + 0.153*\"learn\" + 0.153*\"step\" + 0.014*\"folk\" + 0.014*\"best\" + 0.014*\"fascin\" + 0.014*\"time\" + 0.014*\"friend\" + 0.014*\"good\"\n",
            "Topic: 7 \n",
            "Words: 0.187*\"come\" + 0.187*\"right\" + 0.128*\"republican\" + 0.128*\"student\" + 0.096*\"friend\" + 0.050*\"kid\" + 0.050*\"stand\" + 0.050*\"face\" + 0.050*\"think\" + 0.005*\"folk\"\n",
            "Topic: 8 \n",
            "Words: 0.386*\"folk\" + 0.165*\"young\" + 0.101*\"face\" + 0.101*\"think\" + 0.037*\"fascin\" + 0.037*\"republican\" + 0.009*\"best\" + 0.009*\"friend\" + 0.009*\"good\" + 0.009*\"time\"\n",
            "Topic: 9 \n",
            "Words: 0.229*\"right\" + 0.229*\"world\" + 0.083*\"folk\" + 0.021*\"best\" + 0.021*\"friend\" + 0.021*\"time\" + 0.021*\"fascin\" + 0.021*\"good\" + 0.021*\"love\" + 0.021*\"step\"\n"
          ]
        },
        {
          "output_type": "stream",
          "name": "stderr",
          "text": [
            "/usr/local/lib/python3.10/dist-packages/ipykernel/ipkernel.py:283: DeprecationWarning: `should_run_async` will not call `transform_cell` automatically in the future. Please pass the result to `transformed_cell` argument and any exception that happen during thetransform in `preprocessing_exc_tuple` in IPython 7.17 and above.\n",
            "  and should_run_async(code)\n"
          ]
        }
      ]
    },
    {
      "cell_type": "code",
      "source": [
        "pyLDAvis.enable_notebook()\n",
        "\n",
        "vis = gensimvis.prepare(lda_model3, bow_corpus, dictionary, n_jobs=1)\n",
        "pyLDAvis.display(vis)"
      ],
      "metadata": {
        "colab": {
          "base_uri": "https://localhost:8080/",
          "height": 917
        },
        "id": "JwNk2pnBrzib",
        "outputId": "b6dab52f-6c5e-4313-a96b-f1fcb1c0a82b"
      },
      "execution_count": null,
      "outputs": [
        {
          "output_type": "stream",
          "name": "stderr",
          "text": [
            "/usr/local/lib/python3.10/dist-packages/ipykernel/ipkernel.py:283: DeprecationWarning: `should_run_async` will not call `transform_cell` automatically in the future. Please pass the result to `transformed_cell` argument and any exception that happen during thetransform in `preprocessing_exc_tuple` in IPython 7.17 and above.\n",
            "  and should_run_async(code)\n"
          ]
        },
        {
          "output_type": "execute_result",
          "data": {
            "text/plain": [
              "<IPython.core.display.HTML object>"
            ],
            "text/html": [
              "\n",
              "<link rel=\"stylesheet\" type=\"text/css\" href=\"https://cdn.jsdelivr.net/gh/bmabey/pyLDAvis@3.4.0/pyLDAvis/js/ldavis.v1.0.0.css\">\n",
              "\n",
              "\n",
              "<div id=\"ldavis_el259140146276542816270374303\" style=\"background-color:white;\"></div>\n",
              "<script type=\"text/javascript\">\n",
              "\n",
              "var ldavis_el259140146276542816270374303_data = {\"mdsDat\": {\"x\": [-0.037839919787037046, -0.156629606038108, -0.1436526039931344, 0.2193583481475666, -0.05856190362570781, 0.16500827041293745, 0.13619758361855522, -0.04049924923924752, -0.07897657813525008, -0.004404341360573985], \"y\": [0.01579900475441374, -0.046851441344497834, -0.17684292178717664, -0.028510097619976082, 0.2543561316899476, -0.03613436182227773, -0.04569844766869866, 0.06714166015253299, -0.05224985698587231, 0.04899033063160493], \"topics\": [1, 2, 3, 4, 5, 6, 7, 8, 9, 10], \"cluster\": [1, 1, 1, 1, 1, 1, 1, 1, 1, 1], \"Freq\": [19.30681024570933, 13.593699308873145, 13.115502050147956, 12.800831024733963, 10.692123841742182, 7.887377636546655, 7.193987793685371, 5.93026284498356, 4.994830119543475, 4.484575134034362]}, \"tinfo\": {\"Term\": [\"fascin\", \"step\", \"florida\", \"student\", \"time\", \"friend\", \"today\", \"best\", \"putin\", \"ukrain\", \"right\", \"hope\", \"good\", \"peopl\", \"stand\", \"world\", \"folk\", \"face\", \"kid\", \"learn\", \"come\", \"young\", \"love\", \"republican\", \"think\", \"friend\", \"love\", \"face\", \"think\", \"republican\", \"come\", \"hope\", \"right\", \"good\", \"time\", \"folk\", \"step\", \"young\", \"today\", \"stand\", \"best\", \"putin\", \"world\", \"ukrain\", \"fascin\", \"peopl\", \"kid\", \"learn\", \"florida\", \"student\", \"young\", \"kid\", \"folk\", \"learn\", \"florida\", \"come\", \"world\", \"love\", \"face\", \"republican\", \"think\", \"stand\", \"good\", \"fascin\", \"today\", \"best\", \"peopl\", \"hope\", \"step\", \"student\", \"time\", \"putin\", \"ukrain\", \"right\", \"friend\", \"right\", \"student\", \"republican\", \"think\", \"kid\", \"learn\", \"hope\", \"come\", \"love\", \"face\", \"young\", \"stand\", \"good\", \"fascin\", \"today\", \"best\", \"peopl\", \"florida\", \"step\", \"time\", \"world\", \"putin\", \"ukrain\", \"folk\", \"friend\", \"peopl\", \"world\", \"putin\", \"ukrain\", \"love\", \"face\", \"young\", \"republican\", \"think\", \"stand\", \"good\", \"fascin\", \"today\", \"best\", \"kid\", \"learn\", \"hope\", \"florida\", \"step\", \"student\", \"time\", \"come\", \"right\", \"folk\", \"friend\", \"best\", \"time\", \"stand\", \"love\", \"folk\", \"fascin\", \"peopl\", \"florida\", \"face\", \"young\", \"republican\", \"think\", \"good\", \"today\", \"kid\", \"learn\", \"hope\", \"step\", \"student\", \"come\", \"world\", \"putin\", \"ukrain\", \"right\", \"friend\", \"step\", \"today\", \"ukrain\", \"love\", \"face\", \"young\", \"republican\", \"think\", \"stand\", \"good\", \"fascin\", \"best\", \"peopl\", \"kid\", \"learn\", \"hope\", \"florida\", \"student\", \"time\", \"come\", \"world\", \"putin\", \"right\", \"folk\", \"friend\", \"hope\", \"good\", \"today\", \"putin\", \"peopl\", \"world\", \"ukrain\", \"love\", \"face\", \"young\", \"republican\", \"think\", \"stand\", \"fascin\", \"best\", \"kid\", \"learn\", \"florida\", \"step\", \"student\", \"time\", \"come\", \"right\", \"folk\", \"friend\", \"face\", \"stand\", \"good\", \"come\", \"best\", \"learn\", \"putin\", \"folk\", \"love\", \"young\", \"republican\", \"think\", \"fascin\", \"today\", \"peopl\", \"kid\", \"hope\", \"florida\", \"step\", \"student\", \"time\", \"world\", \"ukrain\", \"right\", \"friend\", \"florida\", \"student\", \"love\", \"face\", \"young\", \"think\", \"republican\", \"stand\", \"good\", \"fascin\", \"today\", \"best\", \"peopl\", \"kid\", \"learn\", \"hope\", \"step\", \"time\", \"come\", \"world\", \"putin\", \"ukrain\", \"right\", \"folk\", \"friend\", \"fascin\", \"love\", \"face\", \"young\", \"republican\", \"think\", \"stand\", \"good\", \"today\", \"best\", \"peopl\", \"kid\", \"learn\", \"hope\", \"florida\", \"step\", \"student\", \"time\", \"come\", \"world\", \"putin\", \"ukrain\", \"right\", \"folk\", \"friend\"], \"Freq\": [3.0, 4.0, 4.0, 4.0, 4.0, 5.0, 3.0, 3.0, 4.0, 4.0, 4.0, 4.0, 3.0, 3.0, 3.0, 4.0, 5.0, 2.0, 3.0, 3.0, 4.0, 2.0, 2.0, 3.0, 3.0, 4.618702736114442, 1.365965973479344, 1.3660866438067087, 1.3661063796079134, 1.3660367404236629, 1.3660894632068807, 1.015998905039716, 1.1039766662542847, 0.7155176664803692, 0.9098040830083007, 0.7155324683312726, 0.5709305084257449, 0.3945337498696773, 0.3089792631030088, 0.25928215442233277, 0.2592279690752756, 0.3089665758022345, 0.2592745949056214, 0.25927547596817513, 0.06507624498525227, 0.06506028453709066, 0.06505904223888984, 0.06506592774274758, 0.06506293213006475, 0.06506232860221542, 1.8780556424925925, 2.2448676267816112, 2.752720448802349, 2.0286797812782766, 1.5207084483881785, 0.7965255479698072, 0.7965218258947645, 0.07243279620897025, 0.07242287067552303, 0.07242635701914638, 0.07242439052283214, 0.07242524660009196, 0.07243121432707711, 0.07244393141680636, 0.07242781483187143, 0.07244680982150606, 0.07242262253718686, 0.07242569324909709, 0.072432715564011, 0.07242479995108683, 0.07243512250587195, 0.07243157412766457, 0.07242415479141277, 0.07242976271781044, 0.07243887559820668, 3.02100578379913, 2.6735594062718415, 0.9487377337681624, 0.9486681135261604, 0.9486954061932451, 0.9486439810626329, 0.9486676347074396, 0.9487260505913753, 0.08626235873799518, 0.08625581089198847, 0.08625705582066251, 0.08625524827999154, 0.08626358571096719, 0.08627338952427524, 0.08626012624570953, 0.08628047005610884, 0.0862543684505921, 0.08625982099877502, 0.08626307098084235, 0.08626840980957909, 0.08627261144385397, 0.08626126344017139, 0.08625449414050632, 0.08627856675169371, 0.08626754195064767, 2.5922721339529113, 2.5923244749979917, 2.5923211102165222, 2.5922478327534098, 0.10359505544720499, 0.1035888282648327, 0.10359299919186254, 0.10359216967976417, 0.10358677200949026, 0.10361591008235418, 0.10359769586599699, 0.10360937913498813, 0.10359704160293348, 0.10361990576034916, 0.10358546348336325, 0.1036008386653556, 0.10358734448967083, 0.10361656434541769, 0.10359471663240424, 0.10359443623394846, 0.10362074695571652, 0.10359497366432205, 0.10362836444709875, 0.10362774523384222, 0.10360292997050502, 2.5844293600132064, 2.8046988690904118, 1.329101244134117, 0.8116711667890415, 0.8116493073904242, 0.2940281554806489, 0.29407263545337115, 0.29406802936580534, 0.07379112810357655, 0.07379696866164462, 0.07379511939555623, 0.07379401666696526, 0.07379723702479729, 0.0737944216513593, 0.07379019127220723, 0.0737991399635162, 0.07379635386605851, 0.0737981543388464, 0.07379303592162552, 0.07379624164146739, 0.07379457778992085, 0.073798617875201, 0.07381966730503028, 0.07380113560950605, 0.0738053757473182, 3.0483332516625254, 1.652887936935678, 1.0093327519011033, 0.09181144306426382, 0.09176497494531499, 0.09177207294148595, 0.09176989891020439, 0.09176701939857317, 0.09176606196095578, 0.09177746482701542, 0.09178754311772469, 0.09179484267970983, 0.09176401030891854, 0.09176570922078096, 0.0917743549544537, 0.09176904945427318, 0.09176848075072601, 0.09176997809677424, 0.09179044422569314, 0.09177394462404626, 0.09176665226084019, 0.09177588829439733, 0.09177422537643029, 0.09179200636075308, 0.0917796676534133, 1.4841783565720386, 0.9966448844677702, 0.9273222701316267, 0.9274213368057478, 0.3611097145177456, 0.3611464574332004, 0.36112450098050547, 0.0906200517199049, 0.09060935582832594, 0.09061332164693472, 0.09061210038491281, 0.0906099270637878, 0.09060959220162051, 0.09063213958755184, 0.0906330719488804, 0.09060661127173908, 0.09061713644927197, 0.09061860721643814, 0.09061878449640906, 0.09060910632318168, 0.09063320983330223, 0.09061647329086223, 0.09062028809319947, 0.09063839034800805, 0.09064208039777316, 0.8308447806533433, 0.8308499766801979, 0.8307912615767408, 0.8308533540976535, 0.30102462798495566, 0.30100622538984556, 0.3009883640475328, 0.3010495039635221, 0.07554630638331739, 0.0755400170258121, 0.07554237147548061, 0.07553829042938855, 0.07555811110682771, 0.07554351351888303, 0.07553904277077687, 0.0755391997340881, 0.07554420090993567, 0.0755436434195544, 0.07554380038286562, 0.07554138098286145, 0.07555319653142772, 0.0755450560893555, 0.07554009821373171, 0.07554570559271231, 0.07554560275468082, 1.695090289245149, 1.0350599419053337, 0.09412313901044539, 0.09411075741246983, 0.09411379354805588, 0.09411176945766518, 0.09411215239368505, 0.09410957213431312, 0.09411576293330089, 0.09412974009802587, 0.09411589969616513, 0.0941496163009616, 0.09415562474946372, 0.09410716510790255, 0.0941167476259234, 0.09411494235611548, 0.0941224096085028, 0.09413622265779069, 0.09411735850005032, 0.09411421295417288, 0.09412009375733504, 0.09411073917742127, 0.09411640116000067, 0.09414200316818576, 0.09411719438461323, 2.36674681315419, 0.08450610137645156, 0.08449755507888843, 0.08450159901662424, 0.0845011160362064, 0.08449847192307144, 0.08449864383135576, 0.0845070837095048, 0.08450274507185301, 0.08453332837424371, 0.08449545943504153, 0.08449517292123433, 0.08450657617076063, 0.0845032116800533, 0.08450119789729417, 0.08450801692590537, 0.08450166450549446, 0.08452070539450965, 0.08450599495703746, 0.08450236851084927, 0.08450737022331199, 0.08449896308959806, 0.08450909749226393, 0.08452353778814647, 0.08451079201678076], \"Total\": [3.0, 4.0, 4.0, 4.0, 4.0, 5.0, 3.0, 3.0, 4.0, 4.0, 4.0, 4.0, 3.0, 3.0, 3.0, 4.0, 5.0, 2.0, 3.0, 3.0, 4.0, 2.0, 2.0, 3.0, 3.0, 5.391412796588379, 2.876534392216939, 2.893972705660972, 3.001105150605847, 3.0011257594867815, 4.480599402543502, 4.044585692324398, 4.811407430542437, 3.14944385692354, 4.413461010012603, 5.131953978138196, 4.300145429018058, 2.972777220215352, 3.4794310327890883, 3.0425136503273302, 3.768140002015197, 4.632592194590119, 4.51526283228057, 4.708628678320894, 3.3402854476062913, 3.8171458967130985, 3.8725115882250614, 3.8818107093027843, 4.107238013757403, 4.365916078794363, 2.972777220215352, 3.8725115882250614, 5.131953978138196, 3.8818107093027843, 4.107238013757403, 4.480599402543502, 4.51526283228057, 2.876534392216939, 2.893972705660972, 3.0011257594867815, 3.001105150605847, 3.0425136503273302, 3.14944385692354, 3.3402854476062913, 3.4794310327890883, 3.768140002015197, 3.8171458967130985, 4.044585692324398, 4.300145429018058, 4.365916078794363, 4.413461010012603, 4.632592194590119, 4.708628678320894, 4.811407430542437, 5.391412796588379, 4.811407430542437, 4.365916078794363, 3.0011257594867815, 3.001105150605847, 3.8725115882250614, 3.8818107093027843, 4.044585692324398, 4.480599402543502, 2.876534392216939, 2.893972705660972, 2.972777220215352, 3.0425136503273302, 3.14944385692354, 3.3402854476062913, 3.4794310327890883, 3.768140002015197, 3.8171458967130985, 4.107238013757403, 4.300145429018058, 4.413461010012603, 4.51526283228057, 4.632592194590119, 4.708628678320894, 5.131953978138196, 5.391412796588379, 3.8171458967130985, 4.51526283228057, 4.632592194590119, 4.708628678320894, 2.876534392216939, 2.893972705660972, 2.972777220215352, 3.0011257594867815, 3.001105150605847, 3.0425136503273302, 3.14944385692354, 3.3402854476062913, 3.4794310327890883, 3.768140002015197, 3.8725115882250614, 3.8818107093027843, 4.044585692324398, 4.107238013757403, 4.300145429018058, 4.365916078794363, 4.413461010012603, 4.480599402543502, 4.811407430542437, 5.131953978138196, 5.391412796588379, 3.768140002015197, 4.413461010012603, 3.0425136503273302, 2.876534392216939, 5.131953978138196, 3.3402854476062913, 3.8171458967130985, 4.107238013757403, 2.893972705660972, 2.972777220215352, 3.0011257594867815, 3.001105150605847, 3.14944385692354, 3.4794310327890883, 3.8725115882250614, 3.8818107093027843, 4.044585692324398, 4.300145429018058, 4.365916078794363, 4.480599402543502, 4.51526283228057, 4.632592194590119, 4.708628678320894, 4.811407430542437, 5.391412796588379, 4.300145429018058, 3.4794310327890883, 4.708628678320894, 2.876534392216939, 2.893972705660972, 2.972777220215352, 3.0011257594867815, 3.001105150605847, 3.0425136503273302, 3.14944385692354, 3.3402854476062913, 3.768140002015197, 3.8171458967130985, 3.8725115882250614, 3.8818107093027843, 4.044585692324398, 4.107238013757403, 4.365916078794363, 4.413461010012603, 4.480599402543502, 4.51526283228057, 4.632592194590119, 4.811407430542437, 5.131953978138196, 5.391412796588379, 4.044585692324398, 3.14944385692354, 3.4794310327890883, 4.632592194590119, 3.8171458967130985, 4.51526283228057, 4.708628678320894, 2.876534392216939, 2.893972705660972, 2.972777220215352, 3.0011257594867815, 3.001105150605847, 3.0425136503273302, 3.3402854476062913, 3.768140002015197, 3.8725115882250614, 3.8818107093027843, 4.107238013757403, 4.300145429018058, 4.365916078794363, 4.413461010012603, 4.480599402543502, 4.811407430542437, 5.131953978138196, 5.391412796588379, 2.893972705660972, 3.0425136503273302, 3.14944385692354, 4.480599402543502, 3.768140002015197, 3.8818107093027843, 4.632592194590119, 5.131953978138196, 2.876534392216939, 2.972777220215352, 3.0011257594867815, 3.001105150605847, 3.3402854476062913, 3.4794310327890883, 3.8171458967130985, 3.8725115882250614, 4.044585692324398, 4.107238013757403, 4.300145429018058, 4.365916078794363, 4.413461010012603, 4.51526283228057, 4.708628678320894, 4.811407430542437, 5.391412796588379, 4.107238013757403, 4.365916078794363, 2.876534392216939, 2.893972705660972, 2.972777220215352, 3.001105150605847, 3.0011257594867815, 3.0425136503273302, 3.14944385692354, 3.3402854476062913, 3.4794310327890883, 3.768140002015197, 3.8171458967130985, 3.8725115882250614, 3.8818107093027843, 4.044585692324398, 4.300145429018058, 4.413461010012603, 4.480599402543502, 4.51526283228057, 4.632592194590119, 4.708628678320894, 4.811407430542437, 5.131953978138196, 5.391412796588379, 3.3402854476062913, 2.876534392216939, 2.893972705660972, 2.972777220215352, 3.0011257594867815, 3.001105150605847, 3.0425136503273302, 3.14944385692354, 3.4794310327890883, 3.768140002015197, 3.8171458967130985, 3.8725115882250614, 3.8818107093027843, 4.044585692324398, 4.107238013757403, 4.300145429018058, 4.365916078794363, 4.413461010012603, 4.480599402543502, 4.51526283228057, 4.632592194590119, 4.708628678320894, 4.811407430542437, 5.131953978138196, 5.391412796588379], \"Category\": [\"Default\", \"Default\", \"Default\", \"Default\", \"Default\", \"Default\", \"Default\", \"Default\", \"Default\", \"Default\", \"Default\", \"Default\", \"Default\", \"Default\", \"Default\", \"Default\", \"Default\", \"Default\", \"Default\", \"Default\", \"Default\", \"Default\", \"Default\", \"Default\", \"Default\", \"Topic1\", \"Topic1\", \"Topic1\", \"Topic1\", \"Topic1\", \"Topic1\", \"Topic1\", \"Topic1\", \"Topic1\", \"Topic1\", \"Topic1\", \"Topic1\", \"Topic1\", \"Topic1\", \"Topic1\", \"Topic1\", \"Topic1\", \"Topic1\", \"Topic1\", \"Topic1\", \"Topic1\", \"Topic1\", \"Topic1\", \"Topic1\", \"Topic1\", \"Topic2\", \"Topic2\", \"Topic2\", \"Topic2\", \"Topic2\", \"Topic2\", \"Topic2\", \"Topic2\", \"Topic2\", \"Topic2\", \"Topic2\", \"Topic2\", \"Topic2\", \"Topic2\", \"Topic2\", \"Topic2\", \"Topic2\", \"Topic2\", \"Topic2\", \"Topic2\", \"Topic2\", \"Topic2\", \"Topic2\", \"Topic2\", \"Topic2\", \"Topic3\", \"Topic3\", \"Topic3\", \"Topic3\", \"Topic3\", \"Topic3\", \"Topic3\", \"Topic3\", \"Topic3\", \"Topic3\", \"Topic3\", \"Topic3\", \"Topic3\", \"Topic3\", \"Topic3\", \"Topic3\", \"Topic3\", \"Topic3\", \"Topic3\", \"Topic3\", \"Topic3\", \"Topic3\", \"Topic3\", \"Topic3\", \"Topic3\", \"Topic4\", \"Topic4\", \"Topic4\", \"Topic4\", \"Topic4\", \"Topic4\", \"Topic4\", \"Topic4\", \"Topic4\", \"Topic4\", \"Topic4\", \"Topic4\", \"Topic4\", \"Topic4\", \"Topic4\", \"Topic4\", \"Topic4\", \"Topic4\", \"Topic4\", \"Topic4\", \"Topic4\", \"Topic4\", \"Topic4\", \"Topic4\", \"Topic4\", \"Topic5\", \"Topic5\", \"Topic5\", \"Topic5\", \"Topic5\", \"Topic5\", \"Topic5\", \"Topic5\", \"Topic5\", \"Topic5\", \"Topic5\", \"Topic5\", \"Topic5\", \"Topic5\", \"Topic5\", \"Topic5\", \"Topic5\", \"Topic5\", \"Topic5\", \"Topic5\", \"Topic5\", \"Topic5\", \"Topic5\", \"Topic5\", \"Topic5\", \"Topic6\", \"Topic6\", \"Topic6\", \"Topic6\", \"Topic6\", \"Topic6\", \"Topic6\", \"Topic6\", \"Topic6\", \"Topic6\", \"Topic6\", \"Topic6\", \"Topic6\", \"Topic6\", \"Topic6\", \"Topic6\", \"Topic6\", \"Topic6\", \"Topic6\", \"Topic6\", \"Topic6\", \"Topic6\", \"Topic6\", \"Topic6\", \"Topic6\", \"Topic7\", \"Topic7\", \"Topic7\", \"Topic7\", \"Topic7\", \"Topic7\", \"Topic7\", \"Topic7\", \"Topic7\", \"Topic7\", \"Topic7\", \"Topic7\", \"Topic7\", \"Topic7\", \"Topic7\", \"Topic7\", \"Topic7\", \"Topic7\", \"Topic7\", \"Topic7\", \"Topic7\", \"Topic7\", \"Topic7\", \"Topic7\", \"Topic7\", \"Topic8\", \"Topic8\", \"Topic8\", \"Topic8\", \"Topic8\", \"Topic8\", \"Topic8\", \"Topic8\", \"Topic8\", \"Topic8\", \"Topic8\", \"Topic8\", \"Topic8\", \"Topic8\", \"Topic8\", \"Topic8\", \"Topic8\", \"Topic8\", \"Topic8\", \"Topic8\", \"Topic8\", \"Topic8\", \"Topic8\", \"Topic8\", \"Topic8\", \"Topic9\", \"Topic9\", \"Topic9\", \"Topic9\", \"Topic9\", \"Topic9\", \"Topic9\", \"Topic9\", \"Topic9\", \"Topic9\", \"Topic9\", \"Topic9\", \"Topic9\", \"Topic9\", \"Topic9\", \"Topic9\", \"Topic9\", \"Topic9\", \"Topic9\", \"Topic9\", \"Topic9\", \"Topic9\", \"Topic9\", \"Topic9\", \"Topic9\", \"Topic10\", \"Topic10\", \"Topic10\", \"Topic10\", \"Topic10\", \"Topic10\", \"Topic10\", \"Topic10\", \"Topic10\", \"Topic10\", \"Topic10\", \"Topic10\", \"Topic10\", \"Topic10\", \"Topic10\", \"Topic10\", \"Topic10\", \"Topic10\", \"Topic10\", \"Topic10\", \"Topic10\", \"Topic10\", \"Topic10\", \"Topic10\", \"Topic10\"], \"logprob\": [25.0, 24.0, 23.0, 22.0, 21.0, 20.0, 19.0, 18.0, 17.0, 16.0, 15.0, 14.0, 13.0, 12.0, 11.0, 10.0, 9.0, 8.0, 7.0, 6.0, 5.0, 4.0, 3.0, 2.0, 1.0, -1.4101, -2.6284, -2.6283, -2.6283, -2.6283, -2.6283, -2.9244, -2.8413, -3.275, -3.0348, -3.275, -3.5007, -3.8703, -4.1147, -4.2901, -4.2903, -4.1148, -4.2901, -4.2901, -5.6725, -5.6727, -5.6727, -5.6726, -5.6727, -5.6727, -1.9592, -1.7808, -1.5768, -1.882, -2.1702, -2.8169, -2.8169, -5.2145, -5.2146, -5.2146, -5.2146, -5.2146, -5.2145, -5.2143, -5.2146, -5.2143, -5.2146, -5.2146, -5.2145, -5.2146, -5.2145, -5.2145, -5.2146, -5.2145, -5.2144, -1.448, -1.5702, -2.6062, -2.6063, -2.6063, -2.6063, -2.6063, -2.6062, -5.004, -5.004, -5.004, -5.004, -5.0039, -5.0038, -5.004, -5.0037, -5.004, -5.004, -5.0039, -5.0039, -5.0038, -5.004, -5.004, -5.0038, -5.0039, -1.5768, -1.5768, -1.5768, -1.5768, -4.7966, -4.7966, -4.7966, -4.7966, -4.7967, -4.7964, -4.7965, -4.7964, -4.7966, -4.7963, -4.7967, -4.7965, -4.7966, -4.7964, -4.7966, -4.7966, -4.7963, -4.7966, -4.7963, -4.7963, -4.7965, -1.3998, -1.318, -2.0648, -2.558, -2.558, -3.5734, -3.5732, -3.5732, -4.9558, -4.9557, -4.9558, -4.9558, -4.9557, -4.9558, -4.9558, -4.9557, -4.9558, -4.9557, -4.9558, -4.9558, -4.9558, -4.9557, -4.9554, -4.9557, -4.9556, -0.9305, -1.5425, -2.0358, -4.4331, -4.4336, -4.4335, -4.4335, -4.4336, -4.4336, -4.4334, -4.4333, -4.4333, -4.4336, -4.4336, -4.4335, -4.4335, -4.4335, -4.4335, -4.4333, -4.4335, -4.4336, -4.4335, -4.4335, -4.4333, -4.4334, -1.5582, -1.9564, -2.0285, -2.0284, -2.9716, -2.9715, -2.9716, -4.3541, -4.3542, -4.3542, -4.3542, -4.3542, -4.3542, -4.354, -4.354, -4.3543, -4.3542, -4.3541, -4.3541, -4.3542, -4.354, -4.3542, -4.3541, -4.3539, -4.3539, -1.9452, -1.9452, -1.9452, -1.9452, -2.9604, -2.9605, -2.9605, -2.9603, -4.3429, -4.343, -4.3429, -4.343, -4.3427, -4.3429, -4.343, -4.343, -4.3429, -4.3429, -4.3429, -4.3429, -4.3428, -4.3429, -4.343, -4.3429, -4.3429, -1.0605, -1.5537, -3.9514, -3.9515, -3.9515, -3.9515, -3.9515, -3.9515, -3.9514, -3.9513, -3.9514, -3.9511, -3.951, -3.9515, -3.9514, -3.9514, -3.9514, -3.9512, -3.9514, -3.9514, -3.9514, -3.9515, -3.9514, -3.9512, -3.9514, -0.6189, -3.9514, -3.9515, -3.9514, -3.9514, -3.9515, -3.9515, -3.9514, -3.9514, -3.9511, -3.9515, -3.9515, -3.9514, -3.9514, -3.9514, -3.9513, -3.9514, -3.9512, -3.9514, -3.9514, -3.9514, -3.9515, -3.9513, -3.9512, -3.9513], \"loglift\": [25.0, 24.0, 23.0, 22.0, 21.0, 20.0, 19.0, 18.0, 17.0, 16.0, 15.0, 14.0, 13.0, 12.0, 11.0, 10.0, 9.0, 8.0, 7.0, 6.0, 5.0, 4.0, 3.0, 2.0, 1.0, 1.49, 0.9, 0.894, 0.8577, 0.8576, 0.4569, 0.2632, 0.1726, 0.1627, 0.0655, -0.3255, -0.3744, -0.3748, -0.7766, -0.8178, -1.0319, -1.0629, -1.2126, -1.2545, -2.2935, -2.4272, -2.4417, -2.4439, -2.5004, -2.5615, 1.5363, 1.4503, 1.3727, 1.3466, 1.002, 0.2683, 0.2606, -1.6861, -1.6923, -1.7286, -1.7286, -1.7423, -1.7768, -1.8354, -1.8765, -1.9559, -1.9692, -2.027, -2.0882, -2.1035, -2.1142, -2.1627, -2.179, -2.2006, -2.3143, 1.566, 1.541, 0.8798, 0.8797, 0.6248, 0.6224, 0.5813, 0.479, -1.4756, -1.4817, -1.5085, -1.5318, -1.5662, -1.6249, -1.6659, -1.7454, -1.7586, -1.8318, -1.8776, -1.9036, -1.9263, -1.9521, -1.9685, -2.0543, -2.1037, 1.6687, 1.5008, 1.4751, 1.4588, -1.2682, -1.2743, -1.3011, -1.3106, -1.3107, -1.3241, -1.3588, -1.4175, -1.4585, -1.5379, -1.5656, -1.5679, -1.6091, -1.6241, -1.6703, -1.6854, -1.696, -1.7114, -1.7823, -1.8468, -1.8963, 1.8586, 1.7823, 1.4075, 0.9704, 0.3915, -0.1945, -0.3278, -0.401, -1.4335, -1.4603, -1.4698, -1.4698, -1.518, -1.6177, -1.7248, -1.727, -1.7682, -1.8294, -1.8447, -1.8705, -1.8783, -1.9039, -1.9199, -1.9417, -2.0555, 2.1959, 1.7956, 0.9998, -0.9047, -0.9112, -0.938, -0.9476, -0.9476, -0.9613, -0.9957, -1.0544, -1.1749, -1.1881, -1.2025, -1.2048, -1.246, -1.2613, -1.3224, -1.333, -1.3483, -1.3561, -1.3816, -1.4195, -1.4838, -1.5333, 1.6294, 1.4813, 1.3096, 1.0235, 0.2738, 0.106, 0.064, -0.8257, -0.8319, -0.8587, -0.8682, -0.8682, -0.882, -0.9751, -1.0956, -1.1232, -1.1255, -1.1819, -1.2278, -1.2431, -1.2537, -1.269, -1.3401, -1.4044, -1.4537, 1.5772, 1.5271, 1.4925, 1.14, 0.298, 0.2682, 0.0913, -0.0109, -0.8145, -0.8475, -0.8569, -0.857, -0.9638, -1.0048, -1.0975, -1.1119, -1.1553, -1.1707, -1.2166, -1.2318, -1.2425, -1.2654, -1.3074, -1.3289, -1.4427, 2.1118, 1.5574, -0.423, -0.4291, -0.456, -0.4655, -0.4655, -0.4792, -0.5137, -0.5724, -0.6133, -0.6927, -0.7055, -0.7205, -0.7228, -0.7639, -0.825, -0.8509, -0.8662, -0.8739, -0.8995, -0.9159, -0.9374, -1.0017, -1.0513, 2.76, -0.423, -0.4291, -0.456, -0.4655, -0.4655, -0.4792, -0.5136, -0.6133, -0.6927, -0.706, -0.7204, -0.7227, -0.7638, -0.7792, -0.825, -0.8403, -0.8509, -0.8662, -0.8739, -0.8995, -0.9159, -0.9374, -1.0017, -1.0512]}, \"token.table\": {\"Topic\": [5, 1, 2, 3, 8, 1, 8, 10, 2, 9, 1, 2, 5, 1, 1, 7, 8, 1, 3, 7, 2, 3, 2, 3, 1, 5, 4, 4, 7, 1, 3, 1, 3, 5, 8, 1, 6, 3, 9, 1, 3, 1, 5, 6, 7, 4, 6, 2, 4, 2], \"Freq\": [0.7961487626244257, 0.22318442470717867, 0.22318442470717867, 0.22318442470717867, 0.22318442470717867, 0.3455457606921707, 0.3455457606921707, 0.5987512239210682, 0.48694523991570443, 0.48694523991570443, 0.19485755411290467, 0.584572662338714, 0.19485755411290467, 0.9274006997134294, 0.3175163760426028, 0.3175163760426028, 0.3175163760426028, 0.2472441125175682, 0.2472441125175682, 0.2472441125175682, 0.516460688221384, 0.258230344110692, 0.5152234742428288, 0.2576117371214144, 0.3476405506242886, 0.3476405506242886, 0.7859275178827371, 0.647585600887417, 0.21586186696247234, 0.33320829586661793, 0.33320829586661793, 0.20783939303333124, 0.6235181790999937, 0.3286756001546335, 0.3286756001546335, 0.23255027452137841, 0.6976508235641353, 0.6871410136743724, 0.22904700455812413, 0.33321058404039106, 0.33321058404039106, 0.22657954782682999, 0.67973864348049, 0.5748066224485023, 0.28740331122425117, 0.6371281757281838, 0.21237605857606126, 0.22147104989122413, 0.6644131496736724, 0.6727715707721675], \"Term\": [\"best\", \"come\", \"come\", \"come\", \"come\", \"face\", \"face\", \"fascin\", \"florida\", \"florida\", \"folk\", \"folk\", \"folk\", \"friend\", \"good\", \"good\", \"good\", \"hope\", \"hope\", \"hope\", \"kid\", \"kid\", \"learn\", \"learn\", \"love\", \"love\", \"peopl\", \"putin\", \"putin\", \"republican\", \"republican\", \"right\", \"right\", \"stand\", \"stand\", \"step\", \"step\", \"student\", \"student\", \"think\", \"think\", \"time\", \"time\", \"today\", \"today\", \"ukrain\", \"ukrain\", \"world\", \"world\", \"young\"]}, \"R\": 25, \"lambda.step\": 0.01, \"plot.opts\": {\"xlab\": \"PC1\", \"ylab\": \"PC2\"}, \"topic.order\": [7, 10, 6, 3, 2, 5, 1, 9, 4, 8]};\n",
              "\n",
              "function LDAvis_load_lib(url, callback){\n",
              "  var s = document.createElement('script');\n",
              "  s.src = url;\n",
              "  s.async = true;\n",
              "  s.onreadystatechange = s.onload = callback;\n",
              "  s.onerror = function(){console.warn(\"failed to load library \" + url);};\n",
              "  document.getElementsByTagName(\"head\")[0].appendChild(s);\n",
              "}\n",
              "\n",
              "if(typeof(LDAvis) !== \"undefined\"){\n",
              "   // already loaded: just create the visualization\n",
              "   !function(LDAvis){\n",
              "       new LDAvis(\"#\" + \"ldavis_el259140146276542816270374303\", ldavis_el259140146276542816270374303_data);\n",
              "   }(LDAvis);\n",
              "}else if(typeof define === \"function\" && define.amd){\n",
              "   // require.js is available: use it to load d3/LDAvis\n",
              "   require.config({paths: {d3: \"https://d3js.org/d3.v5\"}});\n",
              "   require([\"d3\"], function(d3){\n",
              "      window.d3 = d3;\n",
              "      LDAvis_load_lib(\"https://cdn.jsdelivr.net/gh/bmabey/pyLDAvis@3.4.0/pyLDAvis/js/ldavis.v3.0.0.js\", function(){\n",
              "        new LDAvis(\"#\" + \"ldavis_el259140146276542816270374303\", ldavis_el259140146276542816270374303_data);\n",
              "      });\n",
              "    });\n",
              "}else{\n",
              "    // require.js not available: dynamically load d3 & LDAvis\n",
              "    LDAvis_load_lib(\"https://d3js.org/d3.v5.js\", function(){\n",
              "         LDAvis_load_lib(\"https://cdn.jsdelivr.net/gh/bmabey/pyLDAvis@3.4.0/pyLDAvis/js/ldavis.v3.0.0.js\", function(){\n",
              "                 new LDAvis(\"#\" + \"ldavis_el259140146276542816270374303\", ldavis_el259140146276542816270374303_data);\n",
              "            })\n",
              "         });\n",
              "}\n",
              "</script>"
            ]
          },
          "metadata": {},
          "execution_count": 159
        }
      ]
    },
    {
      "cell_type": "code",
      "source": [
        "pyLDAvis.save_html(vis, 'GeorgeTakei.html')"
      ],
      "metadata": {
        "colab": {
          "base_uri": "https://localhost:8080/"
        },
        "id": "w8NJARv7rzl3",
        "outputId": "3343a87f-626d-4d76-c44f-3f0616c3ea26"
      },
      "execution_count": null,
      "outputs": [
        {
          "output_type": "stream",
          "name": "stderr",
          "text": [
            "/usr/local/lib/python3.10/dist-packages/ipykernel/ipkernel.py:283: DeprecationWarning: `should_run_async` will not call `transform_cell` automatically in the future. Please pass the result to `transformed_cell` argument and any exception that happen during thetransform in `preprocessing_exc_tuple` in IPython 7.17 and above.\n",
            "  and should_run_async(code)\n"
          ]
        }
      ]
    },
    {
      "cell_type": "code",
      "source": [],
      "metadata": {
        "id": "J2B7zXnerkrm"
      },
      "execution_count": null,
      "outputs": []
    },
    {
      "cell_type": "code",
      "source": [],
      "metadata": {
        "id": "dLbjkmz2nhL1"
      },
      "execution_count": null,
      "outputs": []
    },
    {
      "cell_type": "markdown",
      "source": [
        "@MeCookieMonster"
      ],
      "metadata": {
        "id": "CQGregWTwKA0"
      }
    },
    {
      "cell_type": "code",
      "source": [
        "MeCookieMonster = pd.read_excel('https://drive.google.com/uc?export=download&id=10Av-HVklZA4Su3TcvSpxU6nS8At9mJ05')"
      ],
      "metadata": {
        "colab": {
          "base_uri": "https://localhost:8080/"
        },
        "id": "a-8epLz7nhQR",
        "outputId": "d9f7c58c-8f41-4e70-aa07-7ffadc31c981"
      },
      "execution_count": null,
      "outputs": [
        {
          "output_type": "stream",
          "name": "stderr",
          "text": [
            "/usr/local/lib/python3.10/dist-packages/ipykernel/ipkernel.py:283: DeprecationWarning: `should_run_async` will not call `transform_cell` automatically in the future. Please pass the result to `transformed_cell` argument and any exception that happen during thetransform in `preprocessing_exc_tuple` in IPython 7.17 and above.\n",
            "  and should_run_async(code)\n"
          ]
        }
      ]
    },
    {
      "cell_type": "code",
      "source": [
        "def lemmatize_stemming(text):\n",
        "    stemmer = SnowballStemmer(\"english\")\n",
        "    return stemmer.stem(WordNetLemmatizer().lemmatize(text, pos='v'))\n",
        "\n",
        "def preprocess(text):\n",
        "    result = []\n",
        "    for token in gensim.utils.simple_preprocess(text):\n",
        "        if token not in gensim.parsing.preprocessing.STOPWORDS and len(token) > 3:\n",
        "            result.append(lemmatize_stemming(token))\n",
        "    return result\n",
        "\n",
        "processed_docs4 = MeCookieMonster['tweet-text'].map(preprocess)"
      ],
      "metadata": {
        "colab": {
          "base_uri": "https://localhost:8080/"
        },
        "id": "hQeYaqohwMem",
        "outputId": "89713b3d-c69e-4367-ce95-69c9dee267ae"
      },
      "execution_count": null,
      "outputs": [
        {
          "output_type": "stream",
          "name": "stderr",
          "text": [
            "/usr/local/lib/python3.10/dist-packages/ipykernel/ipkernel.py:283: DeprecationWarning: `should_run_async` will not call `transform_cell` automatically in the future. Please pass the result to `transformed_cell` argument and any exception that happen during thetransform in `preprocessing_exc_tuple` in IPython 7.17 and above.\n",
            "  and should_run_async(code)\n"
          ]
        }
      ]
    },
    {
      "cell_type": "code",
      "source": [
        "dictionary = gensim.corpora.Dictionary(processed_docs4)\n",
        "\n",
        "dictionary.filter_extremes(no_below=3, no_above=0.9)\n",
        "\n",
        "#dictionary.filter_extremes(no_below=1, no_above=1.0)\n",
        "\n",
        "bow_corpus = [dictionary.doc2bow(doc) for doc in processed_docs4]"
      ],
      "metadata": {
        "colab": {
          "base_uri": "https://localhost:8080/"
        },
        "id": "0fOq9-8u_f8_",
        "outputId": "9faa3885-96c6-491b-c69d-3ece14f5c10e"
      },
      "execution_count": null,
      "outputs": [
        {
          "output_type": "stream",
          "name": "stderr",
          "text": [
            "/usr/local/lib/python3.10/dist-packages/ipykernel/ipkernel.py:283: DeprecationWarning: `should_run_async` will not call `transform_cell` automatically in the future. Please pass the result to `transformed_cell` argument and any exception that happen during thetransform in `preprocessing_exc_tuple` in IPython 7.17 and above.\n",
            "  and should_run_async(code)\n"
          ]
        }
      ]
    },
    {
      "cell_type": "code",
      "source": [
        "lda_model4 = gensim.models.LdaMulticore(bow_corpus, num_topics=10, id2word=dictionary, passes=2, workers=2)"
      ],
      "metadata": {
        "colab": {
          "base_uri": "https://localhost:8080/"
        },
        "id": "e4CDPjAVwMic",
        "outputId": "4f492e50-252e-49d1-e0a6-637f3fae193c"
      },
      "execution_count": null,
      "outputs": [
        {
          "output_type": "stream",
          "name": "stderr",
          "text": [
            "/usr/local/lib/python3.10/dist-packages/ipykernel/ipkernel.py:283: DeprecationWarning: `should_run_async` will not call `transform_cell` automatically in the future. Please pass the result to `transformed_cell` argument and any exception that happen during thetransform in `preprocessing_exc_tuple` in IPython 7.17 and above.\n",
            "  and should_run_async(code)\n",
            "WARNING:gensim.models.ldamulticore:too few updates, training might not converge; consider increasing the number of passes or iterations to improve accuracy\n"
          ]
        }
      ]
    },
    {
      "cell_type": "code",
      "source": [
        "for idx, topic in lda_model4.print_topics(-1):\n",
        "    print('Topic: {} \\nWords: {}'.format(idx, topic))"
      ],
      "metadata": {
        "colab": {
          "base_uri": "https://localhost:8080/"
        },
        "id": "8BGIwG9UwMmY",
        "outputId": "e289f292-2f1c-4616-ab6e-6e3a435870f2"
      },
      "execution_count": null,
      "outputs": [
        {
          "output_type": "stream",
          "name": "stdout",
          "text": [
            "Topic: 0 \n",
            "Words: 0.249*\"cooki\" + 0.049*\"friday\" + 0.048*\"monster\" + 0.047*\"lose\" + 0.046*\"time\" + 0.046*\"year\" + 0.041*\"like\" + 0.033*\"cowabunga\" + 0.028*\"think\" + 0.028*\"love\"\n",
            "Topic: 1 \n",
            "Words: 0.076*\"https\" + 0.071*\"book\" + 0.071*\"sesam\" + 0.069*\"delici\" + 0.058*\"monster\" + 0.053*\"joyofcooki\" + 0.040*\"look\" + 0.040*\"cake\" + 0.040*\"today\" + 0.034*\"save\"\n",
            "Topic: 2 \n",
            "Words: 0.094*\"twitter\" + 0.073*\"cooki\" + 0.072*\"https\" + 0.067*\"tweet\" + 0.053*\"today\" + 0.053*\"hear\" + 0.039*\"thing\" + 0.037*\"status\" + 0.036*\"know\" + 0.034*\"food\"\n",
            "Topic: 3 \n",
            "Words: 0.221*\"cooki\" + 0.079*\"today\" + 0.045*\"monster\" + 0.043*\"sesam\" + 0.035*\"street\" + 0.034*\"meself\" + 0.027*\"think\" + 0.027*\"eat\" + 0.025*\"cowabunga\" + 0.025*\"wait\"\n",
            "Topic: 4 \n",
            "Words: 0.205*\"cooki\" + 0.057*\"delici\" + 0.044*\"like\" + 0.044*\"abbycadabbysst\" + 0.038*\"twitter\" + 0.030*\"truck\" + 0.030*\"time\" + 0.030*\"want\" + 0.030*\"look\" + 0.030*\"cooooooooki\"\n",
            "Topic: 5 \n",
            "Words: 0.222*\"cooki\" + 0.049*\"snack\" + 0.036*\"good\" + 0.036*\"favorit\" + 0.036*\"love\" + 0.036*\"like\" + 0.025*\"think\" + 0.025*\"share\" + 0.025*\"thing\" + 0.025*\"abbycadabbysst\"\n",
            "Topic: 6 \n",
            "Words: 0.315*\"cooki\" + 0.031*\"kind\" + 0.031*\"favorit\" + 0.030*\"today\" + 0.023*\"cream\" + 0.023*\"share\" + 0.023*\"phone\" + 0.023*\"truck\" + 0.023*\"warm\" + 0.023*\"mean\"\n",
            "Topic: 7 \n",
            "Words: 0.076*\"like\" + 0.074*\"cooki\" + 0.062*\"friend\" + 0.056*\"cooooooki\" + 0.043*\"want\" + 0.041*\"coooooki\" + 0.041*\"look\" + 0.031*\"cowabunga\" + 0.031*\"cooooki\" + 0.031*\"time\"\n",
            "Topic: 8 \n",
            "Words: 0.194*\"cooki\" + 0.096*\"look\" + 0.053*\"friend\" + 0.053*\"think\" + 0.036*\"wonder\" + 0.033*\"celebr\" + 0.027*\"cake\" + 0.027*\"best\" + 0.027*\"go\" + 0.024*\"good\"\n",
            "Topic: 9 \n",
            "Words: 0.173*\"cooki\" + 0.065*\"need\" + 0.062*\"love\" + 0.062*\"eat\" + 0.061*\"friend\" + 0.050*\"happi\" + 0.031*\"think\" + 0.031*\"chocol\" + 0.031*\"birthday\" + 0.025*\"littl\"\n"
          ]
        },
        {
          "output_type": "stream",
          "name": "stderr",
          "text": [
            "/usr/local/lib/python3.10/dist-packages/ipykernel/ipkernel.py:283: DeprecationWarning: `should_run_async` will not call `transform_cell` automatically in the future. Please pass the result to `transformed_cell` argument and any exception that happen during thetransform in `preprocessing_exc_tuple` in IPython 7.17 and above.\n",
            "  and should_run_async(code)\n"
          ]
        }
      ]
    },
    {
      "cell_type": "code",
      "source": [
        "pyLDAvis.enable_notebook()\n",
        "\n",
        "vis = gensimvis.prepare(lda_model4, bow_corpus, dictionary, n_jobs=1)\n",
        "pyLDAvis.display(vis)"
      ],
      "metadata": {
        "colab": {
          "base_uri": "https://localhost:8080/",
          "height": 917
        },
        "id": "bd1GR5dmwiaz",
        "outputId": "c99a01c3-e86e-4873-bc58-ccb994169d8a"
      },
      "execution_count": null,
      "outputs": [
        {
          "output_type": "stream",
          "name": "stderr",
          "text": [
            "/usr/local/lib/python3.10/dist-packages/ipykernel/ipkernel.py:283: DeprecationWarning: `should_run_async` will not call `transform_cell` automatically in the future. Please pass the result to `transformed_cell` argument and any exception that happen during thetransform in `preprocessing_exc_tuple` in IPython 7.17 and above.\n",
            "  and should_run_async(code)\n"
          ]
        },
        {
          "output_type": "execute_result",
          "data": {
            "text/plain": [
              "<IPython.core.display.HTML object>"
            ],
            "text/html": [
              "\n",
              "<link rel=\"stylesheet\" type=\"text/css\" href=\"https://cdn.jsdelivr.net/gh/bmabey/pyLDAvis@3.4.0/pyLDAvis/js/ldavis.v1.0.0.css\">\n",
              "\n",
              "\n",
              "<div id=\"ldavis_el2591401462941987206973269217\" style=\"background-color:white;\"></div>\n",
              "<script type=\"text/javascript\">\n",
              "\n",
              "var ldavis_el2591401462941987206973269217_data = {\"mdsDat\": {\"x\": [-0.006513105973624737, -0.03250068744881704, -0.12680218754673503, -0.11296580973579176, -0.06889279921041687, 0.12268124416036721, -0.09801116796678194, 0.025423181624298335, 0.057042232165543445, 0.24053909993195843], \"y\": [0.02453945303448074, -0.07879329586652045, 0.01817996563910054, -0.025373478167674428, 0.028100158157092863, 0.20312808615865252, 0.026212639714320078, -0.02478640901966194, -0.10046544881458457, -0.07074167083520506], \"topics\": [1, 2, 3, 4, 5, 6, 7, 8, 9, 10], \"cluster\": [1, 1, 1, 1, 1, 1, 1, 1, 1, 1], \"Freq\": [15.041411552795362, 12.705382420834614, 12.21603635658988, 10.206841343686362, 9.899247948073423, 9.333727843972301, 9.256814574245992, 7.463564631762357, 7.429947258098108, 6.447026069941604]}, \"tinfo\": {\"Term\": [\"cooki\", \"look\", \"https\", \"twitter\", \"delici\", \"friend\", \"today\", \"monster\", \"sesam\", \"book\", \"like\", \"tweet\", \"need\", \"cooooooki\", \"hear\", \"eat\", \"cake\", \"abbycadabbysst\", \"time\", \"joyofcooki\", \"snack\", \"friday\", \"want\", \"lose\", \"love\", \"year\", \"good\", \"thing\", \"favorit\", \"coooooki\", \"valentinesday\", \"street\", \"meself\", \"wait\", \"milk\", \"chip\", \"true\", \"today\", \"hope\", \"sesam\", \"monster\", \"hear\", \"cooooki\", \"cowabunga\", \"come\", \"book\", \"chocol\", \"eat\", \"enter\", \"final\", \"christma\", \"number\", \"artinstitutechi\", \"celebr\", \"caus\", \"review\", \"hungri\", \"need\", \"tonight\", \"game\", \"cooki\", \"think\", \"want\", \"love\", \"happi\", \"excit\", \"thank\", \"mean\", \"wonder\", \"import\", \"look\", \"celebr\", \"learn\", \"cake\", \"best\", \"shape\", \"good\", \"question\", \"go\", \"think\", \"friend\", \"final\", \"christma\", \"cooooooooki\", \"giant\", \"chanc\", \"perfect\", \"recip\", \"talk\", \"artinstitutechi\", \"holiday\", \"late\", \"tonight\", \"excit\", \"weekend\", \"right\", \"mean\", \"thank\", \"cooki\", \"like\", \"happi\", \"love\", \"monster\", \"today\", \"birthday\", \"know\", \"need\", \"littl\", \"chippi\", \"happen\", \"chocol\", \"eat\", \"birthday\", \"happi\", \"love\", \"friend\", \"chip\", \"number\", \"late\", \"cream\", \"sound\", \"nation\", \"healthi\", \"year\", \"phone\", \"lot\", \"send\", \"go\", \"truck\", \"want\", \"know\", \"think\", \"food\", \"meself\", \"status\", \"favorit\", \"cooki\", \"delici\", \"time\", \"sesam\", \"cowabunga\", \"friday\", \"lose\", \"healthi\", \"year\", \"crumbl\", \"send\", \"time\", \"review\", \"yeah\", \"nation\", \"best\", \"soon\", \"cowabunga\", \"excit\", \"weekend\", \"monster\", \"go\", \"food\", \"like\", \"happi\", \"cooki\", \"love\", \"think\", \"eat\", \"kind\", \"favorit\", \"valentinesday\", \"milk\", \"enter\", \"final\", \"christma\", \"cooooooooki\", \"today\", \"look\", \"wait\", \"twitter\", \"warm\", \"cream\", \"phone\", \"kind\", \"mean\", \"truck\", \"favorit\", \"come\", \"share\", \"enter\", \"recip\", \"perfect\", \"caus\", \"review\", \"save\", \"yummi\", \"yeah\", \"chippi\", \"teach\", \"game\", \"question\", \"birthday\", \"weekend\", \"right\", \"send\", \"cooki\", \"chocol\", \"want\", \"book\", \"today\", \"love\", \"think\", \"tweet\", \"status\", \"twitter\", \"hungri\", \"https\", \"teach\", \"hear\", \"soon\", \"know\", \"thing\", \"true\", \"caus\", \"chef\", \"yummi\", \"feel\", \"sound\", \"cooooooki\", \"lot\", \"right\", \"food\", \"thank\", \"wait\", \"today\", \"share\", \"go\", \"like\", \"think\", \"friend\", \"cooki\", \"valentinesday\", \"eat\", \"snack\", \"make\", \"talk\", \"good\", \"abbycadabbysst\", \"favorit\", \"lot\", \"share\", \"thing\", \"enter\", \"instead\", \"chanc\", \"number\", \"fantast\", \"yummi\", \"yeah\", \"nation\", \"tonight\", \"game\", \"shape\", \"weekend\", \"cooooki\", \"hope\", \"mean\", \"love\", \"kind\", \"want\", \"best\", \"like\", \"celebr\", \"cooki\", \"think\", \"eat\", \"food\", \"friend\", \"cooooooooki\", \"abbycadabbysst\", \"giant\", \"delici\", \"truck\", \"milk\", \"learn\", \"instead\", \"chanc\", \"recip\", \"perfect\", \"late\", \"chef\", \"tonight\", \"twitter\", \"excit\", \"phone\", \"time\", \"wait\", \"come\", \"kind\", \"want\", \"street\", \"like\", \"meself\", \"look\", \"food\", \"soon\", \"cooki\", \"happi\", \"sesam\", \"today\", \"coooooki\", \"holiday\", \"cooooooki\", \"feel\", \"cooooki\", \"tast\", \"thank\", \"christma\", \"final\", \"instead\", \"make\", \"warm\", \"fantast\", \"chef\", \"sound\", \"like\", \"shape\", \"want\", \"crumbl\", \"friend\", \"cowabunga\", \"time\", \"littl\", \"kind\", \"cake\", \"look\", \"giant\", \"birthday\", \"sesam\", \"send\", \"monster\", \"cooki\", \"joyofcooki\", \"book\", \"save\", \"https\", \"delici\", \"cake\", \"artinstitutechi\", \"fantast\", \"sesam\", \"happen\", \"game\", \"tast\", \"question\", \"right\", \"hope\", \"monster\", \"come\", \"snack\", \"look\", \"food\", \"today\", \"time\", \"like\", \"wait\", \"celebr\", \"twitter\", \"valentinesday\", \"milk\", \"enter\", \"final\", \"cooki\", \"import\", \"teach\", \"eat\"], \"Freq\": [143.0, 16.0, 10.0, 10.0, 9.0, 17.0, 20.0, 14.0, 12.0, 6.0, 18.0, 5.0, 8.0, 6.0, 7.0, 12.0, 6.0, 5.0, 11.0, 3.0, 5.0, 5.0, 11.0, 4.0, 16.0, 7.0, 5.0, 6.0, 7.0, 3.0, 2.1180017740720833, 4.056632761197663, 3.989653821899087, 2.877011410843952, 1.5942166339147266, 1.5942092229075275, 1.594205081462328, 9.260685610527583, 2.117987605970085, 5.042632829644305, 5.27534891829274, 2.588706665020275, 1.5941952727763293, 2.877125627543138, 1.594252490111322, 1.829571695038422, 1.5941884066961303, 3.112488753586432, 0.8350576326521769, 0.8350496767179779, 0.8350124582038827, 0.8350254274664811, 0.8350462436778784, 1.5942305840459248, 0.8350611746776765, 0.8350394320903792, 0.8350530007726775, 1.8295158945136292, 0.835025972393481, 0.8350294054335805, 25.90896312488473, 3.1125465158484245, 1.594205735374728, 1.5941862269881306, 0.9466258231397112, 0.8350609022141765, 0.8350556164222772, 0.8350550170025772, 3.5097087584331774, 2.3881255953705005, 9.501978787806, 3.2443457381543856, 1.5322325391298843, 2.653730363260501, 2.6537250238235437, 1.7976987578367667, 2.388262947783266, 1.5322127463894388, 2.6537213414532284, 5.221693166555896, 5.221799218820981, 0.9416479120281341, 0.9415973714955547, 0.9416157833471318, 0.9416191895396736, 0.941608326547243, 0.9416244369173732, 0.9416254495692099, 0.9416012379843859, 0.941613297747169, 0.941619649835963, 0.9416248051544047, 0.9416341031394512, 0.9416016982806753, 0.9416101677324008, 0.9415856799698031, 0.9416224116136996, 0.9415937811844971, 19.183810433610734, 2.2053393611784835, 1.532166624701238, 1.797649229956024, 1.2070096434773159, 1.2070616569580215, 0.9416308810654251, 0.9416150468730687, 6.173498440049406, 2.4005669456505685, 2.0006805206970877, 2.000643876063304, 2.9534100193177717, 5.878052761924603, 2.9178815421328617, 4.723232356638448, 5.878170307996258, 5.817739235260495, 1.0479702295293774, 1.0479869586013222, 1.0479396038209492, 1.0479301328648745, 1.0479412855795045, 1.0479697869613365, 1.0478949044488213, 2.000702118017482, 1.0479745666961777, 1.0479937741491516, 1.0479272119158047, 1.7868109311647031, 1.0479123416296316, 2.184691637756964, 0.9677013099024698, 2.953441530162282, 1.6425431322837603, 1.0479758944003004, 0.5354782969884372, 1.0479687247980383, 16.447153978501202, 1.1886892523178052, 1.0914782970047698, 1.098532654549011, 1.0479995275336829, 3.8604565312542105, 3.7422713334821873, 1.8936400614188995, 3.6815182833601883, 1.8936526338716928, 1.8936702353056036, 3.6815475697796365, 1.1637186551006724, 1.1637344076444665, 1.163712738652299, 1.8936409488861554, 1.1637254590163018, 2.6235170943743262, 1.1637200602571611, 1.1637499383214465, 3.841279547141591, 1.893635032437782, 1.893585925916283, 3.2796595020093138, 1.724959455892216, 19.79623628135704, 2.221718217063232, 2.2217322686281187, 1.1637406199152585, 0.4337971008712359, 0.4337853419300938, 0.10580340252743343, 0.10579920554686857, 0.10579893745780165, 0.10581084431015307, 0.10580403115007311, 0.10581121408817641, 0.10586013572066376, 0.1058532670938803, 0.10583022992302646, 0.10582979543384904, 1.8065153108025176, 1.8065528956867911, 1.806534390152168, 2.400133698640571, 1.8065130155424094, 1.8065257829267618, 2.4000401667911575, 1.8063619587365312, 1.8065425670163038, 0.9462674586676905, 0.9462586362616492, 0.9462221272805513, 0.9462767831618805, 0.9462784328800834, 0.9462911285375575, 0.9462757072587047, 0.9462392700044853, 0.9462712601922448, 0.9462260722588626, 0.9462544761027029, 0.9462747748092857, 1.339436047273122, 0.9462272916157951, 0.9462049845566175, 0.9462261439857409, 24.283307969266424, 0.9462769983425157, 1.8065128720886525, 0.9462466578729589, 2.308523699206407, 1.4796312519574362, 0.9462703277428259, 4.835392352763965, 2.663013599795725, 6.846467391633316, 2.119938321161393, 5.200953039976487, 1.8067857389526036, 3.826073544174928, 1.8069729368417737, 2.588598110575733, 2.8164455344481425, 1.110412837446162, 1.1104271748567485, 1.1104713367865275, 1.110471810191594, 1.1104538884283606, 1.1104578785567787, 1.8069030081505157, 1.110446313947296, 1.1104937220832454, 2.49955142911058, 1.1105151605698302, 1.110500958417834, 3.8261111460630706, 1.1104770852766213, 1.3370663337407505, 1.1964628648400992, 1.1104607189871778, 1.1104912874286175, 5.3301028114386115, 0.10096170368736358, 0.10100267013294334, 3.5080633496276135, 1.7735351408722013, 1.7735166289986728, 2.618108785776364, 1.773546811401165, 2.618108517488342, 1.5116759704505776, 1.7735580794980954, 1.7735516405855638, 0.9289998611552068, 0.928964245920266, 0.9290005318752621, 0.9289802090575842, 0.9289652520003491, 0.9289895991383594, 0.9289912088664923, 0.9289793371215121, 0.9289594167358672, 0.9290166962285968, 0.9289885930582764, 0.9289824224337668, 0.9289799407695619, 0.928976587169285, 0.9290005318752621, 2.618100468847677, 0.929016964516619, 1.7735426529368217, 0.9289586118718008, 2.6180519087156675, 0.9289879894102265, 16.01253665501378, 1.7735826278521223, 1.1908390441191803, 0.9289868491861324, 0.9289794041935177, 1.7146583159703679, 2.5312543899625886, 1.461559851416198, 3.330952284690057, 1.714763012281282, 0.8981718594483038, 0.8982105256994937, 0.898200791538355, 0.8981885156795856, 0.898200575223663, 0.8981834322843243, 0.8981920848720031, 0.8981895972530455, 0.8982098226767448, 2.220951829588673, 0.8981919226359841, 0.8981498494283957, 1.7147404073959711, 0.8982208006473623, 0.8981844057004381, 0.898117456303273, 1.714710447811133, 0.8981867310833769, 2.531346972650752, 0.8981859739819549, 1.714688059240514, 0.8982076054511521, 0.3347744848306454, 11.884946971657877, 0.898230642965847, 0.8981657485582556, 0.9044364951638086, 2.38460817009487, 1.7948607807886459, 3.2392826766381857, 1.7948888827066367, 1.7949084786801015, 1.5299224658524309, 1.529868092409575, 0.9402092079944947, 0.9400722515206084, 0.9401848745329394, 0.9401706620686682, 0.9401859512347781, 0.940175076546207, 0.9401664629314972, 0.9401865972558814, 4.418811479028737, 0.9401493433722614, 2.4845805818419286, 0.9401970412637171, 3.575297848405315, 1.7949358269068052, 1.7948897440681075, 0.5813996122803767, 0.9401323314832094, 0.9401305010900836, 2.3845709162112496, 0.35044800998718906, 0.5814012273331348, 0.9401909040632362, 0.3504606073987022, 0.940157310965868, 4.258925562784887, 2.6359845661473367, 3.5808181926112614, 1.6911402890851983, 3.793300616607494, 3.441102524134055, 1.984094148718452, 1.0391846600988326, 1.0392481899829118, 3.565749651518095, 1.0392301587069894, 1.0392455740465085, 1.039289390981263, 1.0393250798279074, 1.0393168583134973, 1.0393177925764985, 2.9289619692082196, 1.039325546959408, 0.6955709030721354, 1.984094148718452, 1.0393179794290988, 1.9840922801924499, 1.0392340826115942, 1.4535956060986528, 0.3874069848576136, 0.3873223406297082, 0.38739843635115295, 0.09449060668813777, 0.09448753529852144, 0.0944856959682379, 0.09449923694261102, 0.45447802934662096, 0.09461347395107829, 0.09464073107413724, 0.0945196564283302], \"Total\": [143.0, 16.0, 10.0, 10.0, 9.0, 17.0, 20.0, 14.0, 12.0, 6.0, 18.0, 5.0, 8.0, 6.0, 7.0, 12.0, 6.0, 5.0, 11.0, 3.0, 5.0, 5.0, 11.0, 4.0, 16.0, 7.0, 5.0, 6.0, 7.0, 3.0, 3.1995813227491388, 6.342309677135813, 7.300364333994841, 5.815905352535366, 3.2304922199244785, 3.3666548346849656, 3.4234524810745723, 20.12708722730463, 4.992497047610338, 12.635213180764731, 14.907939856290263, 7.978139295540027, 4.967939433715564, 9.669468364968978, 5.895809327835145, 6.995900676219833, 6.132339737006309, 12.410249494435874, 3.3595835256156237, 3.3655189125887475, 3.3655259277044314, 3.452030160161101, 3.4555986397105287, 6.710179535548475, 3.524545857661668, 3.5729636116428214, 3.6738161920330734, 8.992551769000077, 4.17189496873701, 4.30437836913249, 143.56046181786192, 17.601428783395953, 11.945167828646623, 16.21710021834609, 11.79582614683285, 4.385278079635593, 5.21792311715577, 5.07588334831313, 4.3198127149858445, 3.433700900117269, 16.400722900593216, 6.710179535548475, 3.3942020588976822, 6.208092978018897, 6.331534093079442, 4.3069766725073615, 5.985173876864801, 4.3827259219860855, 8.414660110068679, 17.601428783395953, 17.83604306382431, 3.3655189125887475, 3.3655259277044314, 3.3847556035522666, 3.39657804277886, 3.4127513343666607, 3.4284523876608017, 3.428461232306484, 3.440768451820358, 3.4555986397105287, 3.46110255486726, 3.5209013978402846, 4.17189496873701, 4.385278079635593, 4.51438913064649, 4.566240535935241, 5.07588334831313, 5.21792311715577, 143.56046181786192, 18.72931452412977, 11.79582614683285, 16.21710021834609, 14.907939856290263, 20.12708722730463, 6.323648588243009, 5.613809338161222, 8.992551769000077, 3.696891329625335, 3.6613065698107405, 3.7458402579716905, 6.132339737006309, 12.410249494435874, 6.323648588243009, 11.79582614683285, 16.21710021834609, 17.83604306382431, 3.3666548346849656, 3.452030160161101, 3.5209013978402846, 3.5688555997930975, 3.712555890053189, 3.750805210591164, 3.8715437450543657, 7.6544957663718, 4.385399283003298, 4.550495644127477, 4.761419503356234, 8.414660110068679, 5.201940611997081, 11.945167828646623, 5.613809338161222, 17.601428783395953, 10.326579725444946, 7.300364333994841, 3.8979384512016946, 7.783204733941968, 143.56046181786192, 9.654974468321466, 11.008184519475552, 12.635213180764731, 9.669468364968978, 5.019117511160005, 4.959265077909406, 3.8715437450543657, 7.6544957663718, 4.559195360347457, 4.761419503356234, 11.008184519475552, 3.5729636116428214, 3.6583613507591237, 3.750805210591164, 6.331534093079442, 3.9127580851921917, 9.669468364968978, 4.385278079635593, 4.51438913064649, 14.907939856290263, 8.414660110068679, 10.326579725444946, 18.72931452412977, 11.79582614683285, 143.56046181786192, 16.21710021834609, 17.601428783395953, 12.410249494435874, 6.053499525060841, 7.783204733941968, 3.1995813227491388, 3.2304922199244785, 3.3595835256156237, 3.3655189125887475, 3.3655259277044314, 3.3847556035522666, 20.12708722730463, 16.400722900593216, 5.815905352535366, 10.443131105837757, 3.470866603920456, 3.5688555997930975, 4.385399283003298, 6.053499525060841, 5.07588334831313, 5.201940611997081, 7.783204733941968, 5.895809327835145, 6.07393528567464, 3.3595835256156237, 3.428461232306484, 3.4284523876608017, 3.524545857661668, 3.5729636116428214, 3.5879394722093667, 3.609953806731935, 3.6583613507591237, 3.6613065698107405, 3.6972360944214318, 4.30437836913249, 4.3827259219860855, 6.323648588243009, 4.51438913064649, 4.566240535935241, 4.761419503356234, 143.56046181786192, 6.132339737006309, 11.945167828646623, 6.995900676219833, 20.12708722730463, 16.21710021834609, 17.601428783395953, 5.895222737717473, 3.8979384512016946, 10.443131105837757, 3.6738161920330734, 10.57659129790112, 3.6972360944214318, 7.978139295540027, 3.9127580851921917, 5.613809338161222, 6.326161658713624, 3.4234524810745723, 3.524545857661668, 3.5764044281452767, 3.609953806731935, 3.614586811572395, 3.712555890053189, 6.275411502231955, 4.550495644127477, 4.566240535935241, 10.326579725444946, 5.21792311715577, 5.815905352535366, 20.12708722730463, 6.07393528567464, 8.414660110068679, 18.72931452412977, 17.601428783395953, 17.83604306382431, 143.56046181786192, 3.1995813227491388, 12.410249494435874, 5.215701814219183, 3.439452164716441, 3.440768451820358, 5.985173876864801, 5.034381959463657, 7.783204733941968, 4.550495644127477, 6.07393528567464, 6.326161658713624, 3.3595835256156237, 3.4114336898718824, 3.4127513343666607, 3.452030160161101, 3.5396882440678423, 3.609953806731935, 3.6583613507591237, 3.750805210591164, 4.17189496873701, 4.30437836913249, 4.3069766725073615, 4.51438913064649, 4.967939433715564, 4.992497047610338, 5.07588334831313, 16.21710021834609, 6.053499525060841, 11.945167828646623, 6.331534093079442, 18.72931452412977, 6.710179535548475, 143.56046181786192, 17.601428783395953, 12.410249494435874, 10.326579725444946, 17.83604306382431, 3.3847556035522666, 5.034381959463657, 3.39657804277886, 9.654974468321466, 5.201940611997081, 3.2304922199244785, 3.3942020588976822, 3.4114336898718824, 3.4127513343666607, 3.428461232306484, 3.4284523876608017, 3.5209013978402846, 3.5764044281452767, 4.17189496873701, 10.443131105837757, 4.385278079635593, 4.385399283003298, 11.008184519475552, 5.815905352535366, 5.895809327835145, 6.053499525060841, 11.945167828646623, 6.342309677135813, 18.72931452412977, 7.300364333994841, 16.400722900593216, 10.326579725444946, 3.9127580851921917, 143.56046181786192, 11.79582614683285, 12.635213180764731, 20.12708722730463, 3.460197890702264, 3.46110255486726, 6.275411502231955, 3.614586811572395, 4.967939433715564, 4.310737215389407, 5.21792311715577, 3.3655259277044314, 3.3655189125887475, 3.4114336898718824, 3.439452164716441, 3.470866603920456, 3.5396882440678423, 3.5764044281452767, 3.712555890053189, 18.72931452412977, 4.3069766725073615, 11.945167828646623, 4.559195360347457, 17.83604306382431, 9.669468364968978, 11.008184519475552, 3.696891329625335, 6.053499525060841, 6.208092978018897, 16.400722900593216, 3.39657804277886, 6.323648588243009, 12.635213180764731, 4.761419503356234, 14.907939856290263, 143.56046181786192, 3.6725103558122876, 6.995900676219833, 3.5879394722093667, 10.57659129790112, 9.654974468321466, 6.208092978018897, 3.4555986397105287, 3.5396882440678423, 12.635213180764731, 3.7458402579716905, 4.30437836913249, 4.310737215389407, 4.3827259219860855, 4.566240535935241, 4.992497047610338, 14.907939856290263, 5.895809327835145, 5.215701814219183, 16.400722900593216, 10.326579725444946, 20.12708722730463, 11.008184519475552, 18.72931452412977, 5.815905352535366, 6.710179535548475, 10.443131105837757, 3.1995813227491388, 3.2304922199244785, 3.3595835256156237, 3.3655189125887475, 143.56046181786192, 3.433700900117269, 3.6972360944214318, 12.410249494435874], \"Category\": [\"Default\", \"Default\", \"Default\", \"Default\", \"Default\", \"Default\", \"Default\", \"Default\", \"Default\", \"Default\", \"Default\", \"Default\", \"Default\", \"Default\", \"Default\", \"Default\", \"Default\", \"Default\", \"Default\", \"Default\", \"Default\", \"Default\", \"Default\", \"Default\", \"Default\", \"Default\", \"Default\", \"Default\", \"Default\", \"Default\", \"Topic1\", \"Topic1\", \"Topic1\", \"Topic1\", \"Topic1\", \"Topic1\", \"Topic1\", \"Topic1\", \"Topic1\", \"Topic1\", \"Topic1\", \"Topic1\", \"Topic1\", \"Topic1\", \"Topic1\", \"Topic1\", \"Topic1\", \"Topic1\", \"Topic1\", \"Topic1\", \"Topic1\", \"Topic1\", \"Topic1\", \"Topic1\", \"Topic1\", \"Topic1\", \"Topic1\", \"Topic1\", \"Topic1\", \"Topic1\", \"Topic1\", \"Topic1\", \"Topic1\", \"Topic1\", \"Topic1\", \"Topic1\", \"Topic1\", \"Topic1\", \"Topic2\", \"Topic2\", \"Topic2\", \"Topic2\", \"Topic2\", \"Topic2\", \"Topic2\", \"Topic2\", \"Topic2\", \"Topic2\", \"Topic2\", \"Topic2\", \"Topic2\", \"Topic2\", \"Topic2\", \"Topic2\", \"Topic2\", \"Topic2\", \"Topic2\", \"Topic2\", \"Topic2\", \"Topic2\", \"Topic2\", \"Topic2\", \"Topic2\", \"Topic2\", \"Topic2\", \"Topic2\", \"Topic2\", \"Topic2\", \"Topic2\", \"Topic2\", \"Topic2\", \"Topic2\", \"Topic2\", \"Topic2\", \"Topic2\", \"Topic2\", \"Topic3\", \"Topic3\", \"Topic3\", \"Topic3\", \"Topic3\", \"Topic3\", \"Topic3\", \"Topic3\", \"Topic3\", \"Topic3\", \"Topic3\", \"Topic3\", \"Topic3\", \"Topic3\", \"Topic3\", \"Topic3\", \"Topic3\", \"Topic3\", \"Topic3\", \"Topic3\", \"Topic3\", \"Topic3\", \"Topic3\", \"Topic3\", \"Topic3\", \"Topic3\", \"Topic3\", \"Topic3\", \"Topic3\", \"Topic3\", \"Topic3\", \"Topic3\", \"Topic3\", \"Topic3\", \"Topic3\", \"Topic4\", \"Topic4\", \"Topic4\", \"Topic4\", \"Topic4\", \"Topic4\", \"Topic4\", \"Topic4\", \"Topic4\", \"Topic4\", \"Topic4\", \"Topic4\", \"Topic4\", \"Topic4\", \"Topic4\", \"Topic4\", \"Topic4\", \"Topic4\", \"Topic4\", \"Topic4\", \"Topic4\", \"Topic4\", \"Topic4\", \"Topic4\", \"Topic4\", \"Topic4\", \"Topic4\", \"Topic4\", \"Topic4\", \"Topic4\", \"Topic4\", \"Topic4\", \"Topic4\", \"Topic4\", \"Topic4\", \"Topic4\", \"Topic5\", \"Topic5\", \"Topic5\", \"Topic5\", \"Topic5\", \"Topic5\", \"Topic5\", \"Topic5\", \"Topic5\", \"Topic5\", \"Topic5\", \"Topic5\", \"Topic5\", \"Topic5\", \"Topic5\", \"Topic5\", \"Topic5\", \"Topic5\", \"Topic5\", \"Topic5\", \"Topic5\", \"Topic5\", \"Topic5\", \"Topic5\", \"Topic5\", \"Topic5\", \"Topic5\", \"Topic5\", \"Topic5\", \"Topic5\", \"Topic5\", \"Topic5\", \"Topic6\", \"Topic6\", \"Topic6\", \"Topic6\", \"Topic6\", \"Topic6\", \"Topic6\", \"Topic6\", \"Topic6\", \"Topic6\", \"Topic6\", \"Topic6\", \"Topic6\", \"Topic6\", \"Topic6\", \"Topic6\", \"Topic6\", \"Topic6\", \"Topic6\", \"Topic6\", \"Topic6\", \"Topic6\", \"Topic6\", \"Topic6\", \"Topic6\", \"Topic6\", \"Topic6\", \"Topic6\", \"Topic6\", \"Topic6\", \"Topic6\", \"Topic7\", \"Topic7\", \"Topic7\", \"Topic7\", \"Topic7\", \"Topic7\", \"Topic7\", \"Topic7\", \"Topic7\", \"Topic7\", \"Topic7\", \"Topic7\", \"Topic7\", \"Topic7\", \"Topic7\", \"Topic7\", \"Topic7\", \"Topic7\", \"Topic7\", \"Topic7\", \"Topic7\", \"Topic7\", \"Topic7\", \"Topic7\", \"Topic7\", \"Topic7\", \"Topic7\", \"Topic7\", \"Topic7\", \"Topic7\", \"Topic7\", \"Topic7\", \"Topic7\", \"Topic7\", \"Topic7\", \"Topic8\", \"Topic8\", \"Topic8\", \"Topic8\", \"Topic8\", \"Topic8\", \"Topic8\", \"Topic8\", \"Topic8\", \"Topic8\", \"Topic8\", \"Topic8\", \"Topic8\", \"Topic8\", \"Topic8\", \"Topic8\", \"Topic8\", \"Topic8\", \"Topic8\", \"Topic8\", \"Topic8\", \"Topic8\", \"Topic8\", \"Topic8\", \"Topic8\", \"Topic8\", \"Topic8\", \"Topic8\", \"Topic8\", \"Topic8\", \"Topic8\", \"Topic8\", \"Topic9\", \"Topic9\", \"Topic9\", \"Topic9\", \"Topic9\", \"Topic9\", \"Topic9\", \"Topic9\", \"Topic9\", \"Topic9\", \"Topic9\", \"Topic9\", \"Topic9\", \"Topic9\", \"Topic9\", \"Topic9\", \"Topic9\", \"Topic9\", \"Topic9\", \"Topic9\", \"Topic9\", \"Topic9\", \"Topic9\", \"Topic9\", \"Topic9\", \"Topic9\", \"Topic9\", \"Topic9\", \"Topic9\", \"Topic9\", \"Topic9\", \"Topic9\", \"Topic10\", \"Topic10\", \"Topic10\", \"Topic10\", \"Topic10\", \"Topic10\", \"Topic10\", \"Topic10\", \"Topic10\", \"Topic10\", \"Topic10\", \"Topic10\", \"Topic10\", \"Topic10\", \"Topic10\", \"Topic10\", \"Topic10\", \"Topic10\", \"Topic10\", \"Topic10\", \"Topic10\", \"Topic10\", \"Topic10\", \"Topic10\", \"Topic10\", \"Topic10\", \"Topic10\", \"Topic10\", \"Topic10\", \"Topic10\", \"Topic10\", \"Topic10\", \"Topic10\", \"Topic10\"], \"logprob\": [30.0, 29.0, 28.0, 27.0, 26.0, 25.0, 24.0, 23.0, 22.0, 21.0, 20.0, 19.0, 18.0, 17.0, 16.0, 15.0, 14.0, 13.0, 12.0, 11.0, 10.0, 9.0, 8.0, 7.0, 6.0, 5.0, 4.0, 3.0, 2.0, 1.0, -4.0119, -3.362, -3.3787, -3.7056, -4.296, -4.296, -4.296, -2.5366, -4.0119, -3.1444, -3.0993, -3.8112, -4.296, -3.7056, -4.296, -4.1583, -4.296, -3.6269, -4.9426, -4.9426, -4.9427, -4.9427, -4.9426, -4.296, -4.9426, -4.9426, -4.9426, -4.1583, -4.9427, -4.9427, -1.5078, -3.6269, -4.296, -4.296, -4.8172, -4.9426, -4.9426, -4.9426, -3.338, -3.7231, -2.3421, -3.4167, -4.1669, -3.6176, -3.6176, -4.0071, -3.723, -4.1669, -3.6176, -2.9408, -2.9407, -4.6537, -4.6538, -4.6537, -4.6537, -4.6537, -4.6537, -4.6537, -4.6538, -4.6537, -4.6537, -4.6537, -4.6537, -4.6538, -4.6537, -4.6538, -4.6537, -4.6538, -1.6395, -3.8027, -4.1669, -4.0071, -4.4054, -4.4054, -4.6537, -4.6537, -2.734, -3.6786, -3.8608, -3.8608, -3.4713, -2.7831, -3.4834, -3.0018, -2.7831, -2.7934, -4.5075, -4.5074, -4.5075, -4.5075, -4.5075, -4.5075, -4.5075, -3.8608, -4.5074, -4.5074, -4.5075, -3.9739, -4.5075, -3.7728, -4.5871, -3.4713, -4.0581, -4.5074, -5.1789, -4.5075, -1.7542, -4.3815, -4.4668, -4.4603, -4.5074, -3.0238, -3.0549, -3.7361, -3.0713, -3.7361, -3.7361, -3.0713, -4.223, -4.223, -4.223, -3.7361, -4.223, -3.4101, -4.223, -4.223, -3.0288, -3.7361, -3.7361, -3.1869, -3.8294, -1.3891, -3.5763, -3.5763, -4.223, -5.2098, -5.2098, -6.6208, -6.6208, -6.6208, -6.6207, -6.6208, -6.6207, -6.6203, -6.6203, -6.6205, -6.6205, -3.7526, -3.7526, -3.7526, -3.4685, -3.7526, -3.7526, -3.4685, -3.7527, -3.7526, -4.3992, -4.3993, -4.3993, -4.3992, -4.3992, -4.3992, -4.3992, -4.3993, -4.3992, -4.3993, -4.3993, -4.3992, -4.0518, -4.3993, -4.3993, -4.3993, -1.1542, -4.3992, -3.7526, -4.3993, -3.5074, -3.9522, -4.3992, -2.7092, -3.3057, -2.3615, -3.5338, -2.6363, -3.6936, -2.9434, -3.6935, -3.3341, -3.2497, -4.1805, -4.1804, -4.1804, -4.1804, -4.1804, -4.1804, -3.6936, -4.1804, -4.1804, -3.3691, -4.1804, -4.1804, -2.9433, -4.1804, -3.9947, -4.1058, -4.1804, -4.1804, -2.6118, -6.5782, -6.5778, -3.0219, -3.7039, -3.704, -3.3145, -3.7039, -3.3145, -3.8637, -3.7039, -3.7039, -4.3506, -4.3506, -4.3506, -4.3506, -4.3506, -4.3506, -4.3506, -4.3506, -4.3506, -4.3505, -4.3506, -4.3506, -4.3506, -4.3506, -4.3506, -3.3145, -4.3505, -3.7039, -4.3506, -3.3145, -4.3506, -1.5035, -3.7039, -4.1023, -4.3506, -4.3506, -3.5224, -3.1329, -3.6821, -2.8583, -3.5223, -4.169, -4.1689, -4.169, -4.169, -4.169, -4.169, -4.169, -4.169, -4.1689, -3.2637, -4.169, -4.169, -3.5223, -4.1689, -4.169, -4.169, -3.5223, -4.169, -3.1328, -4.169, -3.5224, -4.1689, -5.1559, -1.5863, -4.1689, -4.169, -4.162, -3.188, -3.4721, -2.8817, -3.4721, -3.4721, -3.6319, -3.6319, -4.1187, -4.1189, -4.1188, -4.1188, -4.1188, -4.1188, -4.1188, -4.1188, -2.5712, -4.1188, -3.147, -4.1187, -2.783, -3.4721, -3.4721, -4.5994, -4.1188, -4.1188, -3.1881, -5.1056, -4.5994, -4.1187, -5.1056, -4.1188, -2.6081, -2.9459, -2.6396, -3.3898, -2.5819, -2.6794, -3.23, -3.8767, -3.8767, -2.6438, -3.8767, -3.8767, -3.8766, -3.8766, -3.8766, -3.8766, -2.8405, -3.8766, -4.2782, -3.23, -3.8766, -3.23, -3.8767, -3.5411, -4.8635, -4.8637, -4.8635, -6.2744, -6.2745, -6.2745, -6.2743, -4.7038, -6.2731, -6.2728, -6.2741], \"loglift\": [30.0, 29.0, 28.0, 27.0, 26.0, 25.0, 24.0, 23.0, 22.0, 21.0, 20.0, 19.0, 18.0, 17.0, 16.0, 15.0, 14.0, 13.0, 12.0, 11.0, 10.0, 9.0, 8.0, 7.0, 6.0, 5.0, 4.0, 3.0, 2.0, 1.0, 1.4818, 1.4475, 1.2901, 1.1905, 1.1881, 1.1468, 1.1301, 1.1181, 1.0369, 0.9758, 0.8555, 0.7688, 0.7577, 0.6822, 0.5865, 0.5531, 0.5472, 0.5113, 0.5023, 0.5005, 0.5005, 0.4751, 0.4741, 0.4571, 0.4544, 0.4407, 0.4129, 0.302, 0.2857, 0.2544, 0.1822, 0.1618, -0.1196, -0.4253, -0.6282, 0.2359, 0.062, 0.0896, 1.8555, 1.7, 1.5173, 1.3364, 1.2678, 1.2133, 1.1936, 1.1894, 1.1444, 1.0122, 0.9091, 0.848, 0.8348, 0.7894, 0.7894, 0.7837, 0.7802, 0.7755, 0.7709, 0.7709, 0.7673, 0.763, 0.7614, 0.7443, 0.5746, 0.5247, 0.4957, 0.4843, 0.3785, 0.3509, 0.0505, -0.0761, 0.0221, -0.1364, -0.4506, -0.7507, 0.1587, 0.2778, 1.7263, 1.6706, 1.4981, 1.4752, 1.3718, 1.3551, 1.329, 1.1872, 1.0876, 0.9821, 0.9354, 0.9103, 0.8905, 0.877, 0.8375, 0.8273, 0.7956, 0.7606, 0.671, 0.6341, 0.5887, 0.5529, 0.5002, 0.4036, 0.3444, 0.3174, 0.2639, 0.1614, 0.1174, 0.0973, -0.0642, 0.0078, -0.2087, -0.3401, -0.1197, 2.0196, 2.0005, 1.567, 1.5501, 1.4035, 1.3601, 1.1868, 1.1603, 1.1367, 1.1118, 1.0751, 1.0695, 0.9777, 0.9555, 0.9265, 0.926, 0.7906, 0.5859, 0.5398, 0.3596, 0.3008, 0.2943, 0.2124, -0.0848, -0.3537, -0.6051, -1.1271, -1.1367, -1.1759, -1.1776, -1.1776, -1.1833, -2.9656, -2.7609, -1.7244, -2.3098, 1.6597, 1.6319, 1.4258, 1.3876, 1.2796, 1.2551, 1.1362, 1.1298, 1.1001, 1.0457, 1.0254, 1.0253, 0.9977, 0.9841, 0.9799, 0.9738, 0.9604, 0.9597, 0.9499, 0.7978, 0.7798, 0.7607, 0.7502, 0.7387, 0.6969, 0.5357, 0.4439, 0.4238, 0.3121, 0.1473, -0.0816, -0.6105, 2.1734, 1.9905, 1.9493, 1.8217, 1.6617, 1.6555, 1.6367, 1.5989, 1.5974, 1.5623, 1.2456, 1.2165, 1.202, 1.1926, 1.1913, 1.1646, 1.1265, 0.9611, 0.9577, 0.9529, 0.8243, 0.7158, 0.7113, 0.6723, 0.532, -0.3792, -0.3917, -0.4049, -0.9219, -1.0845, -2.4396, 1.9832, 1.7175, 1.7171, 1.553, 1.3365, 1.2903, 1.2778, 1.1488, 1.1081, 1.0943, 1.079, 1.0786, 1.0672, 1.0421, 1.0225, 1.0091, 0.9842, 0.8777, 0.8465, 0.8459, 0.7989, 0.7031, 0.6982, 0.6817, 0.5562, 0.5055, 0.4725, 0.4606, 0.4122, 0.4025, 0.1864, 0.0848, 0.0359, -0.0286, -0.5751, 1.9151, 1.9076, 1.7519, 1.5309, 1.4854, 1.3151, 1.2657, 1.2606, 1.2602, 1.2557, 1.2556, 1.229, 1.2134, 1.0594, 1.0471, 1.0095, 1.0094, 0.7358, 0.7272, 0.7135, 0.687, 0.6541, 0.6405, 0.5938, 0.4998, 0.337, 0.1531, 0.1366, 0.1037, 0.0201, -0.0488, -0.5074, 2.2274, 1.943, 1.9384, 1.8996, 1.5816, 1.5638, 1.3727, 1.3244, 1.3243, 1.3108, 1.3026, 1.2936, 1.2739, 1.2636, 1.2263, 1.1554, 1.0777, 1.0294, 1.0208, 0.9925, 0.9156, 0.786, 0.7498, 0.7373, 0.7121, 0.6713, 0.3283, 0.213, 0.0015, -0.0094, -0.164, -0.9181, 2.4099, 2.0718, 1.9894, 1.7161, 1.7099, 1.6009, 1.54, 1.516, 1.4764, 1.4594, 1.3204, 1.319, 1.3025, 1.2614, 1.1722, 1.1143, 1.0059, 0.7269, 0.6294, 0.4454, 0.4246, 0.3814, 0.1855, 0.0327, -0.1106, -0.5527, -0.7807, -0.7904, -0.8296, -0.8312, -3.0138, -0.85, -0.9237, -2.1359]}, \"token.table\": {\"Topic\": [7, 8, 1, 2, 10, 2, 4, 7, 2, 3, 5, 9, 1, 5, 10, 2, 9, 10, 1, 5, 6, 1, 2, 7, 2, 7, 8, 6, 8, 9, 1, 3, 3, 5, 1, 3, 5, 1, 2, 9, 1, 5, 8, 10, 1, 2, 3, 4, 5, 6, 7, 8, 9, 1, 7, 9, 9, 6, 9, 2, 8, 1, 2, 3, 4, 9, 3, 5, 1, 4, 9, 1, 3, 8, 10, 1, 2, 3, 4, 7, 1, 5, 7, 1, 2, 4, 8, 7, 9, 10, 1, 3, 5, 7, 6, 9, 1, 2, 9, 2, 3, 4, 6, 7, 8, 10, 4, 2, 3, 6, 7, 9, 1, 5, 7, 10, 2, 8, 2, 3, 4, 6, 2, 7, 3, 10, 1, 2, 3, 4, 5, 8, 9, 3, 4, 1, 6, 7, 2, 9, 1, 7, 10, 6, 10, 1, 6, 2, 7, 8, 9, 10, 5, 7, 8, 9, 2, 3, 6, 2, 3, 8, 2, 8, 2, 4, 5, 6, 7, 8, 9, 10, 3, 9, 2, 8, 9, 10, 1, 4, 3, 6, 7, 1, 2, 3, 4, 5, 7, 7, 9, 1, 2, 5, 7, 1, 3, 5, 8, 1, 8, 1, 2, 4, 9, 10, 3, 4, 7, 1, 3, 1, 3, 7, 2, 5, 8, 3, 5, 8, 2, 5, 10, 2, 5, 8, 1, 4, 5, 2, 5, 6, 10, 5, 10, 3, 4, 5, 1, 3, 8, 9, 10, 2, 7, 9, 1, 5, 6, 7, 7, 10, 4, 6, 3, 6, 9, 3, 6, 1, 8, 2, 7, 1, 9, 10, 5, 6, 1, 2, 6, 9, 1, 6, 7, 1, 2, 3, 4, 5, 6, 7, 1, 3, 4, 5, 8, 9, 10, 1, 2, 5, 6, 8, 10, 1, 2, 7, 8, 3, 5, 8, 1, 6, 6, 6, 8, 1, 1, 6, 8, 1, 3, 5, 7, 8, 9, 5, 9, 2, 4, 5, 7, 2, 4, 5, 7, 1, 3, 4, 5, 6, 7], \"Freq\": [0.3972682279778931, 0.5959023419668396, 0.28938545944206323, 0.28938545944206323, 0.28938545944206323, 0.47381881798268927, 0.31587921198845953, 0.15793960599422976, 0.15813655456111367, 0.474409663683341, 0.15813655456111367, 0.15813655456111367, 0.2858817030948302, 0.1429408515474151, 0.5717634061896604, 0.483240185129661, 0.161080061709887, 0.322160123419774, 0.2837244968245191, 0.2837244968245191, 0.2837244968245191, 0.29805461827133134, 0.447081927406997, 0.14902730913566567, 0.29301871189087975, 0.29301871189087975, 0.29301871189087975, 0.2796104355900823, 0.2796104355900823, 0.2796104355900823, 0.5940614937400168, 0.2970307468700084, 0.5462530825719365, 0.27312654128596825, 0.3261397909725663, 0.4892096864588495, 0.16306989548628315, 0.297130380654082, 0.297130380654082, 0.297130380654082, 0.3392239960267458, 0.3392239960267458, 0.1696119980133729, 0.1696119980133729, 0.18110836138843528, 0.1323484179377027, 0.11145129931596016, 0.1393141241449502, 0.16717694897394025, 0.03482853103623755, 0.11145129931596016, 0.08358847448697013, 0.02786282482899004, 0.4025813975159884, 0.2012906987579942, 0.4025813975159884, 0.5780016239458751, 0.3187041996032717, 0.47805629940490757, 0.29544230577549235, 0.5908846115509847, 0.3102549061402948, 0.10341830204676493, 0.10341830204676493, 0.3102549061402948, 0.20683660409352986, 0.28020186640725236, 0.5604037328145047, 0.21933694894877018, 0.43867389789754035, 0.21933694894877018, 0.10357355198411537, 0.10357355198411537, 0.3107206559523461, 0.3107206559523461, 0.2417356719012819, 0.0805785573004273, 0.4834713438025638, 0.0805785573004273, 0.0805785573004273, 0.2976559422843211, 0.2976559422843211, 0.2976559422843211, 0.2280357099003167, 0.2280357099003167, 0.2280357099003167, 0.2280357099003167, 0.28251075548133325, 0.28251075548133325, 0.28251075548133325, 0.1284817802156836, 0.1284817802156836, 0.2569635604313672, 0.38544534064705077, 0.27665679429759943, 0.5533135885951989, 0.29713099999512493, 0.29713099999512493, 0.29713099999512493, 0.09683748410288989, 0.19367496820577979, 0.19367496820577979, 0.19367496820577979, 0.09683748410288989, 0.09683748410288989, 0.09683748410288989, 0.7969528490030374, 0.28033123614402883, 0.3363974833728346, 0.056066247228805766, 0.056066247228805766, 0.22426498891522306, 0.2323215838020163, 0.2323215838020163, 0.2323215838020163, 0.2323215838020163, 0.2944139623483713, 0.2944139623483713, 0.35652063907017567, 0.23768042604678377, 0.23768042604678377, 0.11884021302339189, 0.3341590471967466, 0.5012385707951199, 0.5339255980667382, 0.2669627990333691, 0.0847757492821728, 0.1695514985643456, 0.4238787464108639, 0.1695514985643456, 0.0847757492821728, 0.0847757492821728, 0.0847757492821728, 0.2582948988442742, 0.5165897976885484, 0.37602752833321335, 0.5013700377776178, 0.12534250944440445, 0.28892527284224084, 0.5778505456844817, 0.40060113825351207, 0.20030056912675603, 0.20030056912675603, 0.4727421017953326, 0.3781936814362661, 0.2721965247386545, 0.544393049477309, 0.582461914470097, 0.2931318884986316, 0.2931318884986316, 0.2931318884986316, 0.8168799293518829, 0.3303874051233032, 0.1651937025616516, 0.1651937025616516, 0.1651937025616516, 0.17813216298641618, 0.17813216298641618, 0.5343964889592485, 0.284018178019242, 0.284018178019242, 0.284018178019242, 0.5892401116065347, 0.29462005580326733, 0.10678447400855569, 0.16017671101283354, 0.053392237004277844, 0.053392237004277844, 0.16017671101283354, 0.16017671101283354, 0.21356894801711138, 0.053392237004277844, 0.5409950744218094, 0.2704975372109047, 0.609729221120997, 0.12194584422419939, 0.12194584422419939, 0.12194584422419939, 0.20164278059150512, 0.8065711223660205, 0.21975628111863457, 0.21975628111863457, 0.43951256223726914, 0.12332661037251523, 0.12332661037251523, 0.36997983111754573, 0.12332661037251523, 0.061663305186257615, 0.18498991555877287, 0.5814879533772745, 0.2907439766886373, 0.19701004364734473, 0.19701004364734473, 0.39402008729468946, 0.19701004364734473, 0.5479178595749831, 0.13697946489374577, 0.13697946489374577, 0.13697946489374577, 0.6191007016406792, 0.3095503508203396, 0.3353917474982499, 0.06707834949964998, 0.26831339799859993, 0.06707834949964998, 0.20123504849894996, 0.2666094195391155, 0.2666094195391155, 0.2666094195391155, 0.22240628148448116, 0.6672188444534435, 0.2896846069135536, 0.2896846069135536, 0.2896846069135536, 0.2916767937624153, 0.2916767937624153, 0.2916767937624153, 0.22802940746484543, 0.45605881492969086, 0.22802940746484543, 0.4563370002141671, 0.22816850010708356, 0.22816850010708356, 0.2916760413030116, 0.2916760413030116, 0.2916760413030116, 0.2798797045515411, 0.2798797045515411, 0.2798797045515411, 0.21899853766577446, 0.21899853766577446, 0.21899853766577446, 0.21899853766577446, 0.27871150217153023, 0.5574230043430605, 0.21002140208295425, 0.4200428041659085, 0.21002140208295425, 0.3957194808245713, 0.07914389616491427, 0.07914389616491427, 0.07914389616491427, 0.31657558465965707, 0.4643628587000622, 0.2321814293500311, 0.2321814293500311, 0.16463790820401022, 0.32927581640802045, 0.16463790820401022, 0.32927581640802045, 0.7669150082727305, 0.19172875206818263, 0.2555741955487853, 0.5111483910975706, 0.26935621432103835, 0.26935621432103835, 0.26935621432103835, 0.2565458671343849, 0.7696376014031547, 0.6306850664230573, 0.15767126660576433, 0.29063275079465006, 0.5812655015893001, 0.23197888204133216, 0.4639577640826643, 0.23197888204133216, 0.2704723134962488, 0.5409446269924976, 0.19164713192345548, 0.19164713192345548, 0.19164713192345548, 0.38329426384691095, 0.1580737347460296, 0.4742212042380888, 0.3161474694920592, 0.1704407089286982, 0.284067848214497, 0.1704407089286982, 0.1136271392857988, 0.0568135696428994, 0.0568135696428994, 0.1136271392857988, 0.09084150054269272, 0.09084150054269272, 0.36336600217077086, 0.09084150054269272, 0.18168300108538543, 0.18168300108538543, 0.09084150054269272, 0.4471585927143248, 0.04968428807936942, 0.09936857615873884, 0.19873715231747768, 0.04968428807936942, 0.09936857615873884, 0.23969922720819067, 0.23969922720819067, 0.23969922720819067, 0.23969922720819067, 0.1922359508860462, 0.3844719017720924, 0.3844719017720924, 0.5842055676415374, 0.2921027838207687, 0.848144374259201, 0.6702970525848295, 0.19151344359566558, 0.6250817836008504, 0.5158268262897694, 0.1719422754299231, 0.1719422754299231, 0.16743172039857376, 0.16743172039857376, 0.16743172039857376, 0.16743172039857376, 0.16743172039857376, 0.16743172039857376, 0.5762249686406661, 0.28811248432033304, 0.22151391274876508, 0.22151391274876508, 0.22151391274876508, 0.22151391274876508, 0.9259660693445381, 0.2733464259326095, 0.2733464259326095, 0.2733464259326095, 0.13064217820764384, 0.2612843564152877, 0.5225687128305754, 0.27701185487060087, 0.27701185487060087, 0.27701185487060087], \"Term\": [\"abbycadabbysst\", \"abbycadabbysst\", \"artinstitutechi\", \"artinstitutechi\", \"artinstitutechi\", \"best\", \"best\", \"best\", \"birthday\", \"birthday\", \"birthday\", \"birthday\", \"book\", \"book\", \"book\", \"cake\", \"cake\", \"cake\", \"caus\", \"caus\", \"caus\", \"celebr\", \"celebr\", \"celebr\", \"chanc\", \"chanc\", \"chanc\", \"chef\", \"chef\", \"chef\", \"chip\", \"chip\", \"chippi\", \"chippi\", \"chocol\", \"chocol\", \"chocol\", \"christma\", \"christma\", \"christma\", \"come\", \"come\", \"come\", \"come\", \"cooki\", \"cooki\", \"cooki\", \"cooki\", \"cooki\", \"cooki\", \"cooki\", \"cooki\", \"cooki\", \"cooooki\", \"cooooki\", \"cooooki\", \"coooooki\", \"cooooooki\", \"cooooooki\", \"cooooooooki\", \"cooooooooki\", \"cowabunga\", \"cowabunga\", \"cowabunga\", \"cowabunga\", \"cowabunga\", \"cream\", \"cream\", \"crumbl\", \"crumbl\", \"crumbl\", \"delici\", \"delici\", \"delici\", \"delici\", \"eat\", \"eat\", \"eat\", \"eat\", \"eat\", \"enter\", \"enter\", \"enter\", \"excit\", \"excit\", \"excit\", \"excit\", \"fantast\", \"fantast\", \"fantast\", \"favorit\", \"favorit\", \"favorit\", \"favorit\", \"feel\", \"feel\", \"final\", \"final\", \"final\", \"food\", \"food\", \"food\", \"food\", \"food\", \"food\", \"food\", \"friday\", \"friend\", \"friend\", \"friend\", \"friend\", \"friend\", \"game\", \"game\", \"game\", \"game\", \"giant\", \"giant\", \"go\", \"go\", \"go\", \"go\", \"good\", \"good\", \"happen\", \"happen\", \"happi\", \"happi\", \"happi\", \"happi\", \"happi\", \"happi\", \"happi\", \"healthi\", \"healthi\", \"hear\", \"hear\", \"hear\", \"holiday\", \"holiday\", \"hope\", \"hope\", \"hope\", \"https\", \"https\", \"hungri\", \"hungri\", \"import\", \"instead\", \"instead\", \"instead\", \"joyofcooki\", \"kind\", \"kind\", \"kind\", \"kind\", \"know\", \"know\", \"know\", \"late\", \"late\", \"late\", \"learn\", \"learn\", \"like\", \"like\", \"like\", \"like\", \"like\", \"like\", \"like\", \"like\", \"littl\", \"littl\", \"look\", \"look\", \"look\", \"look\", \"lose\", \"lose\", \"lot\", \"lot\", \"lot\", \"love\", \"love\", \"love\", \"love\", \"love\", \"love\", \"make\", \"make\", \"mean\", \"mean\", \"mean\", \"mean\", \"meself\", \"meself\", \"meself\", \"meself\", \"milk\", \"milk\", \"monster\", \"monster\", \"monster\", \"monster\", \"monster\", \"nation\", \"nation\", \"nation\", \"need\", \"need\", \"number\", \"number\", \"number\", \"perfect\", \"perfect\", \"perfect\", \"phone\", \"phone\", \"phone\", \"question\", \"question\", \"question\", \"recip\", \"recip\", \"recip\", \"review\", \"review\", \"review\", \"right\", \"right\", \"right\", \"right\", \"save\", \"save\", \"send\", \"send\", \"send\", \"sesam\", \"sesam\", \"sesam\", \"sesam\", \"sesam\", \"shape\", \"shape\", \"shape\", \"share\", \"share\", \"share\", \"share\", \"snack\", \"snack\", \"soon\", \"soon\", \"sound\", \"sound\", \"sound\", \"status\", \"status\", \"street\", \"street\", \"talk\", \"talk\", \"tast\", \"tast\", \"tast\", \"teach\", \"teach\", \"thank\", \"thank\", \"thank\", \"thank\", \"thing\", \"thing\", \"thing\", \"think\", \"think\", \"think\", \"think\", \"think\", \"think\", \"think\", \"time\", \"time\", \"time\", \"time\", \"time\", \"time\", \"time\", \"today\", \"today\", \"today\", \"today\", \"today\", \"today\", \"tonight\", \"tonight\", \"tonight\", \"tonight\", \"truck\", \"truck\", \"truck\", \"true\", \"true\", \"tweet\", \"twitter\", \"twitter\", \"valentinesday\", \"wait\", \"wait\", \"wait\", \"want\", \"want\", \"want\", \"want\", \"want\", \"want\", \"warm\", \"warm\", \"weekend\", \"weekend\", \"weekend\", \"weekend\", \"wonder\", \"yeah\", \"yeah\", \"yeah\", \"year\", \"year\", \"year\", \"yummi\", \"yummi\", \"yummi\"]}, \"R\": 30, \"lambda.step\": 0.01, \"plot.opts\": {\"xlab\": \"PC1\", \"ylab\": \"PC2\"}, \"topic.order\": [4, 9, 10, 1, 7, 3, 6, 5, 8, 2]};\n",
              "\n",
              "function LDAvis_load_lib(url, callback){\n",
              "  var s = document.createElement('script');\n",
              "  s.src = url;\n",
              "  s.async = true;\n",
              "  s.onreadystatechange = s.onload = callback;\n",
              "  s.onerror = function(){console.warn(\"failed to load library \" + url);};\n",
              "  document.getElementsByTagName(\"head\")[0].appendChild(s);\n",
              "}\n",
              "\n",
              "if(typeof(LDAvis) !== \"undefined\"){\n",
              "   // already loaded: just create the visualization\n",
              "   !function(LDAvis){\n",
              "       new LDAvis(\"#\" + \"ldavis_el2591401462941987206973269217\", ldavis_el2591401462941987206973269217_data);\n",
              "   }(LDAvis);\n",
              "}else if(typeof define === \"function\" && define.amd){\n",
              "   // require.js is available: use it to load d3/LDAvis\n",
              "   require.config({paths: {d3: \"https://d3js.org/d3.v5\"}});\n",
              "   require([\"d3\"], function(d3){\n",
              "      window.d3 = d3;\n",
              "      LDAvis_load_lib(\"https://cdn.jsdelivr.net/gh/bmabey/pyLDAvis@3.4.0/pyLDAvis/js/ldavis.v3.0.0.js\", function(){\n",
              "        new LDAvis(\"#\" + \"ldavis_el2591401462941987206973269217\", ldavis_el2591401462941987206973269217_data);\n",
              "      });\n",
              "    });\n",
              "}else{\n",
              "    // require.js not available: dynamically load d3 & LDAvis\n",
              "    LDAvis_load_lib(\"https://d3js.org/d3.v5.js\", function(){\n",
              "         LDAvis_load_lib(\"https://cdn.jsdelivr.net/gh/bmabey/pyLDAvis@3.4.0/pyLDAvis/js/ldavis.v3.0.0.js\", function(){\n",
              "                 new LDAvis(\"#\" + \"ldavis_el2591401462941987206973269217\", ldavis_el2591401462941987206973269217_data);\n",
              "            })\n",
              "         });\n",
              "}\n",
              "</script>"
            ]
          },
          "metadata": {},
          "execution_count": 200
        }
      ]
    },
    {
      "cell_type": "code",
      "source": [
        "pyLDAvis.save_html(vis, 'MeCookieMonster.html')"
      ],
      "metadata": {
        "colab": {
          "base_uri": "https://localhost:8080/"
        },
        "id": "W2bkl-_4wifd",
        "outputId": "6d961230-7d44-4b23-bc23-a8edab9f0790"
      },
      "execution_count": null,
      "outputs": [
        {
          "output_type": "stream",
          "name": "stderr",
          "text": [
            "/usr/local/lib/python3.10/dist-packages/ipykernel/ipkernel.py:283: DeprecationWarning: `should_run_async` will not call `transform_cell` automatically in the future. Please pass the result to `transformed_cell` argument and any exception that happen during thetransform in `preprocessing_exc_tuple` in IPython 7.17 and above.\n",
            "  and should_run_async(code)\n"
          ]
        }
      ]
    },
    {
      "cell_type": "code",
      "source": [],
      "metadata": {
        "id": "if-PIZT_wikN"
      },
      "execution_count": null,
      "outputs": []
    },
    {
      "cell_type": "code",
      "source": [],
      "metadata": {
        "id": "6GpMRg4kwMqX"
      },
      "execution_count": null,
      "outputs": []
    },
    {
      "cell_type": "markdown",
      "source": [
        "@neiltyson"
      ],
      "metadata": {
        "id": "ghGZxpqXyUcu"
      }
    },
    {
      "cell_type": "code",
      "source": [
        "neiltyson = pd.read_excel('Twitter-NeilTyson-RawData.xlsx')"
      ],
      "metadata": {
        "colab": {
          "base_uri": "https://localhost:8080/"
        },
        "id": "qG5ljHyDxeqa",
        "outputId": "a7f93497-4a98-4513-f1c9-664e578e8860"
      },
      "execution_count": null,
      "outputs": [
        {
          "output_type": "stream",
          "name": "stderr",
          "text": [
            "/usr/local/lib/python3.10/dist-packages/ipykernel/ipkernel.py:283: DeprecationWarning: `should_run_async` will not call `transform_cell` automatically in the future. Please pass the result to `transformed_cell` argument and any exception that happen during thetransform in `preprocessing_exc_tuple` in IPython 7.17 and above.\n",
            "  and should_run_async(code)\n"
          ]
        }
      ]
    },
    {
      "cell_type": "code",
      "source": [
        "neiltyson.head()"
      ],
      "metadata": {
        "colab": {
          "base_uri": "https://localhost:8080/",
          "height": 262
        },
        "id": "JIZ5ZhmAxeuZ",
        "outputId": "ad2f91ad-f392-4bd3-eabb-f6f9d8fb5651"
      },
      "execution_count": null,
      "outputs": [
        {
          "output_type": "stream",
          "name": "stderr",
          "text": [
            "/usr/local/lib/python3.10/dist-packages/ipykernel/ipkernel.py:283: DeprecationWarning: `should_run_async` will not call `transform_cell` automatically in the future. Please pass the result to `transformed_cell` argument and any exception that happen during thetransform in `preprocessing_exc_tuple` in IPython 7.17 and above.\n",
            "  and should_run_async(code)\n"
          ]
        },
        {
          "output_type": "execute_result",
          "data": {
            "text/plain": [
              "   tweet-id                                         tweet-text tweet-author  \\\n",
              "0         1  What scientists know about the world is mind-b...    neiltyson   \n",
              "1         2  Okay. Okay. Next time (and every time) I’ll gi...    neiltyson   \n",
              "2         3  Can’t help thinking the @NFL\\n, at season’s en...    neiltyson   \n",
              "3         4  FYI: When the wayward SpaceX rocket hits the M...    neiltyson   \n",
              "4         5  Friday on @AndersonCooper\\n I vastly underesti...    neiltyson   \n",
              "\n",
              "  tweet-timestamp-date  \n",
              "0           2022-03-07  \n",
              "1           2022-02-13  \n",
              "2           2022-02-12  \n",
              "3           2022-01-30  \n",
              "4           2022-01-30  "
            ],
            "text/html": [
              "\n",
              "  <div id=\"df-0c2a8846-4b14-416f-a517-7421ea767adc\">\n",
              "    <div class=\"colab-df-container\">\n",
              "      <div>\n",
              "<style scoped>\n",
              "    .dataframe tbody tr th:only-of-type {\n",
              "        vertical-align: middle;\n",
              "    }\n",
              "\n",
              "    .dataframe tbody tr th {\n",
              "        vertical-align: top;\n",
              "    }\n",
              "\n",
              "    .dataframe thead th {\n",
              "        text-align: right;\n",
              "    }\n",
              "</style>\n",
              "<table border=\"1\" class=\"dataframe\">\n",
              "  <thead>\n",
              "    <tr style=\"text-align: right;\">\n",
              "      <th></th>\n",
              "      <th>tweet-id</th>\n",
              "      <th>tweet-text</th>\n",
              "      <th>tweet-author</th>\n",
              "      <th>tweet-timestamp-date</th>\n",
              "    </tr>\n",
              "  </thead>\n",
              "  <tbody>\n",
              "    <tr>\n",
              "      <th>0</th>\n",
              "      <td>1</td>\n",
              "      <td>What scientists know about the world is mind-b...</td>\n",
              "      <td>neiltyson</td>\n",
              "      <td>2022-03-07</td>\n",
              "    </tr>\n",
              "    <tr>\n",
              "      <th>1</th>\n",
              "      <td>2</td>\n",
              "      <td>Okay. Okay. Next time (and every time) I’ll gi...</td>\n",
              "      <td>neiltyson</td>\n",
              "      <td>2022-02-13</td>\n",
              "    </tr>\n",
              "    <tr>\n",
              "      <th>2</th>\n",
              "      <td>3</td>\n",
              "      <td>Can’t help thinking the @NFL\\n, at season’s en...</td>\n",
              "      <td>neiltyson</td>\n",
              "      <td>2022-02-12</td>\n",
              "    </tr>\n",
              "    <tr>\n",
              "      <th>3</th>\n",
              "      <td>4</td>\n",
              "      <td>FYI: When the wayward SpaceX rocket hits the M...</td>\n",
              "      <td>neiltyson</td>\n",
              "      <td>2022-01-30</td>\n",
              "    </tr>\n",
              "    <tr>\n",
              "      <th>4</th>\n",
              "      <td>5</td>\n",
              "      <td>Friday on @AndersonCooper\\n I vastly underesti...</td>\n",
              "      <td>neiltyson</td>\n",
              "      <td>2022-01-30</td>\n",
              "    </tr>\n",
              "  </tbody>\n",
              "</table>\n",
              "</div>\n",
              "      <button class=\"colab-df-convert\" onclick=\"convertToInteractive('df-0c2a8846-4b14-416f-a517-7421ea767adc')\"\n",
              "              title=\"Convert this dataframe to an interactive table.\"\n",
              "              style=\"display:none;\">\n",
              "        \n",
              "  <svg xmlns=\"http://www.w3.org/2000/svg\" height=\"24px\"viewBox=\"0 0 24 24\"\n",
              "       width=\"24px\">\n",
              "    <path d=\"M0 0h24v24H0V0z\" fill=\"none\"/>\n",
              "    <path d=\"M18.56 5.44l.94 2.06.94-2.06 2.06-.94-2.06-.94-.94-2.06-.94 2.06-2.06.94zm-11 1L8.5 8.5l.94-2.06 2.06-.94-2.06-.94L8.5 2.5l-.94 2.06-2.06.94zm10 10l.94 2.06.94-2.06 2.06-.94-2.06-.94-.94-2.06-.94 2.06-2.06.94z\"/><path d=\"M17.41 7.96l-1.37-1.37c-.4-.4-.92-.59-1.43-.59-.52 0-1.04.2-1.43.59L10.3 9.45l-7.72 7.72c-.78.78-.78 2.05 0 2.83L4 21.41c.39.39.9.59 1.41.59.51 0 1.02-.2 1.41-.59l7.78-7.78 2.81-2.81c.8-.78.8-2.07 0-2.86zM5.41 20L4 18.59l7.72-7.72 1.47 1.35L5.41 20z\"/>\n",
              "  </svg>\n",
              "      </button>\n",
              "      \n",
              "  <style>\n",
              "    .colab-df-container {\n",
              "      display:flex;\n",
              "      flex-wrap:wrap;\n",
              "      gap: 12px;\n",
              "    }\n",
              "\n",
              "    .colab-df-convert {\n",
              "      background-color: #E8F0FE;\n",
              "      border: none;\n",
              "      border-radius: 50%;\n",
              "      cursor: pointer;\n",
              "      display: none;\n",
              "      fill: #1967D2;\n",
              "      height: 32px;\n",
              "      padding: 0 0 0 0;\n",
              "      width: 32px;\n",
              "    }\n",
              "\n",
              "    .colab-df-convert:hover {\n",
              "      background-color: #E2EBFA;\n",
              "      box-shadow: 0px 1px 2px rgba(60, 64, 67, 0.3), 0px 1px 3px 1px rgba(60, 64, 67, 0.15);\n",
              "      fill: #174EA6;\n",
              "    }\n",
              "\n",
              "    [theme=dark] .colab-df-convert {\n",
              "      background-color: #3B4455;\n",
              "      fill: #D2E3FC;\n",
              "    }\n",
              "\n",
              "    [theme=dark] .colab-df-convert:hover {\n",
              "      background-color: #434B5C;\n",
              "      box-shadow: 0px 1px 3px 1px rgba(0, 0, 0, 0.15);\n",
              "      filter: drop-shadow(0px 1px 2px rgba(0, 0, 0, 0.3));\n",
              "      fill: #FFFFFF;\n",
              "    }\n",
              "  </style>\n",
              "\n",
              "      <script>\n",
              "        const buttonEl =\n",
              "          document.querySelector('#df-0c2a8846-4b14-416f-a517-7421ea767adc button.colab-df-convert');\n",
              "        buttonEl.style.display =\n",
              "          google.colab.kernel.accessAllowed ? 'block' : 'none';\n",
              "\n",
              "        async function convertToInteractive(key) {\n",
              "          const element = document.querySelector('#df-0c2a8846-4b14-416f-a517-7421ea767adc');\n",
              "          const dataTable =\n",
              "            await google.colab.kernel.invokeFunction('convertToInteractive',\n",
              "                                                     [key], {});\n",
              "          if (!dataTable) return;\n",
              "\n",
              "          const docLinkHtml = 'Like what you see? Visit the ' +\n",
              "            '<a target=\"_blank\" href=https://colab.research.google.com/notebooks/data_table.ipynb>data table notebook</a>'\n",
              "            + ' to learn more about interactive tables.';\n",
              "          element.innerHTML = '';\n",
              "          dataTable['output_type'] = 'display_data';\n",
              "          await google.colab.output.renderOutput(dataTable, element);\n",
              "          const docLink = document.createElement('div');\n",
              "          docLink.innerHTML = docLinkHtml;\n",
              "          element.appendChild(docLink);\n",
              "        }\n",
              "      </script>\n",
              "    </div>\n",
              "  </div>\n",
              "  "
            ]
          },
          "metadata": {},
          "execution_count": 209
        }
      ]
    },
    {
      "cell_type": "code",
      "source": [
        "def lemmatize_stemming(text):\n",
        "    stemmer = SnowballStemmer(\"english\")\n",
        "    return stemmer.stem(WordNetLemmatizer().lemmatize(text, pos='v'))\n",
        "\n",
        "def preprocess(text):\n",
        "    result = []\n",
        "    for token in gensim.utils.simple_preprocess(text):\n",
        "        if token not in gensim.parsing.preprocessing.STOPWORDS and len(token) > 3:\n",
        "            result.append(lemmatize_stemming(token))\n",
        "    return result\n",
        "\n",
        "processed_docs5 = neiltyson['tweet-text'].map(preprocess)"
      ],
      "metadata": {
        "colab": {
          "base_uri": "https://localhost:8080/"
        },
        "id": "PvGMJ75wxeyv",
        "outputId": "2a296bb3-8ff7-4ae5-cf9f-da5ff7920f5c"
      },
      "execution_count": null,
      "outputs": [
        {
          "output_type": "stream",
          "name": "stderr",
          "text": [
            "/usr/local/lib/python3.10/dist-packages/ipykernel/ipkernel.py:283: DeprecationWarning: `should_run_async` will not call `transform_cell` automatically in the future. Please pass the result to `transformed_cell` argument and any exception that happen during thetransform in `preprocessing_exc_tuple` in IPython 7.17 and above.\n",
            "  and should_run_async(code)\n"
          ]
        }
      ]
    },
    {
      "cell_type": "code",
      "source": [
        "dictionary = gensim.corpora.Dictionary(processed_docs5)\n",
        "\n",
        "dictionary.filter_extremes(no_below=3, no_above=0.9)\n",
        "\n",
        "#dictionary.filter_extremes(no_below=1, no_above=1.0)\n",
        "\n",
        "bow_corpus = [dictionary.doc2bow(doc) for doc in processed_docs5]"
      ],
      "metadata": {
        "colab": {
          "base_uri": "https://localhost:8080/"
        },
        "id": "e3FgJQ4TDXud",
        "outputId": "aca07b03-5ca0-4d98-9cf7-b258dec1f799"
      },
      "execution_count": null,
      "outputs": [
        {
          "output_type": "stream",
          "name": "stderr",
          "text": [
            "/usr/local/lib/python3.10/dist-packages/ipykernel/ipkernel.py:283: DeprecationWarning: `should_run_async` will not call `transform_cell` automatically in the future. Please pass the result to `transformed_cell` argument and any exception that happen during thetransform in `preprocessing_exc_tuple` in IPython 7.17 and above.\n",
            "  and should_run_async(code)\n"
          ]
        }
      ]
    },
    {
      "cell_type": "code",
      "source": [
        "lda_model5 = gensim.models.LdaMulticore(bow_corpus, num_topics=10, id2word=dictionary, passes=2, workers=2)"
      ],
      "metadata": {
        "colab": {
          "base_uri": "https://localhost:8080/"
        },
        "id": "LtnJ2xj30zuI",
        "outputId": "f08ed903-ef6d-4c71-e3ff-24614772f23a"
      },
      "execution_count": null,
      "outputs": [
        {
          "output_type": "stream",
          "name": "stderr",
          "text": [
            "/usr/local/lib/python3.10/dist-packages/ipykernel/ipkernel.py:283: DeprecationWarning: `should_run_async` will not call `transform_cell` automatically in the future. Please pass the result to `transformed_cell` argument and any exception that happen during thetransform in `preprocessing_exc_tuple` in IPython 7.17 and above.\n",
            "  and should_run_async(code)\n",
            "WARNING:gensim.models.ldamulticore:too few updates, training might not converge; consider increasing the number of passes or iterations to improve accuracy\n"
          ]
        }
      ]
    },
    {
      "cell_type": "code",
      "source": [
        "for idx, topic in lda_model5.print_topics(-1):\n",
        "    print('Topic: {} \\nWords: {}'.format(idx, topic))"
      ],
      "metadata": {
        "colab": {
          "base_uri": "https://localhost:8080/"
        },
        "id": "uiLbGaZd0zyr",
        "outputId": "95fb5764-bb55-45ac-ed7c-21f077470d49"
      },
      "execution_count": null,
      "outputs": [
        {
          "output_type": "stream",
          "name": "stdout",
          "text": [
            "Topic: 0 \n",
            "Words: 0.038*\"imag\" + 0.032*\"fee\" + 0.031*\"https\" + 0.030*\"shirt\" + 0.029*\"link\" + 0.029*\"proceed\" + 0.029*\"organ\" + 0.028*\"conceiv\" + 0.028*\"artist\" + 0.028*\"amazon\"\n",
            "Topic: 1 \n",
            "Words: 0.044*\"time\" + 0.035*\"orbit\" + 0.031*\"vaccin\" + 0.026*\"https\" + 0.024*\"scienc\" + 0.023*\"mile\" + 0.021*\"tyson\" + 0.019*\"earth\" + 0.019*\"year\" + 0.018*\"planet\"\n",
            "Topic: 2 \n",
            "Words: 0.029*\"post\" + 0.024*\"thank\" + 0.024*\"think\" + 0.024*\"https\" + 0.023*\"week\" + 0.022*\"shirt\" + 0.022*\"earth\" + 0.021*\"fan\" + 0.019*\"world\" + 0.019*\"amazon\"\n",
            "Topic: 3 \n",
            "Words: 0.067*\"earth\" + 0.055*\"space\" + 0.051*\"alien\" + 0.027*\"life\" + 0.024*\"away\" + 0.024*\"think\" + 0.022*\"moon\" + 0.018*\"planet\" + 0.014*\"nasa\" + 0.013*\"mar\"\n",
            "Topic: 4 \n",
            "Words: 0.058*\"human\" + 0.035*\"surpris\" + 0.035*\"kill\" + 0.034*\"moon\" + 0.029*\"space\" + 0.029*\"video\" + 0.028*\"alien\" + 0.023*\"thing\" + 0.023*\"light\" + 0.023*\"turn\"\n",
            "Topic: 5 \n",
            "Words: 0.052*\"alien\" + 0.034*\"wonder\" + 0.031*\"human\" + 0.029*\"space\" + 0.029*\"time\" + 0.027*\"reason\" + 0.026*\"santa\" + 0.026*\"peopl\" + 0.020*\"think\" + 0.018*\"mean\"\n",
            "Topic: 6 \n",
            "Words: 0.033*\"https\" + 0.027*\"educ\" + 0.026*\"startalkradio\" + 0.023*\"univers\" + 0.019*\"vaccin\" + 0.019*\"peopl\" + 0.019*\"scienc\" + 0.019*\"cosmic\" + 0.019*\"proceed\" + 0.019*\"amazon\"\n",
            "Topic: 7 \n",
            "Words: 0.046*\"book\" + 0.034*\"cosmic\" + 0.032*\"know\" + 0.031*\"https\" + 0.028*\"tyson\" + 0.027*\"need\" + 0.027*\"gift\" + 0.024*\"cours\" + 0.022*\"happen\" + 0.021*\"astrophys\"\n",
            "Topic: 8 \n",
            "Words: 0.061*\"moon\" + 0.051*\"friday\" + 0.044*\"alien\" + 0.041*\"today\" + 0.038*\"space\" + 0.034*\"year\" + 0.030*\"earth\" + 0.026*\"math\" + 0.024*\"tweet\" + 0.023*\"solar\"\n",
            "Topic: 9 \n",
            "Words: 0.051*\"alien\" + 0.050*\"know\" + 0.037*\"https\" + 0.031*\"book\" + 0.030*\"space\" + 0.029*\"joke\" + 0.029*\"fact\" + 0.028*\"world\" + 0.025*\"tyson\" + 0.023*\"alert\"\n"
          ]
        },
        {
          "output_type": "stream",
          "name": "stderr",
          "text": [
            "/usr/local/lib/python3.10/dist-packages/ipykernel/ipkernel.py:283: DeprecationWarning: `should_run_async` will not call `transform_cell` automatically in the future. Please pass the result to `transformed_cell` argument and any exception that happen during thetransform in `preprocessing_exc_tuple` in IPython 7.17 and above.\n",
            "  and should_run_async(code)\n"
          ]
        }
      ]
    },
    {
      "cell_type": "code",
      "source": [
        "pyLDAvis.enable_notebook()\n",
        "\n",
        "vis = gensimvis.prepare(lda_model5, bow_corpus, dictionary, n_jobs=1)\n",
        "pyLDAvis.display(vis)"
      ],
      "metadata": {
        "colab": {
          "base_uri": "https://localhost:8080/",
          "height": 917
        },
        "id": "cW1m91Nr0z3O",
        "outputId": "cfdeda37-34f3-4aa1-c4cc-926c72fa3146"
      },
      "execution_count": null,
      "outputs": [
        {
          "output_type": "stream",
          "name": "stderr",
          "text": [
            "/usr/local/lib/python3.10/dist-packages/ipykernel/ipkernel.py:283: DeprecationWarning: `should_run_async` will not call `transform_cell` automatically in the future. Please pass the result to `transformed_cell` argument and any exception that happen during thetransform in `preprocessing_exc_tuple` in IPython 7.17 and above.\n",
            "  and should_run_async(code)\n"
          ]
        },
        {
          "output_type": "execute_result",
          "data": {
            "text/plain": [
              "<IPython.core.display.HTML object>"
            ],
            "text/html": [
              "\n",
              "<link rel=\"stylesheet\" type=\"text/css\" href=\"https://cdn.jsdelivr.net/gh/bmabey/pyLDAvis@3.4.0/pyLDAvis/js/ldavis.v1.0.0.css\">\n",
              "\n",
              "\n",
              "<div id=\"ldavis_el2591401462755751524324443672\" style=\"background-color:white;\"></div>\n",
              "<script type=\"text/javascript\">\n",
              "\n",
              "var ldavis_el2591401462755751524324443672_data = {\"mdsDat\": {\"x\": [0.18346244276484852, -0.13397416867091658, -0.04980142730377422, 0.14666158883077368, 0.13506377212687318, 0.027825746721681723, -0.08327628658273775, -0.12493143348138057, 0.03241524620208917, -0.1334454806074572], \"y\": [-0.06781322183217055, -0.06141201130183187, -0.018446693714390755, 0.017664648966385667, -0.03710915432940789, 0.1164621455537274, 0.15690468677758584, -0.1364466838767967, 0.01522441573183856, 0.014971868025060182], \"topics\": [1, 2, 3, 4, 5, 6, 7, 8, 9, 10], \"cluster\": [1, 1, 1, 1, 1, 1, 1, 1, 1, 1], \"Freq\": [17.10993133864301, 14.154430936969685, 10.230126769865922, 10.08322564295149, 9.64273905306871, 9.564478782400046, 9.34380297961349, 8.905433713467477, 5.770764268933254, 5.195066514086919]}, \"tinfo\": {\"Term\": [\"human\", \"moon\", \"alien\", \"friday\", \"book\", \"time\", \"space\", \"earth\", \"know\", \"today\", \"cosmic\", \"orbit\", \"vaccin\", \"year\", \"tyson\", \"educ\", \"week\", \"video\", \"kill\", \"surpris\", \"imag\", \"post\", \"shirt\", \"world\", \"fact\", \"fan\", \"link\", \"proceed\", \"wonder\", \"reason\", \"sanction\", \"imag\", \"moment\", \"tree\", \"organ\", \"fee\", \"link\", \"tide\", \"conceiv\", \"artist\", \"degrass\", \"proceed\", \"pole\", \"north\", \"shirt\", \"design\", \"week\", \"fan\", \"common\", \"educ\", \"neil\", \"amazon\", \"tri\", \"suggest\", \"gift\", \"program\", \"deliv\", \"cool\", \"remind\", \"model\", \"santa\", \"https\", \"approv\", \"scienc\", \"earth\", \"moon\", \"space\", \"peopl\", \"galaxi\", \"away\", \"evid\", \"planet\", \"entir\", \"figur\", \"come\", \"hollywood\", \"eat\", \"sign\", \"life\", \"near\", \"caus\", \"christian\", \"night\", \"nasa\", \"earthl\", \"receiv\", \"form\", \"mar\", \"earth\", \"land\", \"billion\", \"want\", \"live\", \"common\", \"telescop\", \"space\", \"recent\", \"help\", \"psychedel\", \"alien\", \"think\", \"moon\", \"today\", \"human\", \"wonder\", \"know\", \"orbit\", \"happi\", \"look\", \"reason\", \"track\", \"zone\", \"get\", \"sport\", \"sens\", \"hour\", \"lead\", \"wonder\", \"appar\", \"foot\", \"mean\", \"long\", \"actual\", \"reindeer\", \"watch\", \"earthl\", \"right\", \"leav\", \"covid\", \"human\", \"time\", \"oval\", \"olymp\", \"nation\", \"instead\", \"american\", \"polit\", \"edit\", \"sure\", \"peopl\", \"santa\", \"alien\", \"think\", \"space\", \"pole\", \"earth\", \"earlier\", \"queri\", \"podcast\", \"startalkradio\", \"film\", \"host\", \"continu\", \"chucknicecom\", \"blue\", \"warn\", \"vaccin\", \"program\", \"recent\", \"covid\", \"anti\", \"cosmic\", \"high\", \"electr\", \"scientist\", \"educ\", \"sign\", \"approv\", \"univers\", \"fact\", \"bear\", \"scene\", \"zillion\", \"citi\", \"blow\", \"form\", \"degrass\", \"peopl\", \"proceed\", \"link\", \"amazon\", \"https\", \"scienc\", \"organ\", \"week\", \"conceiv\", \"neil\", \"artist\", \"fan\", \"design\", \"imag\", \"fee\", \"shirt\", \"earth\", \"tweet\", \"life\", \"thank\", \"post\", \"min\", \"size\", \"believ\", \"true\", \"spend\", \"electr\", \"scientist\", \"birthday\", \"billion\", \"continu\", \"approv\", \"foot\", \"ask\", \"happi\", \"zillion\", \"month\", \"good\", \"blow\", \"olymp\", \"summer\", \"winter\", \"ignor\", \"remain\", \"reach\", \"near\", \"jupit\", \"celebr\", \"engin\", \"week\", \"world\", \"like\", \"fan\", \"shirt\", \"mayb\", \"think\", \"thing\", \"amazon\", \"artist\", \"conceiv\", \"christma\", \"design\", \"fee\", \"https\", \"proceed\", \"earth\", \"educ\", \"scienc\", \"tyson\", \"time\", \"link\", \"organ\", \"imag\", \"urg\", \"happen\", \"bring\", \"sayin\", \"atmospher\", \"cosmic\", \"beam\", \"cours\", \"sciencey\", \"window\", \"astrophys\", \"goodman\", \"bergdorf\", \"hurri\", \"book\", \"base\", \"speed\", \"curious\", \"collag\", \"york\", \"need\", \"blue\", \"turn\", \"reach\", \"best\", \"lead\", \"godspe\", \"remind\", \"discov\", \"reindeer\", \"tyson\", \"psychedel\", \"christma\", \"know\", \"gift\", \"https\", \"suggest\", \"alien\", \"scienc\", \"moon\", \"look\", \"santa\", \"joke\", \"alert\", \"fact\", \"startalk\", \"hard\", \"buitengebieden\", \"geeki\", \"cultur\", \"anybodi\", \"twitter\", \"edit\", \"tell\", \"warn\", \"like\", \"know\", \"world\", \"video\", \"astrophysicist\", \"film\", \"leader\", \"scene\", \"book\", \"civil\", \"news\", \"return\", \"actual\", \"exact\", \"declar\", \"look\", \"mayb\", \"ask\", \"tyson\", \"alien\", \"https\", \"time\", \"space\", \"think\", \"suggest\", \"gift\", \"scienc\", \"human\", \"friday\", \"math\", \"solar\", \"today\", \"saturday\", \"day\", \"exact\", \"march\", \"forc\", \"distanc\", \"year\", \"rocket\", \"moon\", \"tweet\", \"lose\", \"energi\", \"chucknicecom\", \"month\", \"help\", \"zillion\", \"food\", \"winter\", \"summer\", \"nation\", \"leader\", \"congratul\", \"launch\", \"size\", \"oblig\", \"jupit\", \"tide\", \"post\", \"alien\", \"space\", \"earth\", \"univers\", \"santa\", \"need\", \"orbit\", \"https\", \"note\", \"food\", \"orbit\", \"oval\", \"annual\", \"spend\", \"million\", \"vaccin\", \"mile\", \"work\", \"host\", \"juli\", \"time\", \"planet\", \"olymp\", \"summer\", \"winter\", \"ignor\", \"remain\", \"sport\", \"buitengebieden\", \"civil\", \"entir\", \"podcast\", \"oblig\", \"cool\", \"caus\", \"evid\", \"star\", \"speed\", \"move\", \"year\", \"tyson\", \"scienc\", \"book\", \"https\", \"month\", \"suggest\", \"earth\", \"peopl\", \"gift\", \"know\", \"today\", \"away\", \"univers\", \"mayb\", \"need\", \"sure\", \"video\", \"surpris\", \"mirror\", \"kill\", \"learn\", \"light\", \"blow\", \"turn\", \"thing\", \"ignor\", \"citi\", \"occasion\", \"human\", \"oblig\", \"video\", \"march\", \"live\", \"godspe\", \"model\", \"york\", \"requir\", \"second\", \"watch\", \"electr\", \"speed\", \"min\", \"head\", \"sens\", \"rocket\", \"energi\", \"night\", \"moon\", \"space\", \"alien\", \"univers\", \"look\", \"tell\", \"know\", \"tweet\", \"need\", \"nasa\", \"sure\", \"year\"], \"Freq\": [15.0, 24.0, 41.0, 8.0, 15.0, 15.0, 35.0, 36.0, 21.0, 10.0, 9.0, 7.0, 8.0, 11.0, 14.0, 15.0, 14.0, 8.0, 6.0, 4.0, 16.0, 7.0, 15.0, 12.0, 6.0, 14.0, 13.0, 14.0, 11.0, 5.0, 3.5342345786634484, 10.199172350854456, 3.2310740014378316, 2.55865161493414, 7.735595840562257, 8.653272443551325, 7.832439440219117, 5.162166469595778, 7.636298770725856, 7.622616322838483, 6.497653844784893, 7.81390723774254, 3.777119347920639, 3.777092761553942, 8.07080728610038, 7.5953848605267815, 7.238086665447633, 7.239880492755349, 2.55855806102114, 7.540215139852885, 6.573865420625665, 7.6161252363279015, 1.6465349485843026, 5.85405760096517, 7.123115678369376, 1.3986020302468, 1.3402389357918862, 1.340249219197873, 1.3402411931249079, 1.3401961718718687, 4.995583820314996, 8.371029066546843, 2.8751434993549037, 4.648600633884771, 7.527087494259229, 4.547759548261697, 4.533587008293887, 3.0244091437689913, 2.807294916264979, 5.433008236401341, 2.8073299820831803, 4.084473558743723, 1.9017174638469618, 1.901715596436525, 2.475913389720896, 1.9017396652821543, 1.9016823980287607, 2.5261990179617855, 6.071745601790338, 1.620553923787948, 1.901753982095503, 1.6244020342279506, 2.6049043506595244, 3.1506482036290384, 1.9017400802622515, 1.9017317806603102, 1.7075750426505973, 2.914171172851382, 14.91053699274212, 1.771970824151594, 1.9017342705408926, 1.9017581318964734, 1.7045746328038565, 1.9018104193887024, 2.5262104299144545, 12.300046594996122, 0.9961389739787021, 1.9016973373122548, 2.3638496744312407, 11.430127137377857, 5.242979720397144, 4.802504906098134, 2.4657928551138877, 2.8073152502897347, 2.3624922745337695, 2.8073362067846364, 1.9097707751004842, 1.9017529446452601, 1.9017444375532706, 4.420668258829245, 2.687069481677648, 2.4179866347358376, 2.687044587719102, 1.82026379463041, 2.687093775781771, 1.8202679936113695, 1.82026379463041, 5.440948949403139, 1.5511442066052032, 2.687067082259957, 2.9712433162245757, 2.6870616835701515, 1.8202658941208898, 2.6870871773831206, 1.8202538970324338, 1.8202508977603198, 1.820282240153911, 2.687071581168128, 1.8202814903358826, 5.018362305922379, 4.598400925322988, 0.9534584075103835, 0.9534641061274, 0.9534613318006946, 1.8202489482334459, 0.9534587074375949, 0.9534611068552861, 0.9534567579107207, 2.4179437451446075, 4.151406205378624, 4.151617054208237, 8.309947079261994, 3.2847902222925955, 4.732044591668375, 1.5511419571511178, 2.6870217932510356, 1.5858149162166935, 2.451167542948125, 1.87374944156667, 4.204554268460274, 1.7541303585253782, 1.2692984842606665, 1.2692990755013847, 1.2692959714876144, 1.269295528057076, 1.180861584503764, 3.092903174610703, 1.2403417310393212, 1.081591602783823, 1.873758014557083, 1.2693041010474888, 3.022561788272906, 1.2692860682055858, 1.2692492634708823, 1.2691772799134498, 4.291720887534273, 1.2693060225798227, 2.5104290782281535, 3.613652035640773, 1.4569438027977346, 1.2693165171025695, 0.7074336351154455, 0.6648598691046541, 0.694940201405717, 0.6648417623576613, 0.8525029704890292, 2.450851968214823, 3.0826229766242066, 2.9690695799203963, 2.7010214361247438, 2.9552865762993354, 5.215434294311661, 3.0518837804478767, 2.369543362176062, 2.473032215945314, 2.3708306410296123, 2.3435376391890865, 2.3328140106639923, 2.3764109187375086, 2.360648441192146, 2.3910918691992307, 2.276549031153629, 2.27942379133536, 1.9600422068592718, 1.5675056692779832, 1.5888398515408293, 3.6479791976305496, 4.367350742789545, 2.361114619253108, 1.5994584313436764, 1.3629922580019882, 2.124670638344819, 1.5994450028011737, 1.5994722839454159, 1.5994541907513071, 1.5994688914715205, 1.5994680433530466, 0.837801112609613, 2.8352823918467167, 1.5994622478768086, 1.3629812324618282, 2.2215164387545827, 0.837798214871494, 1.835905804725861, 1.362998618890542, 0.8378001231380602, 0.8377888855682817, 0.837781676561254, 0.8377810404723987, 0.8378000524615207, 0.83779602389877, 0.8377863412128602, 0.8377992750195863, 0.8377858464770838, 0.8377980028418756, 0.8377936915729668, 3.4446970731087947, 2.955059336846115, 1.5842745663064486, 3.2204426749658275, 3.3829144693508444, 1.5994148945953524, 3.6168659714175853, 1.3629672385070097, 2.858032039082948, 2.3523026683098696, 2.248422997337281, 1.4533093837531805, 2.3029989970699005, 2.281066511983218, 3.587954178056562, 2.208385585836373, 3.3591026950792022, 2.2370976472968063, 2.138212263310527, 1.8772446540248826, 1.821734027734087, 1.7824141244620508, 1.7245780986690542, 1.6515032214911087, 2.2055039392138345, 3.2585302880946636, 1.8916967249340142, 1.986405783572949, 2.937009087586486, 5.126423142477085, 1.8916797600249167, 3.672797665197446, 2.227913182072931, 2.2182953404674333, 3.1764271383561384, 2.213108564871151, 2.21054714400916, 1.5222133429077882, 6.983993761011814, 1.5546752057452013, 2.009671684238535, 1.5221871244119103, 1.5093364160794007, 1.498037225797074, 4.005732744381684, 1.1627610592603215, 2.219805497788825, 1.1627392572490434, 2.219866206926339, 1.1497223348691372, 1.1627288119124504, 1.162730424279844, 1.1437208931215275, 1.9046394083108866, 4.225499261358665, 2.1926996390210873, 2.1260264246213216, 4.8746235121835175, 3.991984718543195, 4.649902961338368, 2.631533326143825, 2.9303403360467337, 2.2059652164942523, 2.219774231881976, 1.891603347831048, 1.9610839041717871, 4.2244011255390115, 3.3423727297454113, 4.224332913996006, 3.178201790712755, 1.8521952822049057, 1.8521984325372132, 1.578358673100817, 2.2316558220009135, 2.5977686777521143, 2.13390525660021, 1.33275205483299, 2.5769151215283066, 1.0991171787319411, 2.3207298243429677, 7.326263241951352, 4.125429737883678, 2.7341829976204486, 1.215240276693351, 1.1443957407339524, 0.9702041425151158, 0.9701517511191329, 4.511018358872564, 0.9701998279295643, 1.21384741890054, 0.9701855144632108, 1.1806303150505841, 0.9701982527634105, 0.9701959242569225, 3.043076915554965, 1.85223979777012, 1.3327321940423562, 3.6476681463589786, 7.440572638814964, 5.440867155441907, 2.887763067319273, 4.464900233310611, 2.742373313735989, 2.3439869471464045, 2.3106983444501665, 2.0054315547693067, 1.3180048014178471, 7.1322458119159995, 3.610198260801934, 3.1743871425498154, 5.81159086895674, 1.849125008725066, 2.729636831231129, 1.8490979859292722, 1.8490893699653959, 2.231433080023877, 1.575639302626975, 4.79021430322872, 1.8490983775639938, 8.561621164503443, 3.3367839627680906, 1.8490799707320762, 1.8491225283718289, 0.9685563339119103, 2.1770658257847955, 1.8491156094917465, 0.9685534619239515, 0.9685436057834567, 0.9685756545581784, 0.9685691273128175, 0.968527548759869, 0.9685376007177248, 0.9685642971512505, 0.9685610335285701, 0.9685375354452711, 0.9685589448100547, 0.9685446501427144, 2.572416377673809, 1.8490489010441586, 6.1687403257367555, 5.275769819465563, 4.2232081641219965, 2.48592933228351, 1.8490293193080762, 1.2419267035844752, 1.1478620485098776, 1.1755463153485943, 0.9685762420102608, 1.4547193523048685, 3.170724722700918, 1.2396663473710554, 1.239659749059844, 1.454716983680331, 1.4547562351726646, 2.840250505123426, 2.0797152815445177, 1.4547486217366516, 0.7620003870427356, 1.4547645253585453, 4.010697860889184, 1.6482134750745157, 0.7619911663257866, 0.7620034324171407, 0.7620016559487378, 0.7619821147963045, 0.761957582613596, 0.7619904895759188, 0.76199125091952, 0.7618872006273429, 0.7619997102928678, 0.761994973043793, 0.7313607905584452, 0.7619894744511171, 0.7619752627038928, 0.7619974262620639, 0.7619953960124605, 0.7619959035748614, 0.7620036016046078, 1.6875505762662784, 1.9119366386271788, 2.1475229113004786, 1.5440997375972851, 2.346918123730038, 0.9816235684276617, 1.2191917030888684, 1.6875509146412122, 1.2422154103419278, 1.1929527572138026, 1.1281617399936437, 0.8722733096607174, 0.831699448085516, 0.870274021363714, 0.7620129069152902, 0.7620115534155546, 0.7620091001972837, 0.7620069007602134, 2.901114440593424, 1.6105290333549693, 2.82375723751525, 1.7957332924359335, 1.8899672621046695, 0.9899773503175482, 1.8899410649325525, 1.890004730153162, 0.989924575200464, 0.9899607486212648, 0.9899699633242478, 4.71927403545276, 0.9899532093188242, 2.342326322395348, 0.9899593016844328, 1.1858981566585456, 0.98997156257022, 0.9899631855675082, 0.9899695063968271, 0.9899754464532955, 0.9899639471132093, 0.9899682117691353, 0.9899605963121246, 0.9899698110151075, 0.9899643278860598, 0.9899701917879581, 0.9899413292058875, 0.9899826049828855, 0.9899771218538378, 0.9899676025325744, 2.789961667011427, 2.4114263900550954, 2.3147918760274453, 1.0738160688575324, 0.9901661374968435, 0.9901424534255402, 0.9900426909387, 0.9899951704869532, 0.9899934189318407, 0.9899812342006236, 0.9899763603081367, 0.989974456443884], \"Total\": [15.0, 24.0, 41.0, 8.0, 15.0, 15.0, 35.0, 36.0, 21.0, 10.0, 9.0, 7.0, 8.0, 11.0, 14.0, 15.0, 14.0, 8.0, 6.0, 4.0, 16.0, 7.0, 15.0, 12.0, 6.0, 14.0, 13.0, 14.0, 11.0, 5.0, 4.429633778005251, 16.379121718455817, 5.256608626653254, 4.201036228382681, 13.067520479004111, 15.022415689409895, 13.7573936244728, 9.201718636430618, 13.823741522622704, 13.815512208988808, 11.851195976519293, 14.498380021765982, 7.089912255412215, 7.089886419682354, 15.559840638387907, 14.707699735157407, 14.356566304128116, 14.434959837608961, 5.124930149551741, 15.57339136022727, 13.69854092935614, 16.11722101748819, 3.6157461407747786, 13.679667185406592, 16.915789390477684, 3.3336225448412877, 3.6649936299326007, 3.6756588135264705, 3.7568081476817654, 3.756926861629995, 15.336608300707177, 33.92034831691692, 9.700300054642142, 18.73063629394561, 36.7148851945628, 24.43810280867899, 35.779962535079285, 15.009716148930432, 3.593723138889477, 6.981858040953745, 4.286459338959881, 6.686271722786352, 3.380849013529594, 3.449758101418288, 4.556090933362718, 3.5549102927595024, 3.554883877663094, 4.849605068028163, 12.470355667921156, 3.3562277948211476, 3.985281578002146, 3.466326035739676, 5.745942235854845, 7.3059070892664675, 4.421720643735865, 4.450633961911544, 4.069544888068402, 7.053945015032194, 36.7148851945628, 4.467770658623049, 4.81584964012725, 4.865781274388044, 4.468860277632154, 5.124930149551741, 7.324185917658718, 35.779962535079285, 3.040153372139951, 5.903537903072823, 7.394808465083497, 41.906288856233004, 17.861004464756437, 24.43810280867899, 10.511568143793207, 15.931120307469012, 11.001916783152128, 21.11991578968671, 7.993838019757414, 7.988709746800442, 11.11944026920447, 5.210967544512962, 3.4773453217634005, 3.3958919574923465, 4.6956977258995645, 3.3032618702982153, 5.096712243758831, 3.516096171759197, 3.6620125066626805, 11.001916783152128, 3.2196328700198973, 5.60505828580603, 6.298682161504414, 6.169045668783458, 4.2304131882913465, 6.307945234588484, 4.392500010772632, 4.421720643735865, 5.00252583197637, 7.546765391757884, 5.329417155941553, 15.931120307469012, 15.167296568563366, 3.1505671913605684, 3.198088812810733, 3.2286979735793846, 6.164664487161739, 3.253715421829704, 3.25375985187519, 3.3442452391823028, 8.48853547304325, 15.009716148930432, 15.336608300707177, 41.906288856233004, 17.861004464756437, 35.779962535079285, 7.089912255412215, 36.7148851945628, 2.7892787176018503, 4.371981295226032, 3.3829890291643063, 8.488124756912661, 3.6271663633071425, 2.7785386621082004, 2.847452186405253, 2.96632661765912, 3.142872972929769, 3.008420285257036, 8.295833830211935, 3.3336225448412877, 3.040153372139951, 5.329417155941553, 3.8345831602654306, 9.938199388181367, 4.186170977679659, 4.509087377108101, 4.51474306031006, 15.57339136022727, 4.849605068028163, 9.700300054642142, 15.748970165731503, 6.40969039449105, 5.676840450782307, 3.2476768072827715, 3.123511403937696, 3.271901634324247, 3.142977310546163, 4.069544888068402, 11.851195976519293, 15.009716148930432, 14.498380021765982, 13.7573936244728, 16.11722101748819, 33.92034831691692, 18.73063629394561, 13.067520479004111, 14.356566304128116, 13.823741522622704, 13.69854092935614, 13.815512208988808, 14.434959837608961, 14.707699735157407, 16.379121718455817, 15.022415689409895, 15.559840638387907, 36.7148851945628, 9.963987724046646, 12.470355667921156, 5.322273788547752, 7.15038373795565, 4.666294116829517, 3.280752576617963, 3.0779980270463563, 4.88759887136226, 3.785709935297792, 4.509087377108101, 4.51474306031006, 4.751957404577366, 4.81584964012725, 2.847452186405253, 9.700300054642142, 5.60505828580603, 4.900168916319347, 7.988709746800442, 3.123511403937696, 6.8564726261046784, 5.100915018271377, 3.142977310546163, 3.198088812810733, 3.211819684175171, 3.2118230794115936, 3.231264803144957, 3.236885131672369, 3.3000476732907993, 3.3562277948211476, 3.385863365703365, 3.4109275623934416, 3.4109388778849956, 14.356566304128116, 12.311711041126795, 6.660293507894384, 14.434959837608961, 15.559840638387907, 6.774416112603518, 17.861004464756437, 6.020390307870657, 16.11722101748819, 13.815512208988808, 13.823741522622704, 7.178950382171982, 14.707699735157407, 15.022415689409895, 33.92034831691692, 14.498380021765982, 36.7148851945628, 15.57339136022727, 18.73063629394561, 14.161019919696303, 15.167296568563366, 13.7573936244728, 13.067520479004111, 16.379121718455817, 3.746590154296209, 5.80279952120089, 3.5406857708874906, 3.7192582546608155, 5.597769649431612, 9.938199388181367, 3.8418357749394403, 7.603443418102488, 4.854279448997331, 4.860687228798748, 6.976007275886251, 4.865149457360969, 4.867731761325243, 3.355048452158631, 15.47466801781942, 3.5140755092609215, 4.553663401536902, 3.6561925193871274, 3.6343023318140943, 3.7742165841068025, 10.51252044943065, 3.142872972929769, 6.0094094910547025, 3.3000476732907993, 6.891660213420011, 3.6620125066626805, 3.7395385328492092, 3.7568081476817654, 3.7019224814727156, 6.307945234588484, 14.161019919696303, 7.394808465083497, 7.178950382171982, 21.11991578968671, 16.915789390477684, 33.92034831691692, 13.679667185406592, 41.906288856233004, 18.73063629394561, 24.43810280867899, 11.11944026920447, 15.336608300707177, 5.286539442623909, 5.008933184133745, 6.40969039449105, 4.9096166593622215, 3.245376404856635, 3.333688107113111, 3.27619062481026, 4.924397394054086, 6.0881331234162825, 5.1373293834790275, 3.3442452391823028, 6.955488918751108, 3.008420285257036, 6.660293507894384, 21.11991578968671, 12.311711041126795, 8.327432948913863, 3.7894368688460145, 3.6271663633071425, 3.243857054227895, 3.2476768072827715, 15.47466801781942, 3.357230254034969, 4.2124673685754175, 3.426142633344323, 4.2304131882913465, 3.519994739870085, 3.5312872301172398, 11.11944026920447, 6.774416112603518, 4.900168916319347, 14.161019919696303, 41.906288856233004, 33.92034831691692, 15.167296568563366, 35.779962535079285, 17.861004464756437, 13.679667185406592, 16.915789390477684, 18.73063629394561, 15.931120307469012, 8.826746090979006, 5.265851165599851, 5.2934391884904715, 10.511568143793207, 3.3722261856619045, 5.116834131934279, 3.519994739870085, 3.5379602593594335, 4.751089091665062, 3.506588074972194, 11.173423314226785, 5.199454507184935, 24.43810280867899, 9.963987724046646, 5.605159425397348, 5.634233207695578, 2.96632661765912, 6.8564726261046784, 5.903537903072823, 3.123511403937696, 3.1429259094632447, 3.2118230794115936, 3.211819684175171, 3.2286979735793846, 3.243857054227895, 3.2674561515041387, 3.2674468558315883, 3.280752576617963, 3.3732054179832245, 3.385863365703365, 9.201718636430618, 7.15038373795565, 41.906288856233004, 35.779962535079285, 36.7148851945628, 15.748970165731503, 15.336608300707177, 10.51252044943065, 7.993838019757414, 33.92034831691692, 4.3565593367854385, 3.1429259094632447, 7.993838019757414, 3.1505671913605684, 3.1893459917544416, 3.785709935297792, 4.034771562375357, 8.295833830211935, 6.425158886150083, 4.916762653254236, 2.7785386621082004, 5.375762279633564, 15.167296568563366, 6.686271722786352, 3.198088812810733, 3.211819684175171, 3.2118230794115936, 3.231264803144957, 3.236885131672369, 3.3032618702982153, 3.333688107113111, 3.357230254034969, 3.380849013529594, 3.3829890291643063, 3.3732054179832245, 3.6756588135264705, 3.985281578002146, 4.286459338959881, 4.341855827368371, 4.553663401536902, 4.57415375000696, 11.173423314226785, 14.161019919696303, 18.73063629394561, 15.47466801781942, 33.92034831691692, 6.8564726261046784, 13.679667185406592, 36.7148851945628, 15.009716148930432, 16.915789390477684, 21.11991578968671, 10.511568143793207, 6.981858040953745, 15.748970165731503, 6.774416112603518, 10.51252044943065, 8.48853547304325, 8.327432948913863, 4.472640975750341, 3.5181157532636966, 6.231034102712385, 5.043097665269203, 5.520029829152195, 3.142977310546163, 6.0094094910547025, 6.020390307870657, 3.231264803144957, 3.271901634324247, 3.2869047878413915, 15.931120307469012, 3.3732054179832245, 8.327432948913863, 3.5379602593594335, 4.468860277632154, 3.7395385328492092, 3.756926861629995, 3.7742165841068025, 4.231165000433787, 4.28238447595484, 4.392500010772632, 4.509087377108101, 4.553663401536902, 4.666294116829517, 5.022474757837068, 5.096712243758831, 5.199454507184935, 5.634233207695578, 5.745942235854845, 24.43810280867899, 35.779962535079285, 41.906288856233004, 15.748970165731503, 11.11944026920447, 6.955488918751108, 21.11991578968671, 9.963987724046646, 10.51252044943065, 7.3059070892664675, 8.48853547304325, 11.173423314226785], \"Category\": [\"Default\", \"Default\", \"Default\", \"Default\", \"Default\", \"Default\", \"Default\", \"Default\", \"Default\", \"Default\", \"Default\", \"Default\", \"Default\", \"Default\", \"Default\", \"Default\", \"Default\", \"Default\", \"Default\", \"Default\", \"Default\", \"Default\", \"Default\", \"Default\", \"Default\", \"Default\", \"Default\", \"Default\", \"Default\", \"Default\", \"Topic1\", \"Topic1\", \"Topic1\", \"Topic1\", \"Topic1\", \"Topic1\", \"Topic1\", \"Topic1\", \"Topic1\", \"Topic1\", \"Topic1\", \"Topic1\", \"Topic1\", \"Topic1\", \"Topic1\", \"Topic1\", \"Topic1\", \"Topic1\", \"Topic1\", \"Topic1\", \"Topic1\", \"Topic1\", \"Topic1\", \"Topic1\", \"Topic1\", \"Topic1\", \"Topic1\", \"Topic1\", \"Topic1\", \"Topic1\", \"Topic1\", \"Topic1\", \"Topic1\", \"Topic1\", \"Topic1\", \"Topic1\", \"Topic1\", \"Topic1\", \"Topic2\", \"Topic2\", \"Topic2\", \"Topic2\", \"Topic2\", \"Topic2\", \"Topic2\", \"Topic2\", \"Topic2\", \"Topic2\", \"Topic2\", \"Topic2\", \"Topic2\", \"Topic2\", \"Topic2\", \"Topic2\", \"Topic2\", \"Topic2\", \"Topic2\", \"Topic2\", \"Topic2\", \"Topic2\", \"Topic2\", \"Topic2\", \"Topic2\", \"Topic2\", \"Topic2\", \"Topic2\", \"Topic2\", \"Topic2\", \"Topic2\", \"Topic2\", \"Topic2\", \"Topic2\", \"Topic2\", \"Topic2\", \"Topic2\", \"Topic2\", \"Topic2\", \"Topic2\", \"Topic2\", \"Topic3\", \"Topic3\", \"Topic3\", \"Topic3\", \"Topic3\", \"Topic3\", \"Topic3\", \"Topic3\", \"Topic3\", \"Topic3\", \"Topic3\", \"Topic3\", \"Topic3\", \"Topic3\", \"Topic3\", \"Topic3\", \"Topic3\", \"Topic3\", \"Topic3\", \"Topic3\", \"Topic3\", \"Topic3\", \"Topic3\", \"Topic3\", \"Topic3\", \"Topic3\", \"Topic3\", \"Topic3\", \"Topic3\", \"Topic3\", \"Topic3\", \"Topic3\", \"Topic3\", \"Topic3\", \"Topic3\", \"Topic3\", \"Topic3\", \"Topic4\", \"Topic4\", \"Topic4\", \"Topic4\", \"Topic4\", \"Topic4\", \"Topic4\", \"Topic4\", \"Topic4\", \"Topic4\", \"Topic4\", \"Topic4\", \"Topic4\", \"Topic4\", \"Topic4\", \"Topic4\", \"Topic4\", \"Topic4\", \"Topic4\", \"Topic4\", \"Topic4\", \"Topic4\", \"Topic4\", \"Topic4\", \"Topic4\", \"Topic4\", \"Topic4\", \"Topic4\", \"Topic4\", \"Topic4\", \"Topic4\", \"Topic4\", \"Topic4\", \"Topic4\", \"Topic4\", \"Topic4\", \"Topic4\", \"Topic4\", \"Topic4\", \"Topic4\", \"Topic4\", \"Topic4\", \"Topic4\", \"Topic4\", \"Topic4\", \"Topic4\", \"Topic4\", \"Topic4\", \"Topic4\", \"Topic4\", \"Topic5\", \"Topic5\", \"Topic5\", \"Topic5\", \"Topic5\", \"Topic5\", \"Topic5\", \"Topic5\", \"Topic5\", \"Topic5\", \"Topic5\", \"Topic5\", \"Topic5\", \"Topic5\", \"Topic5\", \"Topic5\", \"Topic5\", \"Topic5\", \"Topic5\", \"Topic5\", \"Topic5\", \"Topic5\", \"Topic5\", \"Topic5\", \"Topic5\", \"Topic5\", \"Topic5\", \"Topic5\", \"Topic5\", \"Topic5\", \"Topic5\", \"Topic5\", \"Topic5\", \"Topic5\", \"Topic5\", \"Topic5\", \"Topic5\", \"Topic5\", \"Topic5\", \"Topic5\", \"Topic5\", \"Topic5\", \"Topic5\", \"Topic5\", \"Topic5\", \"Topic5\", \"Topic5\", \"Topic5\", \"Topic5\", \"Topic5\", \"Topic5\", \"Topic5\", \"Topic5\", \"Topic5\", \"Topic6\", \"Topic6\", \"Topic6\", \"Topic6\", \"Topic6\", \"Topic6\", \"Topic6\", \"Topic6\", \"Topic6\", \"Topic6\", \"Topic6\", \"Topic6\", \"Topic6\", \"Topic6\", \"Topic6\", \"Topic6\", \"Topic6\", \"Topic6\", \"Topic6\", \"Topic6\", \"Topic6\", \"Topic6\", \"Topic6\", \"Topic6\", \"Topic6\", \"Topic6\", \"Topic6\", \"Topic6\", \"Topic6\", \"Topic6\", \"Topic6\", \"Topic6\", \"Topic6\", \"Topic6\", \"Topic6\", \"Topic6\", \"Topic6\", \"Topic6\", \"Topic6\", \"Topic6\", \"Topic6\", \"Topic6\", \"Topic7\", \"Topic7\", \"Topic7\", \"Topic7\", \"Topic7\", \"Topic7\", \"Topic7\", \"Topic7\", \"Topic7\", \"Topic7\", \"Topic7\", \"Topic7\", \"Topic7\", \"Topic7\", \"Topic7\", \"Topic7\", \"Topic7\", \"Topic7\", \"Topic7\", \"Topic7\", \"Topic7\", \"Topic7\", \"Topic7\", \"Topic7\", \"Topic7\", \"Topic7\", \"Topic7\", \"Topic7\", \"Topic7\", \"Topic7\", \"Topic7\", \"Topic7\", \"Topic7\", \"Topic7\", \"Topic7\", \"Topic7\", \"Topic7\", \"Topic7\", \"Topic7\", \"Topic7\", \"Topic7\", \"Topic8\", \"Topic8\", \"Topic8\", \"Topic8\", \"Topic8\", \"Topic8\", \"Topic8\", \"Topic8\", \"Topic8\", \"Topic8\", \"Topic8\", \"Topic8\", \"Topic8\", \"Topic8\", \"Topic8\", \"Topic8\", \"Topic8\", \"Topic8\", \"Topic8\", \"Topic8\", \"Topic8\", \"Topic8\", \"Topic8\", \"Topic8\", \"Topic8\", \"Topic8\", \"Topic8\", \"Topic8\", \"Topic8\", \"Topic8\", \"Topic8\", \"Topic8\", \"Topic8\", \"Topic8\", \"Topic8\", \"Topic8\", \"Topic8\", \"Topic8\", \"Topic8\", \"Topic8\", \"Topic8\", \"Topic9\", \"Topic9\", \"Topic9\", \"Topic9\", \"Topic9\", \"Topic9\", \"Topic9\", \"Topic9\", \"Topic9\", \"Topic9\", \"Topic9\", \"Topic9\", \"Topic9\", \"Topic9\", \"Topic9\", \"Topic9\", \"Topic9\", \"Topic9\", \"Topic9\", \"Topic9\", \"Topic9\", \"Topic9\", \"Topic9\", \"Topic9\", \"Topic9\", \"Topic9\", \"Topic9\", \"Topic9\", \"Topic9\", \"Topic9\", \"Topic9\", \"Topic9\", \"Topic9\", \"Topic9\", \"Topic9\", \"Topic9\", \"Topic9\", \"Topic9\", \"Topic9\", \"Topic9\", \"Topic9\", \"Topic9\", \"Topic9\", \"Topic9\", \"Topic9\", \"Topic9\", \"Topic9\", \"Topic9\", \"Topic10\", \"Topic10\", \"Topic10\", \"Topic10\", \"Topic10\", \"Topic10\", \"Topic10\", \"Topic10\", \"Topic10\", \"Topic10\", \"Topic10\", \"Topic10\", \"Topic10\", \"Topic10\", \"Topic10\", \"Topic10\", \"Topic10\", \"Topic10\", \"Topic10\", \"Topic10\", \"Topic10\", \"Topic10\", \"Topic10\", \"Topic10\", \"Topic10\", \"Topic10\", \"Topic10\", \"Topic10\", \"Topic10\", \"Topic10\", \"Topic10\", \"Topic10\", \"Topic10\", \"Topic10\", \"Topic10\", \"Topic10\", \"Topic10\", \"Topic10\", \"Topic10\", \"Topic10\", \"Topic10\", \"Topic10\"], \"logprob\": [30.0, 29.0, 28.0, 27.0, 26.0, 25.0, 24.0, 23.0, 22.0, 21.0, 20.0, 19.0, 18.0, 17.0, 16.0, 15.0, 14.0, 13.0, 12.0, 11.0, 10.0, 9.0, 8.0, 7.0, 6.0, 5.0, 4.0, 3.0, 2.0, 1.0, -4.3334, -3.2736, -4.423, -4.6564, -3.55, -3.4379, -3.5376, -3.9545, -3.563, -3.5647, -3.7244, -3.54, -4.2669, -4.2669, -3.5076, -3.5683, -3.6165, -3.6163, -4.6564, -3.5756, -3.7128, -3.5656, -5.0972, -3.8287, -3.6325, -5.2604, -5.303, -5.303, -5.303, -5.303, -3.9873, -3.4711, -4.5398, -4.0593, -3.5774, -4.0812, -4.0844, -4.4891, -4.374, -3.7137, -4.374, -3.999, -4.7635, -4.7635, -4.4996, -4.7635, -4.7635, -4.4795, -3.6026, -4.9235, -4.7635, -4.9211, -4.4488, -4.2586, -4.7635, -4.7635, -4.8712, -4.3366, -2.7042, -4.8341, -4.7635, -4.7635, -4.8729, -4.7634, -4.4795, -2.8966, -5.4101, -4.7635, -4.5459, -2.97, -3.7493, -3.8371, -4.5037, -4.374, -4.5465, -4.374, -4.7592, -4.7635, -4.7635, -3.5953, -4.0931, -4.1986, -4.0931, -4.4826, -4.0931, -4.4826, -4.4826, -3.3876, -4.6425, -4.0931, -3.9926, -4.0931, -4.4826, -4.0931, -4.4826, -4.4826, -4.4826, -4.0931, -4.4826, -3.4684, -3.5558, -5.1292, -5.1292, -5.1292, -4.4826, -5.1292, -5.1292, -5.1292, -4.1986, -3.6581, -3.658, -2.9641, -3.8922, -3.5272, -4.6426, -4.0931, -4.606, -4.1705, -4.4391, -3.6309, -4.5051, -4.8286, -4.8286, -4.8286, -4.8286, -4.9008, -3.938, -4.8517, -4.9886, -4.4391, -4.8286, -3.961, -4.8286, -4.8287, -4.8287, -3.6104, -4.8286, -4.1466, -3.7824, -4.6907, -4.8286, -5.4132, -5.4753, -5.431, -5.4753, -5.2267, -4.1706, -3.9413, -3.9788, -4.0734, -3.9835, -3.4155, -3.9513, -4.2044, -4.1616, -4.2038, -4.2154, -4.22, -4.2015, -4.2081, -4.1953, -4.2444, -4.2432, -4.3941, -4.6176, -4.6041, -3.7282, -3.5483, -4.1633, -4.5527, -4.7127, -4.2688, -4.5528, -4.5527, -4.5527, -4.5527, -4.5527, -5.1994, -3.9803, -4.5527, -4.7127, -4.2242, -5.1994, -4.4149, -4.7127, -5.1994, -5.1994, -5.1994, -5.1994, -5.1994, -5.1994, -5.1994, -5.1994, -5.1994, -5.1994, -5.1994, -3.7856, -3.9389, -4.5623, -3.8529, -3.8037, -4.5528, -3.7368, -4.7127, -3.9723, -4.167, -4.2122, -4.6486, -4.1882, -4.1978, -3.7448, -4.2301, -3.8107, -4.2172, -4.2624, -4.3926, -4.4226, -4.4444, -4.4774, -4.5207, -4.2233, -3.833, -4.3768, -4.3279, -3.9369, -3.3799, -4.3768, -3.7133, -4.2132, -4.2175, -3.8585, -4.2199, -4.221, -4.5941, -3.0706, -4.573, -4.3163, -4.5941, -4.6026, -4.6101, -3.6265, -4.8635, -4.2168, -4.8635, -4.2168, -4.8747, -4.8635, -4.8635, -4.88, -4.37, -3.5731, -4.2291, -4.26, -3.4302, -3.63, -3.4774, -4.0467, -3.9391, -4.2231, -4.2169, -4.3768, -4.3408, -3.55, -3.7842, -3.5501, -3.8346, -4.3745, -4.3745, -4.5345, -4.1882, -4.0363, -4.233, -4.7037, -4.0443, -4.8964, -4.149, -2.9995, -3.5737, -3.9851, -4.796, -4.856, -5.0212, -5.0212, -3.4844, -5.0212, -4.7971, -5.0212, -4.8249, -5.0212, -5.0212, -3.878, -4.3745, -4.7037, -3.6968, -2.984, -3.297, -3.9304, -3.4947, -3.9821, -4.1391, -4.1534, -4.2951, -4.7148, -2.9782, -3.6591, -3.7878, -3.183, -4.3282, -3.9387, -4.3282, -4.3282, -4.1402, -4.4882, -3.3763, -4.3282, -2.7956, -3.7379, -4.3282, -4.3282, -4.9748, -4.1649, -4.3282, -4.9748, -4.9748, -4.9748, -4.9748, -4.9748, -4.9748, -4.9748, -4.9748, -4.9748, -4.9748, -4.9748, -3.998, -4.3282, -3.1234, -3.2797, -3.5023, -4.0322, -4.3282, -4.7262, -4.805, -4.7811, -4.9748, -4.1342, -3.355, -4.2942, -4.2942, -4.1342, -4.1342, -3.4651, -3.7768, -4.1342, -4.7808, -4.1342, -3.12, -4.0093, -4.7808, -4.7808, -4.7808, -4.7808, -4.7809, -4.7808, -4.7808, -4.781, -4.7808, -4.7808, -4.8219, -4.7808, -4.7809, -4.7808, -4.7808, -4.7808, -4.7808, -3.9857, -3.8609, -3.7447, -4.0746, -3.6559, -4.5276, -4.3108, -3.9857, -4.2921, -4.3326, -4.3884, -4.6457, -4.6933, -4.648, -4.7808, -4.7808, -4.7808, -4.7808, -3.3388, -3.9274, -3.3658, -3.8185, -3.7674, -4.414, -3.7674, -3.7673, -4.414, -4.414, -4.414, -2.8523, -4.414, -3.5528, -4.414, -4.2334, -4.414, -4.414, -4.414, -4.414, -4.414, -4.414, -4.414, -4.414, -4.414, -4.414, -4.414, -4.414, -4.414, -4.414, -3.3779, -3.5237, -3.5646, -4.3327, -4.4138, -4.4138, -4.4139, -4.414, -4.414, -4.414, -4.414, -4.414], \"loglift\": [30.0, 29.0, 28.0, 27.0, 26.0, 25.0, 24.0, 23.0, 22.0, 21.0, 20.0, 19.0, 18.0, 17.0, 16.0, 15.0, 14.0, 13.0, 12.0, 11.0, 10.0, 9.0, 8.0, 7.0, 6.0, 5.0, 4.0, 3.0, 2.0, 1.0, 1.5397, 1.2918, 1.2788, 1.2697, 1.2412, 1.2139, 1.2022, 1.1875, 1.172, 1.1708, 1.1645, 1.1474, 1.1358, 1.1358, 1.1091, 1.1047, 1.0807, 1.0755, 1.0708, 1.0402, 1.0313, 1.0159, 0.9789, 0.9167, 0.9006, 0.8969, 0.7595, 0.7566, 0.7348, 0.7347, 0.6438, 0.3663, 0.5495, 0.3719, 0.1808, 0.084, -0.3004, 0.1635, 1.7082, 1.7043, 1.5319, 1.4623, 1.3798, 1.3596, 1.3453, 1.3296, 1.3296, 1.303, 1.2354, 1.2271, 1.2153, 1.1972, 1.164, 1.1141, 1.1114, 1.1049, 1.0867, 1.0711, 1.054, 1.0303, 1.026, 1.0157, 0.9913, 0.9638, 0.8907, 0.8874, 0.8394, 0.8223, 0.8147, 0.656, 0.7294, 0.3281, 0.5052, 0.2191, 0.4168, -0.0628, 0.5235, 0.5199, 0.1892, 2.1154, 2.022, 1.9402, 1.7216, 1.6839, 1.6397, 1.6215, 1.5808, 1.5757, 1.5496, 1.5446, 1.5285, 1.4487, 1.4365, 1.4265, 1.3989, 1.3923, 1.2689, 1.2472, 1.2056, 1.1247, 1.0864, 1.0846, 1.0696, 1.0601, 1.06, 1.0524, 1.0524, 1.0249, 1.024, 0.9946, 0.9731, 0.6619, 0.5865, 0.2568, 0.7602, -0.3349, 1.7296, 1.7156, 1.7035, 1.5918, 1.5678, 1.5108, 1.4863, 1.4454, 1.3876, 1.3591, 1.3077, 1.3056, 1.2608, 1.249, 1.1887, 1.104, 1.101, 1.0266, 1.0253, 1.0054, 0.9539, 0.9426, 0.8222, 0.8128, 0.7964, 0.7702, 0.7472, 0.745, 0.7409, 0.7312, 0.7183, 0.7114, 0.7085, 0.6664, 0.598, 0.4219, 0.4799, 0.5869, 0.5355, 0.5311, 0.5287, 0.5156, 0.4902, 0.4649, 0.37, 0.4074, 0.3735, -0.6359, 0.4448, 0.2339, 1.9612, 1.846, 1.6577, 1.6206, 1.5244, 1.5059, 1.4774, 1.3025, 1.3013, 1.2501, 1.2367, 1.1156, 1.1089, 1.085, 1.0594, 1.0591, 1.023, 1.0213, 1.0192, 1.0168, 0.9994, 0.9951, 0.9951, 0.9891, 0.9874, 0.968, 0.9512, 0.9424, 0.935, 0.935, 0.9116, 0.9119, 0.9029, 0.8388, 0.813, 0.8954, 0.742, 0.8535, 0.6092, 0.5686, 0.5228, 0.7417, 0.4848, 0.4541, 0.0925, 0.4572, -0.0525, 0.3986, 0.1688, 0.3183, 0.2196, 0.2954, 0.3138, 0.0446, 1.8172, 1.77, 1.7203, 1.7199, 1.7021, 1.6851, 1.6386, 1.6195, 1.5683, 1.5627, 1.5604, 1.5594, 1.5577, 1.5568, 1.5515, 1.5316, 1.5292, 1.4708, 1.4684, 1.4231, 1.3823, 1.3528, 1.3512, 1.304, 1.2142, 1.1886, 1.1789, 1.1743, 1.1725, 1.1496, 1.1378, 1.1315, 1.1302, 0.8809, 0.9032, 0.3599, 0.6988, -0.3132, 0.2081, -0.0516, 0.5758, 0.2904, 2.1462, 1.9659, 1.9535, 1.9356, 1.8096, 1.7828, 1.6402, 1.579, 1.5188, 1.4919, 1.4505, 1.3775, 1.3635, 1.3162, 1.3117, 1.2771, 1.2567, 1.2332, 1.2169, 1.1634, 1.1622, 1.1378, 1.1291, 1.1262, 1.1088, 1.0942, 1.0817, 1.0785, 1.0746, 1.0737, 1.0684, 1.0141, 0.642, 0.5404, 0.7118, 0.2893, 0.4967, 0.6064, 0.3798, 0.1362, -0.1217, 2.2053, 2.041, 1.9072, 1.8259, 1.8176, 1.7901, 1.7747, 1.7697, 1.6628, 1.6185, 1.5715, 1.3847, 1.3697, 1.3245, 1.3095, 1.3044, 1.2992, 1.2713, 1.2577, 1.2476, 1.2414, 1.2197, 1.2197, 1.2145, 1.2098, 1.2026, 1.2026, 1.1985, 1.1707, 1.1669, 1.144, 1.066, 0.5026, 0.5042, 0.2559, 0.5724, 0.3029, 0.2826, 0.4777, -0.9438, 0.9149, 2.082, 1.9277, 1.9196, 1.9074, 1.8959, 1.8323, 1.7805, 1.7244, 1.6345, 1.5586, 1.5453, 1.5222, 1.452, 1.418, 1.4137, 1.4137, 1.4077, 1.4059, 1.3856, 1.3765, 1.3693, 1.3624, 1.3618, 1.3237, 1.2788, 1.1979, 1.1251, 1.1122, 1.0646, 1.0601, 0.9621, 0.85, 0.6865, 0.5476, 0.1815, 0.9086, 0.4346, -0.2275, 0.3606, 0.2005, -0.0773, 0.3632, 0.7248, -0.0434, 0.6674, 0.228, 0.4419, 0.461, 2.5246, 2.1761, 2.166, 1.9249, 1.8856, 1.8022, 1.8007, 1.7989, 1.7745, 1.762, 1.7574, 1.7408, 1.7315, 1.6891, 1.6838, 1.6308, 1.6284, 1.6238, 1.6192, 1.5049, 1.4929, 1.4675, 1.4413, 1.4314, 1.407, 1.3335, 1.3188, 1.2988, 1.2185, 1.1989, 0.7873, 0.2603, 0.0613, 0.2719, 0.5389, 1.008, -0.1028, 0.6484, 0.5948, 0.9587, 0.8087, 0.5338]}, \"token.table\": {\"Topic\": [3, 7, 9, 4, 7, 1, 2, 3, 4, 6, 7, 8, 10, 1, 3, 4, 5, 8, 2, 3, 4, 2, 9, 3, 4, 7, 1, 4, 5, 7, 3, 4, 1, 4, 5, 1, 4, 5, 3, 5, 7, 4, 5, 6, 8, 1, 2, 7, 2, 6, 9, 2, 9, 4, 6, 8, 2, 6, 2, 3, 4, 5, 6, 4, 5, 1, 2, 6, 2, 4, 6, 8, 2, 4, 5, 3, 4, 5, 8, 4, 5, 10, 4, 6, 1, 4, 6, 7, 9, 4, 6, 7, 9, 2, 4, 9, 2, 3, 5, 2, 5, 1, 2, 3, 4, 5, 6, 4, 8, 2, 4, 10, 2, 7, 9, 2, 5, 6, 1, 2, 7, 1, 2, 1, 4, 5, 2, 4, 8, 4, 5, 1, 2, 9, 4, 5, 6, 1, 3, 5, 6, 8, 2, 3, 4, 3, 7, 9, 2, 6, 9, 2, 8, 9, 2, 3, 7, 1, 4, 5, 1, 2, 4, 6, 1, 2, 4, 5, 2, 3, 6, 2, 8, 4, 1, 2, 3, 4, 5, 8, 9, 2, 3, 2, 3, 3, 7, 1, 4, 5, 4, 5, 10, 3, 4, 8, 10, 2, 3, 5, 2, 9, 2, 9, 7, 8, 4, 7, 1, 4, 5, 1, 3, 4, 5, 2, 5, 4, 7, 8, 9, 3, 4, 5, 1, 2, 8, 2, 3, 4, 2, 8, 2, 4, 7, 1, 3, 1, 4, 5, 6, 7, 8, 9, 2, 6, 10, 2, 5, 7, 8, 1, 2, 6, 6, 7, 8, 2, 3, 4, 5, 8, 9, 4, 7, 2, 5, 7, 10, 2, 5, 8, 9, 1, 4, 7, 2, 3, 4, 9, 2, 3, 1, 2, 3, 4, 5, 6, 7, 8, 9, 10, 1, 2, 3, 5, 7, 10, 4, 6, 9, 5, 9, 10, 1, 4, 5, 7, 1, 3, 4, 6, 7, 3, 4, 5, 8, 9, 3, 5, 8, 2, 3, 8, 10, 2, 3, 4, 5, 6, 7, 9, 10, 1, 2, 4, 2, 4, 8, 3, 6, 4, 7, 8, 2, 3, 4, 7, 10, 1, 3, 4, 5, 8, 1, 2, 3, 4, 6, 10, 2, 6, 8, 10, 3, 5, 7, 8, 1, 4, 5, 9, 2, 7, 10, 2, 3, 8, 2, 4, 5, 6, 7, 10, 1, 3, 7, 8, 2, 3, 7, 8, 8, 10, 3, 8, 3, 5, 6, 7, 9, 1, 2, 3, 7, 2, 5, 7, 9, 10, 2, 3, 9, 4, 5, 10, 2, 10, 1, 5, 10, 1, 7, 1, 5, 8, 9, 1, 2, 3, 6, 8, 10, 1, 2, 8, 9, 1, 2, 7, 8, 10, 3, 4, 8, 2, 5, 3, 4, 5, 6, 8, 9, 10, 1, 2, 4, 5, 10, 2, 3, 7, 1, 2, 10, 1, 2, 3, 2, 3, 5, 8, 8, 9, 10, 2, 4, 10, 3, 5, 9, 2, 8, 9, 10, 1, 4, 5, 3, 9, 1, 3, 4, 5, 6, 9, 2, 9, 4, 9, 1, 2, 3, 2, 3, 4, 5, 8, 1, 4, 5, 1, 4, 1, 2, 4, 5, 6, 4, 6, 4, 5, 6, 3, 2, 7, 8, 2, 4, 3, 5, 6, 2, 5, 9, 1, 4, 6, 2, 3, 4, 6, 10, 2, 5, 7, 2, 3, 4, 7, 4, 6, 8, 10, 1, 1, 3, 5, 6, 8, 5, 8, 5, 6, 2, 4, 7, 1, 2, 3, 4, 5, 6, 7, 9, 1, 2, 6, 2, 4, 5, 3, 5, 8, 10, 3, 9, 10, 1, 3, 4, 5, 2, 4, 5, 8, 2, 7, 8, 1, 2, 3, 4, 6, 7, 8, 10, 6, 9, 10, 5, 9, 3, 9, 1, 4, 6, 9, 4, 7, 3, 4, 7, 8, 9, 1, 4, 5, 6, 7, 9, 5, 8, 9, 1, 2, 3, 5, 8, 9, 10, 2, 10, 1, 2, 5, 7, 8, 3, 6, 7, 10, 4, 5, 2, 5, 7, 10, 1, 2, 3, 4, 5, 7, 8, 1, 2, 8, 2, 3, 5, 7, 9, 1, 2, 8, 9, 3, 1, 2, 1, 4, 5, 4, 5, 6, 1, 6, 10, 2, 4, 5, 6, 8, 10, 2, 7, 9, 1, 5, 6, 7, 8, 9, 1, 2, 4, 6, 7, 8, 9, 10, 5, 6, 3, 4, 5, 9, 2, 4, 7, 9, 10, 2, 4, 8, 9, 4, 7, 3, 7, 10, 1, 4, 5, 1, 2, 6, 5, 8, 9, 1, 2, 3, 4, 7, 2, 3, 7, 9, 1, 2, 5, 6, 7, 10, 1, 2, 7, 8, 9, 10, 2, 6, 10, 4, 5, 8, 3], \"Freq\": [0.47276705867300756, 0.23638352933650378, 0.23638352933650378, 0.1996433099103002, 0.5989299297309005, 0.047725533674942124, 0.2624904352121817, 0.1909021346997685, 0.023862766837471062, 0.07158830051241317, 0.16703936786229742, 0.14317660102482635, 0.047725533674942124, 0.4963634854494767, 0.06204543568118459, 0.18613630704355377, 0.18613630704355377, 0.06204543568118459, 0.30734095344996615, 0.30734095344996615, 0.30734095344996615, 0.31354390605012583, 0.31354390605012583, 0.2607845385548451, 0.2607845385548451, 0.2607845385548451, 0.16425396418382882, 0.16425396418382882, 0.16425396418382882, 0.4927618925514865, 0.6211888375917967, 0.31059441879589833, 0.30926878375935707, 0.30926878375935707, 0.30926878375935707, 0.5790592400037797, 0.14476481000094493, 0.14476481000094493, 0.2040745976469578, 0.2040745976469578, 0.2040745976469578, 0.14334847434243211, 0.14334847434243211, 0.43004542302729637, 0.14334847434243211, 0.26389145263806096, 0.26389145263806096, 0.26389145263806096, 0.17864257778123083, 0.5359277333436925, 0.17864257778123083, 0.7161417448867212, 0.14322834897734424, 0.28456986691510205, 0.5691397338302041, 0.28456986691510205, 0.2602922296999442, 0.5205844593998884, 0.17615432539806422, 0.17615432539806422, 0.17615432539806422, 0.17615432539806422, 0.17615432539806422, 0.3248864980461339, 0.3248864980461339, 0.20543449167538957, 0.20543449167538957, 0.41086898335077915, 0.2902058340173873, 0.14510291700869365, 0.2902058340173873, 0.14510291700869365, 0.4152953579230006, 0.2076476789615003, 0.4152953579230006, 0.21043959675159143, 0.21043959675159143, 0.42087919350318287, 0.21043959675159143, 0.3181696529098479, 0.3181696529098479, 0.3181696529098479, 0.3181802155585708, 0.3181802155585708, 0.06462174172967576, 0.06462174172967576, 0.45235219210773026, 0.32310870864837876, 0.12924348345935152, 0.28243116297477733, 0.5648623259495547, 0.5999361475155962, 0.2999680737577981, 0.5018465975000482, 0.2509232987500241, 0.2509232987500241, 0.29317538461541, 0.29317538461541, 0.29317538461541, 0.5769797703328914, 0.2884898851664457, 0.13929612920621015, 0.13929612920621015, 0.13929612920621015, 0.13929612920621015, 0.13929612920621015, 0.2785922584124203, 0.3371172931688659, 0.3371172931688659, 0.3056326600743094, 0.3056326600743094, 0.3056326600743094, 0.2978645860819721, 0.2978645860819721, 0.2978645860819721, 0.2751559745721103, 0.2751559745721103, 0.5503119491442205, 0.21948640065046487, 0.43897280130092975, 0.21948640065046487, 0.5853738319267433, 0.3902492212844955, 0.5787145243498595, 0.14467863108746487, 0.14467863108746487, 0.3060484834783967, 0.3060484834783967, 0.3060484834783967, 0.3511911472207873, 0.3511911472207873, 0.27206007160403123, 0.27206007160403123, 0.27206007160403123, 0.30186554755257156, 0.10062184918419052, 0.5031092459209526, 0.1315193584026906, 0.1315193584026906, 0.1315193584026906, 0.5260774336107624, 0.1315193584026906, 0.1876377792804491, 0.3752755585608982, 0.3752755585608982, 0.20307053228633415, 0.4061410645726683, 0.20307053228633415, 0.2735085733854151, 0.5470171467708302, 0.2735085733854151, 0.19543334300382673, 0.5863000290114802, 0.19543334300382673, 0.28318285509921537, 0.28318285509921537, 0.28318285509921537, 0.506278017162805, 0.16875933905426832, 0.08437966952713416, 0.2728517702821737, 0.2728517702821737, 0.2728517702821737, 0.2728517702821737, 0.5439327797042751, 0.06799159746303439, 0.13598319492606878, 0.13598319492606878, 0.27012991357997734, 0.27012991357997734, 0.27012991357997734, 0.2851774940824578, 0.5703549881649156, 0.7170312480351724, 0.2178952748348711, 0.40855364031538327, 0.08171072806307665, 0.05447381870871777, 0.08171072806307665, 0.10894763741743554, 0.05447381870871777, 0.4523126088558641, 0.4523126088558641, 0.5626062816191785, 0.28130314080958924, 0.29902113286539617, 0.29902113286539617, 0.5136967160814516, 0.2568483580407258, 0.1284241790203629, 0.2217743672648342, 0.4435487345296684, 0.2217743672648342, 0.17748644103586966, 0.17748644103586966, 0.3549728820717393, 0.17748644103586966, 0.29317441203169997, 0.29317441203169997, 0.29317441203169997, 0.5915673820381607, 0.29578369101908036, 0.699878329121852, 0.23329277637395068, 0.2840913336242394, 0.5681826672484788, 0.1560137757760456, 0.6240551031041824, 0.48493380506415706, 0.1385525157326163, 0.20782877359892446, 0.5991047103259552, 0.06656719003621725, 0.1331343800724345, 0.1331343800724345, 0.5797507944622976, 0.2898753972311488, 0.5513946148796052, 0.2756973074398026, 0.3181748564256744, 0.3181748564256744, 0.5352308302657709, 0.17841027675525697, 0.35682055351051395, 0.21047805686370344, 0.21047805686370344, 0.4209561137274069, 0.49145544649571227, 0.24572772324785613, 0.24572772324785613, 0.11329203193258348, 0.7930442235280845, 0.8347888482380565, 0.3052325442930888, 0.6104650885861777, 0.21296089705357427, 0.6388826911607228, 0.41381456332983624, 0.05911636618997661, 0.05911636618997661, 0.23646546475990643, 0.11823273237995321, 0.05911636618997661, 0.05911636618997661, 0.2674126743756496, 0.2674126743756496, 0.2674126743756496, 0.196043258203287, 0.196043258203287, 0.196043258203287, 0.196043258203287, 0.20554353134763423, 0.20554353134763423, 0.41108706269526846, 0.5169918397213815, 0.1723306132404605, 0.1723306132404605, 0.2503533190451712, 0.1251766595225856, 0.1251766595225856, 0.2503533190451712, 0.1251766595225856, 0.1251766595225856, 0.30813066814176676, 0.6162613362835335, 0.1991050325219854, 0.1991050325219854, 0.1991050325219854, 0.1991050325219854, 0.3387799033117056, 0.1693899516558528, 0.3387799033117056, 0.1693899516558528, 0.23888178608373212, 0.23888178608373212, 0.23888178608373212, 0.5626021011201096, 0.2813010505600548, 0.35990141639463663, 0.35990141639463663, 0.28440632768576213, 0.5688126553715243, 0.23584663474726764, 0.029480829343408455, 0.029480829343408455, 0.14740414671704227, 0.11792331737363382, 0.14740414671704227, 0.14740414671704227, 0.029480829343408455, 0.05896165868681691, 0.029480829343408455, 0.0627702246107054, 0.18831067383211622, 0.313851123053527, 0.0627702246107054, 0.0627702246107054, 0.313851123053527, 0.29805828865350725, 0.5961165773070145, 0.29805828865350725, 0.30947633849962103, 0.30947633849962103, 0.30947633849962103, 0.6105333467747607, 0.12210666935495214, 0.12210666935495214, 0.06105333467747607, 0.1622148297093145, 0.324429659418629, 0.1622148297093145, 0.1622148297093145, 0.756638637318981, 0.18602013035222317, 0.18602013035222317, 0.18602013035222317, 0.18602013035222317, 0.18602013035222317, 0.29534564511059774, 0.29534564511059774, 0.29534564511059774, 0.1604870048078693, 0.1604870048078693, 0.1604870048078693, 0.4814610144236079, 0.14204602091571603, 0.047348673638572016, 0.047348673638572016, 0.09469734727714403, 0.23674336819286007, 0.3314407154700041, 0.047348673638572016, 0.047348673638572016, 0.22382527582742942, 0.44765055165485884, 0.22382527582742942, 0.3060493541663107, 0.3060493541663107, 0.3060493541663107, 0.5461477797689636, 0.2730738898844818, 0.3082749897060494, 0.3082749897060494, 0.3082749897060494, 0.19829082567383108, 0.19829082567383108, 0.19829082567383108, 0.19829082567383108, 0.39658165134766216, 0.13250710047143363, 0.39752130141430086, 0.13250710047143363, 0.13250710047143363, 0.13250710047143363, 0.16038034946708185, 0.48114104840124555, 0.08019017473354093, 0.16038034946708185, 0.08019017473354093, 0.08019017473354093, 0.1811584413400873, 0.1811584413400873, 0.1811584413400873, 0.3623168826801746, 0.1501435332864399, 0.3002870665728798, 0.3002870665728798, 0.1501435332864399, 0.581505495762579, 0.21806456091096715, 0.14537637394064476, 0.07268818697032238, 0.44754140334405557, 0.22377070167202778, 0.22377070167202778, 0.3241992533983627, 0.486298880097544, 0.16209962669918135, 0.17986516871168806, 0.08993258435584403, 0.17986516871168806, 0.17986516871168806, 0.26979775306753206, 0.08993258435584403, 0.17840705751721064, 0.17840705751721064, 0.17840705751721064, 0.3568141150344213, 0.42529393036193214, 0.14176464345397738, 0.14176464345397738, 0.14176464345397738, 0.5652974746421009, 0.28264873732105045, 0.18990282264958142, 0.7596112905983257, 0.1476141977962561, 0.2952283955925122, 0.1476141977962561, 0.2952283955925122, 0.1476141977962561, 0.15876336896497, 0.15876336896497, 0.47629010689491, 0.15876336896497, 0.15563817451356352, 0.15563817451356352, 0.15563817451356352, 0.31127634902712703, 0.15563817451356352, 0.24784550613102826, 0.24784550613102826, 0.24784550613102826, 0.2143028225317789, 0.4286056450635578, 0.2143028225317789, 0.28424306365483193, 0.5684861273096639, 0.2661749980318052, 0.2661749980318052, 0.2661749980318052, 0.5707101694405623, 0.1902367231468541, 0.14584758877220563, 0.29169517754441127, 0.29169517754441127, 0.14584758877220563, 0.20459853365639705, 0.20459853365639705, 0.04091970673127941, 0.08183941346255882, 0.3682773605815147, 0.12275912019383824, 0.21861967363875306, 0.21861967363875306, 0.21861967363875306, 0.21861967363875306, 0.13687554300672097, 0.4106266290201629, 0.13687554300672097, 0.13687554300672097, 0.13687554300672097, 0.30972237359550375, 0.30972237359550375, 0.30972237359550375, 0.5959071082976295, 0.29795355414881475, 0.09512466632625283, 0.09512466632625283, 0.19024933265250565, 0.3804986653050113, 0.09512466632625283, 0.09512466632625283, 0.09512466632625283, 0.5110033277338987, 0.07300047539055694, 0.1460009507811139, 0.1460009507811139, 0.07300047539055694, 0.2373905629417807, 0.2373905629417807, 0.2373905629417807, 0.174035860256299, 0.522107580768897, 0.174035860256299, 0.5641839323258455, 0.14104598308146138, 0.28209196616292276, 0.2295389371966794, 0.2295389371966794, 0.2295389371966794, 0.2295389371966794, 0.29645392915261026, 0.29645392915261026, 0.29645392915261026, 0.3042375926735407, 0.3042375926735407, 0.3042375926735407, 0.31268675091018533, 0.31268675091018533, 0.31268675091018533, 0.25019271031722673, 0.12509635515861336, 0.3752890654758401, 0.12509635515861336, 0.6122048947888611, 0.15305122369721527, 0.15305122369721527, 0.31740316560846027, 0.31740316560846027, 0.19987053520754122, 0.2664940469433883, 0.19987053520754122, 0.06662351173584707, 0.13324702347169415, 0.06662351173584707, 0.5982407185709004, 0.2991203592854502, 0.5911931675681658, 0.2955965837840829, 0.5641818764324659, 0.14104546910811647, 0.28209093821623293, 0.3073367567135249, 0.3073367567135249, 0.3073367567135249, 0.5594105360761562, 0.2797052680380781, 0.5517857848938875, 0.2069196693352078, 0.13794644622347188, 0.29997397322245717, 0.29997397322245717, 0.13523000693280413, 0.27046001386560825, 0.13523000693280413, 0.13523000693280413, 0.27046001386560825, 0.45745849877809225, 0.22872924938904612, 0.3030259253808908, 0.3030259253808908, 0.3030259253808908, 0.7676117661127855, 0.44937418289528386, 0.22468709144764193, 0.22468709144764193, 0.32893077341558735, 0.32893077341558735, 0.4755906857830723, 0.15853022859435745, 0.3170604571887149, 0.3089389827940357, 0.3089389827940357, 0.3089389827940357, 0.26618340907748395, 0.26618340907748395, 0.26618340907748395, 0.23634152766377065, 0.23634152766377065, 0.23634152766377065, 0.23634152766377065, 0.23634152766377065, 0.29187342939773675, 0.29187342939773675, 0.29187342939773675, 0.19989901773379262, 0.39979803546758524, 0.19989901773379262, 0.19989901773379262, 0.19232786797502252, 0.19232786797502252, 0.38465573595004504, 0.19232786797502252, 0.903009187771111, 0.3260173241673942, 0.2608138593339153, 0.06520346483347883, 0.13040692966695766, 0.13040692966695766, 0.2965400139088591, 0.5930800278177182, 0.2688708155038287, 0.5377416310076574, 0.30791241226883914, 0.30791241226883914, 0.30791241226883914, 0.26694234630011865, 0.053388469260023726, 0.053388469260023726, 0.16016540778007118, 0.10677693852004745, 0.10677693852004745, 0.10677693852004745, 0.10677693852004745, 0.20600379737234817, 0.20600379737234817, 0.41200759474469634, 0.22149654734312227, 0.22149654734312227, 0.44299309468624454, 0.23351476393931928, 0.23351476393931928, 0.23351476393931928, 0.23351476393931928, 0.5886147493756675, 0.1962049164585558, 0.1962049164585558, 0.5141440832152924, 0.06426801040191155, 0.1285360208038231, 0.19280403120573464, 0.6186070737549341, 0.20620235791831137, 0.6096162247205319, 0.30480811236026595, 0.18891309872309495, 0.18891309872309495, 0.5667392961692849, 0.13974301943714768, 0.3353832466491544, 0.13974301943714768, 0.027948603887429535, 0.027948603887429535, 0.11179441554971814, 0.13974301943714768, 0.05589720777485907, 0.43920681518203175, 0.21960340759101588, 0.21960340759101588, 0.5283024939000446, 0.2641512469500223, 0.6054621397059997, 0.30273106985299986, 0.2303162610090872, 0.2303162610090872, 0.2303162610090872, 0.2303162610090872, 0.2036818899278185, 0.6110456697834555, 0.11781165200070934, 0.47124660800283735, 0.11781165200070934, 0.11781165200070934, 0.11781165200070934, 0.4386071619052818, 0.0731011936508803, 0.0731011936508803, 0.2193035809526409, 0.1462023873017606, 0.0731011936508803, 0.3113499817337381, 0.3113499817337381, 0.3113499817337381, 0.11780595170694234, 0.11780595170694234, 0.2356119034138847, 0.2356119034138847, 0.11780595170694234, 0.11780595170694234, 0.11780595170694234, 0.22358154956361942, 0.6707446486908583, 0.13653394537527858, 0.4096018361258357, 0.13653394537527858, 0.13653394537527858, 0.13653394537527858, 0.14377134543398207, 0.14377134543398207, 0.4313140363019462, 0.14377134543398207, 0.18788962006271803, 0.7515584802508721, 0.16610218754300143, 0.16610218754300143, 0.16610218754300143, 0.33220437508600287, 0.05598789261674576, 0.2799394630837288, 0.16796367785023728, 0.05598789261674576, 0.22395157046698305, 0.16796367785023728, 0.05598789261674576, 0.5433767535777989, 0.10867535071555978, 0.32602605214667935, 0.06593132767461402, 0.3296566383730701, 0.13186265534922803, 0.19779398302384205, 0.26372531069845606, 0.095133284236993, 0.190266568473986, 0.5707997054219579, 0.095133284236993, 0.8627270870178251, 0.714109528437688, 0.23803650947922936, 0.5531361777437843, 0.27656808887189216, 0.27656808887189216, 0.20459944163160884, 0.4091988832632177, 0.20459944163160884, 0.16640570117389214, 0.3328114023477843, 0.3328114023477843, 0.10036142433080726, 0.20072284866161452, 0.10036142433080726, 0.10036142433080726, 0.3010842729924218, 0.10036142433080726, 0.3893073328005278, 0.3893073328005278, 0.1946536664002639, 0.07061638255371129, 0.14123276510742258, 0.28246553021484516, 0.28246553021484516, 0.07061638255371129, 0.14123276510742258, 0.12699243054963935, 0.12699243054963935, 0.2539848610992787, 0.12699243054963935, 0.06349621527481968, 0.12699243054963935, 0.06349621527481968, 0.06349621527481968, 0.26690936526732223, 0.5338187305346445, 0.12054243376454575, 0.36162730129363724, 0.12054243376454575, 0.36162730129363724, 0.12008502573778498, 0.12008502573778498, 0.360255077213355, 0.12008502573778498, 0.24017005147556997, 0.41103368343484253, 0.20551684171742127, 0.20551684171742127, 0.20551684171742127, 0.3324003647032187, 0.3324003647032187, 0.4553215697427407, 0.22766078487137034, 0.22766078487137034, 0.4875817693251071, 0.13930907695003059, 0.2089636154250459, 0.20573222528599852, 0.20573222528599852, 0.41146445057199704, 0.31134965260390374, 0.31134965260390374, 0.31134965260390374, 0.09089325248590845, 0.1817865049718169, 0.45446626242954224, 0.09089325248590845, 0.09089325248590845, 0.20338585986820706, 0.20338585986820706, 0.20338585986820706, 0.20338585986820706, 0.08122347873983873, 0.08122347873983873, 0.2436704362195162, 0.16244695747967747, 0.32489391495935493, 0.08122347873983873, 0.08949808593815022, 0.17899617187630043, 0.08949808593815022, 0.4474904296907511, 0.17899617187630043, 0.08949808593815022, 0.264955647805426, 0.264955647805426, 0.264955647805426, 0.3201525048825936, 0.3201525048825936, 0.3201525048825936, 0.5889468878971269], \"Term\": [\"actual\", \"actual\", \"actual\", \"alert\", \"alert\", \"alien\", \"alien\", \"alien\", \"alien\", \"alien\", \"alien\", \"alien\", \"alien\", \"amazon\", \"amazon\", \"amazon\", \"amazon\", \"amazon\", \"american\", \"american\", \"american\", \"annual\", \"annual\", \"anti\", \"anti\", \"anti\", \"anybodi\", \"anybodi\", \"anybodi\", \"anybodi\", \"appar\", \"appar\", \"approv\", \"approv\", \"approv\", \"artist\", \"artist\", \"artist\", \"ask\", \"ask\", \"ask\", \"astrophys\", \"astrophys\", \"astrophys\", \"astrophys\", \"astrophysicist\", \"astrophysicist\", \"astrophysicist\", \"atmospher\", \"atmospher\", \"atmospher\", \"away\", \"away\", \"base\", \"base\", \"base\", \"beam\", \"beam\", \"bear\", \"bear\", \"bear\", \"bear\", \"bear\", \"believ\", \"believ\", \"bergdorf\", \"bergdorf\", \"bergdorf\", \"best\", \"best\", \"best\", \"best\", \"billion\", \"billion\", \"billion\", \"birthday\", \"birthday\", \"birthday\", \"birthday\", \"blow\", \"blow\", \"blow\", \"blue\", \"blue\", \"book\", \"book\", \"book\", \"book\", \"book\", \"bring\", \"bring\", \"buitengebieden\", \"buitengebieden\", \"caus\", \"caus\", \"caus\", \"celebr\", \"celebr\", \"celebr\", \"christian\", \"christian\", \"christma\", \"christma\", \"christma\", \"christma\", \"christma\", \"christma\", \"chucknicecom\", \"chucknicecom\", \"citi\", \"citi\", \"citi\", \"civil\", \"civil\", \"civil\", \"collag\", \"collag\", \"collag\", \"come\", \"come\", \"come\", \"common\", \"common\", \"conceiv\", \"conceiv\", \"conceiv\", \"congratul\", \"congratul\", \"congratul\", \"continu\", \"continu\", \"cool\", \"cool\", \"cool\", \"cosmic\", \"cosmic\", \"cosmic\", \"cours\", \"cours\", \"cours\", \"cours\", \"cours\", \"covid\", \"covid\", \"covid\", \"cultur\", \"cultur\", \"cultur\", \"curious\", \"curious\", \"curious\", \"day\", \"day\", \"day\", \"declar\", \"declar\", \"declar\", \"degrass\", \"degrass\", \"degrass\", \"deliv\", \"deliv\", \"deliv\", \"deliv\", \"design\", \"design\", \"design\", \"design\", \"discov\", \"discov\", \"discov\", \"distanc\", \"distanc\", \"earlier\", \"earth\", \"earth\", \"earth\", \"earth\", \"earth\", \"earth\", \"earth\", \"earthl\", \"earthl\", \"eat\", \"eat\", \"edit\", \"edit\", \"educ\", \"educ\", \"educ\", \"electr\", \"electr\", \"electr\", \"energi\", \"energi\", \"energi\", \"energi\", \"engin\", \"engin\", \"engin\", \"entir\", \"entir\", \"evid\", \"evid\", \"exact\", \"exact\", \"fact\", \"fact\", \"fan\", \"fan\", \"fan\", \"fee\", \"fee\", \"fee\", \"fee\", \"figur\", \"figur\", \"film\", \"film\", \"food\", \"food\", \"foot\", \"foot\", \"foot\", \"forc\", \"forc\", \"forc\", \"form\", \"form\", \"form\", \"friday\", \"friday\", \"galaxi\", \"geeki\", \"geeki\", \"get\", \"get\", \"gift\", \"gift\", \"gift\", \"gift\", \"gift\", \"gift\", \"gift\", \"godspe\", \"godspe\", \"godspe\", \"good\", \"good\", \"good\", \"good\", \"goodman\", \"goodman\", \"goodman\", \"happen\", \"happen\", \"happen\", \"happi\", \"happi\", \"happi\", \"happi\", \"happi\", \"happi\", \"hard\", \"hard\", \"head\", \"head\", \"head\", \"head\", \"help\", \"help\", \"help\", \"help\", \"high\", \"high\", \"high\", \"hollywood\", \"hollywood\", \"host\", \"host\", \"hour\", \"hour\", \"https\", \"https\", \"https\", \"https\", \"https\", \"https\", \"https\", \"https\", \"https\", \"https\", \"human\", \"human\", \"human\", \"human\", \"human\", \"human\", \"hurri\", \"hurri\", \"hurri\", \"ignor\", \"ignor\", \"ignor\", \"imag\", \"imag\", \"imag\", \"imag\", \"instead\", \"instead\", \"instead\", \"instead\", \"joke\", \"juli\", \"juli\", \"juli\", \"juli\", \"juli\", \"jupit\", \"jupit\", \"jupit\", \"kill\", \"kill\", \"kill\", \"kill\", \"know\", \"know\", \"know\", \"know\", \"know\", \"know\", \"know\", \"know\", \"land\", \"land\", \"land\", \"launch\", \"launch\", \"launch\", \"lead\", \"lead\", \"leader\", \"leader\", \"leader\", \"learn\", \"learn\", \"learn\", \"learn\", \"learn\", \"leav\", \"leav\", \"leav\", \"leav\", \"leav\", \"life\", \"life\", \"life\", \"life\", \"life\", \"life\", \"light\", \"light\", \"light\", \"light\", \"like\", \"like\", \"like\", \"like\", \"link\", \"link\", \"link\", \"link\", \"live\", \"live\", \"live\", \"long\", \"long\", \"long\", \"look\", \"look\", \"look\", \"look\", \"look\", \"look\", \"lose\", \"lose\", \"lose\", \"lose\", \"mar\", \"mar\", \"mar\", \"mar\", \"march\", \"march\", \"math\", \"math\", \"mayb\", \"mayb\", \"mayb\", \"mayb\", \"mayb\", \"mean\", \"mean\", \"mean\", \"mean\", \"mile\", \"mile\", \"mile\", \"mile\", \"mile\", \"million\", \"million\", \"million\", \"min\", \"min\", \"min\", \"mirror\", \"mirror\", \"model\", \"model\", \"model\", \"moment\", \"moment\", \"month\", \"month\", \"month\", \"month\", \"moon\", \"moon\", \"moon\", \"moon\", \"moon\", \"moon\", \"move\", \"move\", \"move\", \"move\", \"nasa\", \"nasa\", \"nasa\", \"nasa\", \"nasa\", \"nation\", \"nation\", \"nation\", \"near\", \"near\", \"need\", \"need\", \"need\", \"need\", \"need\", \"need\", \"need\", \"neil\", \"neil\", \"neil\", \"neil\", \"neil\", \"news\", \"news\", \"news\", \"night\", \"night\", \"night\", \"north\", \"north\", \"north\", \"note\", \"note\", \"note\", \"note\", \"oblig\", \"oblig\", \"oblig\", \"occasion\", \"occasion\", \"occasion\", \"olymp\", \"olymp\", \"olymp\", \"orbit\", \"orbit\", \"orbit\", \"orbit\", \"organ\", \"organ\", \"organ\", \"oval\", \"oval\", \"peopl\", \"peopl\", \"peopl\", \"peopl\", \"peopl\", \"peopl\", \"planet\", \"planet\", \"podcast\", \"podcast\", \"pole\", \"pole\", \"pole\", \"polit\", \"polit\", \"polit\", \"post\", \"post\", \"proceed\", \"proceed\", \"proceed\", \"program\", \"program\", \"psychedel\", \"psychedel\", \"psychedel\", \"psychedel\", \"psychedel\", \"queri\", \"queri\", \"reach\", \"reach\", \"reach\", \"reason\", \"receiv\", \"receiv\", \"receiv\", \"recent\", \"recent\", \"reindeer\", \"reindeer\", \"reindeer\", \"remain\", \"remain\", \"remain\", \"remind\", \"remind\", \"remind\", \"requir\", \"requir\", \"requir\", \"requir\", \"requir\", \"return\", \"return\", \"return\", \"right\", \"right\", \"right\", \"right\", \"rocket\", \"rocket\", \"rocket\", \"rocket\", \"sanction\", \"santa\", \"santa\", \"santa\", \"santa\", \"santa\", \"saturday\", \"saturday\", \"sayin\", \"sayin\", \"scene\", \"scene\", \"scene\", \"scienc\", \"scienc\", \"scienc\", \"scienc\", \"scienc\", \"scienc\", \"scienc\", \"scienc\", \"sciencey\", \"sciencey\", \"sciencey\", \"scientist\", \"scientist\", \"scientist\", \"second\", \"second\", \"second\", \"second\", \"sens\", \"sens\", \"sens\", \"shirt\", \"shirt\", \"shirt\", \"shirt\", \"sign\", \"sign\", \"size\", \"size\", \"solar\", \"solar\", \"solar\", \"space\", \"space\", \"space\", \"space\", \"space\", \"space\", \"space\", \"space\", \"speed\", \"speed\", \"speed\", \"spend\", \"spend\", \"sport\", \"sport\", \"star\", \"star\", \"star\", \"star\", \"startalk\", \"startalk\", \"startalkradio\", \"startalkradio\", \"startalkradio\", \"startalkradio\", \"startalkradio\", \"suggest\", \"suggest\", \"suggest\", \"suggest\", \"suggest\", \"suggest\", \"summer\", \"summer\", \"summer\", \"sure\", \"sure\", \"sure\", \"sure\", \"sure\", \"sure\", \"sure\", \"surpris\", \"surpris\", \"telescop\", \"telescop\", \"telescop\", \"telescop\", \"telescop\", \"tell\", \"tell\", \"tell\", \"tell\", \"thank\", \"thank\", \"thing\", \"thing\", \"thing\", \"thing\", \"think\", \"think\", \"think\", \"think\", \"think\", \"think\", \"think\", \"tide\", \"tide\", \"tide\", \"time\", \"time\", \"time\", \"time\", \"time\", \"today\", \"today\", \"today\", \"today\", \"track\", \"tree\", \"tree\", \"tri\", \"tri\", \"tri\", \"true\", \"true\", \"true\", \"turn\", \"turn\", \"turn\", \"tweet\", \"tweet\", \"tweet\", \"tweet\", \"tweet\", \"tweet\", \"twitter\", \"twitter\", \"twitter\", \"tyson\", \"tyson\", \"tyson\", \"tyson\", \"tyson\", \"tyson\", \"univers\", \"univers\", \"univers\", \"univers\", \"univers\", \"univers\", \"univers\", \"univers\", \"urg\", \"urg\", \"vaccin\", \"vaccin\", \"vaccin\", \"vaccin\", \"video\", \"video\", \"video\", \"video\", \"video\", \"want\", \"want\", \"want\", \"want\", \"warn\", \"warn\", \"watch\", \"watch\", \"watch\", \"week\", \"week\", \"week\", \"window\", \"window\", \"window\", \"winter\", \"winter\", \"winter\", \"wonder\", \"wonder\", \"wonder\", \"wonder\", \"wonder\", \"work\", \"work\", \"work\", \"work\", \"world\", \"world\", \"world\", \"world\", \"world\", \"world\", \"year\", \"year\", \"year\", \"year\", \"year\", \"year\", \"york\", \"york\", \"york\", \"zillion\", \"zillion\", \"zillion\", \"zone\"]}, \"R\": 30, \"lambda.step\": 0.01, \"plot.opts\": {\"xlab\": \"PC1\", \"ylab\": \"PC2\"}, \"topic.order\": [1, 4, 6, 7, 3, 8, 10, 9, 2, 5]};\n",
              "\n",
              "function LDAvis_load_lib(url, callback){\n",
              "  var s = document.createElement('script');\n",
              "  s.src = url;\n",
              "  s.async = true;\n",
              "  s.onreadystatechange = s.onload = callback;\n",
              "  s.onerror = function(){console.warn(\"failed to load library \" + url);};\n",
              "  document.getElementsByTagName(\"head\")[0].appendChild(s);\n",
              "}\n",
              "\n",
              "if(typeof(LDAvis) !== \"undefined\"){\n",
              "   // already loaded: just create the visualization\n",
              "   !function(LDAvis){\n",
              "       new LDAvis(\"#\" + \"ldavis_el2591401462755751524324443672\", ldavis_el2591401462755751524324443672_data);\n",
              "   }(LDAvis);\n",
              "}else if(typeof define === \"function\" && define.amd){\n",
              "   // require.js is available: use it to load d3/LDAvis\n",
              "   require.config({paths: {d3: \"https://d3js.org/d3.v5\"}});\n",
              "   require([\"d3\"], function(d3){\n",
              "      window.d3 = d3;\n",
              "      LDAvis_load_lib(\"https://cdn.jsdelivr.net/gh/bmabey/pyLDAvis@3.4.0/pyLDAvis/js/ldavis.v3.0.0.js\", function(){\n",
              "        new LDAvis(\"#\" + \"ldavis_el2591401462755751524324443672\", ldavis_el2591401462755751524324443672_data);\n",
              "      });\n",
              "    });\n",
              "}else{\n",
              "    // require.js not available: dynamically load d3 & LDAvis\n",
              "    LDAvis_load_lib(\"https://d3js.org/d3.v5.js\", function(){\n",
              "         LDAvis_load_lib(\"https://cdn.jsdelivr.net/gh/bmabey/pyLDAvis@3.4.0/pyLDAvis/js/ldavis.v3.0.0.js\", function(){\n",
              "                 new LDAvis(\"#\" + \"ldavis_el2591401462755751524324443672\", ldavis_el2591401462755751524324443672_data);\n",
              "            })\n",
              "         });\n",
              "}\n",
              "</script>"
            ]
          },
          "metadata": {},
          "execution_count": 214
        }
      ]
    },
    {
      "cell_type": "code",
      "source": [
        "pyLDAvis.save_html(vis, 'neiltyson.html')"
      ],
      "metadata": {
        "colab": {
          "base_uri": "https://localhost:8080/"
        },
        "id": "4Q5HlIJS0z6i",
        "outputId": "de619a08-0436-43b6-8687-61ac6e467214"
      },
      "execution_count": null,
      "outputs": [
        {
          "output_type": "stream",
          "name": "stderr",
          "text": [
            "/usr/local/lib/python3.10/dist-packages/ipykernel/ipkernel.py:283: DeprecationWarning: `should_run_async` will not call `transform_cell` automatically in the future. Please pass the result to `transformed_cell` argument and any exception that happen during thetransform in `preprocessing_exc_tuple` in IPython 7.17 and above.\n",
            "  and should_run_async(code)\n"
          ]
        }
      ]
    },
    {
      "cell_type": "code",
      "source": [],
      "metadata": {
        "id": "pUb949o60z-G"
      },
      "execution_count": null,
      "outputs": []
    },
    {
      "cell_type": "code",
      "source": [],
      "metadata": {
        "id": "KDfF-4ZQ00CA"
      },
      "execution_count": null,
      "outputs": []
    },
    {
      "cell_type": "markdown",
      "source": [
        "@StephenKing"
      ],
      "metadata": {
        "id": "62IqAaSl2Zml"
      }
    },
    {
      "cell_type": "code",
      "source": [
        "StephenKing = pd.read_excel('https://drive.google.com/uc?export=download&id=1Oq2pUCv0d7x4tDKX1E-3hgdSAuXcZtVU')"
      ],
      "metadata": {
        "colab": {
          "base_uri": "https://localhost:8080/"
        },
        "id": "QBLhvO1300Fr",
        "outputId": "87bf88ea-1c87-4230-b0ce-d81779e92819"
      },
      "execution_count": null,
      "outputs": [
        {
          "output_type": "stream",
          "name": "stderr",
          "text": [
            "/usr/local/lib/python3.10/dist-packages/ipykernel/ipkernel.py:283: DeprecationWarning: `should_run_async` will not call `transform_cell` automatically in the future. Please pass the result to `transformed_cell` argument and any exception that happen during thetransform in `preprocessing_exc_tuple` in IPython 7.17 and above.\n",
            "  and should_run_async(code)\n"
          ]
        }
      ]
    },
    {
      "cell_type": "code",
      "source": [
        "StephenKing.head()"
      ],
      "metadata": {
        "colab": {
          "base_uri": "https://localhost:8080/",
          "height": 262
        },
        "id": "12NqmG7_00LY",
        "outputId": "881f725f-62b8-4765-ddae-625bf2987f6c"
      },
      "execution_count": null,
      "outputs": [
        {
          "output_type": "stream",
          "name": "stderr",
          "text": [
            "/usr/local/lib/python3.10/dist-packages/ipykernel/ipkernel.py:283: DeprecationWarning: `should_run_async` will not call `transform_cell` automatically in the future. Please pass the result to `transformed_cell` argument and any exception that happen during thetransform in `preprocessing_exc_tuple` in IPython 7.17 and above.\n",
            "  and should_run_async(code)\n"
          ]
        },
        {
          "output_type": "execute_result",
          "data": {
            "text/plain": [
              "   tweet-id                                         tweet-text tweet-author  \\\n",
              "0         1  What kind of dinosaur writes romance novels? A...  StephenKing   \n",
              "1         2  Molly, aka the Thing of Evil, fools my friend ...  StephenKing   \n",
              "2         3  Two questions (and a codicil) about MANIFEST: ...  StephenKing   \n",
              "3         4  What most of us learned as kids on the playgro...  StephenKing   \n",
              "4         5  I need baseball! Come on you guys, stop being ...  StephenKing   \n",
              "\n",
              "  tweet-timestamp-date  \n",
              "0           2022-03-05  \n",
              "1           2022-02-25  \n",
              "2           2022-02-25  \n",
              "3           2022-02-23  \n",
              "4           2022-02-16  "
            ],
            "text/html": [
              "\n",
              "  <div id=\"df-284397a0-df3f-4e1a-afce-65672f0b7742\">\n",
              "    <div class=\"colab-df-container\">\n",
              "      <div>\n",
              "<style scoped>\n",
              "    .dataframe tbody tr th:only-of-type {\n",
              "        vertical-align: middle;\n",
              "    }\n",
              "\n",
              "    .dataframe tbody tr th {\n",
              "        vertical-align: top;\n",
              "    }\n",
              "\n",
              "    .dataframe thead th {\n",
              "        text-align: right;\n",
              "    }\n",
              "</style>\n",
              "<table border=\"1\" class=\"dataframe\">\n",
              "  <thead>\n",
              "    <tr style=\"text-align: right;\">\n",
              "      <th></th>\n",
              "      <th>tweet-id</th>\n",
              "      <th>tweet-text</th>\n",
              "      <th>tweet-author</th>\n",
              "      <th>tweet-timestamp-date</th>\n",
              "    </tr>\n",
              "  </thead>\n",
              "  <tbody>\n",
              "    <tr>\n",
              "      <th>0</th>\n",
              "      <td>1</td>\n",
              "      <td>What kind of dinosaur writes romance novels? A...</td>\n",
              "      <td>StephenKing</td>\n",
              "      <td>2022-03-05</td>\n",
              "    </tr>\n",
              "    <tr>\n",
              "      <th>1</th>\n",
              "      <td>2</td>\n",
              "      <td>Molly, aka the Thing of Evil, fools my friend ...</td>\n",
              "      <td>StephenKing</td>\n",
              "      <td>2022-02-25</td>\n",
              "    </tr>\n",
              "    <tr>\n",
              "      <th>2</th>\n",
              "      <td>3</td>\n",
              "      <td>Two questions (and a codicil) about MANIFEST: ...</td>\n",
              "      <td>StephenKing</td>\n",
              "      <td>2022-02-25</td>\n",
              "    </tr>\n",
              "    <tr>\n",
              "      <th>3</th>\n",
              "      <td>4</td>\n",
              "      <td>What most of us learned as kids on the playgro...</td>\n",
              "      <td>StephenKing</td>\n",
              "      <td>2022-02-23</td>\n",
              "    </tr>\n",
              "    <tr>\n",
              "      <th>4</th>\n",
              "      <td>5</td>\n",
              "      <td>I need baseball! Come on you guys, stop being ...</td>\n",
              "      <td>StephenKing</td>\n",
              "      <td>2022-02-16</td>\n",
              "    </tr>\n",
              "  </tbody>\n",
              "</table>\n",
              "</div>\n",
              "      <button class=\"colab-df-convert\" onclick=\"convertToInteractive('df-284397a0-df3f-4e1a-afce-65672f0b7742')\"\n",
              "              title=\"Convert this dataframe to an interactive table.\"\n",
              "              style=\"display:none;\">\n",
              "        \n",
              "  <svg xmlns=\"http://www.w3.org/2000/svg\" height=\"24px\"viewBox=\"0 0 24 24\"\n",
              "       width=\"24px\">\n",
              "    <path d=\"M0 0h24v24H0V0z\" fill=\"none\"/>\n",
              "    <path d=\"M18.56 5.44l.94 2.06.94-2.06 2.06-.94-2.06-.94-.94-2.06-.94 2.06-2.06.94zm-11 1L8.5 8.5l.94-2.06 2.06-.94-2.06-.94L8.5 2.5l-.94 2.06-2.06.94zm10 10l.94 2.06.94-2.06 2.06-.94-2.06-.94-.94-2.06-.94 2.06-2.06.94z\"/><path d=\"M17.41 7.96l-1.37-1.37c-.4-.4-.92-.59-1.43-.59-.52 0-1.04.2-1.43.59L10.3 9.45l-7.72 7.72c-.78.78-.78 2.05 0 2.83L4 21.41c.39.39.9.59 1.41.59.51 0 1.02-.2 1.41-.59l7.78-7.78 2.81-2.81c.8-.78.8-2.07 0-2.86zM5.41 20L4 18.59l7.72-7.72 1.47 1.35L5.41 20z\"/>\n",
              "  </svg>\n",
              "      </button>\n",
              "      \n",
              "  <style>\n",
              "    .colab-df-container {\n",
              "      display:flex;\n",
              "      flex-wrap:wrap;\n",
              "      gap: 12px;\n",
              "    }\n",
              "\n",
              "    .colab-df-convert {\n",
              "      background-color: #E8F0FE;\n",
              "      border: none;\n",
              "      border-radius: 50%;\n",
              "      cursor: pointer;\n",
              "      display: none;\n",
              "      fill: #1967D2;\n",
              "      height: 32px;\n",
              "      padding: 0 0 0 0;\n",
              "      width: 32px;\n",
              "    }\n",
              "\n",
              "    .colab-df-convert:hover {\n",
              "      background-color: #E2EBFA;\n",
              "      box-shadow: 0px 1px 2px rgba(60, 64, 67, 0.3), 0px 1px 3px 1px rgba(60, 64, 67, 0.15);\n",
              "      fill: #174EA6;\n",
              "    }\n",
              "\n",
              "    [theme=dark] .colab-df-convert {\n",
              "      background-color: #3B4455;\n",
              "      fill: #D2E3FC;\n",
              "    }\n",
              "\n",
              "    [theme=dark] .colab-df-convert:hover {\n",
              "      background-color: #434B5C;\n",
              "      box-shadow: 0px 1px 3px 1px rgba(0, 0, 0, 0.15);\n",
              "      filter: drop-shadow(0px 1px 2px rgba(0, 0, 0, 0.3));\n",
              "      fill: #FFFFFF;\n",
              "    }\n",
              "  </style>\n",
              "\n",
              "      <script>\n",
              "        const buttonEl =\n",
              "          document.querySelector('#df-284397a0-df3f-4e1a-afce-65672f0b7742 button.colab-df-convert');\n",
              "        buttonEl.style.display =\n",
              "          google.colab.kernel.accessAllowed ? 'block' : 'none';\n",
              "\n",
              "        async function convertToInteractive(key) {\n",
              "          const element = document.querySelector('#df-284397a0-df3f-4e1a-afce-65672f0b7742');\n",
              "          const dataTable =\n",
              "            await google.colab.kernel.invokeFunction('convertToInteractive',\n",
              "                                                     [key], {});\n",
              "          if (!dataTable) return;\n",
              "\n",
              "          const docLinkHtml = 'Like what you see? Visit the ' +\n",
              "            '<a target=\"_blank\" href=https://colab.research.google.com/notebooks/data_table.ipynb>data table notebook</a>'\n",
              "            + ' to learn more about interactive tables.';\n",
              "          element.innerHTML = '';\n",
              "          dataTable['output_type'] = 'display_data';\n",
              "          await google.colab.output.renderOutput(dataTable, element);\n",
              "          const docLink = document.createElement('div');\n",
              "          docLink.innerHTML = docLinkHtml;\n",
              "          element.appendChild(docLink);\n",
              "        }\n",
              "      </script>\n",
              "    </div>\n",
              "  </div>\n",
              "  "
            ]
          },
          "metadata": {},
          "execution_count": 221
        }
      ]
    },
    {
      "cell_type": "code",
      "source": [
        "def lemmatize_stemming(text):\n",
        "    stemmer = SnowballStemmer(\"english\")\n",
        "    return stemmer.stem(WordNetLemmatizer().lemmatize(text, pos='v'))\n",
        "\n",
        "def preprocess(text):\n",
        "    result = []\n",
        "    for token in gensim.utils.simple_preprocess(text):\n",
        "        if token not in gensim.parsing.preprocessing.STOPWORDS and len(token) > 3:\n",
        "            result.append(lemmatize_stemming(token))\n",
        "    return result\n",
        "\n",
        "processed_docs6 = StephenKing['tweet-text'].map(preprocess)"
      ],
      "metadata": {
        "colab": {
          "base_uri": "https://localhost:8080/"
        },
        "id": "U_Ki0XF02XiJ",
        "outputId": "343273a6-617f-43cc-a835-8c080eaf10bc"
      },
      "execution_count": null,
      "outputs": [
        {
          "output_type": "stream",
          "name": "stderr",
          "text": [
            "/usr/local/lib/python3.10/dist-packages/ipykernel/ipkernel.py:283: DeprecationWarning: `should_run_async` will not call `transform_cell` automatically in the future. Please pass the result to `transformed_cell` argument and any exception that happen during thetransform in `preprocessing_exc_tuple` in IPython 7.17 and above.\n",
            "  and should_run_async(code)\n"
          ]
        }
      ]
    },
    {
      "cell_type": "code",
      "source": [
        "dictionary = gensim.corpora.Dictionary(processed_docs6)\n",
        "\n",
        "dictionary.filter_extremes(no_below=3, no_above=0.9)\n",
        "\n",
        "#dictionary.filter_extremes(no_below=1, no_above=1.0)\n",
        "\n",
        "bow_corpus = [dictionary.doc2bow(doc) for doc in processed_docs6]"
      ],
      "metadata": {
        "colab": {
          "base_uri": "https://localhost:8080/"
        },
        "id": "uKV9rk3sEQZs",
        "outputId": "8f7744f0-7cfd-41e6-f087-b5fdb108a2ed"
      },
      "execution_count": null,
      "outputs": [
        {
          "output_type": "stream",
          "name": "stderr",
          "text": [
            "/usr/local/lib/python3.10/dist-packages/ipykernel/ipkernel.py:283: DeprecationWarning: `should_run_async` will not call `transform_cell` automatically in the future. Please pass the result to `transformed_cell` argument and any exception that happen during thetransform in `preprocessing_exc_tuple` in IPython 7.17 and above.\n",
            "  and should_run_async(code)\n"
          ]
        }
      ]
    },
    {
      "cell_type": "code",
      "source": [
        "lda_model6 = gensim.models.LdaMulticore(bow_corpus, num_topics=10, id2word=dictionary, passes=2, workers=2)"
      ],
      "metadata": {
        "colab": {
          "base_uri": "https://localhost:8080/"
        },
        "id": "lEG82xbn2Xnb",
        "outputId": "c9cb8440-706d-40d5-879f-f8972a44b051"
      },
      "execution_count": null,
      "outputs": [
        {
          "output_type": "stream",
          "name": "stderr",
          "text": [
            "/usr/local/lib/python3.10/dist-packages/ipykernel/ipkernel.py:283: DeprecationWarning: `should_run_async` will not call `transform_cell` automatically in the future. Please pass the result to `transformed_cell` argument and any exception that happen during thetransform in `preprocessing_exc_tuple` in IPython 7.17 and above.\n",
            "  and should_run_async(code)\n",
            "WARNING:gensim.models.ldamulticore:too few updates, training might not converge; consider increasing the number of passes or iterations to improve accuracy\n"
          ]
        }
      ]
    },
    {
      "cell_type": "code",
      "source": [
        "for idx, topic in lda_model6.print_topics(-1):\n",
        "    print('Topic: {} \\nWords: {}'.format(idx, topic))"
      ],
      "metadata": {
        "colab": {
          "base_uri": "https://localhost:8080/"
        },
        "id": "GjRzfpC_2Xsb",
        "outputId": "b0f88da3-af34-40a0-ad50-2dad86578ccf"
      },
      "execution_count": null,
      "outputs": [
        {
          "output_type": "stream",
          "name": "stdout",
          "text": [
            "Topic: 0 \n",
            "Words: 0.112*\"time\" + 0.082*\"thank\" + 0.082*\"movi\" + 0.062*\"fight\" + 0.041*\"like\" + 0.032*\"ladi\" + 0.032*\"write\" + 0.032*\"rememb\" + 0.032*\"novel\" + 0.032*\"night\"\n",
            "Topic: 1 \n",
            "Words: 0.070*\"know\" + 0.070*\"say\" + 0.063*\"friend\" + 0.047*\"best\" + 0.047*\"children\" + 0.047*\"guess\" + 0.047*\"like\" + 0.047*\"love\" + 0.044*\"good\" + 0.041*\"get\"\n",
            "Topic: 2 \n",
            "Words: 0.114*\"invas\" + 0.114*\"ozark\" + 0.097*\"fli\" + 0.059*\"think\" + 0.059*\"like\" + 0.059*\"make\" + 0.059*\"episod\" + 0.059*\"children\" + 0.059*\"continu\" + 0.005*\"molli\"\n",
            "Topic: 3 \n",
            "Words: 0.089*\"like\" + 0.057*\"america\" + 0.052*\"want\" + 0.040*\"time\" + 0.039*\"movi\" + 0.039*\"need\" + 0.039*\"know\" + 0.039*\"talk\" + 0.039*\"mayb\" + 0.039*\"rememb\"\n",
            "Topic: 4 \n",
            "Words: 0.114*\"year\" + 0.100*\"actual\" + 0.081*\"fight\" + 0.078*\"day\" + 0.065*\"know\" + 0.055*\"answer\" + 0.055*\"wait\" + 0.034*\"go\" + 0.034*\"final\" + 0.034*\"think\"\n",
            "Topic: 5 \n",
            "Words: 0.105*\"write\" + 0.056*\"perfect\" + 0.038*\"time\" + 0.038*\"season\" + 0.038*\"good\" + 0.038*\"right\" + 0.038*\"littl\" + 0.038*\"best\" + 0.038*\"manifest\" + 0.033*\"tell\"\n",
            "Topic: 6 \n",
            "Words: 0.105*\"work\" + 0.095*\"today\" + 0.071*\"read\" + 0.037*\"like\" + 0.037*\"great\" + 0.037*\"book\" + 0.037*\"leav\" + 0.037*\"wonder\" + 0.037*\"season\" + 0.037*\"line\"\n",
            "Topic: 7 \n",
            "Words: 0.230*\"evil\" + 0.211*\"molli\" + 0.190*\"thing\" + 0.038*\"happi\" + 0.038*\"stuff\" + 0.029*\"good\" + 0.025*\"time\" + 0.020*\"say\" + 0.020*\"today\" + 0.020*\"littl\"\n",
            "Topic: 8 \n",
            "Words: 0.082*\"come\" + 0.082*\"year\" + 0.074*\"right\" + 0.074*\"price\" + 0.074*\"happi\" + 0.067*\"go\" + 0.067*\"away\" + 0.047*\"school\" + 0.037*\"think\" + 0.029*\"movi\"\n",
            "Topic: 9 \n",
            "Words: 0.085*\"stori\" + 0.068*\"wonder\" + 0.051*\"episod\" + 0.051*\"good\" + 0.048*\"thing\" + 0.048*\"season\" + 0.047*\"molli\" + 0.047*\"novel\" + 0.044*\"love\" + 0.044*\"line\"\n"
          ]
        },
        {
          "output_type": "stream",
          "name": "stderr",
          "text": [
            "/usr/local/lib/python3.10/dist-packages/ipykernel/ipkernel.py:283: DeprecationWarning: `should_run_async` will not call `transform_cell` automatically in the future. Please pass the result to `transformed_cell` argument and any exception that happen during thetransform in `preprocessing_exc_tuple` in IPython 7.17 and above.\n",
            "  and should_run_async(code)\n"
          ]
        }
      ]
    },
    {
      "cell_type": "code",
      "source": [
        "pyLDAvis.enable_notebook()\n",
        "\n",
        "vis = gensimvis.prepare(lda_model6, bow_corpus, dictionary, n_jobs=1)\n",
        "pyLDAvis.display(vis)"
      ],
      "metadata": {
        "colab": {
          "base_uri": "https://localhost:8080/",
          "height": 917
        },
        "id": "7ogzhvKE2Xvu",
        "outputId": "37aec1ed-2ffd-4345-a906-c1b6d9f2f1bc"
      },
      "execution_count": null,
      "outputs": [
        {
          "output_type": "stream",
          "name": "stderr",
          "text": [
            "/usr/local/lib/python3.10/dist-packages/ipykernel/ipkernel.py:283: DeprecationWarning: `should_run_async` will not call `transform_cell` automatically in the future. Please pass the result to `transformed_cell` argument and any exception that happen during thetransform in `preprocessing_exc_tuple` in IPython 7.17 and above.\n",
            "  and should_run_async(code)\n"
          ]
        },
        {
          "output_type": "execute_result",
          "data": {
            "text/plain": [
              "<IPython.core.display.HTML object>"
            ],
            "text/html": [
              "\n",
              "<link rel=\"stylesheet\" type=\"text/css\" href=\"https://cdn.jsdelivr.net/gh/bmabey/pyLDAvis@3.4.0/pyLDAvis/js/ldavis.v1.0.0.css\">\n",
              "\n",
              "\n",
              "<div id=\"ldavis_el2591401462765477441517425688\" style=\"background-color:white;\"></div>\n",
              "<script type=\"text/javascript\">\n",
              "\n",
              "var ldavis_el2591401462765477441517425688_data = {\"mdsDat\": {\"x\": [0.26531641010566676, -0.013193354970430938, 0.015357712612228245, -0.049342419378217206, -0.18677077279923943, 0.14889778238851048, -0.1530830703229431, -0.04996602315662534, 0.05613207307174585, -0.03334833755069519], \"y\": [-0.010238010060098853, -0.053891069780040185, 0.13932977370844685, 0.06740003933445361, 0.007740596465721861, -0.017824180240410555, -0.12271297012766356, 0.0035290174189666554, -0.1314554391465537, 0.11812224242717753], \"topics\": [1, 2, 3, 4, 5, 6, 7, 8, 9, 10], \"cluster\": [1, 1, 1, 1, 1, 1, 1, 1, 1, 1], \"Freq\": [15.861506223934423, 13.502567831058677, 12.038253609088558, 11.138761390863634, 10.09120609351928, 9.870373788472184, 8.354414790055092, 7.68620851958387, 6.784344551251988, 4.672363202172293]}, \"tinfo\": {\"Term\": [\"evil\", \"molli\", \"year\", \"thing\", \"invas\", \"ozark\", \"like\", \"time\", \"fight\", \"work\", \"fli\", \"actual\", \"write\", \"today\", \"thank\", \"episod\", \"come\", \"movi\", \"happi\", \"children\", \"know\", \"wonder\", \"day\", \"stori\", \"read\", \"price\", \"right\", \"away\", \"make\", \"think\", \"evil\", \"molli\", \"thing\", \"stuff\", \"happi\", \"littl\", \"make\", \"today\", \"children\", \"good\", \"season\", \"say\", \"time\", \"know\", \"america\", \"mayb\", \"need\", \"leav\", \"take\", \"work\", \"novel\", \"continu\", \"read\", \"ozark\", \"night\", \"line\", \"edg\", \"manifest\", \"stay\", \"final\", \"perfect\", \"fli\", \"tell\", \"like\", \"movi\", \"wonder\", \"think\", \"stori\", \"long\", \"actual\", \"thank\", \"love\", \"get\", \"episod\", \"perfect\", \"write\", \"manifest\", \"littl\", \"book\", \"tell\", \"best\", \"leav\", \"continu\", \"read\", \"edg\", \"final\", \"answer\", \"appl\", \"school\", \"season\", \"call\", \"make\", \"right\", \"thank\", \"want\", \"talk\", \"great\", \"good\", \"time\", \"episod\", \"children\", \"stori\", \"think\", \"go\", \"thing\", \"know\", \"friend\", \"guess\", \"get\", \"love\", \"say\", \"best\", \"children\", \"know\", \"take\", \"ladi\", \"appl\", \"fli\", \"call\", \"invas\", \"tell\", \"long\", \"good\", \"like\", \"stori\", \"movi\", \"right\", \"think\", \"go\", \"thing\", \"evil\", \"america\", \"molli\", \"mayb\", \"need\", \"leav\", \"time\", \"happi\", \"thank\", \"actual\", \"america\", \"want\", \"need\", \"mayb\", \"take\", \"rememb\", \"talk\", \"like\", \"leav\", \"continu\", \"ozark\", \"stay\", \"movi\", \"long\", \"wonder\", \"think\", \"tell\", \"know\", \"time\", \"come\", \"good\", \"day\", \"season\", \"say\", \"actual\", \"go\", \"write\", \"school\", \"price\", \"today\", \"thing\", \"molli\", \"evil\", \"price\", \"away\", \"come\", \"school\", \"happi\", \"year\", \"right\", \"mayb\", \"need\", \"go\", \"stay\", \"rememb\", \"long\", \"best\", \"think\", \"movi\", \"book\", \"like\", \"tell\", \"write\", \"america\", \"leav\", \"take\", \"work\", \"novel\", \"continu\", \"read\", \"ozark\", \"night\", \"line\", \"say\", \"molli\", \"time\", \"today\", \"thing\", \"actual\", \"perfect\", \"thank\", \"evil\", \"know\", \"novel\", \"stori\", \"wonder\", \"night\", \"line\", \"episod\", \"love\", \"edg\", \"ladi\", \"wait\", \"appl\", \"get\", \"stuff\", \"season\", \"great\", \"good\", \"long\", \"say\", \"molli\", \"time\", \"thing\", \"answer\", \"fli\", \"want\", \"actual\", \"movi\", \"america\", \"need\", \"mayb\", \"leav\", \"evil\", \"like\", \"happi\", \"go\", \"actual\", \"day\", \"fight\", \"wait\", \"year\", \"answer\", \"stay\", \"final\", \"call\", \"talk\", \"know\", \"right\", \"think\", \"go\", \"write\", \"night\", \"stori\", \"america\", \"need\", \"mayb\", \"leav\", \"take\", \"work\", \"novel\", \"continu\", \"read\", \"ozark\", \"line\", \"edg\", \"manifest\", \"school\", \"molli\", \"happi\", \"movi\", \"like\", \"time\", \"thing\", \"evil\", \"say\", \"want\", \"perfect\", \"love\", \"thank\", \"movi\", \"time\", \"fight\", \"novel\", \"night\", \"edg\", \"manifest\", \"ladi\", \"guess\", \"rememb\", \"great\", \"come\", \"book\", \"away\", \"say\", \"like\", \"write\", \"get\", \"friend\", \"think\", \"go\", \"america\", \"mayb\", \"need\", \"leav\", \"take\", \"work\", \"continu\", \"read\", \"evil\", \"thing\", \"happi\", \"molli\", \"actual\", \"love\", \"perfect\", \"school\", \"work\", \"today\", \"read\", \"leav\", \"line\", \"final\", \"great\", \"book\", \"wonder\", \"thank\", \"episod\", \"season\", \"go\", \"wait\", \"like\", \"fight\", \"happi\", \"year\", \"stori\", \"thing\", \"molli\", \"evil\", \"america\", \"need\", \"mayb\", \"take\", \"novel\", \"continu\", \"ozark\", \"night\", \"time\", \"movi\", \"say\", \"school\", \"love\", \"perfect\", \"know\", \"good\", \"ozark\", \"invas\", \"fli\", \"continu\", \"make\", \"episod\", \"children\", \"think\", \"like\", \"america\", \"need\", \"mayb\", \"leav\", \"take\", \"work\", \"novel\", \"read\", \"night\", \"line\", \"edg\", \"manifest\", \"stay\", \"final\", \"perfect\", \"ladi\", \"day\", \"wait\", \"answer\", \"appl\", \"school\", \"molli\", \"happi\", \"movi\", \"thing\", \"time\", \"say\", \"thank\", \"evil\", \"go\", \"actual\", \"love\", \"write\", \"know\", \"year\", \"good\", \"stori\", \"want\", \"season\"], \"Freq\": [14.0, 14.0, 6.0, 16.0, 3.0, 3.0, 9.0, 8.0, 4.0, 3.0, 3.0, 4.0, 8.0, 4.0, 4.0, 4.0, 4.0, 6.0, 5.0, 5.0, 8.0, 4.0, 3.0, 5.0, 3.0, 3.0, 6.0, 3.0, 3.0, 7.0, 12.18561697745012, 11.168898051700243, 10.091409170833309, 2.0266703062577456, 2.0266853053373404, 1.0615899551743753, 1.0615686406928455, 1.0615932115534978, 1.0615724891408995, 1.5223265509099062, 1.0615752521292459, 1.0616415638495607, 1.312355225084564, 1.0614673969055792, 0.09651730098711314, 0.09651898468313676, 0.09651796089727624, 0.09651881816374981, 0.09653363222180376, 0.09651608601232686, 0.0965155062781649, 0.0965217291693291, 0.09651899085052146, 0.09652970359774865, 0.09651858997051584, 0.09651921287637073, 0.09651561112370483, 0.09651535209354734, 0.09651694327880044, 0.0965214146327093, 0.09653390975411535, 0.09657455281930084, 0.096592321054627, 0.09655366388731552, 0.09655150530266986, 0.09655144979620754, 0.09654504805088697, 0.09654071854682625, 0.09653596349322108, 0.09653389741934594, 0.0965331079941041, 0.09652999963221434, 0.09652987628452031, 0.09652960491959342, 2.536984561427319, 4.743692225421848, 1.7186845506494317, 1.718696479025093, 1.469878794992849, 1.4699100439769754, 1.7186892547975798, 0.9002552598001182, 0.9002585359032927, 0.9002507236572612, 0.900273656379483, 0.9002365272101716, 0.9002880208318637, 0.9002618120064674, 0.9002972611228688, 1.7187057193160982, 0.9002843247154616, 0.9002448434720761, 1.718703535247315, 1.1489524840387138, 0.9002100663768386, 0.9002523197075257, 0.9002417353741926, 1.718704711284352, 1.7187433525012825, 0.9002555118080547, 0.9002405593371555, 0.9002606359694303, 0.900271976326573, 0.900268952231335, 1.1490080937900353, 0.9002613919932398, 2.5380907259070216, 1.9062599913354688, 1.6303463679014272, 1.906166674903133, 2.813879278360324, 1.9062838072467712, 1.906268229543781, 2.8141024589127808, 0.9985156333298743, 0.9985008045549124, 0.9985319599608928, 0.9985455904510093, 0.9985338322809638, 0.9985172809715367, 0.9985175056499452, 0.9985160826866912, 1.7822020106474985, 1.9062408187779423, 0.9985342816377809, 0.9984592390493374, 0.998514360152226, 0.998514809509043, 0.9985539784449272, 1.27443015547755, 0.5742141285995607, 0.09078342668154013, 0.45545432690914756, 0.09078599176003734, 0.09078347348954191, 0.09078341731993977, 0.09080816002967733, 0.09080556686637907, 0.0907976188676779, 0.09079660781483959, 2.1305111569420667, 1.9216435198316528, 1.4432570087675742, 1.4432506334573276, 1.443221251592713, 1.443242872210071, 1.4432564543927702, 3.2960262502875204, 0.7559706375575964, 0.7559576790465518, 0.7559815864599764, 0.7559781909143016, 1.4432750259487057, 0.8529812388928896, 0.9648765265294894, 1.443222360342321, 0.7559130518748258, 1.443256870173873, 1.4735508199348175, 0.7559564317032427, 1.2090760637294908, 0.4469572017044425, 0.8543740362912116, 0.7559769435709924, 0.44620099982329475, 0.7559525510796143, 0.7559736173221682, 0.27763074594969567, 0.27760820714906853, 0.277607722071115, 0.6443713860663586, 0.5313411199637448, 0.5259289319939432, 2.481254868422046, 2.261500083823741, 2.751025034596949, 1.5936621489167242, 2.481108717133812, 2.750967779453105, 2.481290276208371, 0.9761366066449978, 0.9761262479841049, 2.2615277069194555, 0.9761583912227543, 0.9761636647228452, 0.976179548002881, 0.9761285708353354, 1.2367175105721837, 0.976184507604157, 0.6190236557558887, 0.9761698171396179, 0.3584915944843068, 0.3584705004839431, 0.08874785858962113, 0.08875131147658542, 0.0887505502719592, 0.08874931821911057, 0.08874791352191373, 0.08875453678690888, 0.08875209622362276, 0.08875785626687682, 0.08875375203987154, 0.08875277110607487, 0.08879301293414962, 0.08878098276206722, 0.08877861282601446, 0.08877826753731802, 0.08877398281849415, 0.08877270368082328, 0.08876768129978431, 0.08876646494187644, 0.08876528782132043, 0.08876225085028593, 1.5556730060594421, 2.797194587508553, 2.23965468472092, 1.4386381248644078, 1.4386570378857213, 1.682152730787742, 1.4386734946705007, 0.8811149858911215, 0.8811206966410635, 0.8811405921569908, 0.8811129594959807, 0.881073843929173, 0.8810901779021256, 1.5674770647838399, 0.8811322409527744, 1.6821523623522616, 0.7680278294598222, 0.8811461186891928, 1.5573205267147798, 0.8811270214501392, 1.5973392516961031, 0.32350968580576495, 0.32358116228891115, 0.32356531956326534, 0.32357170577825434, 0.3235415554747966, 0.08010759086717711, 0.08011099889536837, 0.08011026202440809, 0.08010932558422941, 0.3716017532455503, 0.0801403662734308, 0.08013011916163955, 0.08012218244733829, 2.783876092548707, 2.18619610130713, 2.271192324262039, 1.540001918218663, 3.169677789269118, 1.5400062840998814, 0.9432010283452815, 0.9432206748107644, 0.9431056026557931, 0.9432064337220282, 1.800700847868431, 0.943198429606461, 0.9432159970808875, 0.9432240011964547, 0.9432015480930456, 0.3463665367789511, 0.3463687457069485, 0.08575281977510693, 0.08575547048870383, 0.08575464538912832, 0.08575383328324691, 0.08576101229923852, 0.08576327320201235, 0.0857522090714841, 0.08575718565632535, 0.08575461940174012, 0.08576099930554443, 0.08575756247345433, 0.08575192321021385, 0.0857531835985418, 0.08579993490992242, 0.08578466082250498, 0.08578380323869422, 0.08578340043417705, 0.0857797427092872, 0.08577234929734291, 0.08577173209687304, 0.08577162814732023, 0.08576610582732669, 0.08576552760793912, 0.08576370849076478, 0.08576313676822428, 2.1158985886345296, 2.1158213152179566, 2.8725487900132487, 1.5891462694680076, 0.8324090398602273, 0.8324049275373157, 0.8324032060998177, 0.8324022497456522, 0.8324153517977197, 0.8323676297248607, 0.8324096136727266, 0.8323804448706785, 0.8324044493602328, 0.6102465326803643, 0.49307818046236057, 0.8324004326727377, 1.0624914027909513, 0.8324099962143928, 0.3056955725816791, 0.30567972101138574, 0.6102338609876712, 0.4931281499675086, 0.07568017835139525, 0.07568177426740895, 0.07568161288264351, 0.0756806744601186, 0.07568090757144645, 0.07568054893863438, 0.07568474494253556, 0.07568161288264351, 0.3056982742821967, 0.30571721009467384, 0.0757028977400397, 0.07570170229733282, 0.07569625705580292, 0.07569359719578009, 0.07569178610007915, 0.07569033961440381, 2.3828948217377524, 2.1492480083474206, 1.6142237945281075, 0.8455646696926682, 0.8455396831482364, 0.8455248262839796, 0.8455710851567791, 0.845570156602763, 0.8455530205604669, 0.8455190017178789, 0.8455080278976892, 0.8455471115803648, 0.84549013212938, 0.31045167344732044, 0.8455845069830111, 0.423709664859362, 0.3104715107376633, 0.38694930874599914, 0.31051907802748546, 0.845531157334089, 0.5441491141350273, 0.5441230724155771, 0.07687500809220114, 0.07687763547799654, 0.07687602633609374, 0.07687525605833043, 0.07687426946968837, 0.0768780206168782, 0.07688330704371958, 0.07687800478925293, 0.07689543628055422, 0.07689440748491144, 0.07689299355038699, 0.07688701598390868, 0.076886166568019, 0.07688611908514317, 0.07688588167076407, 0.07688542266963114, 1.7716818341883553, 1.7717474113002925, 1.5151716123579553, 0.9280686820873509, 0.9280842043292722, 0.9280757165115924, 0.9280706005666894, 0.9280940292689153, 0.9280869948446738, 0.0843778025052648, 0.08437839839657452, 0.08437773710256008, 0.0843784129305089, 0.08437724294879105, 0.084380236939274, 0.08437601483133567, 0.08437959744616114, 0.08438004073115983, 0.0843786745413278, 0.08437634911182648, 0.08437766443288816, 0.08437786064100233, 0.08437887801640917, 0.08438775825031734, 0.0843759930304341, 0.08437818765452597, 0.08438230075795643, 0.08438347800664146, 0.08437515006223986, 0.08438740216892494, 0.08441317083458647, 0.08440449407575966, 0.08440338949674653, 0.08440059171437775, 0.08439719077373208, 0.0843943857243961, 0.08439350642136592, 0.0843918713537478, 0.0843900473449827, 0.08438997467531079, 0.08438868842211787, 0.08438684261245119, 0.08438637752655093, 0.0843856144949958, 0.08438546915565197, 0.0843849314000798, 0.08438417563549186, 0.08438311465828188], \"Total\": [14.0, 14.0, 6.0, 16.0, 3.0, 3.0, 9.0, 8.0, 4.0, 3.0, 3.0, 4.0, 8.0, 4.0, 4.0, 4.0, 4.0, 6.0, 5.0, 5.0, 8.0, 4.0, 3.0, 5.0, 3.0, 3.0, 6.0, 3.0, 3.0, 7.0, 14.847978604042218, 14.673728064680683, 16.166752731921864, 3.560567020302521, 5.3857147492744435, 3.4313268822618284, 3.456584287031858, 4.075794047885142, 5.27209291644368, 8.3259380090454, 6.47306062937486, 6.762755881110526, 8.684976958191372, 8.425627712877379, 2.8912022859721187, 3.0913431436378938, 3.091341231813756, 3.1037663602687613, 3.1116749888167035, 3.135459596362431, 3.170209099671857, 3.1787802971262664, 3.18519175989846, 3.20405140116939, 3.2053133072124607, 3.205400769567365, 3.205571204165591, 3.222984331743981, 3.2615282360946796, 3.2739543634748847, 3.284674213589492, 3.4115477519943, 4.082235618275793, 9.358958670506988, 6.282788920995015, 4.653846352610674, 7.313815025454294, 5.766984618457332, 4.096782242293378, 4.1485869822066475, 4.705487131013688, 4.2522023851752735, 3.3999947998340136, 4.862252166139968, 3.284674213589492, 8.062450098469958, 3.222984331743981, 3.4313268822618284, 4.051002500566798, 4.082235618275793, 5.169173405052127, 3.1037663602687613, 3.1787802971262664, 3.18519175989846, 3.205571204165591, 3.2739543634748847, 3.345565813294761, 3.356577424096515, 3.3617829414232543, 6.47306062937486, 3.413004728845161, 3.456584287031858, 6.832902984080568, 4.705487131013688, 3.744195920034436, 3.8798137511993422, 3.97426295602643, 8.3259380090454, 8.684976958191372, 4.862252166139968, 5.27209291644368, 5.766984618457332, 7.313815025454294, 7.459186178049189, 16.166752731921864, 8.425627712877379, 3.506734718382991, 3.4016248518717855, 3.3999947998340136, 4.2522023851752735, 6.762755881110526, 5.169173405052127, 5.27209291644368, 8.425627712877379, 3.1116749888167035, 3.2948868720606024, 3.356577424096515, 3.4115477519943, 3.413004728845161, 3.4245325206106, 4.082235618275793, 4.096782242293378, 8.3259380090454, 9.358958670506988, 5.766984618457332, 6.282788920995015, 6.832902984080568, 7.313815025454294, 7.459186178049189, 16.166752731921864, 14.847978604042218, 2.8912022859721187, 14.673728064680683, 3.0913431436378938, 3.091341231813756, 3.1037663602687613, 8.684976958191372, 5.3857147492744435, 4.705487131013688, 4.1485869822066475, 2.8912022859721187, 3.744195920034436, 3.091341231813756, 3.0913431436378938, 3.1116749888167035, 3.848091702869302, 3.8798137511993422, 9.358958670506988, 3.1037663602687613, 3.1787802971262664, 3.20405140116939, 3.2615282360946796, 6.282788920995015, 4.096782242293378, 4.653846352610674, 7.313815025454294, 4.082235618275793, 8.425627712877379, 8.684976958191372, 4.935677441469264, 8.3259380090454, 3.3080981350250545, 6.47306062937486, 6.762755881110526, 4.1485869822066475, 7.459186178049189, 8.062450098469958, 3.3617829414232543, 3.430814855105387, 4.075794047885142, 16.166752731921864, 14.673728064680683, 14.847978604042218, 3.430814855105387, 3.4195673430274223, 4.935677441469264, 3.3617829414232543, 5.3857147492744435, 6.885702677619164, 6.832902984080568, 3.0913431436378938, 3.091341231813756, 7.459186178049189, 3.2615282360946796, 3.848091702869302, 4.096782242293378, 5.169173405052127, 7.313815025454294, 6.282788920995015, 4.051002500566798, 9.358958670506988, 4.082235618275793, 8.062450098469958, 2.8912022859721187, 3.1037663602687613, 3.1116749888167035, 3.135459596362431, 3.170209099671857, 3.1787802971262664, 3.18519175989846, 3.20405140116939, 3.2053133072124607, 3.205400769567365, 6.762755881110526, 14.673728064680683, 8.684976958191372, 4.075794047885142, 16.166752731921864, 4.1485869822066475, 3.284674213589492, 4.705487131013688, 14.847978604042218, 8.425627712877379, 3.170209099671857, 5.766984618457332, 4.653846352610674, 3.2053133072124607, 3.205400769567365, 4.862252166139968, 4.2522023851752735, 3.205571204165591, 3.2948868720606024, 3.318333723996741, 3.356577424096515, 3.3999947998340136, 3.560567020302521, 6.47306062937486, 3.97426295602643, 8.3259380090454, 4.096782242293378, 6.762755881110526, 14.673728064680683, 8.684976958191372, 16.166752731921864, 3.345565813294761, 3.4115477519943, 3.744195920034436, 4.1485869822066475, 6.282788920995015, 2.8912022859721187, 3.091341231813756, 3.0913431436378938, 3.1037663602687613, 14.847978604042218, 9.358958670506988, 5.3857147492744435, 7.459186178049189, 4.1485869822066475, 3.3080981350250545, 4.875201179417755, 3.318333723996741, 6.885702677619164, 3.345565813294761, 3.2615282360946796, 3.2739543634748847, 3.413004728845161, 3.8798137511993422, 8.425627712877379, 6.832902984080568, 7.313815025454294, 7.459186178049189, 8.062450098469958, 3.2053133072124607, 5.766984618457332, 2.8912022859721187, 3.091341231813756, 3.0913431436378938, 3.1037663602687613, 3.1116749888167035, 3.135459596362431, 3.170209099671857, 3.1787802971262664, 3.18519175989846, 3.20405140116939, 3.205400769567365, 3.205571204165591, 3.222984331743981, 3.3617829414232543, 14.673728064680683, 5.3857147492744435, 6.282788920995015, 9.358958670506988, 8.684976958191372, 16.166752731921864, 14.847978604042218, 6.762755881110526, 3.744195920034436, 3.284674213589492, 4.2522023851752735, 4.705487131013688, 6.282788920995015, 8.684976958191372, 4.875201179417755, 3.170209099671857, 3.2053133072124607, 3.205571204165591, 3.222984331743981, 3.2948868720606024, 3.4016248518717855, 3.848091702869302, 3.97426295602643, 4.935677441469264, 4.051002500566798, 3.4195673430274223, 6.762755881110526, 9.358958670506988, 8.062450098469958, 3.3999947998340136, 3.506734718382991, 7.313815025454294, 7.459186178049189, 2.8912022859721187, 3.0913431436378938, 3.091341231813756, 3.1037663602687613, 3.1116749888167035, 3.135459596362431, 3.1787802971262664, 3.18519175989846, 14.847978604042218, 16.166752731921864, 5.3857147492744435, 14.673728064680683, 4.1485869822066475, 4.2522023851752735, 3.284674213589492, 3.3617829414232543, 3.135459596362431, 4.075794047885142, 3.18519175989846, 3.1037663602687613, 3.205400769567365, 3.2739543634748847, 3.97426295602643, 4.051002500566798, 4.653846352610674, 4.705487131013688, 4.862252166139968, 6.47306062937486, 7.459186178049189, 3.318333723996741, 9.358958670506988, 4.875201179417755, 5.3857147492744435, 6.885702677619164, 5.766984618457332, 16.166752731921864, 14.673728064680683, 14.847978604042218, 2.8912022859721187, 3.091341231813756, 3.0913431436378938, 3.1116749888167035, 3.170209099671857, 3.1787802971262664, 3.20405140116939, 3.2053133072124607, 8.684976958191372, 6.282788920995015, 6.762755881110526, 3.3617829414232543, 4.2522023851752735, 3.284674213589492, 8.425627712877379, 8.3259380090454, 3.20405140116939, 3.4245325206106, 3.4115477519943, 3.1787802971262664, 3.456584287031858, 4.862252166139968, 5.27209291644368, 7.313815025454294, 9.358958670506988, 2.8912022859721187, 3.091341231813756, 3.0913431436378938, 3.1037663602687613, 3.1116749888167035, 3.135459596362431, 3.170209099671857, 3.18519175989846, 3.2053133072124607, 3.205400769567365, 3.205571204165591, 3.222984331743981, 3.2615282360946796, 3.2739543634748847, 3.284674213589492, 3.2948868720606024, 3.3080981350250545, 3.318333723996741, 3.345565813294761, 3.356577424096515, 3.3617829414232543, 14.673728064680683, 5.3857147492744435, 6.282788920995015, 16.166752731921864, 8.684976958191372, 6.762755881110526, 4.705487131013688, 14.847978604042218, 7.459186178049189, 4.1485869822066475, 4.2522023851752735, 8.062450098469958, 8.425627712877379, 6.885702677619164, 8.3259380090454, 5.766984618457332, 3.744195920034436, 6.47306062937486], \"Category\": [\"Default\", \"Default\", \"Default\", \"Default\", \"Default\", \"Default\", \"Default\", \"Default\", \"Default\", \"Default\", \"Default\", \"Default\", \"Default\", \"Default\", \"Default\", \"Default\", \"Default\", \"Default\", \"Default\", \"Default\", \"Default\", \"Default\", \"Default\", \"Default\", \"Default\", \"Default\", \"Default\", \"Default\", \"Default\", \"Default\", \"Topic1\", \"Topic1\", \"Topic1\", \"Topic1\", \"Topic1\", \"Topic1\", \"Topic1\", \"Topic1\", \"Topic1\", \"Topic1\", \"Topic1\", \"Topic1\", \"Topic1\", \"Topic1\", \"Topic1\", \"Topic1\", \"Topic1\", \"Topic1\", \"Topic1\", \"Topic1\", \"Topic1\", \"Topic1\", \"Topic1\", \"Topic1\", \"Topic1\", \"Topic1\", \"Topic1\", \"Topic1\", \"Topic1\", \"Topic1\", \"Topic1\", \"Topic1\", \"Topic1\", \"Topic1\", \"Topic1\", \"Topic1\", \"Topic1\", \"Topic1\", \"Topic1\", \"Topic1\", \"Topic1\", \"Topic1\", \"Topic1\", \"Topic1\", \"Topic2\", \"Topic2\", \"Topic2\", \"Topic2\", \"Topic2\", \"Topic2\", \"Topic2\", \"Topic2\", \"Topic2\", \"Topic2\", \"Topic2\", \"Topic2\", \"Topic2\", \"Topic2\", \"Topic2\", \"Topic2\", \"Topic2\", \"Topic2\", \"Topic2\", \"Topic2\", \"Topic2\", \"Topic2\", \"Topic2\", \"Topic2\", \"Topic2\", \"Topic2\", \"Topic2\", \"Topic2\", \"Topic2\", \"Topic2\", \"Topic2\", \"Topic2\", \"Topic3\", \"Topic3\", \"Topic3\", \"Topic3\", \"Topic3\", \"Topic3\", \"Topic3\", \"Topic3\", \"Topic3\", \"Topic3\", \"Topic3\", \"Topic3\", \"Topic3\", \"Topic3\", \"Topic3\", \"Topic3\", \"Topic3\", \"Topic3\", \"Topic3\", \"Topic3\", \"Topic3\", \"Topic3\", \"Topic3\", \"Topic3\", \"Topic3\", \"Topic3\", \"Topic3\", \"Topic3\", \"Topic3\", \"Topic3\", \"Topic3\", \"Topic3\", \"Topic3\", \"Topic3\", \"Topic4\", \"Topic4\", \"Topic4\", \"Topic4\", \"Topic4\", \"Topic4\", \"Topic4\", \"Topic4\", \"Topic4\", \"Topic4\", \"Topic4\", \"Topic4\", \"Topic4\", \"Topic4\", \"Topic4\", \"Topic4\", \"Topic4\", \"Topic4\", \"Topic4\", \"Topic4\", \"Topic4\", \"Topic4\", \"Topic4\", \"Topic4\", \"Topic4\", \"Topic4\", \"Topic4\", \"Topic4\", \"Topic4\", \"Topic4\", \"Topic4\", \"Topic4\", \"Topic4\", \"Topic5\", \"Topic5\", \"Topic5\", \"Topic5\", \"Topic5\", \"Topic5\", \"Topic5\", \"Topic5\", \"Topic5\", \"Topic5\", \"Topic5\", \"Topic5\", \"Topic5\", \"Topic5\", \"Topic5\", \"Topic5\", \"Topic5\", \"Topic5\", \"Topic5\", \"Topic5\", \"Topic5\", \"Topic5\", \"Topic5\", \"Topic5\", \"Topic5\", \"Topic5\", \"Topic5\", \"Topic5\", \"Topic5\", \"Topic5\", \"Topic5\", \"Topic5\", \"Topic5\", \"Topic5\", \"Topic5\", \"Topic5\", \"Topic5\", \"Topic5\", \"Topic5\", \"Topic5\", \"Topic6\", \"Topic6\", \"Topic6\", \"Topic6\", \"Topic6\", \"Topic6\", \"Topic6\", \"Topic6\", \"Topic6\", \"Topic6\", \"Topic6\", \"Topic6\", \"Topic6\", \"Topic6\", \"Topic6\", \"Topic6\", \"Topic6\", \"Topic6\", \"Topic6\", \"Topic6\", \"Topic6\", \"Topic6\", \"Topic6\", \"Topic6\", \"Topic6\", \"Topic6\", \"Topic6\", \"Topic6\", \"Topic6\", \"Topic6\", \"Topic6\", \"Topic6\", \"Topic6\", \"Topic6\", \"Topic7\", \"Topic7\", \"Topic7\", \"Topic7\", \"Topic7\", \"Topic7\", \"Topic7\", \"Topic7\", \"Topic7\", \"Topic7\", \"Topic7\", \"Topic7\", \"Topic7\", \"Topic7\", \"Topic7\", \"Topic7\", \"Topic7\", \"Topic7\", \"Topic7\", \"Topic7\", \"Topic7\", \"Topic7\", \"Topic7\", \"Topic7\", \"Topic7\", \"Topic7\", \"Topic7\", \"Topic7\", \"Topic7\", \"Topic7\", \"Topic7\", \"Topic7\", \"Topic7\", \"Topic7\", \"Topic7\", \"Topic7\", \"Topic7\", \"Topic7\", \"Topic7\", \"Topic7\", \"Topic7\", \"Topic7\", \"Topic8\", \"Topic8\", \"Topic8\", \"Topic8\", \"Topic8\", \"Topic8\", \"Topic8\", \"Topic8\", \"Topic8\", \"Topic8\", \"Topic8\", \"Topic8\", \"Topic8\", \"Topic8\", \"Topic8\", \"Topic8\", \"Topic8\", \"Topic8\", \"Topic8\", \"Topic8\", \"Topic8\", \"Topic8\", \"Topic8\", \"Topic8\", \"Topic8\", \"Topic8\", \"Topic8\", \"Topic8\", \"Topic8\", \"Topic8\", \"Topic8\", \"Topic8\", \"Topic8\", \"Topic8\", \"Topic8\", \"Topic8\", \"Topic8\", \"Topic8\", \"Topic9\", \"Topic9\", \"Topic9\", \"Topic9\", \"Topic9\", \"Topic9\", \"Topic9\", \"Topic9\", \"Topic9\", \"Topic9\", \"Topic9\", \"Topic9\", \"Topic9\", \"Topic9\", \"Topic9\", \"Topic9\", \"Topic9\", \"Topic9\", \"Topic9\", \"Topic9\", \"Topic9\", \"Topic9\", \"Topic9\", \"Topic9\", \"Topic9\", \"Topic9\", \"Topic9\", \"Topic9\", \"Topic9\", \"Topic9\", \"Topic9\", \"Topic9\", \"Topic9\", \"Topic9\", \"Topic9\", \"Topic9\", \"Topic9\", \"Topic9\", \"Topic10\", \"Topic10\", \"Topic10\", \"Topic10\", \"Topic10\", \"Topic10\", \"Topic10\", \"Topic10\", \"Topic10\", \"Topic10\", \"Topic10\", \"Topic10\", \"Topic10\", \"Topic10\", \"Topic10\", \"Topic10\", \"Topic10\", \"Topic10\", \"Topic10\", \"Topic10\", \"Topic10\", \"Topic10\", \"Topic10\", \"Topic10\", \"Topic10\", \"Topic10\", \"Topic10\", \"Topic10\", \"Topic10\", \"Topic10\", \"Topic10\", \"Topic10\", \"Topic10\", \"Topic10\", \"Topic10\", \"Topic10\", \"Topic10\", \"Topic10\", \"Topic10\", \"Topic10\", \"Topic10\", \"Topic10\", \"Topic10\", \"Topic10\", \"Topic10\", \"Topic10\", \"Topic10\", \"Topic10\"], \"logprob\": [30.0, 29.0, 28.0, 27.0, 26.0, 25.0, 24.0, 23.0, 22.0, 21.0, 20.0, 19.0, 18.0, 17.0, 16.0, 15.0, 14.0, 13.0, 12.0, 11.0, 10.0, 9.0, 8.0, 7.0, 6.0, 5.0, 4.0, 3.0, 2.0, 1.0, -1.4696, -1.5567, -1.6582, -3.2635, -3.2635, -3.9101, -3.9101, -3.9101, -3.9101, -3.5496, -3.9101, -3.91, -3.698, -3.9102, -6.3079, -6.3079, -6.3079, -6.3079, -6.3077, -6.3079, -6.3079, -6.3079, -6.3079, -6.3078, -6.3079, -6.3079, -6.3079, -6.3079, -6.3079, -6.3079, -6.3077, -6.3073, -6.3071, -6.3075, -6.3075, -6.3075, -6.3076, -6.3077, -6.3077, -6.3077, -6.3077, -6.3078, -6.3078, -6.3078, -2.8779, -2.252, -3.2673, -3.2673, -3.4237, -3.4236, -3.2673, -3.9139, -3.9139, -3.9139, -3.9139, -3.9139, -3.9139, -3.9139, -3.9139, -3.2673, -3.9139, -3.9139, -3.2673, -3.67, -3.914, -3.9139, -3.9139, -3.2673, -3.2673, -3.9139, -3.9139, -3.9139, -3.9139, -3.9139, -3.67, -3.9139, -2.7626, -3.0489, -3.2053, -3.049, -2.6595, -3.0489, -3.0489, -2.6594, -3.6955, -3.6956, -3.6955, -3.6955, -3.6955, -3.6955, -3.6955, -3.6955, -3.1162, -3.0489, -3.6955, -3.6956, -3.6955, -3.6955, -3.6955, -3.4516, -4.2488, -6.0933, -4.4805, -6.0933, -6.0933, -6.0933, -6.0931, -6.0931, -6.0932, -6.0932, -2.86, -2.9632, -3.2495, -3.2495, -3.2495, -3.2495, -3.2495, -2.4237, -3.8962, -3.8962, -3.8961, -3.8961, -3.2495, -3.7754, -3.6522, -3.2495, -3.8962, -3.2495, -3.2287, -3.8962, -3.4265, -4.4217, -3.7738, -3.8961, -4.4234, -3.8962, -3.8962, -4.8979, -4.8979, -4.8979, -4.0559, -4.2488, -4.259, -2.6089, -2.7016, -2.5057, -3.0516, -2.6089, -2.5057, -2.6089, -3.5418, -3.5418, -2.7016, -3.5418, -3.5418, -3.5417, -3.5418, -3.3052, -3.5417, -3.9972, -3.5418, -4.5435, -4.5435, -5.9396, -5.9396, -5.9396, -5.9396, -5.9396, -5.9395, -5.9395, -5.9395, -5.9395, -5.9395, -5.9391, -5.9392, -5.9392, -5.9392, -5.9393, -5.9393, -5.9394, -5.9394, -5.9394, -5.9394, -3.0536, -2.4669, -2.6892, -3.1318, -3.1318, -2.9754, -3.1318, -3.6221, -3.6221, -3.622, -3.6221, -3.6221, -3.6221, -3.046, -3.6221, -2.9754, -3.7594, -3.622, -3.0525, -3.6221, -3.0272, -4.624, -4.6238, -4.6239, -4.6238, -4.6239, -6.0199, -6.0199, -6.0199, -6.0199, -4.4854, -6.0195, -6.0196, -6.0197, -2.3049, -2.5466, -2.5085, -2.897, -2.1751, -2.897, -3.3872, -3.3872, -3.3873, -3.3872, -2.7406, -3.3872, -3.3872, -3.3872, -3.3872, -4.389, -4.389, -5.785, -5.785, -5.785, -5.785, -5.785, -5.7849, -5.7851, -5.785, -5.785, -5.785, -5.785, -5.7851, -5.785, -5.7845, -5.7847, -5.7847, -5.7847, -5.7847, -5.7848, -5.7848, -5.7848, -5.7849, -5.7849, -5.7849, -5.7849, -2.4959, -2.496, -2.1902, -2.7822, -3.4288, -3.4288, -3.4288, -3.4288, -3.4288, -3.4289, -3.4288, -3.4289, -3.4288, -3.7393, -3.9525, -3.4288, -3.1848, -3.4288, -4.4306, -4.4306, -3.7393, -3.9524, -5.8266, -5.8266, -5.8266, -5.8266, -5.8266, -5.8266, -5.8266, -5.8266, -4.4306, -4.4305, -5.8263, -5.8264, -5.8264, -5.8265, -5.8265, -5.8265, -2.2523, -2.3555, -2.6417, -3.2883, -3.2884, -3.2884, -3.2883, -3.2883, -3.2884, -3.2884, -3.2884, -3.2884, -3.2884, -4.2903, -3.2883, -3.9793, -4.2903, -4.0701, -4.2901, -3.2884, -3.7291, -3.7292, -5.6862, -5.6861, -5.6861, -5.6862, -5.6862, -5.6861, -5.6861, -5.6861, -5.6859, -5.6859, -5.6859, -5.686, -5.686, -5.686, -5.686, -5.686, -2.1757, -2.1757, -2.3321, -2.8223, -2.8223, -2.8223, -2.8223, -2.8223, -2.8223, -5.2201, -5.2201, -5.2201, -5.2201, -5.2201, -5.2201, -5.2201, -5.2201, -5.2201, -5.2201, -5.2201, -5.2201, -5.2201, -5.2201, -5.22, -5.2201, -5.2201, -5.22, -5.22, -5.2201, -5.22, -5.2197, -5.2198, -5.2198, -5.2198, -5.2199, -5.2199, -5.2199, -5.2199, -5.2199, -5.2199, -5.22, -5.22, -5.22, -5.22, -5.22, -5.22, -5.22, -5.22], \"loglift\": [30.0, 29.0, 28.0, 27.0, 26.0, 25.0, 24.0, 23.0, 22.0, 21.0, 20.0, 19.0, 18.0, 17.0, 16.0, 15.0, 14.0, 13.0, 12.0, 11.0, 10.0, 9.0, 8.0, 7.0, 6.0, 5.0, 4.0, 3.0, 2.0, 1.0, 1.6437, 1.5683, 1.37, 1.2777, 0.8639, 0.6681, 0.6607, 0.496, 0.2386, 0.1421, 0.0334, -0.0103, -0.0485, -0.2304, -1.5584, -1.6253, -1.6254, -1.6294, -1.6317, -1.6395, -1.6506, -1.6532, -1.6553, -1.661, -1.6616, -1.6616, -1.6617, -1.6671, -1.679, -1.6827, -1.6859, -1.7233, -1.9026, -2.7327, -2.3342, -2.0341, -2.4862, -2.2487, -1.9068, -1.9194, -2.0453, -1.9441, -1.7204, -2.0781, 1.744, 1.4719, 1.3735, 1.3109, 0.9885, 0.9808, 0.9011, 0.7646, 0.7407, 0.7387, 0.7323, 0.7112, 0.6896, 0.6863, 0.6848, 0.6762, 0.6697, 0.6569, 0.6221, 0.5924, 0.577, 0.5414, 0.5174, 0.4245, 0.3823, 0.3157, 0.2348, 0.1451, -0.0925, -0.1122, -0.6418, -0.2341, 1.7938, 1.538, 1.3821, 1.3147, 1.2402, 1.1195, 1.0998, 1.0204, 0.9804, 0.9232, 0.9047, 0.8885, 0.888, 0.8846, 0.709, 0.7054, 0.5756, 0.5259, 0.3635, 0.2777, 0.1938, 0.1258, 0.1062, -0.4234, -1.1355, -1.3439, -1.3554, -1.4108, -1.4108, -1.4148, -2.4435, -1.9657, -1.8308, -1.7048, 1.8894, 1.5277, 1.433, 1.433, 1.4265, 1.2141, 1.2059, 1.1511, 0.7824, 0.7585, 0.7506, 0.7328, 0.7238, 0.6255, 0.6213, 0.5719, 0.5083, 0.4304, 0.4208, 0.3185, 0.2652, 0.1931, 0.1697, 0.0036, -0.035, -0.0945, -0.1722, -0.2992, -0.3196, -0.4919, -1.0277, -1.1237, -1.1457, 1.9695, 1.88, 1.709, 1.5471, 1.5185, 1.376, 1.2805, 1.1407, 1.1407, 1.1001, 1.0872, 0.9218, 0.8592, 0.6266, 0.5162, 0.4316, 0.4149, 0.0331, -0.139, -0.8196, -1.1901, -1.261, -1.2636, -1.2712, -1.2822, -1.2849, -1.2869, -1.2928, -1.2932, -1.2932, -2.0394, -2.8141, -2.2897, -1.5332, -2.9111, -1.5509, -1.3175, -1.677, -2.8261, -2.2596, 1.6037, 1.5921, 1.5843, 1.5145, 1.5145, 1.2542, 1.2319, 1.0242, 0.9967, 0.9896, 0.9781, 0.9652, 0.9191, 0.8975, 0.8092, 0.7163, 0.6415, 0.2777, 0.0725, 0.0275, 0.001, -0.0205, -0.0398, -0.1329, -0.2355, -0.6506, -1.2704, -1.3373, -1.3373, -1.3413, -1.3722, -2.4447, -1.8922, -2.218, 2.0835, 2.0682, 1.7185, 1.7147, 1.7066, 1.7065, 1.2417, 1.2379, 1.1962, 1.0681, 0.9393, 0.5022, 0.4342, 0.4145, 0.3367, 0.2573, -0.33, -1.0356, -1.1025, -1.1025, -1.1065, -1.109, -1.1166, -1.1277, -1.1304, -1.1324, -1.1382, -1.1387, -1.1388, -1.1442, -1.1858, -2.6596, -1.6573, -1.8114, -2.2099, -2.1353, -2.7566, -2.6716, -1.8852, -1.294, -1.163, -1.4212, 1.7665, 1.4774, 1.4593, 1.4448, 1.2285, 1.2175, 1.2174, 1.212, 1.1899, 1.158, 1.0347, 1.0024, 0.7858, 0.6729, 0.6291, 0.4709, 0.39, 0.2951, 0.1568, 0.1258, 0.0821, -0.1507, -1.0772, -1.1441, -1.1441, -1.1481, -1.1506, -1.1583, -1.1719, -1.174, -1.3173, -1.4023, -1.6989, -2.7013, -1.4381, -1.4628, -1.2046, -1.2278, 2.4161, 2.0506, 2.0109, 1.3902, 1.3579, 1.3368, 1.143, 1.1238, 0.9851, 0.974, 0.9412, 0.6551, 0.5133, 0.3214, 0.2865, 0.2477, -0.1629, -0.1884, -0.2311, -0.2602, -0.604, -0.6159, -0.9367, -1.0036, -1.0036, -1.0102, -1.0288, -1.0315, -1.0393, -1.0398, -2.0364, -1.7126, -1.7862, -1.0873, -1.3223, -1.0641, -2.0062, -1.9943, 2.471, 2.4045, 2.2519, 1.8324, 1.7486, 1.4074, 1.3264, 0.9991, 0.7525, -0.4706, -0.5375, -0.5376, -0.5416, -0.5441, -0.5517, -0.5628, -0.5674, -0.5737, -0.5738, -0.5739, -0.5793, -0.5911, -0.5949, -0.5981, -0.6013, -0.6053, -0.6084, -0.6165, -0.6199, -0.6213, -2.0946, -1.0924, -1.2465, -2.1916, -1.5703, -1.3202, -0.9575, -2.1066, -1.4182, -0.8316, -0.8563, -1.4961, -1.5401, -1.3383, -1.5282, -1.161, -0.7291, -1.2765]}, \"token.table\": {\"Topic\": [7, 4, 2, 7, 2, 3, 6, 5, 2, 3, 5, 2, 5, 8, 9, 2, 3, 7, 1, 2, 3, 10, 4, 5, 8, 2, 4, 10, 7, 2, 6, 8, 2, 6, 9, 10, 1, 3, 4, 9, 7, 8, 2, 7, 9, 3, 10, 3, 3, 6, 2, 3, 4, 5, 7, 9, 1, 2, 3, 4, 6, 2, 6, 8, 9, 3, 8, 1, 5, 3, 10, 1, 2, 3, 4, 7, 3, 6, 8, 2, 4, 9, 3, 4, 5, 8, 9, 10, 6, 9, 1, 2, 3, 4, 5, 6, 3, 6, 1, 2, 10, 2, 8, 4, 5, 1, 4, 6, 9, 3, 4, 5, 8, 4, 5, 6, 8, 6, 8, 4, 10, 2, 5, 2, 9, 4, 5, 8, 2, 3, 5, 7, 1, 3, 4, 6, 8, 2, 5, 1, 2, 4, 6, 9, 4, 5, 7, 2, 3, 6, 1, 6, 3, 4, 2, 4, 7, 2, 3, 4, 2, 8, 9, 1, 2, 3, 4, 6, 9, 2, 3, 4, 5, 7, 8, 10, 1, 2, 4, 6, 8, 1, 9, 6, 7, 2, 4, 4, 6, 9, 9, 2, 4, 7, 8, 5, 7], \"Freq\": [0.7231377847124926, 0.6917537419307668, 0.2989031021378072, 0.5978062042756144, 0.29792251858131014, 0.29792251858131014, 0.29792251858131014, 0.5848693122181222, 0.38690905552622523, 0.38690905552622523, 0.19345452776311262, 0.24685247660550308, 0.24685247660550308, 0.24685247660550308, 0.24685247660550308, 0.2929969570649743, 0.2929969570649743, 0.2929969570649743, 0.18967799237395758, 0.18967799237395758, 0.37935598474791515, 0.18967799237395758, 0.20260643282684163, 0.6078192984805248, 0.20260643282684163, 0.3145860696645303, 0.3145860696645303, 0.3145860696645303, 0.6045769860406068, 0.31195688266119787, 0.31195688266119787, 0.31195688266119787, 0.2056660094603603, 0.4113320189207206, 0.2056660094603603, 0.2056660094603603, 0.8081908197748289, 0.06734923498123574, 0.06734923498123574, 0.06734923498123574, 0.41023948066874644, 0.41023948066874644, 0.3054410321525153, 0.3054410321525153, 0.3054410321525153, 0.2931220878897054, 0.5862441757794108, 0.8554967058880764, 0.5882361938017197, 0.2941180969008598, 0.13406288248211165, 0.13406288248211165, 0.13406288248211165, 0.2681257649642233, 0.13406288248211165, 0.13406288248211165, 0.2402131745188561, 0.2402131745188561, 0.2402131745188561, 0.12010658725942805, 0.2402131745188561, 0.25161898220238194, 0.25161898220238194, 0.25161898220238194, 0.25161898220238194, 0.5879543121574607, 0.2939771560787304, 0.3713527531827484, 0.3713527531827484, 0.29201065955177385, 0.5840213191035477, 0.11868551923693965, 0.11868551923693965, 0.35605655771081895, 0.11868551923693965, 0.2373710384738793, 0.303500556720057, 0.303500556720057, 0.303500556720057, 0.322189199806073, 0.322189199806073, 0.322189199806073, 0.2136989883610264, 0.3205484825415396, 0.1068494941805132, 0.1068494941805132, 0.1068494941805132, 0.1068494941805132, 0.31197346974337026, 0.31197346974337026, 0.291432449985887, 0.582864899971774, 0.24409400862863537, 0.24409400862863537, 0.24409400862863537, 0.24409400862863537, 0.4703444988819743, 0.23517224944098716, 0.28930294098475234, 0.28930294098475234, 0.28930294098475234, 0.6205428863868491, 0.31027144319342453, 0.32348398528906097, 0.32348398528906097, 0.7496390795517562, 0.06814900723197784, 0.13629801446395567, 0.06814900723197784, 0.15916498430471357, 0.15916498430471357, 0.15916498430471357, 0.31832996860942714, 0.3234841853460734, 0.3234841853460734, 0.3119819824632563, 0.3119819824632563, 0.6308732128133178, 0.3154366064066589, 0.3121048556321624, 0.6242097112643248, 0.9133325879285908, 0.5829518888271703, 0.31395284032502924, 0.6279056806500585, 0.2598690668557501, 0.2598690668557501, 0.2598690668557501, 0.2927013605578243, 0.14635068027891215, 0.2927013605578243, 0.14635068027891215, 0.14786871174710922, 0.44360613524132764, 0.14786871174710922, 0.14786871174710922, 0.14786871174710922, 0.29746120360068135, 0.5949224072013627, 0.1544864257044006, 0.3089728514088012, 0.1544864257044006, 0.3089728514088012, 0.1544864257044006, 0.30660473483969886, 0.30660473483969886, 0.30660473483969886, 0.1734008439695648, 0.1734008439695648, 0.5202025319086944, 0.561708286516138, 0.280854143258069, 0.32137032421251566, 0.32137032421251566, 0.2577443310753967, 0.2577443310753967, 0.2577443310753967, 0.24496381235886827, 0.24496381235886827, 0.24496381235886827, 0.21251784823914147, 0.42503569647828293, 0.21251784823914147, 0.6185534080851389, 0.061855340808513896, 0.061855340808513896, 0.061855340808513896, 0.12371068161702779, 0.061855340808513896, 0.13672754868966425, 0.13672754868966425, 0.13672754868966425, 0.13672754868966425, 0.13672754868966425, 0.13672754868966425, 0.13672754868966425, 0.11514135326022187, 0.23028270652044375, 0.11514135326022187, 0.11514135326022187, 0.3454240597806656, 0.24535096431550127, 0.49070192863100254, 0.3013560669827861, 0.6027121339655722, 0.26708004104411365, 0.5341600820882273, 0.21487602388055393, 0.42975204776110787, 0.21487602388055393, 0.6378650205922851, 0.6201588771320109, 0.12403177542640219, 0.12403177542640219, 0.12403177542640219, 0.43568538179131716, 0.43568538179131716], \"Term\": [\"actual\", \"america\", \"answer\", \"answer\", \"appl\", \"appl\", \"appl\", \"away\", \"best\", \"best\", \"best\", \"book\", \"book\", \"book\", \"book\", \"call\", \"call\", \"call\", \"children\", \"children\", \"children\", \"children\", \"come\", \"come\", \"come\", \"continu\", \"continu\", \"continu\", \"day\", \"edg\", \"edg\", \"edg\", \"episod\", \"episod\", \"episod\", \"episod\", \"evil\", \"evil\", \"evil\", \"evil\", \"fight\", \"fight\", \"final\", \"final\", \"final\", \"fli\", \"fli\", \"friend\", \"get\", \"get\", \"go\", \"go\", \"go\", \"go\", \"go\", \"go\", \"good\", \"good\", \"good\", \"good\", \"good\", \"great\", \"great\", \"great\", \"great\", \"guess\", \"guess\", \"happi\", \"happi\", \"invas\", \"invas\", \"know\", \"know\", \"know\", \"know\", \"know\", \"ladi\", \"ladi\", \"ladi\", \"leav\", \"leav\", \"leav\", \"like\", \"like\", \"like\", \"like\", \"like\", \"like\", \"line\", \"line\", \"littl\", \"littl\", \"long\", \"long\", \"long\", \"long\", \"love\", \"love\", \"make\", \"make\", \"make\", \"manifest\", \"manifest\", \"mayb\", \"mayb\", \"molli\", \"molli\", \"molli\", \"molli\", \"movi\", \"movi\", \"movi\", \"movi\", \"need\", \"need\", \"night\", \"night\", \"novel\", \"novel\", \"ozark\", \"ozark\", \"perfect\", \"price\", \"read\", \"read\", \"rememb\", \"rememb\", \"rememb\", \"right\", \"right\", \"right\", \"right\", \"say\", \"say\", \"say\", \"say\", \"say\", \"school\", \"school\", \"season\", \"season\", \"season\", \"season\", \"season\", \"stay\", \"stay\", \"stay\", \"stori\", \"stori\", \"stori\", \"stuff\", \"stuff\", \"take\", \"take\", \"talk\", \"talk\", \"talk\", \"tell\", \"tell\", \"tell\", \"thank\", \"thank\", \"thank\", \"thing\", \"thing\", \"thing\", \"thing\", \"thing\", \"thing\", \"think\", \"think\", \"think\", \"think\", \"think\", \"think\", \"think\", \"time\", \"time\", \"time\", \"time\", \"time\", \"today\", \"today\", \"wait\", \"wait\", \"want\", \"want\", \"wonder\", \"wonder\", \"wonder\", \"work\", \"write\", \"write\", \"write\", \"write\", \"year\", \"year\"]}, \"R\": 30, \"lambda.step\": 0.01, \"plot.opts\": {\"xlab\": \"PC1\", \"ylab\": \"PC2\"}, \"topic.order\": [8, 6, 2, 4, 9, 10, 5, 1, 7, 3]};\n",
              "\n",
              "function LDAvis_load_lib(url, callback){\n",
              "  var s = document.createElement('script');\n",
              "  s.src = url;\n",
              "  s.async = true;\n",
              "  s.onreadystatechange = s.onload = callback;\n",
              "  s.onerror = function(){console.warn(\"failed to load library \" + url);};\n",
              "  document.getElementsByTagName(\"head\")[0].appendChild(s);\n",
              "}\n",
              "\n",
              "if(typeof(LDAvis) !== \"undefined\"){\n",
              "   // already loaded: just create the visualization\n",
              "   !function(LDAvis){\n",
              "       new LDAvis(\"#\" + \"ldavis_el2591401462765477441517425688\", ldavis_el2591401462765477441517425688_data);\n",
              "   }(LDAvis);\n",
              "}else if(typeof define === \"function\" && define.amd){\n",
              "   // require.js is available: use it to load d3/LDAvis\n",
              "   require.config({paths: {d3: \"https://d3js.org/d3.v5\"}});\n",
              "   require([\"d3\"], function(d3){\n",
              "      window.d3 = d3;\n",
              "      LDAvis_load_lib(\"https://cdn.jsdelivr.net/gh/bmabey/pyLDAvis@3.4.0/pyLDAvis/js/ldavis.v3.0.0.js\", function(){\n",
              "        new LDAvis(\"#\" + \"ldavis_el2591401462765477441517425688\", ldavis_el2591401462765477441517425688_data);\n",
              "      });\n",
              "    });\n",
              "}else{\n",
              "    // require.js not available: dynamically load d3 & LDAvis\n",
              "    LDAvis_load_lib(\"https://d3js.org/d3.v5.js\", function(){\n",
              "         LDAvis_load_lib(\"https://cdn.jsdelivr.net/gh/bmabey/pyLDAvis@3.4.0/pyLDAvis/js/ldavis.v3.0.0.js\", function(){\n",
              "                 new LDAvis(\"#\" + \"ldavis_el2591401462765477441517425688\", ldavis_el2591401462765477441517425688_data);\n",
              "            })\n",
              "         });\n",
              "}\n",
              "</script>"
            ]
          },
          "metadata": {},
          "execution_count": 226
        }
      ]
    },
    {
      "cell_type": "code",
      "source": [
        "pyLDAvis.save_html(vis, 'StephenKing.html')"
      ],
      "metadata": {
        "colab": {
          "base_uri": "https://localhost:8080/"
        },
        "id": "KDCL4uQX2XzJ",
        "outputId": "e9f32a1a-1b2f-4ad2-96a2-bc3ec3b8b6f4"
      },
      "execution_count": null,
      "outputs": [
        {
          "output_type": "stream",
          "name": "stderr",
          "text": [
            "/usr/local/lib/python3.10/dist-packages/ipykernel/ipkernel.py:283: DeprecationWarning: `should_run_async` will not call `transform_cell` automatically in the future. Please pass the result to `transformed_cell` argument and any exception that happen during thetransform in `preprocessing_exc_tuple` in IPython 7.17 and above.\n",
            "  and should_run_async(code)\n"
          ]
        }
      ]
    },
    {
      "cell_type": "code",
      "source": [],
      "metadata": {
        "id": "zzs1Whx42X2e"
      },
      "execution_count": null,
      "outputs": []
    },
    {
      "cell_type": "code",
      "source": [],
      "metadata": {
        "id": "RljvrLHr2X52"
      },
      "execution_count": null,
      "outputs": []
    },
    {
      "cell_type": "markdown",
      "source": [
        "@22_Minutes"
      ],
      "metadata": {
        "id": "qu9opm-N4xoj"
      }
    },
    {
      "cell_type": "code",
      "source": [
        "Minutes = pd.read_excel('https://drive.google.com/uc?export=download&id=1B2zwAJYdw_9skXAFbn7QIs6uyIikje5W')"
      ],
      "metadata": {
        "colab": {
          "base_uri": "https://localhost:8080/"
        },
        "id": "gMJuoXak2X9T",
        "outputId": "e243907c-15cc-4ec2-c583-9d87b0c52bba"
      },
      "execution_count": null,
      "outputs": [
        {
          "output_type": "stream",
          "name": "stderr",
          "text": [
            "/usr/local/lib/python3.10/dist-packages/ipykernel/ipkernel.py:283: DeprecationWarning: `should_run_async` will not call `transform_cell` automatically in the future. Please pass the result to `transformed_cell` argument and any exception that happen during thetransform in `preprocessing_exc_tuple` in IPython 7.17 and above.\n",
            "  and should_run_async(code)\n"
          ]
        }
      ]
    },
    {
      "cell_type": "code",
      "source": [
        "Minutes.head()"
      ],
      "metadata": {
        "colab": {
          "base_uri": "https://localhost:8080/",
          "height": 262
        },
        "id": "Dwrd5UmV4yqW",
        "outputId": "90e6e0ca-0e43-4e62-e83c-1e32fd72bdf8"
      },
      "execution_count": null,
      "outputs": [
        {
          "output_type": "stream",
          "name": "stderr",
          "text": [
            "/usr/local/lib/python3.10/dist-packages/ipykernel/ipkernel.py:283: DeprecationWarning: `should_run_async` will not call `transform_cell` automatically in the future. Please pass the result to `transformed_cell` argument and any exception that happen during thetransform in `preprocessing_exc_tuple` in IPython 7.17 and above.\n",
            "  and should_run_async(code)\n"
          ]
        },
        {
          "output_type": "execute_result",
          "data": {
            "text/plain": [
              "   tweet-id                                         tweet-text tweet-author  \\\n",
              "0         1  And in lighter news this week: Nope, sorry. We...    22Minutes   \n",
              "1         2  Dee Snider of Twisted Sister says he approves ...    22Minutes   \n",
              "2         3  Tim Hortons will be releasing their own line o...    22Minutes   \n",
              "3         4  A new survey shows that 1 in 8 people suffer f...    22Minutes   \n",
              "4         5  The Bank of Canada has raised its interest rat...    22Minutes   \n",
              "\n",
              "  tweet-timestamp-date  \n",
              "0  2022-03-03 00:00:00  \n",
              "1  2022-03-03 00:00:00  \n",
              "2  2022-03-03 00:00:00  \n",
              "3  2022-03-02 00:00:00  \n",
              "4  2022-03-02 00:00:00  "
            ],
            "text/html": [
              "\n",
              "  <div id=\"df-56cfaec8-1108-47da-b60e-b9a067aa9b9a\">\n",
              "    <div class=\"colab-df-container\">\n",
              "      <div>\n",
              "<style scoped>\n",
              "    .dataframe tbody tr th:only-of-type {\n",
              "        vertical-align: middle;\n",
              "    }\n",
              "\n",
              "    .dataframe tbody tr th {\n",
              "        vertical-align: top;\n",
              "    }\n",
              "\n",
              "    .dataframe thead th {\n",
              "        text-align: right;\n",
              "    }\n",
              "</style>\n",
              "<table border=\"1\" class=\"dataframe\">\n",
              "  <thead>\n",
              "    <tr style=\"text-align: right;\">\n",
              "      <th></th>\n",
              "      <th>tweet-id</th>\n",
              "      <th>tweet-text</th>\n",
              "      <th>tweet-author</th>\n",
              "      <th>tweet-timestamp-date</th>\n",
              "    </tr>\n",
              "  </thead>\n",
              "  <tbody>\n",
              "    <tr>\n",
              "      <th>0</th>\n",
              "      <td>1</td>\n",
              "      <td>And in lighter news this week: Nope, sorry. We...</td>\n",
              "      <td>22Minutes</td>\n",
              "      <td>2022-03-03 00:00:00</td>\n",
              "    </tr>\n",
              "    <tr>\n",
              "      <th>1</th>\n",
              "      <td>2</td>\n",
              "      <td>Dee Snider of Twisted Sister says he approves ...</td>\n",
              "      <td>22Minutes</td>\n",
              "      <td>2022-03-03 00:00:00</td>\n",
              "    </tr>\n",
              "    <tr>\n",
              "      <th>2</th>\n",
              "      <td>3</td>\n",
              "      <td>Tim Hortons will be releasing their own line o...</td>\n",
              "      <td>22Minutes</td>\n",
              "      <td>2022-03-03 00:00:00</td>\n",
              "    </tr>\n",
              "    <tr>\n",
              "      <th>3</th>\n",
              "      <td>4</td>\n",
              "      <td>A new survey shows that 1 in 8 people suffer f...</td>\n",
              "      <td>22Minutes</td>\n",
              "      <td>2022-03-02 00:00:00</td>\n",
              "    </tr>\n",
              "    <tr>\n",
              "      <th>4</th>\n",
              "      <td>5</td>\n",
              "      <td>The Bank of Canada has raised its interest rat...</td>\n",
              "      <td>22Minutes</td>\n",
              "      <td>2022-03-02 00:00:00</td>\n",
              "    </tr>\n",
              "  </tbody>\n",
              "</table>\n",
              "</div>\n",
              "      <button class=\"colab-df-convert\" onclick=\"convertToInteractive('df-56cfaec8-1108-47da-b60e-b9a067aa9b9a')\"\n",
              "              title=\"Convert this dataframe to an interactive table.\"\n",
              "              style=\"display:none;\">\n",
              "        \n",
              "  <svg xmlns=\"http://www.w3.org/2000/svg\" height=\"24px\"viewBox=\"0 0 24 24\"\n",
              "       width=\"24px\">\n",
              "    <path d=\"M0 0h24v24H0V0z\" fill=\"none\"/>\n",
              "    <path d=\"M18.56 5.44l.94 2.06.94-2.06 2.06-.94-2.06-.94-.94-2.06-.94 2.06-2.06.94zm-11 1L8.5 8.5l.94-2.06 2.06-.94-2.06-.94L8.5 2.5l-.94 2.06-2.06.94zm10 10l.94 2.06.94-2.06 2.06-.94-2.06-.94-.94-2.06-.94 2.06-2.06.94z\"/><path d=\"M17.41 7.96l-1.37-1.37c-.4-.4-.92-.59-1.43-.59-.52 0-1.04.2-1.43.59L10.3 9.45l-7.72 7.72c-.78.78-.78 2.05 0 2.83L4 21.41c.39.39.9.59 1.41.59.51 0 1.02-.2 1.41-.59l7.78-7.78 2.81-2.81c.8-.78.8-2.07 0-2.86zM5.41 20L4 18.59l7.72-7.72 1.47 1.35L5.41 20z\"/>\n",
              "  </svg>\n",
              "      </button>\n",
              "      \n",
              "  <style>\n",
              "    .colab-df-container {\n",
              "      display:flex;\n",
              "      flex-wrap:wrap;\n",
              "      gap: 12px;\n",
              "    }\n",
              "\n",
              "    .colab-df-convert {\n",
              "      background-color: #E8F0FE;\n",
              "      border: none;\n",
              "      border-radius: 50%;\n",
              "      cursor: pointer;\n",
              "      display: none;\n",
              "      fill: #1967D2;\n",
              "      height: 32px;\n",
              "      padding: 0 0 0 0;\n",
              "      width: 32px;\n",
              "    }\n",
              "\n",
              "    .colab-df-convert:hover {\n",
              "      background-color: #E2EBFA;\n",
              "      box-shadow: 0px 1px 2px rgba(60, 64, 67, 0.3), 0px 1px 3px 1px rgba(60, 64, 67, 0.15);\n",
              "      fill: #174EA6;\n",
              "    }\n",
              "\n",
              "    [theme=dark] .colab-df-convert {\n",
              "      background-color: #3B4455;\n",
              "      fill: #D2E3FC;\n",
              "    }\n",
              "\n",
              "    [theme=dark] .colab-df-convert:hover {\n",
              "      background-color: #434B5C;\n",
              "      box-shadow: 0px 1px 3px 1px rgba(0, 0, 0, 0.15);\n",
              "      filter: drop-shadow(0px 1px 2px rgba(0, 0, 0, 0.3));\n",
              "      fill: #FFFFFF;\n",
              "    }\n",
              "  </style>\n",
              "\n",
              "      <script>\n",
              "        const buttonEl =\n",
              "          document.querySelector('#df-56cfaec8-1108-47da-b60e-b9a067aa9b9a button.colab-df-convert');\n",
              "        buttonEl.style.display =\n",
              "          google.colab.kernel.accessAllowed ? 'block' : 'none';\n",
              "\n",
              "        async function convertToInteractive(key) {\n",
              "          const element = document.querySelector('#df-56cfaec8-1108-47da-b60e-b9a067aa9b9a');\n",
              "          const dataTable =\n",
              "            await google.colab.kernel.invokeFunction('convertToInteractive',\n",
              "                                                     [key], {});\n",
              "          if (!dataTable) return;\n",
              "\n",
              "          const docLinkHtml = 'Like what you see? Visit the ' +\n",
              "            '<a target=\"_blank\" href=https://colab.research.google.com/notebooks/data_table.ipynb>data table notebook</a>'\n",
              "            + ' to learn more about interactive tables.';\n",
              "          element.innerHTML = '';\n",
              "          dataTable['output_type'] = 'display_data';\n",
              "          await google.colab.output.renderOutput(dataTable, element);\n",
              "          const docLink = document.createElement('div');\n",
              "          docLink.innerHTML = docLinkHtml;\n",
              "          element.appendChild(docLink);\n",
              "        }\n",
              "      </script>\n",
              "    </div>\n",
              "  </div>\n",
              "  "
            ]
          },
          "metadata": {},
          "execution_count": 232
        }
      ]
    },
    {
      "cell_type": "code",
      "source": [
        "def lemmatize_stemming(text):\n",
        "    stemmer = SnowballStemmer(\"english\")\n",
        "    return stemmer.stem(WordNetLemmatizer().lemmatize(text, pos='v'))\n",
        "\n",
        "def preprocess(text):\n",
        "    result = []\n",
        "    for token in gensim.utils.simple_preprocess(text):\n",
        "        if token not in gensim.parsing.preprocessing.STOPWORDS and len(token) > 3:\n",
        "            result.append(lemmatize_stemming(token))\n",
        "    return result\n",
        "\n",
        "processed_docs7 = Minutes['tweet-text'].map(preprocess)"
      ],
      "metadata": {
        "colab": {
          "base_uri": "https://localhost:8080/"
        },
        "id": "fAzdjoc84yuq",
        "outputId": "0253e0fc-c18a-4753-c637-344c730fb6b6"
      },
      "execution_count": null,
      "outputs": [
        {
          "output_type": "stream",
          "name": "stderr",
          "text": [
            "/usr/local/lib/python3.10/dist-packages/ipykernel/ipkernel.py:283: DeprecationWarning: `should_run_async` will not call `transform_cell` automatically in the future. Please pass the result to `transformed_cell` argument and any exception that happen during thetransform in `preprocessing_exc_tuple` in IPython 7.17 and above.\n",
            "  and should_run_async(code)\n"
          ]
        }
      ]
    },
    {
      "cell_type": "code",
      "source": [
        "dictionary = gensim.corpora.Dictionary(processed_docs7)\n",
        "\n",
        "dictionary.filter_extremes(no_below=3, no_above=0.9)\n",
        "\n",
        "#dictionary.filter_extremes(no_below=1, no_above=1.0)\n",
        "\n",
        "bow_corpus = [dictionary.doc2bow(doc) for doc in processed_docs7]"
      ],
      "metadata": {
        "colab": {
          "base_uri": "https://localhost:8080/"
        },
        "id": "TbwDIO6-Feo0",
        "outputId": "dcab557d-0c14-401d-8d83-1a902fa52809"
      },
      "execution_count": null,
      "outputs": [
        {
          "output_type": "stream",
          "name": "stderr",
          "text": [
            "/usr/local/lib/python3.10/dist-packages/ipykernel/ipkernel.py:283: DeprecationWarning: `should_run_async` will not call `transform_cell` automatically in the future. Please pass the result to `transformed_cell` argument and any exception that happen during thetransform in `preprocessing_exc_tuple` in IPython 7.17 and above.\n",
            "  and should_run_async(code)\n"
          ]
        }
      ]
    },
    {
      "cell_type": "code",
      "source": [
        "lda_model7 = gensim.models.LdaMulticore(bow_corpus, num_topics=10, id2word=dictionary, passes=2, workers=2)"
      ],
      "metadata": {
        "colab": {
          "base_uri": "https://localhost:8080/"
        },
        "id": "A-V0qhUW4yyO",
        "outputId": "d170d5dd-1077-4767-efbc-9a0a8df07335"
      },
      "execution_count": null,
      "outputs": [
        {
          "output_type": "stream",
          "name": "stderr",
          "text": [
            "/usr/local/lib/python3.10/dist-packages/ipykernel/ipkernel.py:283: DeprecationWarning: `should_run_async` will not call `transform_cell` automatically in the future. Please pass the result to `transformed_cell` argument and any exception that happen during thetransform in `preprocessing_exc_tuple` in IPython 7.17 and above.\n",
            "  and should_run_async(code)\n",
            "WARNING:gensim.models.ldamulticore:too few updates, training might not converge; consider increasing the number of passes or iterations to improve accuracy\n"
          ]
        }
      ]
    },
    {
      "cell_type": "code",
      "source": [
        "for idx, topic in lda_model7.print_topics(-1):\n",
        "    print('Topic: {} \\nWords: {}'.format(idx, topic))"
      ],
      "metadata": {
        "colab": {
          "base_uri": "https://localhost:8080/"
        },
        "id": "p6rBpQ9X4y2Y",
        "outputId": "5ed427e2-90f2-44ff-cb50-67948daacfa2"
      },
      "execution_count": null,
      "outputs": [
        {
          "output_type": "stream",
          "name": "stdout",
          "text": [
            "Topic: 0 \n",
            "Words: 0.040*\"elect\" + 0.032*\"cdnpoli\" + 0.032*\"elxn\" + 0.030*\"go\" + 0.030*\"plan\" + 0.030*\"give\" + 0.030*\"year\" + 0.030*\"look\" + 0.030*\"half\" + 0.030*\"game\"\n",
            "Topic: 1 \n",
            "Words: 0.056*\"canada\" + 0.056*\"travel\" + 0.034*\"shortag\" + 0.023*\"ontario\" + 0.023*\"hous\" + 0.023*\"tell\" + 0.023*\"show\" + 0.023*\"right\" + 0.023*\"pretti\" + 0.023*\"offici\"\n",
            "Topic: 2 \n",
            "Words: 0.057*\"know\" + 0.042*\"say\" + 0.031*\"week\" + 0.029*\"go\" + 0.026*\"report\" + 0.026*\"steal\" + 0.020*\"studi\" + 0.018*\"word\" + 0.018*\"employe\" + 0.018*\"find\"\n",
            "Topic: 3 \n",
            "Words: 0.034*\"citi\" + 0.034*\"report\" + 0.031*\"canadian\" + 0.031*\"work\" + 0.029*\"get\" + 0.026*\"half\" + 0.026*\"ontario\" + 0.026*\"name\" + 0.023*\"rank\" + 0.023*\"show\"\n",
            "Topic: 4 \n",
            "Words: 0.068*\"canadian\" + 0.059*\"year\" + 0.036*\"toronto\" + 0.033*\"say\" + 0.027*\"covid\" + 0.024*\"develop\" + 0.018*\"ask\" + 0.018*\"price\" + 0.018*\"show\" + 0.018*\"hous\"\n",
            "Topic: 5 \n",
            "Words: 0.050*\"world\" + 0.029*\"canada\" + 0.025*\"oldest\" + 0.023*\"news\" + 0.022*\"right\" + 0.022*\"pandem\" + 0.022*\"year\" + 0.022*\"compani\" + 0.020*\"say\" + 0.020*\"like\"\n",
            "Topic: 6 \n",
            "Words: 0.040*\"year\" + 0.040*\"say\" + 0.036*\"resign\" + 0.035*\"month\" + 0.027*\"canada\" + 0.027*\"report\" + 0.027*\"hear\" + 0.027*\"food\" + 0.027*\"offer\" + 0.027*\"take\"\n",
            "Topic: 7 \n",
            "Words: 0.050*\"canadian\" + 0.042*\"year\" + 0.028*\"like\" + 0.026*\"time\" + 0.026*\"world\" + 0.026*\"home\" + 0.026*\"vaccin\" + 0.021*\"want\" + 0.020*\"canada\" + 0.020*\"show\"\n",
            "Topic: 8 \n",
            "Words: 0.084*\"say\" + 0.059*\"like\" + 0.037*\"today\" + 0.034*\"sure\" + 0.027*\"nation\" + 0.027*\"canada\" + 0.020*\"forev\" + 0.020*\"kid\" + 0.015*\"time\" + 0.015*\"sound\"\n",
            "Topic: 9 \n",
            "Words: 0.052*\"peopl\" + 0.045*\"call\" + 0.040*\"time\" + 0.035*\"year\" + 0.027*\"happi\" + 0.025*\"happen\" + 0.022*\"post\" + 0.022*\"canada\" + 0.022*\"fall\" + 0.020*\"leav\"\n"
          ]
        },
        {
          "output_type": "stream",
          "name": "stderr",
          "text": [
            "/usr/local/lib/python3.10/dist-packages/ipykernel/ipkernel.py:283: DeprecationWarning: `should_run_async` will not call `transform_cell` automatically in the future. Please pass the result to `transformed_cell` argument and any exception that happen during thetransform in `preprocessing_exc_tuple` in IPython 7.17 and above.\n",
            "  and should_run_async(code)\n"
          ]
        }
      ]
    },
    {
      "cell_type": "code",
      "source": [
        "pyLDAvis.enable_notebook()\n",
        "\n",
        "vis = gensimvis.prepare(lda_model7, bow_corpus, dictionary, n_jobs=1)\n",
        "pyLDAvis.display(vis)"
      ],
      "metadata": {
        "colab": {
          "base_uri": "https://localhost:8080/",
          "height": 917
        },
        "id": "0bEXRBFt4y6h",
        "outputId": "998f3707-a24c-41f3-f00f-a17c2eaced99"
      },
      "execution_count": null,
      "outputs": [
        {
          "output_type": "stream",
          "name": "stderr",
          "text": [
            "/usr/local/lib/python3.10/dist-packages/ipykernel/ipkernel.py:283: DeprecationWarning: `should_run_async` will not call `transform_cell` automatically in the future. Please pass the result to `transformed_cell` argument and any exception that happen during thetransform in `preprocessing_exc_tuple` in IPython 7.17 and above.\n",
            "  and should_run_async(code)\n"
          ]
        },
        {
          "output_type": "execute_result",
          "data": {
            "text/plain": [
              "<IPython.core.display.HTML object>"
            ],
            "text/html": [
              "\n",
              "<link rel=\"stylesheet\" type=\"text/css\" href=\"https://cdn.jsdelivr.net/gh/bmabey/pyLDAvis@3.4.0/pyLDAvis/js/ldavis.v1.0.0.css\">\n",
              "\n",
              "\n",
              "<div id=\"ldavis_el2591401462751607367841721118\" style=\"background-color:white;\"></div>\n",
              "<script type=\"text/javascript\">\n",
              "\n",
              "var ldavis_el2591401462751607367841721118_data = {\"mdsDat\": {\"x\": [-0.09475725879031928, -0.04900994605620985, 0.05300910147309072, -0.0973947223700156, 0.07746743483189408, 0.12431351137228033, -0.08710501316099317, 0.030644354295195644, 0.1045081746587491, -0.06167563625367153], \"y\": [0.04033869239784347, -0.12260421421229378, -0.06733182478744562, 0.11356529227050258, -0.03682329569435826, 0.06091533730107375, -0.018804452128180375, 0.12550373896323624, -0.021691987787015303, -0.07306728632336315], \"topics\": [1, 2, 3, 4, 5, 6, 7, 8, 9, 10], \"cluster\": [1, 1, 1, 1, 1, 1, 1, 1, 1, 1], \"Freq\": [13.102579598586694, 12.299187002507763, 12.018677269935315, 10.715072079886143, 10.27308463486989, 10.259818851265358, 9.833568858006219, 7.9964664826181195, 6.989627328649471, 6.511917893675025]}, \"tinfo\": {\"Term\": [\"canadian\", \"know\", \"travel\", \"peopl\", \"say\", \"world\", \"call\", \"elect\", \"year\", \"half\", \"canada\", \"sure\", \"report\", \"today\", \"like\", \"month\", \"resign\", \"toronto\", \"shortag\", \"ontario\", \"citi\", \"probabl\", \"work\", \"offici\", \"go\", \"give\", \"littl\", \"look\", \"elxn\", \"game\", \"tweet\", \"happi\", \"fear\", \"fall\", \"peopl\", \"call\", \"leav\", \"night\", \"stop\", \"happen\", \"christma\", \"post\", \"driver\", \"catch\", \"time\", \"pretti\", \"haven\", \"survey\", \"poll\", \"test\", \"mean\", \"station\", \"pound\", \"tiktok\", \"user\", \"spend\", \"sale\", \"outsid\", \"terribl\", \"long\", \"studi\", \"minut\", \"hour\", \"sure\", \"pandem\", \"year\", \"show\", \"home\", \"canada\", \"week\", \"like\", \"say\", \"kid\", \"forev\", \"nation\", \"monday\", \"drink\", \"sure\", \"today\", \"stay\", \"extrem\", \"cold\", \"make\", \"expert\", \"wrong\", \"owner\", \"like\", \"vaccin\", \"say\", \"sound\", \"littl\", \"person\", \"tast\", \"store\", \"luggag\", \"america\", \"believ\", \"reach\", \"snow\", \"miss\", \"outsid\", \"help\", \"hard\", \"look\", \"home\", \"canada\", \"elxn\", \"time\", \"cdnpoli\", \"feel\", \"compani\", \"scientist\", \"oldest\", \"netflix\", \"break\", \"meat\", \"instead\", \"reveal\", \"sell\", \"hand\", \"place\", \"away\", \"store\", \"send\", \"world\", \"compani\", \"wear\", \"horton\", \"come\", \"news\", \"take\", \"pandem\", \"right\", \"archaeologist\", \"employe\", \"custodi\", \"tast\", \"luggag\", \"releas\", \"america\", \"british\", \"reach\", \"plan\", \"work\", \"price\", \"half\", \"canada\", \"week\", \"covid\", \"like\", \"year\", \"say\", \"go\", \"ontario\", \"name\", \"increas\", \"rank\", \"citi\", \"get\", \"suggest\", \"omicron\", \"work\", \"patient\", \"winter\", \"test\", \"actual\", \"half\", \"offici\", \"survey\", \"report\", \"custodi\", \"issu\", \"stress\", \"polic\", \"releas\", \"america\", \"tiktok\", \"miss\", \"snow\", \"close\", \"help\", \"truck\", \"worker\", \"haven\", \"ontario\", \"show\", \"canadian\", \"studi\", \"call\", \"happi\", \"go\", \"canada\", \"today\", \"say\", \"like\", \"chang\", \"research\", \"happen\", \"definit\", \"station\", \"vaccin\", \"song\", \"wear\", \"park\", \"want\", \"averag\", \"holiday\", \"stress\", \"home\", \"woman\", \"owner\", \"sell\", \"arrest\", \"anim\", \"issu\", \"luggag\", \"stori\", \"mean\", \"believ\", \"need\", \"spend\", \"truck\", \"canadian\", \"christma\", \"pandem\", \"price\", \"feel\", \"money\", \"world\", \"give\", \"year\", \"time\", \"look\", \"toronto\", \"like\", \"covid\", \"show\", \"canada\", \"celebr\", \"develop\", \"british\", \"room\", \"averag\", \"toronto\", \"scientist\", \"ask\", \"canadian\", \"pay\", \"elect\", \"offici\", \"poll\", \"covid\", \"wait\", \"send\", \"million\", \"believ\", \"expect\", \"close\", \"need\", \"sale\", \"user\", \"make\", \"cold\", \"terribl\", \"long\", \"help\", \"global\", \"own\", \"hous\", \"year\", \"price\", \"say\", \"ontario\", \"peopl\", \"show\", \"world\", \"clear\", \"compani\", \"news\", \"order\", \"week\", \"wrong\", \"know\", \"wait\", \"specif\", \"steal\", \"song\", \"money\", \"probabl\", \"sound\", \"find\", \"week\", \"employe\", \"studi\", \"word\", \"increas\", \"instead\", \"reveal\", \"meat\", \"custodi\", \"arrest\", \"anim\", \"tast\", \"issu\", \"charg\", \"polic\", \"stori\", \"million\", \"mean\", \"tiktok\", \"sale\", \"user\", \"go\", \"catch\", \"report\", \"say\", \"give\", \"toronto\", \"hear\", \"like\", \"today\", \"peopl\", \"canada\", \"year\", \"order\", \"ask\", \"person\", \"travel\", \"shortag\", \"charg\", \"tell\", \"ask\", \"pretti\", \"woman\", \"offici\", \"away\", \"place\", \"hand\", \"arrest\", \"anim\", \"definit\", \"polic\", \"releas\", \"million\", \"extrem\", \"stay\", \"pound\", \"miss\", \"snow\", \"close\", \"spend\", \"global\", \"own\", \"hous\", \"right\", \"netflix\", \"feel\", \"canada\", \"ontario\", \"show\", \"get\", \"year\", \"say\", \"owner\", \"happen\", \"offic\", \"clear\", \"think\", \"minut\", \"resign\", \"month\", \"probabl\", \"food\", \"facebook\", \"take\", \"offer\", \"littl\", \"hear\", \"pay\", \"specif\", \"stori\", \"reach\", \"expect\", \"need\", \"global\", \"break\", \"park\", \"announc\", \"tell\", \"develop\", \"driver\", \"order\", \"intern\", \"test\", \"think\", \"clear\", \"post\", \"report\", \"news\", \"year\", \"say\", \"canada\", \"price\", \"time\", \"sure\", \"hour\", \"elect\", \"highway\", \"game\", \"elxn\", \"chang\", \"cdnpoli\", \"archaeologist\", \"truck\", \"own\", \"drink\", \"plan\", \"half\", \"money\", \"hour\", \"rest\", \"offic\", \"give\", \"driver\", \"look\", \"person\", \"word\", \"celebr\", \"nation\", \"go\", \"hous\", \"minut\", \"work\", \"price\", \"right\", \"know\", \"canadian\", \"year\", \"like\", \"say\", \"today\", \"home\"], \"Freq\": [18.0, 8.0, 5.0, 10.0, 27.0, 12.0, 9.0, 5.0, 24.0, 7.0, 21.0, 7.0, 11.0, 9.0, 19.0, 4.0, 3.0, 9.0, 4.0, 10.0, 6.0, 4.0, 7.0, 5.0, 11.0, 8.0, 5.0, 8.0, 5.0, 4.0, 2.4817829194872636, 3.371311903772458, 2.2060332665933746, 2.757467975043069, 6.507346259346698, 5.659209423728205, 2.4817927495169716, 1.8679533847299477, 2.2060290537234994, 3.095526441484632, 1.5922526479362737, 2.7574911458273816, 1.867964385001288, 1.8679932899695968, 5.045349345664296, 1.8679792470700134, 1.145114320643286, 1.59225873319276, 1.8679763214659337, 1.5922353283601212, 0.9784479808136367, 0.9784418370450689, 0.9784444115766593, 0.9784600928145273, 0.9784574597708554, 0.9784581619158346, 0.9784043893128469, 0.9784591566212217, 0.9784564650654682, 0.9784538320217964, 1.8679966836703294, 1.867997034742819, 1.8679896622205376, 1.9561100273472622, 1.8679559592615378, 4.352250802411761, 2.48179157927534, 1.867988609003069, 2.7574764007828194, 1.592214732107399, 1.8679854493506627, 1.867883170232031, 2.375207139387117, 2.3752585486048408, 3.226594754714043, 1.7877693872843823, 1.787753788761056, 3.993540532954699, 4.3467539345531145, 1.5239014712320331, 1.5238989447106492, 1.5239093803424522, 1.5239033386608822, 1.523893012877835, 1.7877365425063922, 1.523854675662054, 7.008299651483088, 1.787767190309266, 9.928295763525886, 1.7877801524624526, 1.7877514819371838, 1.5238154596562263, 0.9364449349920533, 0.9364479009084604, 0.936435927394076, 0.936439003159239, 0.9364454842358323, 0.936431643292599, 0.936453613043763, 0.9364271394936104, 0.9364453743870765, 0.936441419831867, 1.0981706445378592, 1.7877705956206964, 1.7877629062077889, 3.2265308227381553, 1.1605595749520048, 1.7877943229519535, 1.160558146918179, 0.9364639388268101, 0.9364574577502167, 0.9364573479014608, 2.876727759621296, 2.2470927169584813, 2.2471603433104503, 1.6913885197626966, 1.6913776780776983, 1.69135964438384, 1.6913673731097794, 1.6913919547520029, 1.691371774189828, 1.6913500908198318, 1.6913557800208703, 1.6913817571274996, 5.751810159364847, 2.4967206892036233, 1.6913754238659662, 1.6913909886612606, 1.6913873389851224, 2.6807848058715233, 1.691381005723589, 2.496834043850733, 2.496840269768851, 1.0809779314699808, 1.69139614114522, 0.8859478798000799, 0.8859545350918611, 0.8859561452430984, 0.8859404194326802, 0.8859527639254999, 0.8859465380073822, 0.8859422979424572, 1.6913759605830452, 1.6913927061559137, 1.691358463606266, 1.6913411813163184, 3.30227827981778, 1.8117840362031359, 1.691403440497496, 2.2749451130622345, 2.496796473655195, 2.2806450484424685, 1.6913958191149725, 1.6913956044281409, 2.621935548712359, 2.3598021511238416, 2.359819185798236, 3.467797282158247, 2.94345852026692, 1.5139980293295552, 1.5139756354317566, 3.205602062099739, 1.7762010968223345, 1.7761297043105493, 2.0383094209013506, 1.7761790857262076, 2.6219860785330327, 1.7761457819807638, 1.514001378844183, 3.4677479007425887, 0.9303662551938883, 0.9303352482584748, 0.9303612787721552, 0.9303528571353763, 0.9303497947220022, 0.9303635755821859, 0.9303455839036127, 0.9303594604642144, 0.9303575464558554, 0.9303504646249278, 0.93036338418135, 0.9303492205194945, 0.9303563980508401, 0.9303626185780065, 2.621940525134092, 2.3598046393347083, 3.205638811060229, 1.5139683621999929, 1.7761480787907944, 1.1924828095088476, 1.7761733437011311, 2.359609984684613, 1.5089983523949748, 1.7761147750453503, 1.4450701861079984, 0.9303819500624309, 0.9303697004089342, 0.9303673078984857, 1.7158395626708587, 1.7158913112830925, 2.5329596921386335, 1.7159056247290294, 1.7158680060570157, 1.7159164515663408, 2.06688379749272, 1.7158753462857013, 1.715889292720204, 1.1238536057830668, 2.5329807952961048, 1.715903789671858, 1.1520449468374072, 0.8987776962682764, 0.8987994416957575, 0.8987964138514247, 0.8988147644231389, 0.8987958633342733, 0.8987934777599506, 0.898796138592849, 0.898788890117022, 0.8987857705198306, 0.898799992212909, 0.898799992212909, 4.9000397582792194, 0.8987910921856277, 1.7159063587518981, 1.7158379111194044, 0.8987911839384862, 0.8987948540528291, 2.5330264882196727, 1.7159103958776751, 4.167194262396952, 2.5330835584977036, 1.7159019546146868, 1.7159021381204038, 2.7580907451214247, 1.715908927831938, 1.9409586877820357, 1.9690723141651671, 0.8988051303729889, 2.3880792778130693, 1.79748234091353, 1.7974671296069862, 1.797465296919451, 3.509390636199428, 1.5321271461264092, 1.7975046997014619, 6.647560882129734, 1.7974689622945217, 1.797448986000386, 1.7974374400689128, 1.797479591882227, 2.6534493173692266, 0.9414969459481026, 0.9414927307667713, 0.9415280100018276, 0.9415229701111053, 0.9415179302203829, 0.9415202210798022, 0.9415168306078617, 0.941526268948669, 0.9415072089983009, 0.9415282849049579, 0.9415264522174225, 0.9415246195298871, 0.941514356479689, 0.9415062010201564, 0.9415193047360345, 0.9415281932705811, 1.7974894883949182, 5.811934538091862, 1.7975003012513768, 3.28417166497493, 1.7974715280570712, 1.7974557669442668, 1.7974955362637848, 1.797416730699763, 1.0764989409428025, 0.9415511934991503, 0.9415454205334138, 0.9415401057395612, 0.9415358905582297, 0.9415333247956802, 5.399039953115884, 1.678183868596089, 1.6781545342529678, 2.477339026936889, 1.678170167525649, 1.6781882599648197, 1.6781968670475318, 1.6781996775235195, 1.6782068793682379, 2.9093541538557157, 1.678219350855433, 1.9258999247672561, 1.67822233698617, 1.1267180669045735, 0.8790422356709797, 0.8790313450765276, 0.8790186101072085, 0.8790329259692706, 0.879037844302249, 0.8790361755821313, 0.8790491740335742, 0.8789957749898087, 0.8790591863542803, 0.8790443435279705, 0.8790533897475558, 0.8790302033206575, 0.8790408304329859, 0.8790497888251966, 0.8790550584676734, 0.8790468026944597, 2.7250998750691093, 1.2605562708770799, 2.477344647888864, 3.9643580076022187, 1.6781858007983304, 1.6781880843100705, 1.260497514363463, 1.6221695012693234, 1.1267464351465741, 1.126708405893366, 1.1267365106532425, 1.1266524598557368, 0.8790633142408871, 0.8790599768006518, 0.8790587472174072, 4.27407879120498, 2.5979637645645624, 1.5001190736206278, 1.75989653819116, 1.7597605554464493, 1.7598895390793, 1.7598742553044218, 1.7598752551775445, 0.9218536658702503, 0.9218433814609864, 0.9218370251247053, 0.9218389534514423, 0.9218326685346699, 0.9218501663143203, 0.9218495235387412, 0.9218530230946713, 0.9218439528170567, 0.9218408817781792, 0.9218385249343897, 0.921844452753618, 0.9218592365919348, 0.9218371679637228, 0.921844167075583, 0.9217975301363519, 0.9218459525633024, 0.9218299545933364, 1.7599116791270206, 1.7598921101816158, 0.9218498806362851, 0.9218468810169165, 4.2742636248936945, 1.759920535146109, 1.7598951098009845, 1.1816052051590966, 1.1816525562934155, 1.0129784598938936, 0.921865235830672, 0.9218627361478648, 0.9218552370994434, 0.9218543086458293, 0.921851523284987, 0.9218503805728465, 2.421624622788063, 2.366852883942844, 1.8226462674883677, 1.8227531425845676, 1.822700953577311, 1.822742155425145, 1.8227470247344346, 1.822723677020662, 1.8227806104831235, 1.553672364458209, 0.9547686719009526, 0.9547450744790112, 0.9547593702716688, 0.9547636153105366, 0.9547529402863251, 0.954750755339849, 0.9547598696880062, 0.9547569980440663, 0.9547697955877117, 0.9547622419156088, 0.9547633656023679, 0.9547521287347768, 0.9547714811178504, 0.9547658626840548, 0.9547629910401149, 0.9547419531269027, 0.9547721678153143, 0.9547116760114488, 1.8227938450160641, 0.9547402051697218, 2.6908337509131286, 2.690779314532354, 1.822843287233465, 0.9547801584767124, 0.9547790347899533, 0.9547701077229226, 0.954759432698711, 2.5129454031734295, 1.6122794051080507, 1.8914529875770512, 1.9966682406598688, 1.6121993763481024, 1.9966819665227669, 0.9907452303186178, 0.990746160885594, 0.9907587235397719, 0.9907506973996028, 1.8915408098354245, 1.891471482595702, 0.9907602357111082, 1.612267191416489, 0.9907565134432036, 0.9907747758201104, 1.8915097521625959, 0.9907423222968175, 1.8914826493994157, 0.990792223950913, 0.9907148705710211, 0.9907869895116723, 0.9907615152407003, 1.891549882863442, 0.9907611662780843, 0.9907805918637113, 0.9907608173154683, 0.9907686108138934, 0.9907677965677893, 0.9907555828762274, 1.612216126553673, 1.8915073094242834, 1.2875047838236369, 0.9907802429010952, 0.9907751247827264, 0.9907674476051733], \"Total\": [18.0, 8.0, 5.0, 10.0, 27.0, 12.0, 9.0, 5.0, 24.0, 7.0, 21.0, 7.0, 11.0, 9.0, 19.0, 4.0, 3.0, 9.0, 4.0, 10.0, 6.0, 4.0, 7.0, 5.0, 11.0, 8.0, 5.0, 8.0, 5.0, 4.0, 3.502101217178291, 5.237430839629361, 3.491659738072993, 4.366981792934828, 10.428194671566123, 9.578677343454208, 4.355638643886787, 3.477457926850956, 4.285245979218963, 6.050570082675749, 3.4296579278865815, 5.988175544573792, 4.394784069241158, 5.044794943542527, 13.66686057303694, 5.148034291021223, 3.4408775151371023, 5.092694234967026, 6.000904543584016, 5.172133034327239, 3.352844883705784, 3.370811686901004, 3.3800797885306455, 3.3815445395533406, 3.3916904656469744, 3.391737252832455, 3.3916809302260367, 3.393355727405708, 3.397973601969993, 3.397969312781483, 6.718649245700626, 6.879063729001927, 6.913022068448294, 7.743935586419823, 7.522421858507786, 24.65057513405444, 11.84334283042295, 8.486203734943631, 21.01456751367767, 9.15967740863217, 19.388251652926037, 27.877765985783924, 4.203948857147923, 4.279996714546935, 6.026455733688499, 3.4392709299500974, 3.4504500325373253, 7.743935586419823, 9.286186456351025, 3.377184142185995, 3.3771816789099853, 3.395075354815875, 3.395076865312041, 3.423076991293359, 4.243737660402483, 4.194275710236664, 19.388251652926037, 5.00106773533202, 27.877765985783924, 5.037575495277723, 5.141620252575046, 5.052421883639944, 3.302992441868649, 3.3092847952949795, 3.320937140181507, 3.3496374876935167, 3.371453903723103, 3.3718038023560863, 3.38226345664889, 3.382262658670367, 3.393355727405708, 3.400149875508631, 4.200340197399047, 8.48473407797511, 8.486203734943631, 21.01456751367767, 5.17587901420199, 13.66686057303694, 6.065385555967138, 4.15270654543377, 5.787739915591673, 4.22610534162769, 4.093078861150885, 4.113931005784682, 4.1294084709536945, 3.25710608510493, 3.257103042290352, 3.2571046000810377, 3.2750522549040886, 3.2960132319095554, 3.2960110906094284, 3.2960105730807845, 3.3092847952949795, 3.313897273590576, 12.35871784340495, 5.787739915591673, 4.0921622849051005, 4.102887183825483, 4.155075315422579, 6.7225327094006975, 5.045218775328519, 7.522421858507786, 7.58101038298018, 3.3934109627604117, 5.711401481232958, 3.29745680523212, 3.302992441868649, 3.320937140181507, 3.336359181928478, 3.3496374876935167, 3.364422047698101, 3.3718038023560863, 6.726889791181151, 7.538587508592044, 7.572699250596791, 7.613827532161394, 21.01456751367767, 9.15967740863217, 9.263252322984258, 19.388251652926037, 24.65057513405444, 27.877765985783924, 11.788752766475495, 10.15198586880925, 3.384511509808764, 4.169192377062002, 4.242142412620126, 6.7234358324724255, 5.902813167447853, 3.4137305288483115, 3.413732688812998, 7.538587508592044, 4.189141315776473, 4.24595346054701, 5.172133034327239, 4.994582779660926, 7.613827532161394, 5.926681163757834, 5.092694234967026, 11.675568756997565, 3.29745680523212, 3.309114740110981, 3.318621031018344, 3.330082563243471, 3.336359181928478, 3.3496374876935167, 3.3815445395533406, 3.382262658670367, 3.38226345664889, 3.3868751708865186, 3.400149875508631, 3.4106708420002803, 3.433723322483016, 3.4408775151371023, 10.15198586880925, 11.84334283042295, 18.618948483401983, 6.718649245700626, 9.578677343454208, 5.237430839629361, 11.788752766475495, 21.01456751367767, 9.286186456351025, 27.877765985783924, 19.388251652926037, 4.352274817128597, 4.199288153539827, 6.050570082675749, 3.3193468463578317, 3.370811686901004, 5.00106773533202, 4.079609015131186, 4.0921622849051005, 4.148406568780237, 4.9990004745063015, 4.193188316367104, 4.208853131612351, 3.318621031018344, 8.486203734943631, 5.8523217179847675, 4.194275710236664, 3.2750522549040886, 3.301383686342743, 3.301381708728247, 3.309114740110981, 3.320937140181507, 3.331301796940199, 3.352844883705784, 3.371453903723103, 3.388090006349291, 3.391737252832455, 3.4106708420002803, 18.618948483401983, 3.4296579278865815, 7.522421858507786, 7.572699250596791, 4.15270654543377, 4.163189668385919, 12.35871784340495, 8.388123361319433, 24.65057513405444, 13.66686057303694, 8.48473407797511, 9.20049675853194, 19.388251652926037, 9.263252322984258, 11.84334283042295, 21.01456751367767, 5.90472957336375, 4.293300641181694, 3.364422047698101, 3.448505314702892, 4.193188316367104, 9.20049675853194, 4.22610534162769, 5.0342245612145256, 18.618948483401983, 5.087181962932328, 5.229578866962388, 5.926681163757834, 6.000904543584016, 9.263252322984258, 3.3013367828816285, 3.313897273590576, 3.340227220312024, 3.371453903723103, 3.376428252193059, 3.3868751708865186, 3.388090006349291, 3.3916809302260367, 3.3916904656469744, 3.395076865312041, 3.395075354815875, 3.397973601969993, 3.397969312781483, 3.400149875508631, 3.4090520414418264, 3.441778367752767, 6.798656652151333, 24.65057513405444, 7.572699250596791, 27.877765985783924, 10.15198586880925, 10.428194671566123, 11.84334283042295, 12.35871784340495, 5.923969228278813, 5.787739915591673, 6.7225327094006975, 5.038550559676996, 9.15967740863217, 4.243737660402483, 8.161135881400146, 3.3013367828816285, 3.313369445384314, 4.95116144664993, 4.079609015131186, 4.163189668385919, 4.181334801589109, 5.037575495277723, 5.042163017484525, 9.15967740863217, 5.711401481232958, 6.718649245700626, 5.8969408618726895, 4.169192377062002, 3.257103042290352, 3.2571046000810377, 3.25710608510493, 3.29745680523212, 3.301383686342743, 3.301381708728247, 3.302992441868649, 3.309114740110981, 3.3122221806913, 3.330082563243471, 3.331301796940199, 3.340227220312024, 3.352844883705784, 3.3815445395533406, 3.3916809302260367, 3.3916904656469744, 11.788752766475495, 5.044794943542527, 11.675568756997565, 27.877765985783924, 8.388123361319433, 9.20049675853194, 5.886333040815667, 19.388251652926037, 9.286186456351025, 10.428194671566123, 21.01456751367767, 24.65057513405444, 5.038550559676996, 5.0342245612145256, 5.052421883639944, 5.888703180951503, 4.983775148707829, 3.3122221806913, 4.247105431001479, 5.0342245612145256, 5.148034291021223, 5.8523217179847675, 5.926681163757834, 3.2960105730807845, 3.2960110906094284, 3.2960132319095554, 3.301383686342743, 3.301381708728247, 3.3193468463578317, 3.330082563243471, 3.336359181928478, 3.340227220312024, 3.3771816789099853, 3.377184142185995, 3.3800797885306455, 3.382262658670367, 3.38226345664889, 3.3868751708865186, 3.391737252832455, 3.4090520414418264, 3.441778367752767, 6.798656652151333, 7.58101038298018, 4.113931005784682, 4.15270654543377, 21.01456751367767, 10.15198586880925, 11.84334283042295, 5.902813167447853, 24.65057513405444, 27.877765985783924, 4.194275710236664, 6.050570082675749, 4.326651048649172, 5.923969228278813, 5.877339432679436, 6.879063729001927, 3.4316150296175563, 4.245606169853836, 4.181334801589109, 4.251455185815918, 4.271682349308807, 5.045218775328519, 5.0770892616239625, 5.141620252575046, 5.886333040815667, 5.087181962932328, 3.313369445384314, 3.331301796940199, 3.3718038023560863, 3.376428252193059, 3.388090006349291, 3.4090520414418264, 4.1294084709536945, 4.148406568780237, 4.188892545137697, 4.247105431001479, 4.293300641181694, 4.394784069241158, 5.038550559676996, 5.044828619575344, 5.172133034327239, 5.877339432679436, 5.923969228278813, 5.988175544573792, 11.675568756997565, 6.7225327094006975, 24.65057513405444, 27.877765985783924, 21.01456751367767, 7.572699250596791, 13.66686057303694, 7.743935586419823, 6.913022068448294, 5.229578866962388, 3.4683566807706687, 4.305215972723654, 5.17587901420199, 4.352274817128597, 6.065385555967138, 3.3934109627604117, 3.4106708420002803, 3.441778367752767, 3.4504500325373253, 6.726889791181151, 7.613827532161394, 4.163189668385919, 6.913022068448294, 4.294039862366668, 4.326651048649172, 8.388123361319433, 4.394784069241158, 8.48473407797511, 5.052421883639944, 5.8969408618726895, 5.90472957336375, 6.026455733688499, 11.788752766475495, 6.798656652151333, 6.879063729001927, 7.538587508592044, 7.572699250596791, 7.58101038298018, 8.161135881400146, 18.618948483401983, 24.65057513405444, 19.388251652926037, 27.877765985783924, 9.286186456351025, 8.486203734943631], \"Category\": [\"Default\", \"Default\", \"Default\", \"Default\", \"Default\", \"Default\", \"Default\", \"Default\", \"Default\", \"Default\", \"Default\", \"Default\", \"Default\", \"Default\", \"Default\", \"Default\", \"Default\", \"Default\", \"Default\", \"Default\", \"Default\", \"Default\", \"Default\", \"Default\", \"Default\", \"Default\", \"Default\", \"Default\", \"Default\", \"Default\", \"Topic1\", \"Topic1\", \"Topic1\", \"Topic1\", \"Topic1\", \"Topic1\", \"Topic1\", \"Topic1\", \"Topic1\", \"Topic1\", \"Topic1\", \"Topic1\", \"Topic1\", \"Topic1\", \"Topic1\", \"Topic1\", \"Topic1\", \"Topic1\", \"Topic1\", \"Topic1\", \"Topic1\", \"Topic1\", \"Topic1\", \"Topic1\", \"Topic1\", \"Topic1\", \"Topic1\", \"Topic1\", \"Topic1\", \"Topic1\", \"Topic1\", \"Topic1\", \"Topic1\", \"Topic1\", \"Topic1\", \"Topic1\", \"Topic1\", \"Topic1\", \"Topic1\", \"Topic1\", \"Topic1\", \"Topic1\", \"Topic2\", \"Topic2\", \"Topic2\", \"Topic2\", \"Topic2\", \"Topic2\", \"Topic2\", \"Topic2\", \"Topic2\", \"Topic2\", \"Topic2\", \"Topic2\", \"Topic2\", \"Topic2\", \"Topic2\", \"Topic2\", \"Topic2\", \"Topic2\", \"Topic2\", \"Topic2\", \"Topic2\", \"Topic2\", \"Topic2\", \"Topic2\", \"Topic2\", \"Topic2\", \"Topic2\", \"Topic2\", \"Topic2\", \"Topic2\", \"Topic2\", \"Topic2\", \"Topic2\", \"Topic2\", \"Topic2\", \"Topic2\", \"Topic2\", \"Topic2\", \"Topic2\", \"Topic2\", \"Topic3\", \"Topic3\", \"Topic3\", \"Topic3\", \"Topic3\", \"Topic3\", \"Topic3\", \"Topic3\", \"Topic3\", \"Topic3\", \"Topic3\", \"Topic3\", \"Topic3\", \"Topic3\", \"Topic3\", \"Topic3\", \"Topic3\", \"Topic3\", \"Topic3\", \"Topic3\", \"Topic3\", \"Topic3\", \"Topic3\", \"Topic3\", \"Topic3\", \"Topic3\", \"Topic3\", \"Topic3\", \"Topic3\", \"Topic3\", \"Topic3\", \"Topic3\", \"Topic3\", \"Topic3\", \"Topic3\", \"Topic3\", \"Topic3\", \"Topic3\", \"Topic3\", \"Topic3\", \"Topic3\", \"Topic3\", \"Topic4\", \"Topic4\", \"Topic4\", \"Topic4\", \"Topic4\", \"Topic4\", \"Topic4\", \"Topic4\", \"Topic4\", \"Topic4\", \"Topic4\", \"Topic4\", \"Topic4\", \"Topic4\", \"Topic4\", \"Topic4\", \"Topic4\", \"Topic4\", \"Topic4\", \"Topic4\", \"Topic4\", \"Topic4\", \"Topic4\", \"Topic4\", \"Topic4\", \"Topic4\", \"Topic4\", \"Topic4\", \"Topic4\", \"Topic4\", \"Topic4\", \"Topic4\", \"Topic4\", \"Topic4\", \"Topic4\", \"Topic4\", \"Topic4\", \"Topic4\", \"Topic4\", \"Topic4\", \"Topic4\", \"Topic4\", \"Topic4\", \"Topic4\", \"Topic5\", \"Topic5\", \"Topic5\", \"Topic5\", \"Topic5\", \"Topic5\", \"Topic5\", \"Topic5\", \"Topic5\", \"Topic5\", \"Topic5\", \"Topic5\", \"Topic5\", \"Topic5\", \"Topic5\", \"Topic5\", \"Topic5\", \"Topic5\", \"Topic5\", \"Topic5\", \"Topic5\", \"Topic5\", \"Topic5\", \"Topic5\", \"Topic5\", \"Topic5\", \"Topic5\", \"Topic5\", \"Topic5\", \"Topic5\", \"Topic5\", \"Topic5\", \"Topic5\", \"Topic5\", \"Topic5\", \"Topic5\", \"Topic5\", \"Topic5\", \"Topic5\", \"Topic5\", \"Topic5\", \"Topic6\", \"Topic6\", \"Topic6\", \"Topic6\", \"Topic6\", \"Topic6\", \"Topic6\", \"Topic6\", \"Topic6\", \"Topic6\", \"Topic6\", \"Topic6\", \"Topic6\", \"Topic6\", \"Topic6\", \"Topic6\", \"Topic6\", \"Topic6\", \"Topic6\", \"Topic6\", \"Topic6\", \"Topic6\", \"Topic6\", \"Topic6\", \"Topic6\", \"Topic6\", \"Topic6\", \"Topic6\", \"Topic6\", \"Topic6\", \"Topic6\", \"Topic6\", \"Topic6\", \"Topic6\", \"Topic6\", \"Topic6\", \"Topic6\", \"Topic6\", \"Topic6\", \"Topic6\", \"Topic6\", \"Topic6\", \"Topic6\", \"Topic7\", \"Topic7\", \"Topic7\", \"Topic7\", \"Topic7\", \"Topic7\", \"Topic7\", \"Topic7\", \"Topic7\", \"Topic7\", \"Topic7\", \"Topic7\", \"Topic7\", \"Topic7\", \"Topic7\", \"Topic7\", \"Topic7\", \"Topic7\", \"Topic7\", \"Topic7\", \"Topic7\", \"Topic7\", \"Topic7\", \"Topic7\", \"Topic7\", \"Topic7\", \"Topic7\", \"Topic7\", \"Topic7\", \"Topic7\", \"Topic7\", \"Topic7\", \"Topic7\", \"Topic7\", \"Topic7\", \"Topic7\", \"Topic7\", \"Topic7\", \"Topic7\", \"Topic7\", \"Topic7\", \"Topic7\", \"Topic7\", \"Topic7\", \"Topic7\", \"Topic8\", \"Topic8\", \"Topic8\", \"Topic8\", \"Topic8\", \"Topic8\", \"Topic8\", \"Topic8\", \"Topic8\", \"Topic8\", \"Topic8\", \"Topic8\", \"Topic8\", \"Topic8\", \"Topic8\", \"Topic8\", \"Topic8\", \"Topic8\", \"Topic8\", \"Topic8\", \"Topic8\", \"Topic8\", \"Topic8\", \"Topic8\", \"Topic8\", \"Topic8\", \"Topic8\", \"Topic8\", \"Topic8\", \"Topic8\", \"Topic8\", \"Topic8\", \"Topic8\", \"Topic8\", \"Topic8\", \"Topic8\", \"Topic8\", \"Topic8\", \"Topic8\", \"Topic8\", \"Topic8\", \"Topic8\", \"Topic9\", \"Topic9\", \"Topic9\", \"Topic9\", \"Topic9\", \"Topic9\", \"Topic9\", \"Topic9\", \"Topic9\", \"Topic9\", \"Topic9\", \"Topic9\", \"Topic9\", \"Topic9\", \"Topic9\", \"Topic9\", \"Topic9\", \"Topic9\", \"Topic9\", \"Topic9\", \"Topic9\", \"Topic9\", \"Topic9\", \"Topic9\", \"Topic9\", \"Topic9\", \"Topic9\", \"Topic9\", \"Topic9\", \"Topic9\", \"Topic9\", \"Topic9\", \"Topic9\", \"Topic9\", \"Topic9\", \"Topic9\", \"Topic9\", \"Topic10\", \"Topic10\", \"Topic10\", \"Topic10\", \"Topic10\", \"Topic10\", \"Topic10\", \"Topic10\", \"Topic10\", \"Topic10\", \"Topic10\", \"Topic10\", \"Topic10\", \"Topic10\", \"Topic10\", \"Topic10\", \"Topic10\", \"Topic10\", \"Topic10\", \"Topic10\", \"Topic10\", \"Topic10\", \"Topic10\", \"Topic10\", \"Topic10\", \"Topic10\", \"Topic10\", \"Topic10\", \"Topic10\", \"Topic10\", \"Topic10\", \"Topic10\", \"Topic10\", \"Topic10\", \"Topic10\", \"Topic10\"], \"logprob\": [30.0, 29.0, 28.0, 27.0, 26.0, 25.0, 24.0, 23.0, 22.0, 21.0, 20.0, 19.0, 18.0, 17.0, 16.0, 15.0, 14.0, 13.0, 12.0, 11.0, 10.0, 9.0, 8.0, 7.0, 6.0, 5.0, 4.0, 3.0, 2.0, 1.0, -3.9246, -3.6182, -4.0423, -3.8192, -2.9606, -3.1002, -3.9245, -4.2087, -4.0423, -3.7036, -4.3684, -3.8192, -4.2087, -4.2087, -3.2151, -4.2087, -4.698, -4.3684, -4.2087, -4.3684, -4.8553, -4.8553, -4.8553, -4.8553, -4.8553, -4.8553, -4.8554, -4.8553, -4.8553, -4.8553, -4.2087, -4.2087, -4.2087, -4.1626, -4.2087, -3.3628, -3.9245, -4.2087, -3.8192, -4.3684, -4.2087, -4.2087, -3.9052, -3.9051, -3.5988, -4.1893, -4.1893, -3.3856, -3.3008, -4.349, -4.349, -4.349, -4.349, -4.349, -4.1893, -4.349, -2.8232, -4.1893, -2.4749, -4.1893, -4.1893, -4.349, -4.8359, -4.8359, -4.8359, -4.8359, -4.8359, -4.8359, -4.8359, -4.8359, -4.8359, -4.8359, -4.6766, -4.1893, -4.1893, -3.5988, -4.6214, -4.1893, -4.6214, -4.8359, -4.8359, -4.8359, -3.6905, -3.9375, -3.9375, -4.2216, -4.2216, -4.2217, -4.2216, -4.2216, -4.2216, -4.2217, -4.2217, -4.2216, -2.9977, -3.8322, -4.2216, -4.2216, -4.2216, -3.7611, -4.2216, -3.8322, -3.8322, -4.6693, -4.2216, -4.8683, -4.8683, -4.8683, -4.8683, -4.8683, -4.8683, -4.8683, -4.2216, -4.2216, -4.2217, -4.2217, -3.5526, -4.1529, -4.2216, -3.9252, -3.8322, -3.9227, -4.2216, -4.2216, -3.6685, -3.7738, -3.7738, -3.3889, -3.5528, -4.2176, -4.2176, -3.4675, -4.0579, -4.0579, -3.9203, -4.0579, -3.6684, -4.0579, -4.2176, -3.3889, -4.7045, -4.7046, -4.7046, -4.7046, -4.7046, -4.7046, -4.7046, -4.7046, -4.7046, -4.7046, -4.7046, -4.7046, -4.7046, -4.7046, -3.6685, -3.7738, -3.4675, -4.2176, -4.0579, -4.4563, -4.0579, -3.7739, -4.2209, -4.0579, -4.2642, -4.7045, -4.7045, -4.7045, -4.0503, -4.0503, -3.6609, -4.0503, -4.0503, -4.0503, -3.8642, -4.0503, -4.0503, -4.4735, -3.6609, -4.0503, -4.4487, -4.697, -4.6969, -4.6969, -4.6969, -4.6969, -4.697, -4.6969, -4.697, -4.697, -4.6969, -4.6969, -3.001, -4.697, -4.0503, -4.0503, -4.697, -4.6969, -3.6608, -4.0503, -3.163, -3.6608, -4.0503, -4.0503, -3.5757, -4.0503, -3.9271, -3.9127, -4.6969, -3.7185, -4.0026, -4.0026, -4.0026, -3.3335, -4.1623, -4.0026, -2.6947, -4.0026, -4.0026, -4.0026, -4.0026, -3.6131, -4.6492, -4.6492, -4.6492, -4.6492, -4.6492, -4.6492, -4.6492, -4.6492, -4.6492, -4.6492, -4.6492, -4.6492, -4.6492, -4.6492, -4.6492, -4.6492, -4.0026, -2.829, -4.0026, -3.3998, -4.0026, -4.0026, -4.0026, -4.0026, -4.5152, -4.6492, -4.6492, -4.6492, -4.6492, -4.6492, -2.8603, -4.0288, -4.0288, -3.6393, -4.0288, -4.0288, -4.0288, -4.0288, -4.0288, -3.4786, -4.0288, -3.8911, -4.0288, -4.4272, -4.6754, -4.6755, -4.6755, -4.6755, -4.6755, -4.6755, -4.6754, -4.6755, -4.6754, -4.6754, -4.6754, -4.6755, -4.6754, -4.6754, -4.6754, -4.6754, -3.544, -4.315, -3.6393, -3.1692, -4.0288, -4.0288, -4.315, -4.0628, -4.4272, -4.4272, -4.4272, -4.4273, -4.6754, -4.6754, -4.6754, -2.8872, -3.385, -3.9342, -3.7745, -3.7745, -3.7745, -3.7745, -3.7745, -4.4211, -4.4211, -4.4211, -4.4211, -4.4211, -4.4211, -4.4211, -4.4211, -4.4211, -4.4211, -4.4211, -4.4211, -4.4211, -4.4211, -4.4211, -4.4212, -4.4211, -4.4211, -3.7745, -3.7745, -4.4211, -4.4211, -2.8871, -3.7745, -3.7745, -4.1728, -4.1728, -4.3268, -4.4211, -4.4211, -4.4211, -4.4211, -4.4211, -4.4211, -3.3207, -3.3436, -3.6049, -3.6048, -3.6048, -3.6048, -3.6048, -3.6048, -3.6048, -3.7645, -4.2514, -4.2515, -4.2514, -4.2514, -4.2515, -4.2515, -4.2514, -4.2514, -4.2514, -4.2514, -4.2514, -4.2515, -4.2514, -4.2514, -4.2514, -4.2515, -4.2514, -4.2515, -3.6048, -4.2515, -3.2153, -3.2153, -3.6048, -4.2514, -4.2514, -4.2514, -4.2514, -3.2129, -3.6567, -3.497, -3.4429, -3.6568, -3.4429, -4.1437, -4.1437, -4.1436, -4.1436, -3.497, -3.497, -4.1436, -3.6567, -4.1436, -4.1436, -3.497, -4.1437, -3.497, -4.1436, -4.1437, -4.1436, -4.1436, -3.497, -4.1436, -4.1436, -4.1436, -4.1436, -4.1436, -4.1436, -3.6567, -3.497, -3.8816, -4.1436, -4.1436, -4.1436], \"loglift\": [30.0, 29.0, 28.0, 27.0, 26.0, 25.0, 24.0, 23.0, 22.0, 21.0, 20.0, 19.0, 18.0, 17.0, 16.0, 15.0, 14.0, 13.0, 12.0, 11.0, 10.0, 9.0, 8.0, 7.0, 6.0, 5.0, 4.0, 3.0, 2.0, 1.0, 1.688, 1.5918, 1.5732, 1.5726, 1.5608, 1.5061, 1.4699, 1.4109, 1.3684, 1.3622, 1.2651, 1.2569, 1.1768, 1.0389, 1.0359, 1.0186, 0.9321, 0.8697, 0.8653, 0.8542, 0.8008, 0.7954, 0.7927, 0.7923, 0.7893, 0.7892, 0.7892, 0.7888, 0.7874, 0.7874, 0.7523, 0.7287, 0.7238, 0.6564, 0.6393, 0.2983, 0.4696, 0.5188, 0.0015, 0.2827, -0.3074, -0.6707, 1.5247, 1.5068, 1.4709, 1.4413, 1.4381, 1.4334, 1.3365, 1.2999, 1.2999, 1.2946, 1.2946, 1.2864, 1.2311, 1.0832, 1.0781, 1.067, 1.0632, 1.0597, 1.0392, 0.897, 0.8351, 0.8332, 0.8297, 0.8211, 0.8146, 0.8145, 0.8114, 0.8114, 0.8082, 0.8061, 0.7541, 0.5383, 0.5382, 0.2218, 0.6005, 0.0616, 0.4419, 0.6062, 0.2742, 0.5887, 1.7661, 1.514, 1.5102, 1.4634, 1.4634, 1.4634, 1.4579, 1.4515, 1.4515, 1.4515, 1.4475, 1.4461, 1.3539, 1.2779, 1.2352, 1.2326, 1.2199, 1.1994, 1.0258, 1.0158, 1.0081, 0.9747, 0.9018, 0.8045, 0.8028, 0.7974, 0.7927, 0.7888, 0.7844, 0.7822, 0.7381, 0.6242, 0.6197, 0.6143, 0.2681, 0.4982, 0.4182, -0.024, -0.1711, -0.3847, 0.1771, 0.3266, 1.9782, 1.6644, 1.647, 1.5714, 1.5377, 1.4205, 1.4205, 1.3784, 1.3755, 1.362, 1.3024, 1.1996, 1.1675, 1.0285, 1.0205, 1.0195, 0.9682, 0.9646, 0.9618, 0.9583, 0.9564, 0.9525, 0.943, 0.9428, 0.9428, 0.9414, 0.9375, 0.9344, 0.9277, 0.9256, 0.8798, 0.6203, 0.4743, 0.7434, 0.5484, 0.7537, 0.3408, 0.0468, 0.4164, -0.5199, -0.363, 0.6907, 0.7264, 0.3612, 1.6158, 1.6004, 1.5954, 1.4096, 1.4065, 1.3929, 1.3924, 1.3821, 1.3784, 1.1929, 1.0666, 1.0487, 0.9835, 0.9826, 0.9746, 0.9746, 0.9723, 0.9687, 0.9656, 0.9591, 0.9536, 0.9487, 0.9476, 0.942, 0.9407, 0.9365, 0.7977, 0.791, 0.7452, 0.7427, 0.6907, 0.6888, 0.4981, 0.5901, 0.6773, 0.5963, 0.3255, 0.5895, 0.4671, -0.092, 0.3932, 1.6904, 1.6501, 1.6254, 1.4299, 1.3131, 1.2623, 1.2471, 1.247, 1.2366, 1.209, 1.0838, 1.0714, 1.0267, 1.0223, 1.0185, 1.0106, 1.0013, 0.9999, 0.9968, 0.9964, 0.9954, 0.9953, 0.9944, 0.9944, 0.9935, 0.9935, 0.9928, 0.9902, 0.9807, 0.9466, 0.832, 0.8388, 0.1382, 0.5456, 0.5188, 0.3916, 0.3489, 0.5716, 0.461, 0.3112, 0.5996, 0.0019, 0.7712, 1.9062, 1.6428, 1.6391, 1.6269, 1.4311, 1.4108, 1.4065, 1.2202, 1.2193, 1.1725, 1.0946, 1.0699, 1.0627, 1.011, 1.0096, 1.0096, 1.0096, 0.9973, 0.9961, 0.9961, 0.9956, 0.9937, 0.9928, 0.9875, 0.9871, 0.9844, 0.9806, 0.9721, 0.9691, 0.9691, 0.8547, 0.9326, 0.7691, 0.3689, 0.7103, 0.6178, 0.7782, -0.1615, 0.2102, 0.0942, -0.6065, -0.7662, 0.5734, 0.5742, 0.5706, 2.2057, 1.8747, 1.7341, 1.6452, 1.4751, 1.4528, 1.3246, 1.3119, 1.2521, 1.2521, 1.2521, 1.2504, 1.2504, 1.245, 1.2418, 1.2399, 1.2388, 1.2277, 1.2277, 1.2269, 1.2263, 1.2262, 1.2249, 1.2234, 1.2184, 1.2088, 1.1747, 1.0658, 1.0304, 1.021, 0.9336, 0.7738, 0.6197, 0.9176, -0.5117, -0.7888, 1.0111, 0.6447, 0.98, 0.6658, 0.6737, 0.5163, 2.3122, 2.0764, 1.8304, 1.8138, 1.8091, 1.6426, 1.6363, 1.6237, 1.4885, 1.4746, 1.4165, 1.4111, 1.399, 1.3976, 1.3942, 1.388, 1.1963, 1.1917, 1.182, 1.1682, 1.1574, 1.134, 0.9973, 0.9961, 0.9712, 0.8433, 0.8355, 0.8246, 0.8036, 0.709, 0.4458, 0.3227, 0.2159, 0.5899, -0.0005, 0.5675, 0.681, 1.9987, 1.9655, 1.9091, 1.779, 1.7384, 1.6204, 1.5004, 1.4953, 1.4863, 1.4837, 1.4628, 1.3389, 1.296, 1.2758, 1.265, 1.2575, 1.2421, 1.2418, 1.2306, 1.1024, 0.9478, 0.9465, 0.9261, 0.9018, 0.8055, 0.7938, 0.7022, 0.6977, 0.6966, 0.6229, 0.285, 0.1641, 0.0196, -0.6056, 0.4937, 0.5838]}, \"token.table\": {\"Topic\": [2, 3, 4, 7, 2, 3, 4, 5, 7, 8, 2, 3, 5, 9, 2, 3, 10, 5, 7, 8, 6, 7, 8, 5, 6, 3, 8, 2, 5, 6, 3, 9, 3, 6, 1, 4, 9, 1, 2, 3, 4, 5, 7, 8, 9, 2, 4, 5, 6, 9, 10, 1, 3, 5, 7, 1, 2, 4, 10, 1, 3, 4, 5, 7, 10, 1, 4, 10, 7, 8, 1, 5, 4, 6, 7, 8, 2, 4, 5, 6, 8, 9, 4, 6, 8, 2, 6, 2, 3, 4, 2, 3, 5, 6, 1, 3, 4, 5, 6, 9, 3, 4, 7, 5, 8, 6, 9, 2, 10, 1, 9, 10, 6, 10, 2, 4, 10, 3, 5, 7, 8, 3, 6, 9, 1, 2, 2, 8, 1, 7, 9, 1, 2, 1, 2, 5, 7, 8, 1, 2, 6, 7, 2, 5, 9, 1, 2, 2, 3, 10, 2, 4, 8, 3, 4, 5, 6, 7, 10, 6, 8, 9, 1, 2, 3, 4, 7, 8, 10, 3, 4, 5, 10, 3, 8, 1, 4, 8, 1, 4, 2, 4, 6, 7, 1, 2, 4, 3, 4, 6, 7, 9, 2, 4, 6, 4, 10, 1, 5, 8, 1, 2, 3, 5, 10, 3, 4, 7, 1, 3, 8, 9, 10, 4, 5, 6, 8, 10, 4, 7, 3, 7, 2, 3, 5, 6, 9, 4, 5, 7, 2, 5, 5, 7, 10, 1, 6, 1, 2, 3, 4, 5, 7, 9, 10, 2, 6, 9, 1, 3, 6, 2, 3, 5, 6, 8, 10, 2, 3, 5, 2, 6, 1, 5, 7, 3, 7, 6, 7, 8, 1, 2, 4, 5, 8, 10, 2, 4, 8, 1, 2, 5, 7, 10, 3, 9, 4, 1, 2, 10, 5, 6, 9, 3, 8, 1, 3, 6, 9, 1, 2, 1, 3, 7, 9, 1, 2, 8, 10, 4, 6, 8, 2, 3, 1, 4, 3, 4, 6, 8, 9, 10, 2, 5, 6, 7, 9, 1, 2, 3, 6, 8, 10, 2, 5, 8, 1, 3, 4, 5, 5, 7, 9, 2, 4, 7, 6, 7, 9, 1, 6, 7, 2, 5, 7, 10, 3, 8, 2, 3, 5, 7, 10, 4, 7, 8, 1, 4, 5, 6, 1, 3, 7, 9, 1, 3, 8, 1, 4, 8, 3, 5, 6, 9, 10, 7, 9, 4, 6, 2, 3, 9, 3, 4, 8, 2, 3, 4, 5, 7, 8, 9, 2, 4, 6, 7, 9, 1, 2, 3, 10, 3, 7, 1, 2, 3, 8, 10, 1, 6, 1, 6, 7, 1, 2, 3, 4, 6, 7, 8, 9, 10, 2, 3, 6, 3, 5, 3, 6, 3, 5, 8, 1, 3, 4, 5, 6, 8, 2, 4, 8, 5, 7, 1, 2, 7, 7, 9, 1, 5, 8, 1, 5, 2, 8, 1, 5, 7, 1, 7, 2, 3, 5, 7, 9, 3, 4, 5, 1, 4, 5, 7, 1, 4, 1, 2, 9, 1, 3, 4, 2, 3, 9, 2, 3, 7, 6, 8, 9, 1, 3, 6, 1, 4, 9, 3, 4, 5, 6, 8, 9, 1, 4, 7, 1, 2, 3, 5, 6, 8, 9, 2, 3, 4, 7, 10, 2, 4, 5, 6, 7, 2, 8, 4, 5, 10, 1, 1, 6, 7, 2, 5, 6, 7, 2, 3, 5, 6, 3, 5, 1, 2, 3, 6, 7, 2, 4, 6, 1, 3, 5, 8, 1, 3, 6, 7, 10, 3, 4, 7, 10, 1, 2, 4, 3, 5, 6, 8, 9, 2, 6, 8, 1, 2, 3, 5, 6, 7, 8, 9, 10], \"Freq\": [0.20021692383840883, 0.20021692383840883, 0.40043384767681767, 0.20021692383840883, 0.2985397684597138, 0.2985397684597138, 0.2985397684597138, 0.302903477461023, 0.302903477461023, 0.302903477461023, 0.23872658207973393, 0.23872658207973393, 0.23872658207973393, 0.23872658207973393, 0.29468873972946025, 0.29468873972946025, 0.29468873972946025, 0.30290329601397986, 0.30290329601397986, 0.30290329601397986, 0.3972806488230021, 0.19864032441150106, 0.3972806488230021, 0.47696403049523917, 0.47696403049523917, 0.6067941699988535, 0.30339708499942675, 0.29660794083398206, 0.29660794083398206, 0.29660794083398206, 0.48433087064842884, 0.24216543532421442, 0.2972278702917753, 0.5944557405835506, 0.626391283980374, 0.2087970946601247, 0.10439854733006235, 0.1427581128208992, 0.1427581128208992, 0.1427581128208992, 0.09517207521393281, 0.09517207521393281, 0.047586037606966405, 0.19034415042786562, 0.09517207521393281, 0.05370872586555886, 0.16112617759667658, 0.2685436293277943, 0.375961081058912, 0.05370872586555886, 0.10741745173111772, 0.39644822483023884, 0.19822411241511942, 0.19822411241511942, 0.19822411241511942, 0.164869980774132, 0.164869980774132, 0.164869980774132, 0.329739961548264, 0.1693557660135703, 0.1693557660135703, 0.1693557660135703, 0.1693557660135703, 0.1693557660135703, 0.1693557660135703, 0.22976490272729322, 0.22976490272729322, 0.45952980545458644, 0.3019121138157731, 0.6038242276315462, 0.5831485361085084, 0.2915742680542542, 0.44620043601974896, 0.14873347867324965, 0.14873347867324965, 0.14873347867324965, 0.16880573842726496, 0.16880573842726496, 0.16880573842726496, 0.16880573842726496, 0.16880573842726496, 0.16880573842726496, 0.2952574126722978, 0.2952574126722978, 0.2952574126722978, 0.589088544724942, 0.294544272362471, 0.24066952439785033, 0.48133904879570066, 0.24066952439785033, 0.17277901470763848, 0.34555802941527697, 0.17277901470763848, 0.17277901470763848, 0.10795344498160438, 0.21590688996320875, 0.10795344498160438, 0.21590688996320875, 0.32386033494481314, 0.10795344498160438, 0.3032640180193676, 0.3032640180193676, 0.3032640180193676, 0.602528175744728, 0.301264087872364, 0.46584205653241123, 0.23292102826620562, 0.5796345349563804, 0.2898172674781902, 0.4550849298826501, 0.22754246494132505, 0.22754246494132505, 0.3824399728694988, 0.5736599593042482, 0.19320389778356878, 0.19320389778356878, 0.38640779556713756, 0.3501767484866511, 0.17508837424332555, 0.3501767484866511, 0.17508837424332555, 0.29617096094089357, 0.29617096094089357, 0.29617096094089357, 0.29213482563889537, 0.5842696512777907, 0.5922097743481534, 0.2961048871740767, 0.23409980383064022, 0.23409980383064022, 0.46819960766128044, 0.6869733244259422, 0.2289911081419807, 0.57279349937568, 0.24080680612974667, 0.24080680612974667, 0.24080680612974667, 0.24080680612974667, 0.19832758213733598, 0.19832758213733598, 0.19832758213733598, 0.39665516427467196, 0.23521358130183018, 0.23521358130183018, 0.47042716260366035, 0.23364503916584348, 0.46729007833168695, 0.23227638435229522, 0.23227638435229522, 0.46455276870459045, 0.16941074901619513, 0.5082322470485854, 0.16941074901619513, 0.11921617707857628, 0.11921617707857628, 0.23843235415715255, 0.11921617707857628, 0.23843235415715255, 0.23843235415715255, 0.29333667771673544, 0.29333667771673544, 0.29333667771673544, 0.16965323131447294, 0.08482661565723647, 0.16965323131447294, 0.16965323131447294, 0.2544798469717094, 0.08482661565723647, 0.16965323131447294, 0.2626799716111044, 0.39401995741665663, 0.1313399858055522, 0.2626799716111044, 0.6067936805099821, 0.30339684025499103, 0.4958210481008605, 0.16527368270028683, 0.16527368270028683, 0.5727999265021897, 0.19093330883406323, 0.23807595409039115, 0.23807595409039115, 0.23807595409039115, 0.23807595409039115, 0.29062353879229985, 0.29062353879229985, 0.29062353879229985, 0.16988505289558511, 0.16988505289558511, 0.16988505289558511, 0.16988505289558511, 0.33977010579117023, 0.2941046826209122, 0.2941046826209122, 0.2941046826209122, 0.2883209808103704, 0.5766419616207408, 0.2375944155639649, 0.4751888311279298, 0.2375944155639649, 0.23567664204956598, 0.23567664204956598, 0.11783832102478299, 0.353514963074349, 0.11783832102478299, 0.4874616118825924, 0.2437308059412962, 0.2437308059412962, 0.28930907209571843, 0.14465453604785922, 0.14465453604785922, 0.14465453604785922, 0.28930907209571843, 0.1470878809100567, 0.1470878809100567, 0.2941757618201134, 0.2941757618201134, 0.1470878809100567, 0.4797092144280914, 0.2398546072140457, 0.6140425936889078, 0.3070212968444539, 0.19822278919837252, 0.19822278919837252, 0.19822278919837252, 0.19822278919837252, 0.19822278919837252, 0.3021956258810361, 0.3021956258810361, 0.3021956258810361, 0.4757431805097782, 0.2378715902548891, 0.1225319630174369, 0.6126598150871846, 0.1225319630174369, 0.459174914063873, 0.2295874570319365, 0.10315525276866126, 0.36104338469031444, 0.10315525276866126, 0.05157762638433063, 0.15473287915299191, 0.10315525276866126, 0.05157762638433063, 0.05157762638433063, 0.3889824416726133, 0.19449122083630666, 0.3889824416726133, 0.29429341702365985, 0.29429341702365985, 0.29429341702365985, 0.2357174640501287, 0.11785873202506435, 0.2357174640501287, 0.11785873202506435, 0.11785873202506435, 0.2357174640501287, 0.30111982184201913, 0.30111982184201913, 0.30111982184201913, 0.5890882826348558, 0.2945441413174279, 0.2982541795654842, 0.2982541795654842, 0.2982541795654842, 0.6140420200454013, 0.30702101002270066, 0.2993808307168355, 0.2993808307168355, 0.2993808307168355, 0.29073723965778364, 0.14536861982889182, 0.14536861982889182, 0.14536861982889182, 0.14536861982889182, 0.14536861982889182, 0.2956600657363256, 0.2956600657363256, 0.2956600657363256, 0.29075929764408226, 0.5815185952881645, 0.24020044236603397, 0.48040088473206793, 0.24020044236603397, 0.23553762642907292, 0.47107525285814583, 0.8863908399500494, 0.16593501125543803, 0.497805033766314, 0.16593501125543803, 0.29515154500795343, 0.29515154500795343, 0.29515154500795343, 0.48615302424560825, 0.24307651212280412, 0.14875345992762723, 0.4462603797828817, 0.14875345992762723, 0.14875345992762723, 0.5751327671162131, 0.28756638355810654, 0.19696324970267295, 0.19696324970267295, 0.19696324970267295, 0.3939264994053459, 0.231125641692831, 0.231125641692831, 0.231125641692831, 0.231125641692831, 0.3374569923265271, 0.3374569923265271, 0.3374569923265271, 0.24431486270431196, 0.7329445881129358, 0.29293447705412273, 0.5858689541082455, 0.19700579037888127, 0.2955086855683219, 0.19700579037888127, 0.19700579037888127, 0.09850289518944064, 0.09850289518944064, 0.19846977581269057, 0.19846977581269057, 0.19846977581269057, 0.19846977581269057, 0.19846977581269057, 0.29469353652601615, 0.29469353652601615, 0.29469353652601615, 0.2905474708567385, 0.2905474708567385, 0.2905474708567385, 0.47684037439855115, 0.23842018719927557, 0.23842018719927557, 0.2658718212855903, 0.2658718212855903, 0.13293591064279514, 0.2658718212855903, 0.48211282255973853, 0.24105641127986926, 0.24105641127986926, 0.2387124053881783, 0.4774248107763566, 0.2387124053881783, 0.3931449699603767, 0.19657248498018834, 0.3931449699603767, 0.6712571274763831, 0.19178775070753803, 0.09589387535376902, 0.39584976196784444, 0.19792488098392222, 0.19792488098392222, 0.19792488098392222, 0.6067940747220613, 0.30339703736103063, 0.14865711064732837, 0.29731422129465673, 0.14865711064732837, 0.14865711064732837, 0.29731422129465673, 0.30029285490928154, 0.30029285490928154, 0.30029285490928154, 0.3332830884867747, 0.16664154424338734, 0.16664154424338734, 0.3332830884867747, 0.5009873170332257, 0.1669957723444086, 0.1669957723444086, 0.1669957723444086, 0.2958510042849343, 0.2958510042849343, 0.2958510042849343, 0.3884978007019563, 0.19424890035097814, 0.3884978007019563, 0.26410661955740333, 0.26410661955740333, 0.26410661955740333, 0.13205330977870167, 0.13205330977870167, 0.4783161585721151, 0.4783161585721151, 0.47145989112720893, 0.23572994556360446, 0.2965771612515647, 0.2965771612515647, 0.2965771612515647, 0.29972792060775105, 0.29972792060775105, 0.29972792060775105, 0.08564893246855028, 0.08564893246855028, 0.25694679740565085, 0.08564893246855028, 0.17129786493710056, 0.08564893246855028, 0.17129786493710056, 0.23813559904362389, 0.23813559904362389, 0.23813559904362389, 0.23813559904362389, 0.5828159577162402, 0.23288093079062575, 0.23288093079062575, 0.23288093079062575, 0.23288093079062575, 0.614042300007878, 0.307021150003939, 0.13190853850366166, 0.13190853850366166, 0.2638170770073233, 0.2638170770073233, 0.13190853850366166, 0.2899807043174459, 0.5799614086348918, 0.29483905490289014, 0.29483905490289014, 0.29483905490289014, 0.07174176011879453, 0.3587088005939727, 0.07174176011879453, 0.07174176011879453, 0.1076126401781918, 0.14348352023758906, 0.035870880059397266, 0.1076126401781918, 0.035870880059397266, 0.2366244849956458, 0.2366244849956458, 0.4732489699912916, 0.6106772791198016, 0.3053386395599008, 0.6035190094571095, 0.30175950472855473, 0.20065110687412846, 0.20065110687412846, 0.6019533206223854, 0.16887124088500072, 0.08443562044250036, 0.16887124088500072, 0.16887124088500072, 0.16887124088500072, 0.16887124088500072, 0.2956599959811496, 0.2956599959811496, 0.2956599959811496, 0.49024305823966, 0.49024305823966, 0.1985081912791998, 0.3970163825583996, 0.3970163825583996, 0.6036151515751127, 0.30180757578755635, 0.29483415885617187, 0.29483415885617187, 0.29483415885617187, 0.29666445143939857, 0.5933289028787971, 0.592209342397727, 0.2961046711988635, 0.2019728119907346, 0.2019728119907346, 0.4039456239814692, 0.46671766561333394, 0.23335883280666697, 0.3021800968661759, 0.6043601937323518, 0.3001829497761206, 0.3001829497761206, 0.3001829497761206, 0.30132997731685635, 0.30132997731685635, 0.30132997731685635, 0.29767888259382386, 0.29767888259382386, 0.14883944129691193, 0.29767888259382386, 0.29293466240212274, 0.5858693248042455, 0.2582666110378431, 0.5165332220756862, 0.12913330551892155, 0.392719434492605, 0.1963597172463025, 0.392719434492605, 0.19820746027705907, 0.39641492055411814, 0.39641492055411814, 0.3027557639321317, 0.3027557639321317, 0.3027557639321317, 0.235454479820671, 0.470908959641342, 0.235454479820671, 0.2942930455434512, 0.2942930455434512, 0.2942930455434512, 0.3866876560842655, 0.3866876560842655, 0.19334382804213274, 0.17014501399047277, 0.17014501399047277, 0.17014501399047277, 0.17014501399047277, 0.17014501399047277, 0.17014501399047277, 0.29572285335981036, 0.29572285335981036, 0.29572285335981036, 0.3658484677793812, 0.14633938711175246, 0.07316969355587623, 0.2195090806676287, 0.07316969355587623, 0.07316969355587623, 0.07316969355587623, 0.43074732763569623, 0.10768683190892406, 0.21537366381784812, 0.10768683190892406, 0.10768683190892406, 0.10868978341551669, 0.10868978341551669, 0.21737956683103338, 0.43475913366206675, 0.21737956683103338, 0.1698166759762578, 0.6792667039050312, 0.2931974518577474, 0.2931974518577474, 0.2931974518577474, 0.5710857213919812, 0.29483822599042725, 0.29483822599042725, 0.29483822599042725, 0.39991459941048374, 0.5998718991157256, 0.30290759948675483, 0.6058151989735097, 0.2000399890137557, 0.2000399890137557, 0.4000799780275114, 0.2000399890137557, 0.4887391703348297, 0.4887391703348297, 0.21834830101278244, 0.10917415050639122, 0.21834830101278244, 0.10917415050639122, 0.32752245151917364, 0.23551836102112364, 0.4710367220422473, 0.23551836102112364, 0.17087235599623657, 0.17087235599623657, 0.34174471199247314, 0.34174471199247314, 0.16957945202835736, 0.16957945202835736, 0.16957945202835736, 0.3391589040567147, 0.16957945202835736, 0.26530168917194585, 0.3979525337579188, 0.13265084458597293, 0.13265084458597293, 0.29122905548396766, 0.29122905548396766, 0.29122905548396766, 0.4854872549098459, 0.24274362745492295, 0.16182908496994863, 0.08091454248497432, 0.08091454248497432, 0.47128266637724175, 0.23564133318862088, 0.23564133318862088, 0.16226801923473394, 0.040567004808683485, 0.08113400961736697, 0.16226801923473394, 0.2434020288521009, 0.040567004808683485, 0.040567004808683485, 0.12170101442605046, 0.08113400961736697], \"Term\": [\"actual\", \"actual\", \"actual\", \"actual\", \"america\", \"america\", \"america\", \"anim\", \"anim\", \"anim\", \"announc\", \"announc\", \"announc\", \"announc\", \"archaeologist\", \"archaeologist\", \"archaeologist\", \"arrest\", \"arrest\", \"arrest\", \"ask\", \"ask\", \"ask\", \"averag\", \"averag\", \"away\", \"away\", \"believ\", \"believ\", \"believ\", \"break\", \"break\", \"british\", \"british\", \"call\", \"call\", \"call\", \"canada\", \"canada\", \"canada\", \"canada\", \"canada\", \"canada\", \"canada\", \"canada\", \"canadian\", \"canadian\", \"canadian\", \"canadian\", \"canadian\", \"canadian\", \"catch\", \"catch\", \"catch\", \"catch\", \"cdnpoli\", \"cdnpoli\", \"cdnpoli\", \"cdnpoli\", \"celebr\", \"celebr\", \"celebr\", \"celebr\", \"celebr\", \"celebr\", \"chang\", \"chang\", \"chang\", \"charg\", \"charg\", \"christma\", \"christma\", \"citi\", \"citi\", \"citi\", \"citi\", \"clear\", \"clear\", \"clear\", \"clear\", \"clear\", \"clear\", \"close\", \"close\", \"close\", \"cold\", \"cold\", \"come\", \"come\", \"come\", \"compani\", \"compani\", \"compani\", \"compani\", \"covid\", \"covid\", \"covid\", \"covid\", \"covid\", \"covid\", \"custodi\", \"custodi\", \"custodi\", \"definit\", \"definit\", \"develop\", \"develop\", \"drink\", \"drink\", \"driver\", \"driver\", \"driver\", \"elect\", \"elect\", \"elxn\", \"elxn\", \"elxn\", \"employe\", \"employe\", \"employe\", \"employe\", \"expect\", \"expect\", \"expect\", \"expert\", \"expert\", \"extrem\", \"extrem\", \"facebook\", \"facebook\", \"facebook\", \"fall\", \"fall\", \"fear\", \"feel\", \"feel\", \"feel\", \"feel\", \"find\", \"find\", \"find\", \"find\", \"food\", \"food\", \"food\", \"forev\", \"forev\", \"game\", \"game\", \"game\", \"get\", \"get\", \"get\", \"give\", \"give\", \"give\", \"give\", \"give\", \"give\", \"global\", \"global\", \"global\", \"go\", \"go\", \"go\", \"go\", \"go\", \"go\", \"go\", \"half\", \"half\", \"half\", \"half\", \"hand\", \"hand\", \"happen\", \"happen\", \"happen\", \"happi\", \"happi\", \"hard\", \"hard\", \"hard\", \"hard\", \"haven\", \"haven\", \"haven\", \"hear\", \"hear\", \"hear\", \"hear\", \"hear\", \"help\", \"help\", \"help\", \"highway\", \"highway\", \"holiday\", \"holiday\", \"holiday\", \"home\", \"home\", \"home\", \"home\", \"home\", \"horton\", \"horton\", \"horton\", \"hour\", \"hour\", \"hour\", \"hour\", \"hour\", \"hous\", \"hous\", \"hous\", \"hous\", \"hous\", \"increas\", \"increas\", \"instead\", \"instead\", \"intern\", \"intern\", \"intern\", \"intern\", \"intern\", \"issu\", \"issu\", \"issu\", \"kid\", \"kid\", \"know\", \"know\", \"know\", \"leav\", \"leav\", \"like\", \"like\", \"like\", \"like\", \"like\", \"like\", \"like\", \"like\", \"littl\", \"littl\", \"littl\", \"long\", \"long\", \"long\", \"look\", \"look\", \"look\", \"look\", \"look\", \"look\", \"luggag\", \"luggag\", \"luggag\", \"make\", \"make\", \"mean\", \"mean\", \"mean\", \"meat\", \"meat\", \"million\", \"million\", \"million\", \"minut\", \"minut\", \"minut\", \"minut\", \"minut\", \"minut\", \"miss\", \"miss\", \"miss\", \"monday\", \"monday\", \"money\", \"money\", \"money\", \"month\", \"month\", \"name\", \"nation\", \"nation\", \"nation\", \"need\", \"need\", \"need\", \"netflix\", \"netflix\", \"news\", \"news\", \"news\", \"news\", \"night\", \"night\", \"offer\", \"offer\", \"offer\", \"offer\", \"offic\", \"offic\", \"offic\", \"offic\", \"offici\", \"offici\", \"offici\", \"oldest\", \"oldest\", \"omicron\", \"omicron\", \"ontario\", \"ontario\", \"ontario\", \"ontario\", \"ontario\", \"ontario\", \"order\", \"order\", \"order\", \"order\", \"order\", \"outsid\", \"outsid\", \"outsid\", \"own\", \"own\", \"own\", \"owner\", \"owner\", \"owner\", \"pandem\", \"pandem\", \"pandem\", \"pandem\", \"park\", \"park\", \"park\", \"patient\", \"patient\", \"patient\", \"pay\", \"pay\", \"pay\", \"peopl\", \"peopl\", \"peopl\", \"person\", \"person\", \"person\", \"person\", \"place\", \"place\", \"plan\", \"plan\", \"plan\", \"plan\", \"plan\", \"polic\", \"polic\", \"polic\", \"poll\", \"poll\", \"poll\", \"poll\", \"post\", \"post\", \"post\", \"post\", \"pound\", \"pound\", \"pound\", \"pretti\", \"pretti\", \"pretti\", \"price\", \"price\", \"price\", \"price\", \"price\", \"probabl\", \"probabl\", \"rank\", \"rank\", \"reach\", \"reach\", \"reach\", \"releas\", \"releas\", \"releas\", \"report\", \"report\", \"report\", \"report\", \"report\", \"report\", \"report\", \"research\", \"research\", \"research\", \"research\", \"resign\", \"rest\", \"rest\", \"rest\", \"rest\", \"reveal\", \"reveal\", \"right\", \"right\", \"right\", \"right\", \"right\", \"room\", \"room\", \"sale\", \"sale\", \"sale\", \"say\", \"say\", \"say\", \"say\", \"say\", \"say\", \"say\", \"say\", \"say\", \"scientist\", \"scientist\", \"scientist\", \"sell\", \"sell\", \"send\", \"send\", \"shortag\", \"shortag\", \"shortag\", \"show\", \"show\", \"show\", \"show\", \"show\", \"show\", \"snow\", \"snow\", \"snow\", \"song\", \"song\", \"sound\", \"sound\", \"sound\", \"specif\", \"specif\", \"spend\", \"spend\", \"spend\", \"station\", \"station\", \"stay\", \"stay\", \"steal\", \"steal\", \"steal\", \"stop\", \"stop\", \"store\", \"store\", \"stori\", \"stori\", \"stori\", \"stress\", \"stress\", \"stress\", \"studi\", \"studi\", \"studi\", \"studi\", \"suggest\", \"suggest\", \"sure\", \"sure\", \"sure\", \"survey\", \"survey\", \"survey\", \"take\", \"take\", \"take\", \"tast\", \"tast\", \"tast\", \"tell\", \"tell\", \"tell\", \"terribl\", \"terribl\", \"terribl\", \"test\", \"test\", \"test\", \"think\", \"think\", \"think\", \"think\", \"think\", \"think\", \"tiktok\", \"tiktok\", \"tiktok\", \"time\", \"time\", \"time\", \"time\", \"time\", \"time\", \"time\", \"today\", \"today\", \"today\", \"today\", \"today\", \"toronto\", \"toronto\", \"toronto\", \"toronto\", \"toronto\", \"travel\", \"travel\", \"truck\", \"truck\", \"truck\", \"tweet\", \"user\", \"user\", \"user\", \"vaccin\", \"vaccin\", \"wait\", \"wait\", \"want\", \"want\", \"want\", \"want\", \"wear\", \"wear\", \"week\", \"week\", \"week\", \"week\", \"week\", \"winter\", \"winter\", \"winter\", \"woman\", \"woman\", \"woman\", \"woman\", \"word\", \"word\", \"word\", \"word\", \"word\", \"work\", \"work\", \"work\", \"work\", \"worker\", \"worker\", \"worker\", \"world\", \"world\", \"world\", \"world\", \"world\", \"wrong\", \"wrong\", \"wrong\", \"year\", \"year\", \"year\", \"year\", \"year\", \"year\", \"year\", \"year\", \"year\"]}, \"R\": 30, \"lambda.step\": 0.01, \"plot.opts\": {\"xlab\": \"PC1\", \"ylab\": \"PC2\"}, \"topic.order\": [10, 9, 6, 4, 8, 5, 3, 2, 7, 1]};\n",
              "\n",
              "function LDAvis_load_lib(url, callback){\n",
              "  var s = document.createElement('script');\n",
              "  s.src = url;\n",
              "  s.async = true;\n",
              "  s.onreadystatechange = s.onload = callback;\n",
              "  s.onerror = function(){console.warn(\"failed to load library \" + url);};\n",
              "  document.getElementsByTagName(\"head\")[0].appendChild(s);\n",
              "}\n",
              "\n",
              "if(typeof(LDAvis) !== \"undefined\"){\n",
              "   // already loaded: just create the visualization\n",
              "   !function(LDAvis){\n",
              "       new LDAvis(\"#\" + \"ldavis_el2591401462751607367841721118\", ldavis_el2591401462751607367841721118_data);\n",
              "   }(LDAvis);\n",
              "}else if(typeof define === \"function\" && define.amd){\n",
              "   // require.js is available: use it to load d3/LDAvis\n",
              "   require.config({paths: {d3: \"https://d3js.org/d3.v5\"}});\n",
              "   require([\"d3\"], function(d3){\n",
              "      window.d3 = d3;\n",
              "      LDAvis_load_lib(\"https://cdn.jsdelivr.net/gh/bmabey/pyLDAvis@3.4.0/pyLDAvis/js/ldavis.v3.0.0.js\", function(){\n",
              "        new LDAvis(\"#\" + \"ldavis_el2591401462751607367841721118\", ldavis_el2591401462751607367841721118_data);\n",
              "      });\n",
              "    });\n",
              "}else{\n",
              "    // require.js not available: dynamically load d3 & LDAvis\n",
              "    LDAvis_load_lib(\"https://d3js.org/d3.v5.js\", function(){\n",
              "         LDAvis_load_lib(\"https://cdn.jsdelivr.net/gh/bmabey/pyLDAvis@3.4.0/pyLDAvis/js/ldavis.v3.0.0.js\", function(){\n",
              "                 new LDAvis(\"#\" + \"ldavis_el2591401462751607367841721118\", ldavis_el2591401462751607367841721118_data);\n",
              "            })\n",
              "         });\n",
              "}\n",
              "</script>"
            ]
          },
          "metadata": {},
          "execution_count": 237
        }
      ]
    },
    {
      "cell_type": "code",
      "source": [
        "pyLDAvis.save_html(vis, 'Minute.html')"
      ],
      "metadata": {
        "colab": {
          "base_uri": "https://localhost:8080/"
        },
        "id": "NN1LeRpy2YAu",
        "outputId": "ad76f336-766b-4281-beb6-e2235b2c0cb9"
      },
      "execution_count": null,
      "outputs": [
        {
          "output_type": "stream",
          "name": "stderr",
          "text": [
            "/usr/local/lib/python3.10/dist-packages/ipykernel/ipkernel.py:283: DeprecationWarning: `should_run_async` will not call `transform_cell` automatically in the future. Please pass the result to `transformed_cell` argument and any exception that happen during thetransform in `preprocessing_exc_tuple` in IPython 7.17 and above.\n",
            "  and should_run_async(code)\n"
          ]
        }
      ]
    },
    {
      "cell_type": "code",
      "source": [],
      "metadata": {
        "id": "1wUFcXGf2YEG"
      },
      "execution_count": null,
      "outputs": []
    },
    {
      "cell_type": "code",
      "source": [
        "import os; os.getcwd()"
      ],
      "metadata": {
        "colab": {
          "base_uri": "https://localhost:8080/",
          "height": 92
        },
        "id": "AqpTNUyGxe44",
        "outputId": "24ba35f3-a2bd-4bab-83f3-610e4cd71f32"
      },
      "execution_count": null,
      "outputs": [
        {
          "output_type": "stream",
          "name": "stderr",
          "text": [
            "/usr/local/lib/python3.10/dist-packages/ipykernel/ipkernel.py:283: DeprecationWarning: `should_run_async` will not call `transform_cell` automatically in the future. Please pass the result to `transformed_cell` argument and any exception that happen during thetransform in `preprocessing_exc_tuple` in IPython 7.17 and above.\n",
            "  and should_run_async(code)\n"
          ]
        },
        {
          "output_type": "execute_result",
          "data": {
            "text/plain": [
              "'/content'"
            ],
            "application/vnd.google.colaboratory.intrinsic+json": {
              "type": "string"
            }
          },
          "metadata": {},
          "execution_count": 96
        }
      ]
    },
    {
      "cell_type": "code",
      "source": [],
      "metadata": {
        "id": "admEPyumnhVX"
      },
      "execution_count": null,
      "outputs": []
    }
  ]
}